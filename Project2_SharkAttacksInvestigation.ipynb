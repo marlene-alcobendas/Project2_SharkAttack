{
 "cells": [
  {
   "cell_type": "code",
   "execution_count": 1,
   "id": "3c25cd96",
   "metadata": {},
   "outputs": [
    {
     "name": "stdout",
     "output_type": "stream",
     "text": [
      "01: Date;Year;Type;Country;State;Location;Activity;Name;Sex;Age;Injury;Fatal Y/N;Time;Species ;Source;pdf;href formula;href;Case Number;Case Number;original order;;;;;;;;;;;;;;;;;;;;;;;;;;;;;;;;;;;;;;;;;;;;;;;;;;;;;;;;;;;;;;;;;;;;;;;;;;;;;;;;;;;;;;;;;;;;;;;;;;;;;;;;;;;;;;;;;;;;;;;;;;;;;;;;;;;;;;;;;;;;;;;;;;;;;;;;;;;;;;;;;;;;;;;;;;;;;;;;;;;;;;;;;;;;;;;;;;;;;;;;;;;;;;;;;;;;;;;;;;;;;;;;;;;;;;;;;;\n",
      "02: 11th October;2025;Unprovoked;Australia;Queensland;Cook Esplanade Thursday Island;Fishing/swimming;Samuel Nai;M;14;Serious abdonminal injuries;N;1823 hrs;Tiger or Bull shark;Kevin McMurray Trackingsharks.com;;;;;;;;;;;;;;;;;;;;;;;;;;;;;;;;;;;;;;;;;;;;;;;;;;;;;;;;;;;;;;;;;;;;;;;;;;;;;;;;;;;;;;;;;;;;;;;;;;;;;;;;;;;;;;;;;;;;;;;;;;;;;;;;;;;;;;;;;;;;;;;;;;;;;;;;;;;;;;;;;;;;;;;;;;;;;;;;;;;;;;;;;;;;;;;;;;;;;;;;;;;;;;;;;;;;;;;;;;;;;;;;;;;;;;;;;;;;;;;;\n",
      "03: 7th October;2025;Unprovoked;Australia;South Australia;Kangaroo Island;Surfing;Lee Berryman;M;50+;Lacerations to calf ;N;1330hrs;Bronze whaler?;Kevin McMurray Trackingsharks.com;;;;;;;;;;;;;;;;;;;;;;;;;;;;;;;;;;;;;;;;;;;;;;;;;;;;;;;;;;;;;;;;;;;;;;;;;;;;;;;;;;;;;;;;;;;;;;;;;;;;;;;;;;;;;;;;;;;;;;;;;;;;;;;;;;;;;;;;;;;;;;;;;;;;;;;;;;;;;;;;;;;;;;;;;;;;;;;;;;;;;;;;;;;;;;;;;;;;;;;;;;;;;;;;;;;;;;;;;;;;;;;;;;;;;;;;;;;;;;;;\n",
      "04: 29th September;2025;Unprovoked;USA;Off California;Catalina Island;Swimming;Christopher Murray;M;54;Leg and foot injury;N;0100hrs;unknown 1.2m shark;Todd Smith: Kevin McMurray Trackingsharks.com;;;;;;;;;;;;;;;;;;;;;;;;;;;;;;;;;;;;;;;;;;;;;;;;;;;;;;;;;;;;;;;;;;;;;;;;;;;;;;;;;;;;;;;;;;;;;;;;;;;;;;;;;;;;;;;;;;;;;;;;;;;;;;;;;;;;;;;;;;;;;;;;;;;;;;;;;;;;;;;;;;;;;;;;;;;;;;;;;;;;;;;;;;;;;;;;;;;;;;;;;;;;;;;;;;;;;;;;;;;;;;;;;;;;;;;;;;;;;;;;\n",
      "05: 27th September;2025;Provoked;Costa Rica;;Cocos Islands;Diving-Tagging sharks;Dr. Mauricio Hoyos;M;48;Head face and arms;N;Not stated;Tiger shark 4m;Todd Smith: Kevin McMurray Trackingsharks.com;;;;;;;;;;;;;;;;;;;;;;;;;;;;;;;;;;;;;;;;;;;;;;;;;;;;;;;;;;;;;;;;;;;;;;;;;;;;;;;;;;;;;;;;;;;;;;;;;;;;;;;;;;;;;;;;;;;;;;;;;;;;;;;;;;;;;;;;;;;;;;;;;;;;;;;;;;;;;;;;;;;;;;;;;;;;;;;;;;;;;;;;;;;;;;;;;;;;;;;;;;;;;;;;;;;;;;;;;;;;;;;;;;;;;;;;;;;;;;;;\n",
      "06: 6th September;2025;Unprovoked;Australia;NSW;Long Reef Sydney;Surfing;Mercury Psillaskis;M;57;Both legs and arm severed;Y;0930hrs;Great White Shark;Todd Smith: Andy Currie: Simon De Marchi: Kevin McMurray Trackingsharks.com:;;;;;;;;;;;;;;;;;;;;;;;;;;;;;;;;;;;;;;;;;;;;;;;;;;;;;;;;;;;;;;;;;;;;;;;;;;;;;;;;;;;;;;;;;;;;;;;;;;;;;;;;;;;;;;;;;;;;;;;;;;;;;;;;;;;;;;;;;;;;;;;;;;;;;;;;;;;;;;;;;;;;;;;;;;;;;;;;;;;;;;;;;;;;;;;;;;;;;;;;;;;;;;;;;;;;;;;;;;;;;;;;;;;;;;;;;;;;;;;;\n",
      "07: 1st September;2025;Unprovoked;USA;Florida;Horseshoe reef Key Largo;Snorkeling;Richard Burrows;M;8;Bite to leg;N;1524hrs;Not stated;Todd Smith: US SUN: NY Post: The Guardian: People:;;;;;;;;;;;;;;;;;;;;;;;;;;;;;;;;;;;;;;;;;;;;;;;;;;;;;;;;;;;;;;;;;;;;;;;;;;;;;;;;;;;;;;;;;;;;;;;;;;;;;;;;;;;;;;;;;;;;;;;;;;;;;;;;;;;;;;;;;;;;;;;;;;;;;;;;;;;;;;;;;;;;;;;;;;;;;;;;;;;;;;;;;;;;;;;;;;;;;;;;;;;;;;;;;;;;;;;;;;;;;;;;;;;;;;;;;;;;;;;;\n",
      "08: 30th August;2025;Unprovoked;USA;Texas;Galveston;Swimming;Harper Ochoa;F;8;Bite to leg;N;Not stated;Not stated;Bob Myatt GSAF : People:;;;;;;;;;;;;;;;;;;;;;;;;;;;;;;;;;;;;;;;;;;;;;;;;;;;;;;;;;;;;;;;;;;;;;;;;;;;;;;;;;;;;;;;;;;;;;;;;;;;;;;;;;;;;;;;;;;;;;;;;;;;;;;;;;;;;;;;;;;;;;;;;;;;;;;;;;;;;;;;;;;;;;;;;;;;;;;;;;;;;;;;;;;;;;;;;;;;;;;;;;;;;;;;;;;;;;;;;;;;;;;;;;;;;;;;;;;;;;;;;\n",
      "09: 18th August;2025;Unprovoked;Australia;NSW;Cabarita Beach;Surfing;Brad Ross;M;?;None sustained board severly damaged;N;0730hrs;5m (16.5ft) Great White;Bob Myatt GSAF The Guardian: 9 News: ABS News: Daily Telegraph:;;;;;;;;;;;;;;;;;;;;;;;;;;;;;;;;;;;;;;;;;;;;;;;;;;;;;;;;;;;;;;;;;;;;;;;;;;;;;;;;;;;;;;;;;;;;;;;;;;;;;;;;;;;;;;;;;;;;;;;;;;;;;;;;;;;;;;;;;;;;;;;;;;;;;;;;;;;;;;;;;;;;;;;;;;;;;;;;;;;;;;;;;;;;;;;;;;;;;;;;;;;;;;;;;;;;;;;;;;;;;;;;;;;;;;;;;;;;;;;;\n",
      "10: 17th August;2025;Unprovoked;Bahamas;Atlantic Ocean near Big Grand Cay;North of Grand Bahama near Freeport;Spearfishing;Not stated;M;63;Severe injuries no detail;N;1300hrs;Undetermined;Ralph Collier GSAF and Kevin MCMurray Trackingsharks.com ;;;;;;;;;;;;;;;;;;;;;;;;;;;;;;;;;;;;;;;;;;;;;;;;;;;;;;;;;;;;;;;;;;;;;;;;;;;;;;;;;;;;;;;;;;;;;;;;;;;;;;;;;;;;;;;;;;;;;;;;;;;;;;;;;;;;;;;;;;;;;;;;;;;;;;;;;;;;;;;;;;;;;;;;;;;;;;;;;;;;;;;;;;;;;;;;;;;;;;;;;;;;;;;;;;;;;;;;;;;;;;;;;;;;;;;;;;;;;;;;\n"
     ]
    }
   ],
   "source": [
    "''' \n",
    "Script para descargar un archivo de Google Drive y mostrar las primeras 10 líneas\n",
    "'''\n",
    "\n",
    "url_view = \"https://drive.google.com/file/d/1RMKdCJKS7vFBhiTLosCotau1k4UsN5iu/view?usp=sharing\"   # Enlace de Google Drive\n",
    "file_id = url_view.split('/')[5]  # Extrae el ID del archivo (la 6ª parte del enlace)\n",
    "download_url = f\"https://drive.google.com/uc?id={file_id}\"   # Crea el enlace de descarga directa\n",
    "\n",
    "import requests\n",
    "response = requests.get(download_url)\n",
    "\n",
    "# Muestra las primeras 10 líneas, para saber el tipo de separación del csv\n",
    "for i, line in enumerate(response.text.splitlines()[:10], start=1):\n",
    "    print(f\"{i:02d}: {line}\")\n"
   ]
  },
  {
   "cell_type": "code",
   "execution_count": 2,
   "id": "d7ef8877",
   "metadata": {},
   "outputs": [
    {
     "name": "stdout",
     "output_type": "stream",
     "text": [
      "Inicialmente los datos tienen: (39139, 255)\n",
      "             Date  Year        Type     Country            State  \\\n",
      "0    11th October  2025  Unprovoked   Australia       Queensland   \n",
      "1     7th October  2025  Unprovoked   Australia  South Australia   \n",
      "2  29th September  2025  Unprovoked         USA   Off California   \n",
      "3  27th September  2025    Provoked  Costa Rica              NaN   \n",
      "4   6th September  2025  Unprovoked   Australia              NSW   \n",
      "\n",
      "                         Location               Activity                Name  \\\n",
      "0  Cook Esplanade Thursday Island       Fishing/swimming          Samuel Nai   \n",
      "1                 Kangaroo Island                Surfing        Lee Berryman   \n",
      "2                 Catalina Island               Swimming  Christopher Murray   \n",
      "3                   Cocos Islands  Diving-Tagging sharks  Dr. Mauricio Hoyos   \n",
      "4                Long Reef Sydney                Surfing  Mercury Psillaskis   \n",
      "\n",
      "  Sex  Age  ... Unnamed: 245 Unnamed: 246 Unnamed: 247 Unnamed: 248  \\\n",
      "0   M   14  ...          NaN          NaN          NaN          NaN   \n",
      "1   M  50+  ...          NaN          NaN          NaN          NaN   \n",
      "2   M   54  ...          NaN          NaN          NaN          NaN   \n",
      "3   M   48  ...          NaN          NaN          NaN          NaN   \n",
      "4   M   57  ...          NaN          NaN          NaN          NaN   \n",
      "\n",
      "  Unnamed: 249 Unnamed: 250 Unnamed: 251 Unnamed: 252 Unnamed: 253  \\\n",
      "0          NaN          NaN          NaN          NaN          NaN   \n",
      "1          NaN          NaN          NaN          NaN          NaN   \n",
      "2          NaN          NaN          NaN          NaN          NaN   \n",
      "3          NaN          NaN          NaN          NaN          NaN   \n",
      "4          NaN          NaN          NaN          NaN          NaN   \n",
      "\n",
      "  Unnamed: 254  \n",
      "0          NaN  \n",
      "1          NaN  \n",
      "2          NaN  \n",
      "3          NaN  \n",
      "4          NaN  \n",
      "\n",
      "[5 rows x 255 columns]\n",
      "Ahora los datos tienen: (39139, 23)\n",
      "Index(['Date', 'Year', 'Type', 'Country', 'State', 'Location', 'Activity',\n",
      "       'Name', 'Sex', 'Age', 'Injury', 'Fatal Y/N', 'Time', 'Species ',\n",
      "       'Source', 'pdf', 'href formula', 'href', 'Case Number', 'Case Number.1',\n",
      "       'original order', 'Unnamed: 21', 'Unnamed: 22'],\n",
      "      dtype='object')\n"
     ]
    }
   ],
   "source": [
    "import pandas as pd\n",
    "from typing import Optional #for type hinting purposes \n",
    "\n",
    "shark_df = pd.read_csv(download_url, sep=';', encoding='utf-8', low_memory=False)\n",
    "print(\"Inicialmente los datos tienen:\", shark_df.shape)\n",
    "print(shark_df.head())  # Muestra las primeras filas del DataFrame\n",
    "\n",
    "shark_df = shark_df.dropna(axis=1, how='all') # Eliminar columnas vacías enteras\n",
    "print(\"Ahora los datos tienen:\",shark_df.shape)\n",
    "print(shark_df.columns)  # Muestra las columnas del DataFrame: 255 col a 23 col"
   ]
  },
  {
   "cell_type": "code",
   "execution_count": 3,
   "id": "6c14c272",
   "metadata": {},
   "outputs": [
    {
     "name": "stdout",
     "output_type": "stream",
     "text": [
      "Index(['Year', 'Type', 'Country', 'State', 'Activity', 'Sex', 'Fatal Y/N',\n",
      "       'Species '],\n",
      "      dtype='object')\n"
     ]
    }
   ],
   "source": [
    "#Quitamos las columnas que no nos sirven para el análisis\n",
    "\n",
    "shark_df.drop(['Date','Location','Name','Age','Injury','Time','Source', 'pdf', 'href formula', 'href', 'Case Number', 'Case Number.1',\n",
    "       'original order', 'Unnamed: 21', 'Unnamed: 22'], axis=1, inplace=True)\n",
    "\n",
    "print(shark_df.columns)  # Muestra las columnas del DF después de eliminar las que no analizaremos"
   ]
  },
  {
   "cell_type": "code",
   "execution_count": 4,
   "id": "fca28b7b",
   "metadata": {},
   "outputs": [],
   "source": [
    "import importlib, Functions\n",
    "importlib.reload(Functions)\n",
    "from Functions import standardize_text"
   ]
  },
  {
   "cell_type": "code",
   "execution_count": 5,
   "id": "0a0cf08d",
   "metadata": {},
   "outputs": [
    {
     "name": "stdout",
     "output_type": "stream",
     "text": [
      "   year        type     country            state               activity sex  \\\n",
      "0  2025  unprovoked   australia       queensland       fishing/swimming   m   \n",
      "1  2025  unprovoked   australia  south australia                surfing   m   \n",
      "2  2025  unprovoked         usa   off california               swimming   m   \n",
      "3  2025    provoked  costa rica             <NA>  diving-tagging sharks   m   \n",
      "4  2025  unprovoked   australia              nsw                surfing   m   \n",
      "\n",
      "  fatal_y/n              species  \n",
      "0         n  tiger or bull shark  \n",
      "1         n       bronze whaler?  \n",
      "2         n   unknown 1.2m shark  \n",
      "3         n       tiger shark 4m  \n",
      "4         y    great white shark  \n"
     ]
    }
   ],
   "source": [
    "shark_df = standardize_text(shark_df)\n",
    "print(shark_df.head())  # Muestra las primeras filas del DataFrame después de la normalización del texto y las columnas"
   ]
  },
  {
   "cell_type": "code",
   "execution_count": 6,
   "id": "b631b385",
   "metadata": {},
   "outputs": [
    {
     "name": "stdout",
     "output_type": "stream",
     "text": [
      "YEAR --> valores únicos: <StringArray>\n",
      "['2025', '2024', '2026', '2023', '2022', '2021', '2020', '2019', '2018',\n",
      " '2017',\n",
      " ...\n",
      " '1580', '1555', '1554', '1543', '1518', '1500', '1000', '0077', '0005',\n",
      " '0000']\n",
      "Length: 263, dtype: string\n",
      "TYPE --> valores únicos: <StringArray>\n",
      "[         'unprovoked',            'provoked',        'questionable',\n",
      "          'watercraft',        'sea disaster',                  <NA>,\n",
      "                   '?',         'unconfirmed',          'unverified',\n",
      "             'invalid', 'under investigation',                'boat']\n",
      "Length: 12, dtype: string\n",
      "COUNTRY --> valores únicos: <StringArray>\n",
      "[               'australia',                      'usa',\n",
      "               'costa rica',                  'bahamas',\n",
      "              'puerto rico',         'french polynesia',\n",
      "                    'spain',           'canary islands',\n",
      "             'south africa',                  'vanuatu',\n",
      " ...\n",
      "        'mediterranean sea',                   'sweden',\n",
      "                   'roatan', 'between portugal & india',\n",
      "                 'djibouti',                  'bahrein',\n",
      "                    'korea',                 'red sea?',\n",
      "                    'asia?',       'ceylon (sri lanka)']\n",
      "Length: 213, dtype: string\n",
      "STATE --> valores únicos: <StringArray>\n",
      "[                       'queensland',                   'south australia',\n",
      "                    'off california',                                <NA>,\n",
      "                               'nsw',                           'florida',\n",
      "                             'texas', 'atlantic ocean near big grand cay',\n",
      "                          'carolina',                         'nuku hiva',\n",
      " ...\n",
      "               'milne bay  province',                   'island of volos',\n",
      "                  'amirante islands',               'kadavu island group',\n",
      "                'toamasina province',                     'riau province',\n",
      "                      'bikini atoll', 'between new ireland & new britain',\n",
      "         'ba ria-vung tau  province',                      'moala island']\n",
      "Length: 909, dtype: string\n",
      "ACTIVITY --> valores únicos: <StringArray>\n",
      "[                                                  'fishing/swimming',\n",
      "                                                            'surfing',\n",
      "                                                           'swimming',\n",
      "                                              'diving-tagging sharks',\n",
      "                                                         'snorkeling',\n",
      "                                                       'spearfishing',\n",
      "                                                            'fishing',\n",
      "                                                             'wading',\n",
      "                                                           'kayaking',\n",
      "                                             'surfing (hydrofoiling)',\n",
      " ...\n",
      " 'standing, washing rear wheels of his ambulance in ankle-deep water',\n",
      "                      'carrying a supposedly dead shark by its mouth',\n",
      "                                             'spent 8 days in dinghy',\n",
      "                       'aircraft ditched in the sea, swimming ashore',\n",
      "                                                'wooden fishing boat',\n",
      "                 'swimming in pool formed by construction of a wharf',\n",
      "                                      'swimming around anchored ship',\n",
      "                        'crew swimming alongside their anchored ship',\n",
      "                                                 '4 men were bathing',\n",
      "                               'wreck of  large double sailing canoe']\n",
      "Length: 1548, dtype: string\n",
      "SEX --> valores únicos: <StringArray>\n",
      "['m', 'f', <NA>, 'lli', 'm x 2', 'n', '.']\n",
      "Length: 7, dtype: string\n",
      "FATAL_Y/N --> valores únicos: <StringArray>\n",
      "['n', 'y', 'f', 'm', <NA>, 'nq', 'unknown', '2017', 'y x 2']\n",
      "Length: 9, dtype: string\n",
      "SPECIES --> valores únicos: <StringArray>\n",
      "[                                                                                                          'tiger or bull shark',\n",
      "                                                                                                                'bronze whaler?',\n",
      "                                                                                                            'unknown 1.2m shark',\n",
      "                                                                                                                'tiger shark 4m',\n",
      "                                                                                                             'great white shark',\n",
      "                                                                                                                    'not stated',\n",
      "                                                                                                       '5m (16.5ft) great white',\n",
      "                                                                                                                  'undetermined',\n",
      "                                                                                                       'lemon shark 1.8 m (6ft)',\n",
      "                                                                                                         'suspected great white',\n",
      " ...\n",
      "                                                                                                      'a large hammerhead shark',\n",
      "                                                                                             'shovelnose guitarfish, adult male',\n",
      "                                                                                                            '\"a pack of sharks\"',\n",
      "                                                                                                         'white shark, 7' to 8'',\n",
      "                                                                                                         'white shark, 1,900-lb',\n",
      "                                                               'bull shark caught, leg recovered & buried beside the man's body',\n",
      "                                                                                                        '\"a black-tipped shark\"',\n",
      "                                                                                                               '12' tiger shark',\n",
      "                                                                                                                 'blue pointers',\n",
      " 'said to involve a grey nurse shark that leapt out of the water and  seized the boy but species identification is questionable']\n",
      "Length: 1613, dtype: string\n"
     ]
    }
   ],
   "source": [
    "#Check valores únicos por columna:\n",
    "\n",
    "for col in shark_df.columns:\n",
    "    print(f'{col.upper()} --> valores únicos:', shark_df[col].unique())"
   ]
  },
  {
   "cell_type": "code",
   "execution_count": 7,
   "id": "91990ccb",
   "metadata": {},
   "outputs": [
    {
     "data": {
      "text/plain": [
       "year         string[python]\n",
       "type         string[python]\n",
       "country      string[python]\n",
       "state        string[python]\n",
       "activity     string[python]\n",
       "sex          string[python]\n",
       "fatal_y/n    string[python]\n",
       "species      string[python]\n",
       "dtype: object"
      ]
     },
     "execution_count": 7,
     "metadata": {},
     "output_type": "execute_result"
    }
   ],
   "source": [
    "shark_df.dtypes"
   ]
  },
  {
   "cell_type": "code",
   "execution_count": 8,
   "id": "365618c8",
   "metadata": {},
   "outputs": [
    {
     "name": "stdout",
     "output_type": "stream",
     "text": [
      "Los valores iniciales eran: <bound method IndexOpsMixin.nunique of 0        2025\n",
      "1        2025\n",
      "2        2025\n",
      "3        2025\n",
      "4        2025\n",
      "         ... \n",
      "39134    <NA>\n",
      "39135    <NA>\n",
      "39136    <NA>\n",
      "39137    <NA>\n",
      "39138    <NA>\n",
      "Name: year, Length: 39139, dtype: string>\n",
      "Los valores iniciales eran: (39139,)\n",
      "Los valores iniciales eran: <bound method IndexOpsMixin.nunique of 0        unprovoked\n",
      "1        unprovoked\n",
      "2        unprovoked\n",
      "3          provoked\n",
      "4        unprovoked\n",
      "            ...    \n",
      "39134          <NA>\n",
      "39135          <NA>\n",
      "39136          <NA>\n",
      "39137          <NA>\n",
      "39138          <NA>\n",
      "Name: type, Length: 39139, dtype: string>\n",
      "Los valores iniciales eran: (39139,)\n",
      "Los valores finales son: <bound method Series.unique of 0       unprovoked\n",
      "1       unprovoked\n",
      "2       unprovoked\n",
      "4       unprovoked\n",
      "5       unprovoked\n",
      "           ...    \n",
      "7044    unprovoked\n",
      "7045    unprovoked\n",
      "7046    unprovoked\n",
      "7047    unprovoked\n",
      "7048    unprovoked\n",
      "Name: type, Length: 5203, dtype: string>\n",
      "Los valores finales son: (5203,)\n"
     ]
    }
   ],
   "source": [
    "print('Los valores iniciales eran:', shark_df['year'].nunique)\n",
    "print('Los valores iniciales eran:', shark_df['year'].shape)\n",
    "print('Los valores iniciales eran:', shark_df['type'].nunique)\n",
    "print('Los valores iniciales eran:', shark_df['type'].shape)\n",
    "\n",
    "#PRIMER FILTRO (Marlene):\n",
    "\n",
    "shark_df = shark_df[shark_df['type'] == 'unprovoked'].copy() #Quitamos los accidentes que no sean \"unprovoked\"\n",
    "print('Los valores finales son:', shark_df['type'].unique)\n",
    "print('Los valores finales son:', shark_df['type'].shape)"
   ]
  },
  {
   "cell_type": "code",
   "execution_count": 9,
   "id": "f8ac7041",
   "metadata": {},
   "outputs": [
    {
     "name": "stdout",
     "output_type": "stream",
     "text": [
      "year    1\n",
      "dtype: int64\n",
      "year            0\n",
      "type            0\n",
      "country        33\n",
      "state         300\n",
      "activity      359\n",
      "sex           168\n",
      "fatal_y/n      17\n",
      "species      2598\n",
      "dtype: int64\n"
     ]
    }
   ],
   "source": [
    "print(shark_df[['year']].isnull().sum())\n",
    "\n",
    "shark_df = shark_df.dropna(subset=['year']) #Quitamos los null de la columna \"year\"\n",
    "\n",
    "print(shark_df.isnull().sum())"
   ]
  },
  {
   "cell_type": "code",
   "execution_count": 10,
   "id": "42e5ae0d",
   "metadata": {},
   "outputs": [
    {
     "name": "stdout",
     "output_type": "stream",
     "text": [
      "Post filtro quedan: (2206,) valores\n",
      "Post filtro quedan: (2206,) valores\n"
     ]
    }
   ],
   "source": [
    "#formateamos para que todos los string sean igual (con decimal \".\")\n",
    "\n",
    "shark_df['year'] = (\n",
    "    shark_df['year']\n",
    "    .astype(str)                 \n",
    "    .str.replace(',', '.', regex=False)  # cambia coma por punto\n",
    "    .astype(float)      \n",
    ")\n",
    "shark_df['year'] = pd.to_numeric(shark_df['year'])\n",
    "shark_df = shark_df.loc[(shark_df['year'] >= 2000) & (shark_df['year'] <= 2025)] #filtramos los años sujetos a estudio\n",
    "\n",
    "#convertimos de nuevo a string para evitar problemas en futuros análisis\n",
    "shark_df['year'] = shark_df['year'].astype(int).astype(str)\n",
    "\n",
    "#CHECK FILTRO 1\n",
    "print('Post filtro quedan:', shark_df['year'].shape , \"valores\")\n",
    "print('Post filtro quedan:', shark_df['type'].shape , \"valores\")\n"
   ]
  },
  {
   "cell_type": "code",
   "execution_count": 11,
   "id": "40e7d16a",
   "metadata": {},
   "outputs": [
    {
     "name": "stdout",
     "output_type": "stream",
     "text": [
      "YEAR --> valores únicos: ['2025' '2024' '2023' '2022' '2021' '2020' '2019' '2018' '2017' '2016'\n",
      " '2015' '2014' '2013' '2012' '2011' '2010' '2009' '2008' '2007' '2006'\n",
      " '2005' '2004' '2003' '2002' '2001' '2000']\n",
      "TYPE --> valores únicos: <StringArray>\n",
      "['unprovoked']\n",
      "Length: 1, dtype: string\n",
      "COUNTRY --> valores únicos: <StringArray>\n",
      "[                            'australia',\n",
      "                                   'usa',\n",
      "                               'bahamas',\n",
      "                           'puerto rico',\n",
      "                      'french polynesia',\n",
      "                                 'spain',\n",
      "                        'canary islands',\n",
      "                          'south africa',\n",
      "                               'vanuatu',\n",
      "                               'jamaica',\n",
      "                                'israel',\n",
      "                              'maldives',\n",
      "                      'turks and caicos',\n",
      "                            'mozambique',\n",
      "                         'new caledonia',\n",
      "                                 'egypt',\n",
      "                              'thailand',\n",
      "                           'new zealand',\n",
      "                                'hawaii',\n",
      "                              'honduras',\n",
      "                               'morocco',\n",
      "                                'belize',\n",
      "                       'maldive islands',\n",
      "                                'tobago',\n",
      "                                 'india',\n",
      "                                'mexico',\n",
      "                           'philippines',\n",
      "                                 'samoa',\n",
      "                              'colombia',\n",
      "                               'ecuador',\n",
      "                                'brazil',\n",
      "                            'seychelles',\n",
      "                               'england',\n",
      "                                 'japan',\n",
      "                             'indonesia',\n",
      "                              'columbia',\n",
      "            'british overseas territory',\n",
      "                                'canada',\n",
      "                                'jordan',\n",
      "                      'st kitts / nevis',\n",
      "                             'st martin',\n",
      "                                  'fiji',\n",
      "                      'papua new guinea',\n",
      "                                  'cuba',\n",
      "                        'reunion island',\n",
      "                                 'italy',\n",
      "                            'costa rica',\n",
      "                                    <NA>,\n",
      "                             'mauritius',\n",
      "                       'solomon islands',\n",
      " 'st helena, british overseas territory',\n",
      "                               'reunion',\n",
      "                        'united kingdom',\n",
      "                  'united arab emirates',\n",
      "                                 'china',\n",
      "                    'dominican republic',\n",
      "                                 'aruba',\n",
      "                                'france',\n",
      "                              'kiribati',\n",
      "                          'diego garcia',\n",
      "                                'taiwan',\n",
      "                                  'guam',\n",
      "                               'nigeria',\n",
      "                                 'tonga',\n",
      "                              'scotland',\n",
      "                                 'kenya',\n",
      "                                'russia',\n",
      "                        'turks & caicos',\n",
      "                              'malaysia',\n",
      "                           'south korea',\n",
      "                                 'malta',\n",
      "                               'vietnam',\n",
      "                            'madagascar',\n",
      "            'united arab emirates (uae)',\n",
      "                                'panama',\n",
      "                               'croatia',\n",
      "                                 'yemen',\n",
      "                          'gulf of aden',\n",
      "                          'sierra leone',\n",
      "                           'st. maartin',\n",
      "                          'grand cayman',\n",
      "                             'venezuela',\n",
      "                               'uruguay',\n",
      "                            'micronesia',\n",
      "                               'okinawa',\n",
      "                              'tanzania']\n",
      "Length: 86, dtype: string\n",
      "STATE --> valores únicos: <StringArray>\n",
      "[                                         'queensland',\n",
      "                                     'south australia',\n",
      "                                      'off california',\n",
      "                                                 'nsw',\n",
      "                                             'florida',\n",
      "                                               'texas',\n",
      "                   'atlantic ocean near big grand cay',\n",
      "                                            'carolina',\n",
      "                                           'nuku hiva',\n",
      "                                             'majorca',\n",
      " ...\n",
      "                               'louisiade archipelago',\n",
      " 'kwazulu-natal between port edward and port st johns',\n",
      "                                  'milne bay province',\n",
      "                'cikobia island (north of vanua levu)',\n",
      "                                     'rayong province',\n",
      "                                 'rio grande de norte',\n",
      "                                       'new brunswick',\n",
      "                                       'miyako island',\n",
      "                                        'minerva reef',\n",
      "                                     'madang province']\n",
      "Length: 294, dtype: string\n",
      "ACTIVITY --> valores únicos: <StringArray>\n",
      "[                                'fishing/swimming',\n",
      "                                          'surfing',\n",
      "                                         'swimming',\n",
      "                                       'snorkeling',\n",
      "                                     'spearfishing',\n",
      "                                           'wading',\n",
      "                                         'kayaking',\n",
      "                           'surfing (hydrofoiling)',\n",
      "                                           'diving',\n",
      "                                          'fishing',\n",
      " ...\n",
      "                     'standing alongside surfboard',\n",
      "                                            'batin',\n",
      "             'swimming back from anchored sailboat',\n",
      "                           'diving for sea urchins',\n",
      "                       'diving (shell maintenance)',\n",
      "                        'swimming out to porpoises',\n",
      "            'windsurfing, but sitting on his board',\n",
      "                                 'surfing / wading',\n",
      " 'spearfishing, holding mesh bag with speared fish',\n",
      "                         'boogie boarding / wading']\n",
      "Length: 233, dtype: string\n",
      "SEX --> valores únicos: <StringArray>\n",
      "['m', 'f', <NA>, 'lli']\n",
      "Length: 4, dtype: string\n",
      "FATAL_Y/N --> valores únicos: <StringArray>\n",
      "['n', 'y', 'f', 'm', <NA>, 'nq', 'unknown']\n",
      "Length: 7, dtype: string\n",
      "SPECIES --> valores únicos: <StringArray>\n",
      "[                                    'tiger or bull shark',\n",
      "                                          'bronze whaler?',\n",
      "                                      'unknown 1.2m shark',\n",
      "                                       'great white shark',\n",
      "                                              'not stated',\n",
      "                                 '5m (16.5ft) great white',\n",
      "                                            'undetermined',\n",
      "                                   'suspected great white',\n",
      "                         'great white shark est 3m (10ft)',\n",
      "                                             'lemon shark',\n",
      " ...\n",
      "                'blacktip shark, 2.4 m to 3 m [8' to 10']',\n",
      "                           '1.8 m [6'] grey-colored shark',\n",
      "                            'grey reef shark, 2 m [6.75']',\n",
      "                 'lemon shark, 2.1  m to 2.4 m [7' to 8']',\n",
      "                'tiger shark, 0.9 m to 1.5 m [3' to 5'] ?',\n",
      "                                 'nurse shark, 1.2 m [4']',\n",
      " '0.9 m [3'] shark,  probably a blacktip or spinner shark',\n",
      "               'blacktip shark, 1.2 m to 1.8 m [4' to 6']',\n",
      "                                'tiger shark, 4 m [13'] ?',\n",
      "          'shortfin mako shark, 3 m to 3.4 m [10' to 11']']\n",
      "Length: 625, dtype: string\n"
     ]
    }
   ],
   "source": [
    "#Check valores por columnas para próximos filtros\n",
    "\n",
    "for col in shark_df.columns:\n",
    "    print(f'{col.upper()} --> valores únicos:', shark_df[col].unique())"
   ]
  },
  {
   "cell_type": "code",
   "execution_count": 12,
   "id": "14c3181a",
   "metadata": {},
   "outputs": [
    {
     "name": "stdout",
     "output_type": "stream",
     "text": [
      "Después del segundo filtro, los datos tienen: (1977, 8)\n",
      "country\n",
      "australia            434\n",
      "bahamas               69\n",
      "brazil                54\n",
      "egypt                 30\n",
      "french polynesia      26\n",
      "mexico                25\n",
      "new caledonia         35\n",
      "new zealand           38\n",
      "reunion               30\n",
      "south africa         115\n",
      "usa                 1121\n",
      "Name: count, dtype: Int64\n"
     ]
    }
   ],
   "source": [
    "#SEGUNDO FILTRO (Marta):\n",
    "#Decidimos filtrar por 11 países que representan el 90% de los ataques. \n",
    "country_selected = [\n",
    "    \"usa\",\"australia\",\"south africa\",\"bahamas\",\"brazil\",\"new zealand\",\n",
    "    \"new caledonia\",\"egypt\",\"reunion\",\"french polynesia\",\"mexico\",\"reunion island\"]\n",
    "\n",
    "shark_df_filtered = shark_df[\n",
    "    shark_df[\"country\"].str.strip().str.lower().isin(country_selected)\n",
    "].copy()\n",
    "\n",
    "print(\"Después del segundo filtro, los datos tienen:\", shark_df_filtered.shape)\n",
    "# Reunion y Reunion island los llamamos como Reunion Island\n",
    "\n",
    "map_reunion = {\"reunion island\": \"reunion\"}\n",
    "shark_df_filtered[\"country\"] = shark_df_filtered[\"country\"].replace(map_reunion)\n",
    "print(shark_df_filtered[\"country\"].value_counts(dropna=False).sort_index())\n",
    "shark_df = shark_df_filtered #sobrescribe el dataframe con los filtros y demás\n"
   ]
  },
  {
   "cell_type": "code",
   "execution_count": 13,
   "id": "4c18bb9c",
   "metadata": {},
   "outputs": [
    {
     "name": "stdout",
     "output_type": "stream",
     "text": [
      "Antes: (1977, 8)\n",
      "Después: (1934, 8)\n"
     ]
    }
   ],
   "source": [
    "# Borramos state en blanco para esos paises\n",
    "print(\"Antes:\", shark_df_filtered.shape)\n",
    "shark_df_filtered = shark_df_filtered.dropna(subset=[\"state\"]).copy()\n",
    "print(\"Después:\", shark_df_filtered.shape)"
   ]
  },
  {
   "cell_type": "code",
   "execution_count": 14,
   "id": "1fd33491",
   "metadata": {},
   "outputs": [
    {
     "name": "stdout",
     "output_type": "stream",
     "text": [
      "Después de normalizar estados USA: state\n",
      "florida              602\n",
      "hawaii               152\n",
      "california           103\n",
      "south carolina        79\n",
      "north carolina        69\n",
      "texas                 34\n",
      "new york              16\n",
      "oregon                16\n",
      "alabama               10\n",
      "louisiana              6\n",
      "georgia                5\n",
      "new jersey             5\n",
      "massachusetts          4\n",
      "maine                  2\n",
      "guam                   2\n",
      "us virgin islands      2\n",
      "virginia               2\n",
      "galveston              1\n",
      "samoa                  1\n",
      "maryland               1\n",
      "cayman islands         1\n",
      "bahamas                1\n",
      "washington             1\n",
      "rhode island           1\n",
      "delaware               1\n",
      "palmyra atoll          1\n",
      "puerto rico            1\n",
      "johnston atoll         1\n",
      "Name: count, dtype: Int64\n"
     ]
    }
   ],
   "source": [
    "#Normalizando nombres de estados para los países seleccionados\n",
    "#USA:\n",
    "\n",
    "mask_usa = shark_df_filtered[\"country\"].eq(\"usa\")\n",
    "\n",
    "# Diccionario de normalización (todo en minúsculas)\n",
    "usa_state_map = {\n",
    "    \"floria\": \"florida\",\n",
    "    \"franklin county, florida\": \"florida\",\n",
    "    \"noirth carolina\": \"north carolina\",\n",
    "    \"off california\": \"california\",\n",
    "    \"los angeles\": \"california\",\n",
    "    \"long island ny\": \"new york\",\n",
    "    \"maui\": \"hawaii\",\n",
    "    \"virgin islands\": \"us virgin islands\",\n",
    " }\n",
    "\n",
    "print(\"Después de normalizar estados USA:\", shark_df_filtered.loc[mask_usa, \"state\"].replace(usa_state_map).value_counts())"
   ]
  },
  {
   "cell_type": "code",
   "execution_count": 15,
   "id": "f015f506",
   "metadata": {},
   "outputs": [
    {
     "name": "stdout",
     "output_type": "stream",
     "text": [
      "Después de normalizar estados AU: state\n",
      "new south wales                         164\n",
      "western australia                       120\n",
      "queensland                               77\n",
      "south australia                          36\n",
      "victoria                                 23\n",
      "tasmania                                  6\n",
      "northern territory                        5\n",
      "torres strait                             1\n",
      "territory of cocos (keeling) islands      1\n",
      "Name: count, dtype: Int64\n"
     ]
    }
   ],
   "source": [
    "#Australia:\n",
    "\n",
    "mask_aus = shark_df_filtered[\"country\"].eq(\"australia\")\n",
    "\n",
    "aus_state_map = {\n",
    "    \"new  south wales\": \"new south wales\",\n",
    "    \"new south ales\": \"new south wales\",\n",
    "    \"nsw\": \"new south wales\",\n",
    "    \"wa\": \"western australia\",\n",
    "    \"westerm australia\": \"western australia\",\n",
    "    \"western  australia\": \"western australia\",\n",
    "}\n",
    "\n",
    "print(\n",
    "    \"Después de normalizar estados AU:\",\n",
    "    shark_df_filtered.loc[mask_aus, \"state\"]\n",
    "        .replace(aus_state_map)\n",
    "        .value_counts()\n",
    ")"
   ]
  },
  {
   "cell_type": "code",
   "execution_count": 16,
   "id": "9b25a7db",
   "metadata": {},
   "outputs": [
    {
     "name": "stdout",
     "output_type": "stream",
     "text": [
      "Después de normalizar estados South Africa: state\n",
      "western cape     48\n",
      "eastern cape     46\n",
      "kwazulu-natal    19\n",
      "Name: count, dtype: Int64\n"
     ]
    }
   ],
   "source": [
    "#South Africa:\n",
    "mask_sa = shark_df_filtered[\"country\"].eq(\"south africa\")\n",
    "\n",
    "sa_state_map = {\n",
    "    \"easten cape province\": \"eastern cape\",\n",
    "    \"eastern cape  province\": \"eastern cape\",\n",
    "    \"eastern cape province\": \"eastern cape\",\n",
    "    \"eastern province\": \"eastern cape\", \n",
    "    \"kwazulu-natal between port edward and port st johns\": \"kwazulu-natal\",\n",
    "    \"western cape province\": \"western cape\",\n",
    "    \"western province\": \"western cape\",\n",
    "}\n",
    "\n",
    "print(\n",
    "    \"Después de normalizar estados South Africa:\",\n",
    "    shark_df_filtered.loc[mask_sa, \"state\"]\n",
    "        .replace(sa_state_map)\n",
    "        .value_counts()\n",
    ")\n"
   ]
  },
  {
   "cell_type": "code",
   "execution_count": 17,
   "id": "57812515",
   "metadata": {},
   "outputs": [
    {
     "name": "stdout",
     "output_type": "stream",
     "text": [
      "Después de normalizar Bahamas: state\n",
      "abaco                  22\n",
      "grand bahama           10\n",
      "exuma                   7\n",
      "new providence          7\n",
      "eleuthera               2\n",
      "long island             1\n",
      "lucayan archipelago     1\n",
      "bimini                  1\n",
      "northern bahamas        1\n",
      "andros                  1\n",
      "Name: count, dtype: Int64\n"
     ]
    }
   ],
   "source": [
    "#Bahamas:\n",
    "mask_bhs = shark_df_filtered[\"country\"].eq(\"bahamas\")\n",
    "\n",
    "bahamas_state_map = {\n",
    "    # --- Grand Bahama (incluye off-shore y ciudades) ---\n",
    "    \"40 miles off grand bahama island\": \"grand bahama\",\n",
    "    \"grand  bahama island\": \"grand bahama\",\n",
    "    \"grand bahama island\": \"grand bahama\",\n",
    "    \"freeport\": \"grand bahama\",\n",
    "    \"west end\": \"grand bahama\",\n",
    "\n",
    "    # --- Abaco ---\n",
    "    \"abaco islands\": \"abaco\",\n",
    "    \"great abaco islands\": \"abaco\",\n",
    "    \"atlantic ocean near big grand cay\": \"abaco\",\n",
    "\n",
    "    # --- Andros ---\n",
    "    \"andros islands\": \"andros\",\n",
    "\n",
    "    # --- Exuma ---\n",
    "    \"exuma islands\": \"exuma\",\n",
    "    \"exumas\": \"exuma\",\n",
    "    \"the exuma cays\": \"exuma\",\n",
    "\n",
    "    # --- New Providence (+ Paradise Island y variantes tipográficas) ---\n",
    "    \"new providence   isoad\": \"new providence\",\n",
    "    \"new providence district\": \"new providence\",\n",
    "    \"new providence island\": \"new providence\",\n",
    "    \"paradise island\": \"new providence\",\n",
    "\n",
    "    # --- Long Island (typo en el dato) ---\n",
    "    \"clarence town long isand\": \"long island\",\n",
    "}\n",
    "\n",
    "print(\n",
    "    \"Después de normalizar Bahamas:\",\n",
    "    shark_df_filtered.loc[mask_bhs, \"state\"]\n",
    "        .str.strip().str.lower()\n",
    "        .replace(bahamas_state_map)\n",
    "        .value_counts()\n",
    ")"
   ]
  },
  {
   "cell_type": "code",
   "execution_count": 18,
   "id": "0d430eac",
   "metadata": {},
   "outputs": [
    {
     "name": "stdout",
     "output_type": "stream",
     "text": [
      "Después de normalizar Brasil: state\n",
      "pernambuco             42\n",
      "sao paulo               2\n",
      "santa catarina          2\n",
      "bahia                   2\n",
      "rio de janeiro          2\n",
      "rio grande do sul       1\n",
      "rio grande do norte     1\n",
      "Name: count, dtype: Int64\n"
     ]
    }
   ],
   "source": [
    "#Brasil:\n",
    "mask_bra = shark_df_filtered[\"country\"].eq(\"brazil\")\n",
    "\n",
    "brazil_state_map = {\n",
    "    \"balneário camboriú\": \"santa catarina\",\n",
    "    \"santa catarina state\": \"santa catarina\",\n",
    "    \"rio grande de norte\": \"rio grande do norte\",\n",
    "    \"fernando de noronha\": \"pernambuco\",\n",
    "    \"são paulo.\": \"sao paulo\",\n",
    "}\n",
    "\n",
    "print(\n",
    "    \"Después de normalizar Brasil:\",\n",
    "    shark_df_filtered.loc[mask_bra, \"state\"]\n",
    "        .str.strip().str.lower()\n",
    "        .replace(brazil_state_map)\n",
    "        .value_counts())"
   ]
  },
  {
   "cell_type": "code",
   "execution_count": 19,
   "id": "a31f85f8",
   "metadata": {},
   "outputs": [
    {
     "name": "stdout",
     "output_type": "stream",
     "text": [
      "Después de normalizar New Zealand: state\n",
      "south island       18\n",
      "north island       16\n",
      "cook islands        3\n",
      "chatham islands     1\n",
      "Name: count, dtype: Int64\n"
     ]
    }
   ],
   "source": [
    "#New Zealand:\n",
    "mask_nz = shark_df_filtered[\"country\"].eq(\"new zealand\")\n",
    "\n",
    "nz_state_map = {\n",
    "    \"south island, near karitane north of dunedin\": \"south island\",\n",
    "    \"southland\": \"south island\",\n",
    "    \"bay of waitangi\": \"north island\",\n",
    "    \"mercury islands\": \"north island\",\n",
    "  }\n",
    "\n",
    "print(\n",
    "    \"Después de normalizar New Zealand:\",\n",
    "    shark_df_filtered.loc[mask_nz, \"state\"]\n",
    "        .str.strip().str.lower()\n",
    "        .replace(nz_state_map)\n",
    "        .value_counts()\n",
    ")"
   ]
  },
  {
   "cell_type": "code",
   "execution_count": 20,
   "id": "07ea57ac",
   "metadata": {},
   "outputs": [
    {
     "name": "stdout",
     "output_type": "stream",
     "text": [
      "Después de normalizar New Caledonia: state\n",
      "south province          8\n",
      "north province          8\n",
      "loyalty islands         5\n",
      "grand terre             2\n",
      "poum                    1\n",
      "belep islands           1\n",
      "noumea                  1\n",
      "baie de sainte-marie    1\n",
      "Name: count, dtype: Int64\n"
     ]
    }
   ],
   "source": [
    "#New Caledonia:\n",
    "\n",
    "mask_nc = shark_df_filtered[\"country\"].eq(\"new caledonia\")\n",
    "\n",
    "nc_state_map = {\n",
    "    \"bélep islands\": \"belep islands\",\n",
    "    \"grande terre\": \"grand terre\",\n",
    "}\n",
    "\n",
    "print(\n",
    "    \"Después de normalizar New Caledonia:\",\n",
    "    shark_df_filtered.loc[mask_nc, \"state\"]\n",
    "        .str.strip().str.lower()\n",
    "        .replace(nc_state_map)\n",
    "        .value_counts()\n",
    ")\n"
   ]
  },
  {
   "cell_type": "code",
   "execution_count": 21,
   "id": "a6532511",
   "metadata": {},
   "outputs": [
    {
     "name": "stdout",
     "output_type": "stream",
     "text": [
      "Después de normalizar Egipto: state\n",
      "red sea governorate    12\n",
      "south sinai            12\n",
      "suez                    1\n",
      "Name: count, dtype: Int64\n"
     ]
    }
   ],
   "source": [
    "#Egipto:\n",
    "mask_egy = shark_df_filtered[\"country\"].eq(\"egypt\")\n",
    "\n",
    "egypt_state_map = {\n",
    "    \"hurghada, red sea governorate\": \"red sea governorate\",\n",
    "    \"north of marsa alam\": \"red sea governorate\",\n",
    "    \"red sea\": \"red sea governorate\",\n",
    "    \"red sea protectorate\": \"red sea governorate\",\n",
    "    \"st. johns reef\": \"red sea governorate\",\n",
    "    \"sinai peninsula\": \"south sinai\",\n",
    "    \"south sinai peninsula\": \"south sinai\",\n",
    "}\n",
    "\n",
    "print(\n",
    "    \"Después de normalizar Egipto:\",\n",
    "    shark_df_filtered.loc[mask_egy, \"state\"]\n",
    "        .str.strip().str.lower()\n",
    "        .replace(egypt_state_map)\n",
    "        .value_counts()\n",
    ")\n"
   ]
  },
  {
   "cell_type": "code",
   "execution_count": 22,
   "id": "564fb65f",
   "metadata": {},
   "outputs": [
    {
     "name": "stdout",
     "output_type": "stream",
     "text": [
      "Después de normalizar Reunion:\n",
      "state\n",
      "saint areas               17\n",
      "d’étang salé               2\n",
      "le port                    1\n",
      "trois bassins              1\n",
      "bois blanc                 1\n",
      "conservatoria district     1\n",
      "Name: count, dtype: Int64\n"
     ]
    }
   ],
   "source": [
    "#Reunion:\n",
    "\n",
    "mask_reu = shark_df_filtered[\"country\"].eq(\"reunion\")\n",
    "\n",
    "s = (\n",
    "    shark_df_filtered.loc[mask_reu, \"state\"]\n",
    "        .astype(\"string\")\n",
    "        .str.strip().str.lower()\n",
    "        .str.replace(\"-\", \" \", regex=False)         # \"saint-gilles\" -> \"saint gilles\"\n",
    "        .replace({\n",
    "            \"saint guilles\": \"saint gilles\",        # typo\n",
    "            \"saint gilles les bains\": \"saint gilles\",\n",
    "            \"d'etang-sale\": \"etang sale\",\n",
    "            \"d’etang-sale\": \"etang sale\",\n",
    "            \"d'etang-salé\": \"etang sale\",\n",
    "            \"d’etang-salé\": \"etang sale\",\n",
    "            \"conservatória district\": \"conservatoria district\",\n",
    "        })\n",
    ")\n",
    "\n",
    "# Agrupa TODO lo que empiece por \"saint \" en \"saint areas\"\n",
    "s = s.where(~s.str.startswith(\"saint \"), \"saint areas\")\n",
    "\n",
    "print(\"Después de normalizar Reunion:\")\n",
    "print(s.value_counts())"
   ]
  },
  {
   "cell_type": "code",
   "execution_count": 23,
   "id": "9a96d050",
   "metadata": {},
   "outputs": [
    {
     "name": "stdout",
     "output_type": "stream",
     "text": [
      "Después de normalizar French Polynesia: state\n",
      "society islands    14\n",
      "tuamotu islands     6\n",
      "marquesas           4\n",
      "gambier islands     1\n",
      "Name: count, dtype: Int64\n"
     ]
    }
   ],
   "source": [
    "# French Polynesia\n",
    "mask_fp = shark_df_filtered[\"country\"].eq(\"french polynesia\")\n",
    "\n",
    "french_poly_map = {\n",
    "    # Society Islands\n",
    "    \"bora bora\": \"society islands\",\n",
    "    \"moorea\": \"society islands\",\n",
    "    \"tahiti\": \"society islands\",\n",
    "    \"nuku hiva\": \"marquesas\",\n",
    "    \"central tuamotu\": \"tuamotu islands\",\n",
    "    \"tuamotos\": \"tuamotu islands\",\n",
    "    \"tuamotus\": \"tuamotu islands\",\n",
    "    \"rangiroa\": \"tuamotu islands\",\n",
    "}\n",
    "\n",
    "print(\n",
    "    \"Después de normalizar French Polynesia:\",\n",
    "    shark_df_filtered.loc[mask_fp, \"state\"]\n",
    "        .str.strip().str.lower()\n",
    "        .replace(french_poly_map)\n",
    "        .value_counts()\n",
    ")"
   ]
  },
  {
   "cell_type": "code",
   "execution_count": 24,
   "id": "24911fc7",
   "metadata": {},
   "outputs": [
    {
     "name": "stdout",
     "output_type": "stream",
     "text": [
      "Después de normalizar Méxipwdco: state\n",
      "quintana roo          7\n",
      "baja california       6\n",
      "guerrero              6\n",
      "sonora                3\n",
      "jalisco               1\n",
      "gulf of california    1\n",
      "sinaloa               1\n",
      "Name: count, dtype: Int64\n"
     ]
    }
   ],
   "source": [
    "#Mexico:\n",
    "mask_mex = shark_df_filtered[\"country\"].eq(\"mexico\")\n",
    "\n",
    "mexico_state_map = {\n",
    "    \"guerrero\": \"guerrero\",\n",
    "    \"cabo san lucas\": \"baja california\",\n",
    "    \"baja\": \"baja california\",\n",
    "    \"baja california sur\": \"baja california\",\n",
    "    \"guerro\": \"guerrero\",\n",
    "}\n",
    "\n",
    "print(\n",
    "    \"Después de normalizar Méxipwdco:\",\n",
    "    shark_df_filtered.loc[mask_mex, \"state\"]\n",
    "        .str.strip().str.lower()\n",
    "        .replace(mexico_state_map)\n",
    "        .value_counts()\n",
    ")"
   ]
  },
  {
   "cell_type": "code",
   "execution_count": 25,
   "id": "ae2ba89e",
   "metadata": {},
   "outputs": [],
   "source": [
    "#Asignamos los cambios al dataframe principal\n",
    "# Use shark_df_filtered since the masks were created from it\n",
    "shark_df_filtered.loc[mask_usa, \"state\"] = shark_df_filtered.loc[mask_usa, \"state\"].replace(usa_state_map)\n",
    "shark_df_filtered.loc[mask_aus, \"state\"] = shark_df_filtered.loc[mask_aus, \"state\"].replace(aus_state_map)\n",
    "shark_df_filtered.loc[mask_sa, \"state\"] = shark_df_filtered.loc[mask_sa, \"state\"].replace(sa_state_map)\n",
    "shark_df_filtered.loc[mask_bhs, \"state\"] = shark_df_filtered.loc[mask_bhs, \"state\"].replace(bahamas_state_map)\n",
    "shark_df_filtered.loc[mask_bra, \"state\"] = shark_df_filtered.loc[mask_bra, \"state\"].replace(brazil_state_map)\n",
    "shark_df_filtered.loc[mask_nz, \"state\"] = shark_df_filtered.loc[mask_nz, \"state\"].replace(nz_state_map)\n",
    "shark_df_filtered.loc[mask_nc, \"state\"] = shark_df_filtered.loc[mask_nc, \"state\"].replace(nc_state_map)\n",
    "shark_df_filtered.loc[mask_egy, \"state\"] = shark_df_filtered.loc[mask_egy, \"state\"].replace(egypt_state_map)\n",
    "shark_df_filtered.loc[mask_reu, \"state\"] = s\n",
    "shark_df_filtered.loc[mask_fp, \"state\"] = shark_df_filtered.loc[mask_fp, \"state\"].replace(french_poly_map)\n",
    "shark_df_filtered.loc[mask_mex, \"state\"] = shark_df_filtered.loc[mask_mex, \"state\"].replace(mexico_state_map)\n",
    "shark_df\n",
    "\n",
    "# Update shark_df to the cleaned version\n",
    "shark_df = shark_df_filtered\n"
   ]
  },
  {
   "cell_type": "code",
   "execution_count": 26,
   "id": "79dd9cc1",
   "metadata": {},
   "outputs": [
    {
     "data": {
      "text/plain": [
       "activity\n",
       "surfing                                             722\n",
       "swimming                                            318\n",
       "spearfishing                                        113\n",
       "snorkeling                                           87\n",
       "wading                                               86\n",
       "                                                   ... \n",
       "swimming out to porpoises                             1\n",
       "windsurfing, but sitting on his board                 1\n",
       "surfing / wading                                      1\n",
       "spearfishing, holding mesh bag with speared fish      1\n",
       "boogie boarding / wading                              1\n",
       "Name: count, Length: 187, dtype: Int64"
      ]
     },
     "execution_count": 26,
     "metadata": {},
     "output_type": "execute_result"
    }
   ],
   "source": [
    "# TERCER FILTRO (Alejandro):\n",
    "# Valoramos los duplicados de las actividades que estaban realizando los atacados, para agruparlas en categorias iguales.\n",
    "shark_df['activity'].value_counts()"
   ]
  },
  {
   "cell_type": "code",
   "execution_count": 27,
   "id": "780ef3db",
   "metadata": {},
   "outputs": [
    {
     "name": "stdout",
     "output_type": "stream",
     "text": [
      "Después de normalizar 'activity' → 'diving': activity\n",
      "diving    171\n",
      "Name: count, dtype: Int64\n"
     ]
    }
   ],
   "source": [
    "# Agrupamos las actividades en sus categorias\n",
    "# Diving\n",
    "mask_diving = shark_df_filtered[\"activity\"].str.strip().str.lower().isin([\n",
    "    \"abalone diving\",\n",
    "    \"diving\",\n",
    "    \"diving (shell maintenance)\",\n",
    "    \"diving / filming\",\n",
    "    \"diving for abalone\",\n",
    "    \"diving for crayfish\",\n",
    "    \"diving into water\",\n",
    "    \"diving with  surface-supplied air\",\n",
    "    \"diving, but on the surface when bitten by the shark\",\n",
    "    \"free diving\",\n",
    "    \"free diving / modeling\",\n",
    "    \"free diving / photographing pilot whales\",\n",
    "    \"free diving / spearfishing\",\n",
    "    \"freediving\",\n",
    "    \"scuba diving\",\n",
    "    \"snorkeling\",\n",
    "    \"snorkeling (filming the sardine run)\",\n",
    "    \"standing / snorkeling\"\n",
    "])\n",
    "\n",
    "activity_diving_map = {\n",
    "    \"abalone diving\": \"diving\",\n",
    "    \"diving\": \"diving\",\n",
    "    \"diving (shell maintenance)\": \"diving\",\n",
    "    \"diving / filming\": \"diving\",\n",
    "    \"diving for abalone\": \"diving\",\n",
    "    \"diving for crayfish\": \"diving\",\n",
    "    \"diving into water\": \"diving\",\n",
    "    \"diving with  surface-supplied air\": \"diving\",\n",
    "    \"diving, but on the surface when bitten by the shark\": \"diving\",\n",
    "    \"free diving\": \"diving\",\n",
    "    \"free diving / modeling\": \"diving\",\n",
    "    \"free diving / photographing pilot whales\": \"diving\",\n",
    "    \"free diving / spearfishing\": \"diving\",\n",
    "    \"freediving\": \"diving\",\n",
    "    \"scuba diving\": \"diving\",\n",
    "    \"snorkeling\": \"diving\",\n",
    "    \"snorkeling (filming the sardine run)\": \"diving\",\n",
    "    \"standing / snorkeling\": \"diving\",\n",
    "}\n",
    "\n",
    "print(\n",
    "    \"Después de normalizar 'activity' → 'diving':\",\n",
    "    shark_df_filtered.loc[mask_diving, \"activity\"]\n",
    "        .str.strip().str.lower()\n",
    "        .replace(activity_diving_map)\n",
    "        .value_counts()\n",
    ")\n",
    "\n",
    "shark_df_filtered.loc[mask_diving, \"activity\"] = (\n",
    "    shark_df_filtered.loc[mask_diving, \"activity\"]\n",
    "        .str.strip().str.lower()\n",
    "        .replace(activity_diving_map)\n",
    ")"
   ]
  },
  {
   "cell_type": "code",
   "execution_count": 28,
   "id": "fc3855b0",
   "metadata": {},
   "outputs": [
    {
     "name": "stdout",
     "output_type": "stream",
     "text": [
      "Después de normalizar 'activity' → 'swimming': activity\n",
      "swimming    541\n",
      "Name: count, dtype: Int64\n"
     ]
    }
   ],
   "source": [
    "# Swimming\n",
    "mask_swimming = shark_df_filtered[\"activity\"].str.strip().str.lower().isin([\n",
    "    \"bathing\",\n",
    "    \"batin\",\n",
    "    \"crouching in 2' of water\",\n",
    "    \"floating\",\n",
    "    \"floating face-down in knee-deep water\",\n",
    "    \"floating in inflatable pool ring\",\n",
    "    \"floating in tube\",\n",
    "    \"floating near boat & observing bioluminesce\",\n",
    "    \"floating on a raft\",\n",
    "    \"holding onto an inflatable boat\",\n",
    "    \"in water with diving seabirds\",\n",
    "    \"jumped into the water\",\n",
    "    \"jumped into water\",\n",
    "    \"jumpinf from dock to boat acidentally fell into water at marina\",\n",
    "    \"jumping\",\n",
    "    \"jumping in the waves\",\n",
    "    \"kneeling in the water\",\n",
    "    \"lifeguard exercises\",\n",
    "    \"lifeguard training exercise\",\n",
    "    \"lifesaving drill\",\n",
    "    \"playing\",\n",
    "    \"playing football in the water\",\n",
    "    \"playing in the surf\",\n",
    "    \"playing in the surf with his 2 dogs\",\n",
    "    \"playing in the water\",\n",
    "    \"playing on a sandbar\",\n",
    "    \"playing soccer in the water\",\n",
    "    \"squatting in the water\",\n",
    "    \"standing\",\n",
    "    \"swimming\",\n",
    "    \"swimming  or snorkeling\",\n",
    "    \"swimming & snorkeling\",\n",
    "    \"swimming (using a float)\",\n",
    "    \"swimming /  boogie boarding\",\n",
    "    \"swimming / body surfing\",\n",
    "    \"swimming / jumping off a jetty\",\n",
    "    \"swimming / shipwreck\",\n",
    "    \"swimming / snorkeling\",\n",
    "    \"swimming / treading water\",\n",
    "    \"swimming / wading\",\n",
    "    \"swimming ocean training\",\n",
    "    \"swimming or boogie boarding\",\n",
    "    \"swimming out to porpoises\",\n",
    "    \"swimming to shore from capsized kayak\",\n",
    "    \"swimming with boogie board\",\n",
    "    \"swimming with pod of dolphins\",\n",
    "    \"swimming with sharks\",\n",
    "    \"swimming, attempting to rescue a girl  believed to be drowning\",\n",
    "    \"swimming, poaching abalone\",\n",
    "    \"swimming, poaching perlemoen\",\n",
    "    \"swimming, towing surfboard\",\n",
    "    \"swimming, wearing black wetsuit & swim fins\",\n",
    "    \"swimming/ treading water\",\n",
    "    \"swimming/standing\",\n",
    "    \"swimmingq\",\n",
    "    \"treading water\",\n",
    "    \"treading water/ surfing\",\n",
    "    \"unconfirmed possibly swimming near the boat harbour\",\n",
    "    \"undisclosed\",\n",
    "    \"wade fishing\",\n",
    "    \"wade-fishing\",\n",
    "    \"wading\",\n",
    "    \"wading / fishing & carrying a bag of fish\",\n",
    "    \"wading near a fishing net\",\n",
    "    \"wading or swimming\",\n",
    "    \"wading?\"\n",
    "])\n",
    "\n",
    "activity_swimming_map = {\n",
    "    \"bathing\": \"swimming\",\n",
    "    \"batin\": \"swimming\",\n",
    "    \"crouching in 2' of water\": \"swimming\",\n",
    "    \"floating\": \"swimming\",\n",
    "    \"floating face-down in knee-deep water\": \"swimming\",\n",
    "    \"floating in inflatable pool ring\": \"swimming\",\n",
    "    \"floating in tube\": \"swimming\",\n",
    "    \"floating near boat & observing bioluminesce\": \"swimming\",\n",
    "    \"floating on a raft\": \"swimming\",\n",
    "    \"holding onto an inflatable boat\": \"swimming\",\n",
    "    \"in water with diving seabirds\": \"swimming\",\n",
    "    \"jumped into the water\": \"swimming\",\n",
    "    \"jumped into water\": \"swimming\",\n",
    "    \"jumpinf from dock to boat acidentally fell into water at marina\": \"swimming\",\n",
    "    \"jumping\": \"swimming\",\n",
    "    \"jumping in the waves\": \"swimming\",\n",
    "    \"kneeling in the water\": \"swimming\",\n",
    "    \"lifeguard exercises\": \"swimming\",\n",
    "    \"lifeguard training exercise\": \"swimming\",\n",
    "    \"lifesaving drill\": \"swimming\",\n",
    "    \"playing\": \"swimming\",\n",
    "    \"playing football in the water\": \"swimming\",\n",
    "    \"playing in the surf\": \"swimming\",\n",
    "    \"playing in the surf with his 2 dogs\": \"swimming\",\n",
    "    \"playing in the water\": \"swimming\",\n",
    "    \"playing on a sandbar\": \"swimming\",\n",
    "    \"playing soccer in the water\": \"swimming\",\n",
    "    \"squatting in the water\": \"swimming\",\n",
    "    \"standing\": \"swimming\",\n",
    "    \"swimming\": \"swimming\",\n",
    "    \"swimming  or snorkeling\": \"swimming\",\n",
    "    \"swimming & snorkeling\": \"swimming\",\n",
    "    \"swimming (using a float)\": \"swimming\",\n",
    "    \"swimming /  boogie boarding\": \"swimming\",\n",
    "    \"swimming / body surfing\": \"swimming\",\n",
    "    \"swimming / jumping off a jetty\": \"swimming\",\n",
    "    \"swimming / shipwreck\": \"swimming\",\n",
    "    \"swimming / snorkeling\": \"swimming\",\n",
    "    \"swimming / treading water\": \"swimming\",\n",
    "    \"swimming / wading\": \"swimming\",\n",
    "    \"swimming ocean training\": \"swimming\",\n",
    "    \"swimming or boogie boarding\": \"swimming\",\n",
    "    \"swimming out to porpoises\": \"swimming\",\n",
    "    \"swimming to shore from capsized kayak\": \"swimming\",\n",
    "    \"swimming with boogie board\": \"swimming\",\n",
    "    \"swimming with pod of dolphins\": \"swimming\",\n",
    "    \"swimming with sharks\": \"swimming\",\n",
    "    \"swimming, attempting to rescue a girl  believed to be drowning\": \"swimming\",\n",
    "    \"swimming, poaching abalone\": \"swimming\",\n",
    "    \"swimming, poaching perlemoen\": \"swimming\",\n",
    "    \"swimming, towing surfboard\": \"swimming\",\n",
    "    \"swimming, wearing black wetsuit & swim fins\": \"swimming\",\n",
    "    \"swimming/ treading water\": \"swimming\",\n",
    "    \"swimming/standing\": \"swimming\",\n",
    "    \"swimmingq\": \"swimming\",\n",
    "    \"treading water\": \"swimming\",\n",
    "    \"treading water/ surfing\": \"swimming\",\n",
    "    \"unconfirmed possibly swimming near the boat harbour\": \"swimming\",\n",
    "    \"undisclosed\": \"swimming\",\n",
    "    \"wade fishing\": \"swimming\",\n",
    "    \"wade-fishing\": \"swimming\",\n",
    "    \"wading\": \"swimming\",\n",
    "    \"wading / fishing & carrying a bag of fish\": \"swimming\",\n",
    "    \"wading near a fishing net\": \"swimming\",\n",
    "    \"wading or swimming\": \"swimming\",\n",
    "    \"wading?\": \"swimming\",\n",
    "}\n",
    "\n",
    "print(\n",
    "    \"Después de normalizar 'activity' → 'swimming':\",\n",
    "    shark_df_filtered.loc[mask_swimming, \"activity\"]\n",
    "        .str.strip().str.lower()\n",
    "        .replace(activity_swimming_map)\n",
    "        .value_counts()\n",
    ")\n",
    "\n",
    "shark_df_filtered.loc[mask_swimming, \"activity\"] = (\n",
    "    shark_df_filtered.loc[mask_swimming, \"activity\"]\n",
    "        .str.strip().str.lower()\n",
    "        .replace(activity_swimming_map)\n",
    ")"
   ]
  },
  {
   "cell_type": "code",
   "execution_count": 29,
   "id": "2e47f723",
   "metadata": {},
   "outputs": [
    {
     "name": "stdout",
     "output_type": "stream",
     "text": [
      "Después de normalizar 'activity': activity\n",
      "study    5\n",
      "Name: count, dtype: Int64\n"
     ]
    }
   ],
   "source": [
    "# Study\n",
    "mask_study = shark_df_filtered[\"activity\"].str.strip().str.lower().isin([\n",
    "    \"attempting to rescue a shark\",\n",
    "    \"photographing fish\",\n",
    "    \"photographing the shark\",\n",
    "    \"tagging sharks\",\n",
    "    \"wrangling a shark\",\n",
    "])\n",
    "\n",
    "activity_study_map = {\n",
    "    \"attempting to rescue a shark\": \"study\",\n",
    "    \"photographing fish\": \"study\",\n",
    "    \"photographing the shark\": \"study\",\n",
    "    \"tagging sharks\": \"study\",\n",
    "    \"wrangling a shark\": \"study\",\n",
    "}\n",
    "\n",
    "print(\n",
    "    \"Después de normalizar 'activity':\",\n",
    "    shark_df_filtered.loc[mask_study, \"activity\"]\n",
    "        .str.strip().str.lower()\n",
    "        .replace(activity_study_map)\n",
    "        .value_counts()\n",
    ")\n",
    "\n",
    "shark_df_filtered.loc[mask_study, \"activity\"] = (\n",
    "    shark_df_filtered.loc[mask_study, \"activity\"]\n",
    "        .str.strip().str.lower()\n",
    "        .replace(activity_study_map)\n",
    ")"
   ]
  },
  {
   "cell_type": "code",
   "execution_count": 30,
   "id": "ef37ec03",
   "metadata": {},
   "outputs": [
    {
     "name": "stdout",
     "output_type": "stream",
     "text": [
      "Después de normalizar 'activity' → 'paddle': activity\n",
      "paddle    151\n",
      "Name: count, dtype: Int64\n"
     ]
    }
   ],
   "source": [
    "# Paddle\n",
    "\n",
    "mask_paddle = shark_df_filtered[\"activity\"].str.strip().str.lower().isin([\n",
    "    \"body boarding\",\n",
    "    \"body surfing\",\n",
    "    \"body surfing or boogie boarding\",\n",
    "    \"body surfing?\",\n",
    "    \"bodyboarding\",\n",
    "    \"body-boarding\",\n",
    "    \"bodysurfing\",\n",
    "    \"body-surfing\",\n",
    "    \"boggie boarding\",\n",
    "    \"boogie boarding\",\n",
    "    \"boogie boarding / wading\",\n",
    "    \"boogie boarding or surfing\",\n",
    "    \"boogie-boarding / swimming\",\n",
    "    \"paddle boarding\",\n",
    "    \"paddleboarding\",\n",
    "    \"paddle-boarding\",\n",
    "    \"paddle-surfing\",\n",
    "    \"paddling on kneeboard\",\n",
    "    \"standing alongside surfboard\",\n",
    "    \"standing in inner tube\",\n",
    "    \"standing or boogie boardin\",\n",
    "    \"standing, stepped on shark\",\n",
    "    \"stand-up paddle boarding\",\n",
    "    \"stand-up paddleboarding\",\n",
    "    \"sup\",\n",
    "    \"sup foil boarding\"\n",
    "])\n",
    "\n",
    "activity_paddle_map = {\n",
    "    \"body boarding\": \"paddle\",\n",
    "    \"body surfing\": \"paddle\",\n",
    "    \"body surfing or boogie boarding\": \"paddle\",\n",
    "    \"body surfing?\": \"paddle\",\n",
    "    \"bodyboarding\": \"paddle\",\n",
    "    \"body-boarding\": \"paddle\",\n",
    "    \"bodysurfing\": \"paddle\",\n",
    "    \"body-surfing\": \"paddle\",\n",
    "    \"boggie boarding\": \"paddle\",\n",
    "    \"boogie boarding\": \"paddle\",\n",
    "    \"boogie boarding / wading\": \"paddle\",\n",
    "    \"boogie boarding or surfing\": \"paddle\",\n",
    "    \"boogie-boarding / swimming\": \"paddle\",\n",
    "    \"paddle boarding\": \"paddle\",\n",
    "    \"paddleboarding\": \"paddle\",\n",
    "    \"paddle-boarding\": \"paddle\",\n",
    "    \"paddle-surfing\": \"paddle\",\n",
    "    \"paddling on kneeboard\": \"paddle\",\n",
    "    \"standing alongside surfboard\": \"paddle\",\n",
    "    \"standing in inner tube\": \"paddle\",\n",
    "    \"standing or boogie boardin\": \"paddle\",\n",
    "    \"standing, stepped on shark\": \"paddle\",\n",
    "    \"stand-up paddle boarding\": \"paddle\",\n",
    "    \"stand-up paddleboarding\": \"paddle\",\n",
    "    \"sup\": \"paddle\",\n",
    "    \"sup foil boarding\": \"paddle\",\n",
    "}\n",
    "\n",
    "print(\n",
    "    \"Después de normalizar 'activity' → 'paddle':\",\n",
    "    shark_df_filtered.loc[mask_paddle, \"activity\"]\n",
    "        .str.strip().str.lower()\n",
    "        .replace(activity_paddle_map)\n",
    "        .value_counts()\n",
    ")\n",
    "\n",
    "shark_df_filtered.loc[mask_paddle, \"activity\"] = (\n",
    "    shark_df_filtered.loc[mask_paddle, \"activity\"]\n",
    "        .str.strip().str.lower()\n",
    "        .replace(activity_paddle_map)\n",
    ")"
   ]
  },
  {
   "cell_type": "code",
   "execution_count": 31,
   "id": "d7c5e5c2",
   "metadata": {},
   "outputs": [
    {
     "name": "stdout",
     "output_type": "stream",
     "text": [
      "Después de normalizar 'activity' → 'fishing': activity\n",
      "fishing    170\n",
      "Name: count, dtype: Int64\n"
     ]
    }
   ],
   "source": [
    "# Fishing\n",
    "mask_fishing = shark_df_filtered[\"activity\"].str.strip().str.lower().isin([\n",
    "    \"casting a net\",\n",
    "    \"chumming for white sharks\",\n",
    "    \"cleaning fish\",\n",
    "    \"feeding fish\",\n",
    "    \"feeding sharks\",\n",
    "    \"fell into the water\",\n",
    "    \"fihing\",\n",
    "    \"filming\",\n",
    "    \"fishing\",\n",
    "    \"fishing from surfboard\",\n",
    "    \"fishing from surfski\",\n",
    "    \"fishing, fell in water\",\n",
    "    \"fishing, standing in 2' of water\",\n",
    "    \"fishing/swimming\",\n",
    "    \"fly fishing\",\n",
    "    \"hand feeding sharks\",\n",
    "    \"lobstering\",\n",
    "    \"removing fish from a trap\",\n",
    "    \"scallop diving (using surface-supplied air & a pod)\",\n",
    "    \"scallop diving on hookah\",\n",
    "    \"scalloping\",\n",
    "    \"spearfishing\",\n",
    "    \"spearfishing (free diving)\",\n",
    "    \"spearfishing / diving\",\n",
    "    \"spearfishing / free diving\",\n",
    "    \"spearfishing, holding mesh bag with speared fish\",\n",
    "    \"washing hands\",\n",
    "    \"washing sand off a speared fish\",\n",
    "])\n",
    "\n",
    "activity_fishing_map = {\n",
    "    \"casting a net\": \"fishing\",\n",
    "    \"chumming for white sharks\": \"fishing\",\n",
    "    \"cleaning fish\": \"fishing\",\n",
    "    \"feeding fish\": \"fishing\",\n",
    "    \"feeding sharks\": \"fishing\",\n",
    "    \"fell into the water\": \"fishing\",\n",
    "    \"fihing\": \"fishing\",\n",
    "    \"filming\": \"fishing\",\n",
    "    \"fishing\": \"fishing\",\n",
    "    \"fishing from surfboard\": \"fishing\",\n",
    "    \"fishing from surfski\": \"fishing\",\n",
    "    \"fishing, fell in water\": \"fishing\",\n",
    "    \"fishing, standing in 2' of water\": \"fishing\",\n",
    "    \"fishing/swimming\": \"fishing\",\n",
    "    \"fly fishing\": \"fishing\",\n",
    "    \"hand feeding sharks\": \"fishing\",\n",
    "    \"lobstering\": \"fishing\",\n",
    "    \"removing fish from a trap\": \"fishing\",\n",
    "    \"scallop diving (using surface-supplied air & a pod)\": \"fishing\",\n",
    "    \"scallop diving on hookah\": \"fishing\",\n",
    "    \"scalloping\": \"fishing\",\n",
    "    \"spearfishing\": \"fishing\",\n",
    "    \"spearfishing (free diving)\": \"fishing\",\n",
    "    \"spearfishing / diving\": \"fishing\",\n",
    "    \"spearfishing / free diving\": \"fishing\",\n",
    "    \"spearfishing, holding mesh bag with speared fish\": \"fishing\",\n",
    "    \"washing hands\": \"fishing\",\n",
    "    \"washing sand off a speared fish\": \"fishing\",\n",
    "}\n",
    "\n",
    "print(\n",
    "    \"Después de normalizar 'activity' → 'fishing':\",\n",
    "    shark_df_filtered.loc[mask_fishing, \"activity\"]\n",
    "        .str.strip().str.lower()\n",
    "        .replace(activity_fishing_map)\n",
    "        .value_counts()\n",
    ")\n",
    "\n",
    "shark_df_filtered.loc[mask_fishing, \"activity\"] = (\n",
    "    shark_df_filtered.loc[mask_fishing, \"activity\"]\n",
    "        .str.strip().str.lower()\n",
    "        .replace(activity_fishing_map)\n",
    ")"
   ]
  },
  {
   "cell_type": "code",
   "execution_count": 32,
   "id": "75f58a26",
   "metadata": {},
   "outputs": [
    {
     "name": "stdout",
     "output_type": "stream",
     "text": [
      "Después de normalizar 'activity' → 'surfing': activity\n",
      "surfing    814\n",
      "Name: count, dtype: Int64\n"
     ]
    }
   ],
   "source": [
    "# Surfing\n",
    "mask_surfing = shark_df_filtered[\"activity\"].str.strip().str.lower().isin([\n",
    "    \"foil boarding\",\n",
    "    \"foil-boarding\",\n",
    "    \"jet skiing\",\n",
    "    \"kite boarding\",\n",
    "    \"kite foiling\",\n",
    "    \"kite surfing\",\n",
    "    \"kiteboarding\",\n",
    "    \"kite-boarding\",\n",
    "    \"kitesurfing\",\n",
    "    \"kite-surfing\",\n",
    "    \"night surfing\",\n",
    "    \"scurfing (surfboard being  towed behind a boat)\",\n",
    "    \"sitting\",\n",
    "    \"sitting in the water\",\n",
    "    \"sitting on surfboard\",\n",
    "    \"skimboarding\",\n",
    "    \"standing / surfing\",\n",
    "    \"surf fishing\",\n",
    "    \"surf paddling\",\n",
    "    \"surf skiing\",\n",
    "    \"surface supplied  diving\",\n",
    "    \"surfing\",\n",
    "    \"surfing / wading\",\n",
    "    \"surfing amid a shoal of sharks\",\n",
    "    \"surfing, but standing in water alongside board\",\n",
    "    \"surfng\",\n",
    "    \"surf-skiing\",\n",
    "    \"surf-sking\",\n",
    "    \"tandem surfing\",\n",
    "    \"wakeboarding\",\n",
    "    \"walking\",\n",
    "    \"walking in shallows\",\n",
    "    \"walking in surf\",\n",
    "    \"walking out of the water after surfing\",\n",
    "    \"windsurfing\",\n",
    "    \"windsurfing, but sitting on his board\",\n",
    "    \"wing foil surfing\"\n",
    "])\n",
    "\n",
    "activity_surfing_map = {\n",
    "    \"foil boarding\": \"surfing\",\n",
    "    \"foil-boarding\": \"surfing\",\n",
    "    \"jet skiing\": \"surfing\",\n",
    "    \"kite boarding\": \"surfing\",\n",
    "    \"kite foiling\": \"surfing\",\n",
    "    \"kite surfing\": \"surfing\",\n",
    "    \"kiteboarding\": \"surfing\",\n",
    "    \"kite-boarding\": \"surfing\",\n",
    "    \"kitesurfing\": \"surfing\",\n",
    "    \"kite-surfing\": \"surfing\",\n",
    "    \"night surfing\": \"surfing\",\n",
    "    \"scurfing (surfboard being  towed behind a boat)\": \"surfing\",\n",
    "    \"sitting\": \"surfing\",\n",
    "    \"sitting in the water\": \"surfing\",\n",
    "    \"sitting on surfboard\": \"surfing\",\n",
    "    \"skimboarding\": \"surfing\",\n",
    "    \"standing / surfing\": \"surfing\",\n",
    "    \"surf fishing\": \"surfing\",\n",
    "    \"surf paddling\": \"surfing\",\n",
    "    \"surf skiing\": \"surfing\",\n",
    "    \"surface supplied  diving\": \"surfing\",\n",
    "    \"surfing\": \"surfing\",\n",
    "    \"surfing / wading\": \"surfing\",\n",
    "    \"surfing amid a shoal of sharks\": \"surfing\",\n",
    "    \"surfing, but standing in water alongside board\": \"surfing\",\n",
    "    \"surfng\": \"surfing\",\n",
    "    \"surf-skiing\": \"surfing\",\n",
    "    \"surf-sking\": \"surfing\",\n",
    "    \"tandem surfing\": \"surfing\",\n",
    "    \"wakeboarding\": \"surfing\",\n",
    "    \"walking\": \"surfing\",\n",
    "    \"walking in shallows\": \"surfing\",\n",
    "    \"walking in surf\": \"surfing\",\n",
    "    \"walking out of the water after surfing\": \"surfing\",\n",
    "    \"windsurfing\": \"surfing\",\n",
    "    \"windsurfing, but sitting on his board\": \"surfing\",\n",
    "    \"wing foil surfing\": \"surfing\",\n",
    "}\n",
    "\n",
    "print(\n",
    "    \"Después de normalizar 'activity' → 'surfing':\",\n",
    "    shark_df_filtered.loc[mask_surfing, \"activity\"]\n",
    "        .str.strip().str.lower()\n",
    "        .replace(activity_surfing_map)\n",
    "        .value_counts()\n",
    ")\n",
    "\n",
    "shark_df_filtered.loc[mask_surfing, \"activity\"] = (\n",
    "    shark_df_filtered.loc[mask_surfing, \"activity\"]\n",
    "        .str.strip().str.lower()\n",
    "        .replace(activity_surfing_map)\n",
    ")"
   ]
  },
  {
   "cell_type": "code",
   "execution_count": 33,
   "id": "fd1929d4",
   "metadata": {},
   "outputs": [
    {
     "name": "stdout",
     "output_type": "stream",
     "text": [
      "Después de normalizar 'activity' → 'kayaking': activity\n",
      "kayaking    14\n",
      "Name: count, dtype: Int64\n"
     ]
    }
   ],
   "source": [
    "# Kayaking\n",
    "mask_kayaking = shark_df_filtered[\"activity\"].str.strip().str.lower().isin([\n",
    "    \"canoeing\",\n",
    "    \"kakaying\",\n",
    "    \"kayak fishing\",\n",
    "    \"kayaking\",\n",
    "    \"kayaking / fishing\"\n",
    "])\n",
    "\n",
    "activity_kayaking_map = {\n",
    "    \"canoeing\": \"kayaking\",\n",
    "    \"kakaying\": \"kayaking\",\n",
    "    \"kayak fishing\": \"kayaking\",\n",
    "    \"kayaking\": \"kayaking\",\n",
    "    \"kayaking / fishing\": \"kayaking\",\n",
    "}\n",
    "\n",
    "print(\n",
    "    \"Después de normalizar 'activity' → 'kayaking':\",\n",
    "    shark_df_filtered.loc[mask_kayaking, \"activity\"]\n",
    "        .str.strip().str.lower()\n",
    "        .replace(activity_kayaking_map)\n",
    "        .value_counts()\n",
    ")\n",
    "\n",
    "shark_df_filtered.loc[mask_kayaking, \"activity\"] = (\n",
    "    shark_df_filtered.loc[mask_kayaking, \"activity\"]\n",
    "        .str.strip().str.lower()\n",
    "        .replace(activity_kayaking_map)\n",
    ")"
   ]
  },
  {
   "cell_type": "code",
   "execution_count": 34,
   "id": "c2b98222",
   "metadata": {},
   "outputs": [
    {
     "data": {
      "text/plain": [
       "activity\n",
       "surfing                    814\n",
       "swimming                   541\n",
       "diving                     171\n",
       "fishing                    170\n",
       "paddle                     151\n",
       "kayaking                    14\n",
       "study                        5\n",
       "shipwreck                    1\n",
       "attempting to fix motor      1\n",
       "Name: count, dtype: Int64"
      ]
     },
     "execution_count": 34,
     "metadata": {},
     "output_type": "execute_result"
    }
   ],
   "source": [
    "# Hacemos un checkeo, para saber el numero de ataques dependiendo de la actividad.\n",
    "shark_df[\"activity\"].value_counts().head(10)"
   ]
  },
  {
   "cell_type": "code",
   "execution_count": 35,
   "id": "3933b748",
   "metadata": {},
   "outputs": [
    {
     "data": {
      "text/plain": [
       "activity    66\n",
       "sex         30\n",
       "dtype: int64"
      ]
     },
     "execution_count": 35,
     "metadata": {},
     "output_type": "execute_result"
    }
   ],
   "source": [
    "# Valoramos los NaN de las categorias \"activity\" y \"sex\" para agruparlas en unkwnown\n",
    "shark_df[[\"activity\", \"sex\"]].isna().sum()"
   ]
  },
  {
   "cell_type": "code",
   "execution_count": 36,
   "id": "566d4184",
   "metadata": {},
   "outputs": [],
   "source": [
    "import numpy as np"
   ]
  },
  {
   "cell_type": "code",
   "execution_count": 37,
   "id": "f87169d6",
   "metadata": {},
   "outputs": [],
   "source": [
    "shark_df[\"activity\"] = shark_df[\"activity\"].replace(\"\", np.nan)  # convierte strings vacíos en NaN\n",
    "shark_df[\"activity\"] = shark_df[\"activity\"].fillna(\"unknown activity\") #completa los NULL con \"unknown\""
   ]
  },
  {
   "cell_type": "code",
   "execution_count": 38,
   "id": "71041011",
   "metadata": {},
   "outputs": [],
   "source": [
    "shark_df[\"sex\"] = shark_df[\"sex\"].replace(\"\", np.nan)  # convierte strings vacíos en NaN\n",
    "shark_df[\"sex\"] = shark_df[\"sex\"].fillna(\"unknown sex\") #completa los NULL con \"unknown\"\n",
    "\n",
    "#replace de \"lli\" por \"unknown\" en la columna \"sex\"\n",
    "shark_df[\"sex\"] = shark_df[\"sex\"].replace(\"lli\", \"unknown sex\")"
   ]
  },
  {
   "cell_type": "code",
   "execution_count": 39,
   "id": "6b6ab8e4",
   "metadata": {},
   "outputs": [
    {
     "data": {
      "text/plain": [
       "activity    0\n",
       "sex         0\n",
       "dtype: int64"
      ]
     },
     "execution_count": 39,
     "metadata": {},
     "output_type": "execute_result"
    }
   ],
   "source": [
    "# Chekeamos los cambios.\n",
    "shark_df[[\"activity\", \"sex\"]].isna().sum()"
   ]
  },
  {
   "cell_type": "code",
   "execution_count": 40,
   "id": "046e84f0",
   "metadata": {},
   "outputs": [
    {
     "name": "stdout",
     "output_type": "stream",
     "text": [
      "YEAR --> valores únicos: ['2025' '2024' '2023' '2022' '2021' '2020' '2019' '2018' '2017' '2016'\n",
      " '2015' '2014' '2013' '2012' '2011' '2010' '2009' '2008' '2007' '2006'\n",
      " '2005' '2004' '2003' '2002' '2001' '2000']\n",
      "TYPE --> valores únicos: <StringArray>\n",
      "['unprovoked']\n",
      "Length: 1, dtype: string\n",
      "COUNTRY --> valores únicos: <StringArray>\n",
      "[       'australia',              'usa',          'bahamas',\n",
      " 'french polynesia',     'south africa',    'new caledonia',\n",
      "            'egypt',      'new zealand',           'mexico',\n",
      "           'brazil',          'reunion']\n",
      "Length: 11, dtype: string\n",
      "STATE --> valores únicos: <StringArray>\n",
      "[                          'queensland',\n",
      "                      'south australia',\n",
      "                           'california',\n",
      "                      'new south wales',\n",
      "                              'florida',\n",
      "                                'texas',\n",
      "                                'abaco',\n",
      "                            'marquesas',\n",
      "                        'kwazulu-natal',\n",
      "                             'new york',\n",
      "                       'south carolina',\n",
      "                       'north carolina',\n",
      "                    'western australia',\n",
      "                             'victoria',\n",
      "                          'grand terre',\n",
      "                  'red sea governorate',\n",
      "                         'north island',\n",
      "                               'hawaii',\n",
      "                            'galveston',\n",
      "                      'gambier islands',\n",
      "                          'long island',\n",
      "                       'new providence',\n",
      "                               'sonora',\n",
      "                         'south island',\n",
      "                              'jalisco',\n",
      "                         'grand bahama',\n",
      "                          'south sinai',\n",
      "                      'society islands',\n",
      "                                 'poum',\n",
      "                           'new jersey',\n",
      "                         'eastern cape',\n",
      "                           'pernambuco',\n",
      "                       'south province',\n",
      "                   'gulf of california',\n",
      "                                'samoa',\n",
      "                            'louisiana',\n",
      "                         'western cape',\n",
      "                              'alabama',\n",
      "                         'quintana roo',\n",
      "                            'sao paulo',\n",
      "                             'maryland',\n",
      "                              'georgia',\n",
      "                      'loyalty islands',\n",
      "                               'oregon',\n",
      "                    'us virgin islands',\n",
      "                      'tuamotu islands',\n",
      "                                'maine',\n",
      "                              'bahamas',\n",
      "                             'tasmania',\n",
      "                                'exuma',\n",
      "                      'baja california',\n",
      "                                 'guam',\n",
      "                       'cayman islands',\n",
      "                         'rhode island',\n",
      "                      'chatham islands',\n",
      "                  'lucayan archipelago',\n",
      "                        'belep islands',\n",
      "                               'noumea',\n",
      "                             'guerrero',\n",
      "                   'northern territory',\n",
      "                        'massachusetts',\n",
      "                           'washington',\n",
      "                          'saint areas',\n",
      "                               'bimini',\n",
      "                       'north province',\n",
      "                                 'suez',\n",
      "                       'santa catarina',\n",
      "                              'le port',\n",
      "                         'd’étang salé',\n",
      "                             'delaware',\n",
      "                        'palmyra atoll',\n",
      "                 'baie de sainte-marie',\n",
      "                            'eleuthera',\n",
      "                              'sinaloa',\n",
      "                        'trois bassins',\n",
      "                           'bois blanc',\n",
      "                          'puerto rico',\n",
      "                             'virginia',\n",
      "                    'rio grande do sul',\n",
      "                        'torres strait',\n",
      "                                'bahia',\n",
      "                     'northern bahamas',\n",
      " 'territory of cocos (keeling) islands',\n",
      "                               'andros',\n",
      "               'conservatoria district',\n",
      "                         'cook islands',\n",
      "                       'johnston atoll',\n",
      "                       'rio de janeiro',\n",
      "                  'rio grande do norte']\n",
      "Length: 89, dtype: string\n",
      "ACTIVITY --> valores únicos: <StringArray>\n",
      "[                'fishing',                 'surfing',\n",
      "                'swimming',                  'diving',\n",
      "                'kayaking',                  'paddle',\n",
      "               'shipwreck',        'unknown activity',\n",
      "                   'study', 'attempting to fix motor']\n",
      "Length: 10, dtype: string\n",
      "SEX --> valores únicos: <StringArray>\n",
      "['m', 'f', 'unknown sex']\n",
      "Length: 3, dtype: string\n",
      "FATAL_Y/N --> valores únicos: <StringArray>\n",
      "['n', 'y', 'f', <NA>, 'nq', 'unknown']\n",
      "Length: 6, dtype: string\n",
      "SPECIES --> valores únicos: <StringArray>\n",
      "[                                    'tiger or bull shark',\n",
      "                                          'bronze whaler?',\n",
      "                                      'unknown 1.2m shark',\n",
      "                                       'great white shark',\n",
      "                                              'not stated',\n",
      "                                 '5m (16.5ft) great white',\n",
      "                                            'undetermined',\n",
      "                                   'suspected great white',\n",
      "                         'great white shark est 3m (10ft)',\n",
      "                                             'lemon shark',\n",
      " ...\n",
      "                'blacktip shark, 2.4 m to 3 m [8' to 10']',\n",
      "                           '1.8 m [6'] grey-colored shark',\n",
      "                 'lemon shark, 2.1  m to 2.4 m [7' to 8']',\n",
      "                'tiger shark, 0.9 m to 1.5 m [3' to 5'] ?',\n",
      "                                 'nurse shark, 1.2 m [4']',\n",
      " '0.9 m [3'] shark,  probably a blacktip or spinner shark',\n",
      "               'blacktip shark, 1.2 m to 1.8 m [4' to 6']',\n",
      "                                'tiger shark, 4 m [13'] ?',\n",
      "          'shortfin mako shark, 3 m to 3.4 m [10' to 11']',\n",
      "                                         '3 m [10'] shark']\n",
      "Length: 567, dtype: string\n"
     ]
    }
   ],
   "source": [
    "#Check valores por columnas para próximos filtros\n",
    "\n",
    "for col in shark_df.columns:\n",
    "    print(f'{col.upper()} --> valores únicos:', shark_df[col].unique())"
   ]
  },
  {
   "cell_type": "code",
   "execution_count": 41,
   "id": "4fb38e92",
   "metadata": {},
   "outputs": [
    {
     "data": {
      "text/plain": [
       "fatal_y/n\n",
       "n          1749\n",
       "y           171\n",
       "f             2\n",
       "unknown       2\n",
       "nq            1\n",
       "Name: count, dtype: Int64"
      ]
     },
     "execution_count": 41,
     "metadata": {},
     "output_type": "execute_result"
    }
   ],
   "source": [
    "# CUARTO FILTRO (CLAUDIA):\n",
    "# Valoramos los duplicados de las actividades que estaban realizando los atacados, para agruparlas en categorias iguales.\n",
    "shark_df['fatal_y/n'].value_counts()"
   ]
  },
  {
   "cell_type": "code",
   "execution_count": 42,
   "id": "d6e6b6c7",
   "metadata": {},
   "outputs": [
    {
     "data": {
      "text/plain": [
       "fatal_y/n\n",
       "n          1750\n",
       "y           171\n",
       "unknown      13\n",
       "Name: count, dtype: Int64"
      ]
     },
     "execution_count": 42,
     "metadata": {},
     "output_type": "execute_result"
    }
   ],
   "source": [
    "# Definimos el mapeo de reemplazo\n",
    "fatal_map = {\n",
    "    \"f\": \"unknown\",\n",
    "    \"nq\": \"n\",\n",
    "    \"unknown\": \"unknown\",\n",
    "    \"\": \"unknown\",   # celdas vacías\n",
    "    \"nan\": \"unknown\" # valores nulos\n",
    "}\n",
    "\n",
    "# Aplicamos el reemplazo\n",
    "\n",
    "shark_df[\"fatal_y/n\"] = (\n",
    "    shark_df[\"fatal_y/n\"]\n",
    "        .astype(\"string\")              # usa el tipo string nativo de pandas\n",
    "        .str.strip().str.lower()\n",
    "        .replace(fatal_map)\n",
    "        .replace(r\"^\\s*$\", pd.NA, regex=True)  # convierte blancos o espacios en NA\n",
    "        .fillna(\"unknown\") # completa los NaN con \"unknown\"\n",
    ")  \n",
    "\n",
    "# Checkeamos los cambios\n",
    "shark_df[\"fatal_y/n\"].value_counts(dropna=False)"
   ]
  },
  {
   "cell_type": "code",
   "execution_count": 43,
   "id": "8708b9b4",
   "metadata": {},
   "outputs": [
    {
     "data": {
      "text/plain": [
       "Index(['year', 'type', 'country', 'state', 'activity', 'sex', 'fatal_y/n',\n",
       "       'species'],\n",
       "      dtype='object')"
      ]
     },
     "execution_count": 43,
     "metadata": {},
     "output_type": "execute_result"
    }
   ],
   "source": [
    "shark_df.columns"
   ]
  },
  {
   "cell_type": "code",
   "execution_count": 44,
   "id": "df85cbe2",
   "metadata": {},
   "outputs": [
    {
     "data": {
      "text/plain": [
       "(1934, 8)"
      ]
     },
     "execution_count": 44,
     "metadata": {},
     "output_type": "execute_result"
    }
   ],
   "source": [
    "# QUINTO FILTRO (CLAUDIA):\n",
    "shark_df.shape"
   ]
  },
  {
   "cell_type": "code",
   "execution_count": 45,
   "id": "f15e6e7a",
   "metadata": {},
   "outputs": [
    {
     "data": {
      "text/plain": [
       "species\n",
       "white shark                                                65\n",
       "bull shark                                                 46\n",
       "tiger shark                                                37\n",
       "4' shark                                                   29\n",
       "4' to 5' shark                                             20\n",
       "                                                           ..\n",
       "0.9 m [3'] shark,  probably a blacktip or spinner shark     1\n",
       "blacktip shark, 1.2 m to 1.8 m [4' to 6']                   1\n",
       "tiger shark, 4 m [13'] ?                                    1\n",
       "shortfin mako shark, 3 m to 3.4 m [10' to 11']              1\n",
       "5m (16.5ft) great white                                     1\n",
       "Name: count, Length: 566, dtype: Int64"
      ]
     },
     "execution_count": 45,
     "metadata": {},
     "output_type": "execute_result"
    }
   ],
   "source": [
    "# Valoramos los duplicados de las especies de tiburones, para agruparlas en categorias iguales.\n",
    "shark_df['species'].value_counts()"
   ]
  },
  {
   "cell_type": "code",
   "execution_count": 46,
   "id": "435b17c8",
   "metadata": {},
   "outputs": [
    {
     "name": "stdout",
     "output_type": "stream",
     "text": [
      "Celdas vacías o en blanco en 'species': 7\n"
     ]
    }
   ],
   "source": [
    "# Checkeamos los missing values\n",
    "empty_species = (shark_df[\"species\"].str.strip() == \"\").sum()\n",
    "print(f\"Celdas vacías o en blanco en 'species': {empty_species}\")\n",
    "\n",
    "# Crea una versión limpia de la columna \"species\" llamada \"species_clean\"\n",
    "shark_df.loc[:, \"species_clean\"] = shark_df[\"species\"].str.strip().str.lower()"
   ]
  },
  {
   "cell_type": "code",
   "execution_count": 47,
   "id": "83de88f7",
   "metadata": {},
   "outputs": [
    {
     "name": "stdout",
     "output_type": "stream",
     "text": [
      "                species        species_clean\n",
      "2176  angel shark, 1.2m  atlantic angelshark\n"
     ]
    }
   ],
   "source": [
    "# Recodificamos las especies de tiburones\n",
    "\n",
    "# 1. atlantic angelshark\n",
    "species_mapping = {\n",
    "    \"angel shark, 1.2m\": \"atlantic angelshark\",\n",
    "}\n",
    "\n",
    "# Aplicamos el mapeo al dataframe\n",
    "shark_df[\"species_clean\"] = shark_df[\"species_clean\"].replace(species_mapping)\n",
    "shark_df_filtered = shark_df[shark_df[\"species_clean\"] == \"atlantic angelshark\"]\n",
    "\n",
    "# Checkeamos los cambios\n",
    "print(shark_df_filtered[[\"species\", \"species_clean\"]].head())"
   ]
  },
  {
   "cell_type": "code",
   "execution_count": 48,
   "id": "ef2daae8",
   "metadata": {},
   "outputs": [
    {
     "name": "stdout",
     "output_type": "stream",
     "text": [
      "Empty DataFrame\n",
      "Columns: [species, species_clean]\n",
      "Index: []\n"
     ]
    }
   ],
   "source": [
    "# 2. australian blacktip shark\n",
    "species_mapping = {\n",
    "    \"blacktip whaler, carcharhinus tilstoni, 2m\": \"australian blacktip shark\",\n",
    "}\n",
    "shark_df[\"species_clean\"] = shark_df[\"species_clean\"].replace(species_mapping)\n",
    "shark_df_filtered = shark_df[shark_df[\"species_clean\"] == \"australian blacktip shark\"]\n",
    "print(shark_df_filtered[[\"species\", \"species_clean\"]].head())"
   ]
  },
  {
   "cell_type": "code",
   "execution_count": 49,
   "id": "9f43022a",
   "metadata": {},
   "outputs": [
    {
     "name": "stdout",
     "output_type": "stream",
     "text": [
      "                            species        species_clean\n",
      "199          blacktip reef shark 5'  blacktip reef shark\n",
      "322             blacktip reef shark  blacktip reef shark\n",
      "474   blacktip reef shark, juvenile  blacktip reef shark\n",
      "1164            blacktip reef shark  blacktip reef shark\n",
      "1268            blacktip reef shark  blacktip reef shark\n"
     ]
    }
   ],
   "source": [
    "# 3. blacktip reef shark\n",
    "species_mapping = {\n",
    "    \"1.8 m blacktip \\\"reef\\\" shark\": \"blacktip reef shark\",\n",
    "    \"1.8 m to 2.4 m [6' to 8'] \\\"black finned shark\\\"\": \"blacktip reef shark\",\n",
    "    \"blacktip reef shark\": \"blacktip reef shark\",\n",
    "    \"blacktip reef shark 5'\": \"blacktip reef shark\",\n",
    "    \"blacktip reef shark, 1m\": \"blacktip reef shark\",\n",
    "    \"blacktip reef shark, juvenile\": \"blacktip reef shark\",\n",
    "    \"possibly a blacktip reef shark\": \"blacktip reef shark\",\n",
    "}\n",
    "shark_df[\"species_clean\"] = shark_df[\"species_clean\"].replace(species_mapping)\n",
    "shark_df_filtered = shark_df[shark_df[\"species_clean\"] == \"blacktip reef shark\"]\n",
    "print(shark_df_filtered[[\"species\", \"species_clean\"]].head())"
   ]
  },
  {
   "cell_type": "code",
   "execution_count": 50,
   "id": "e094b692",
   "metadata": {},
   "outputs": [
    {
     "name": "stdout",
     "output_type": "stream",
     "text": [
      "                  species   species_clean\n",
      "75   4-5ft blacktip shark  blacktip shark\n",
      "222              blacktip  blacktip shark\n",
      "244        blacktip shark  blacktip shark\n",
      "250       blacktip shark?  blacktip shark\n",
      "344        blacktip shark  blacktip shark\n"
     ]
    }
   ],
   "source": [
    "# 4. blacktip shark\n",
    "species_mapping = {\n",
    "    \"black tipped shark\": \"blacktip shark\",\n",
    "    \"1.2 m [4'] blacktip shark\": \"blacktip shark\",\n",
    "    \"1.8 m [6'] blacktip shark\": \"blacktip shark\",\n",
    "    \"4' to 5' blacktip shark\": \"blacktip shark\",\n",
    "    \"4-5ft blacktip shark\": \"blacktip shark\",\n",
    "    \"blacktip\": \"blacktip shark\",\n",
    "    \"blacktip shark\": \"blacktip shark\",\n",
    "    \"blacktip shark, 1.2 m to 1.8 m [4' to 6']\": \"blacktip shark\",\n",
    "    \"blacktip shark, 2'\": \"blacktip shark\",\n",
    "    \"blacktip shark, 2.4 m to 3 m [8' to 10']\": \"blacktip shark\",\n",
    "    \"blacktip shark, 2m\": \"blacktip shark\",\n",
    "    \"blacktip shark, 4'\": \"blacktip shark\",\n",
    "    \"blacktip shark, 4' to 5'\": \"blacktip shark\",\n",
    "    \"blacktip shark, 5'\": \"blacktip shark\",\n",
    "    \"blacktip shark, 5' to 6'\": \"blacktip shark\",\n",
    "    \"blacktip shark, 6'\": \"blacktip shark\",\n",
    "    \"blacktip shark, 6' to 7'\": \"blacktip shark\",\n",
    "    \"blacktip shark, juvenile\": \"blacktip shark\",\n",
    "    \"blacktip shark?\": \"blacktip shark\",\n",
    "    \"juvenile blacktip shark\": \"blacktip shark\",\n",
    "    \"possibly a juvenile blacktip shark\": \"blacktip shark\",\n",
    "    \"possibly a small blacktip shark\": \"blacktip shark\",\n",
    "    \"said to involve a blacktip shark\": \"blacktip shark\",\n",
    "    \"small blacktip shark\": \"blacktip shark\",\n",
    "    \"small blacktip shark?\": \"blacktip shark\",\n",
    "}\n",
    "shark_df[\"species_clean\"] = shark_df[\"species_clean\"].replace(species_mapping)\n",
    "shark_df_filtered = shark_df[shark_df[\"species_clean\"] == \"blacktip shark\"]\n",
    "print(shark_df_filtered[[\"species\", \"species_clean\"]].head())\n"
   ]
  },
  {
   "cell_type": "code",
   "execution_count": 51,
   "id": "a3b32b54",
   "metadata": {},
   "outputs": [
    {
     "name": "stdout",
     "output_type": "stream",
     "text": [
      "                      species species_clean\n",
      "1152  blue shark, 8 to 9 feet    blue shark\n",
      "1401               blue shark    blue shark\n",
      "1754    possibly a blue shark    blue shark\n"
     ]
    }
   ],
   "source": [
    "# 5. blue shark\n",
    "species_mapping = {\n",
    "    \"blue shark\": \"blue shark\",\n",
    "    \"blue shark, 8 to 9 feet\": \"blue shark\",\n",
    "    \"possibly a blue shark\": \"blue shark\",\n",
    "}\n",
    "shark_df[\"species_clean\"] = shark_df[\"species_clean\"].replace(species_mapping)\n",
    "shark_df_filtered = shark_df[shark_df[\"species_clean\"] == \"blue shark\"]\n",
    "print(shark_df_filtered[[\"species\", \"species_clean\"]].head())"
   ]
  },
  {
   "cell_type": "code",
   "execution_count": 52,
   "id": "f60c3bcf",
   "metadata": {},
   "outputs": [
    {
     "name": "stdout",
     "output_type": "stream",
     "text": [
      "                         species              species_clean\n",
      "113              sevengill shark  broadnose sevengill shark\n",
      "311              sevengill shark  broadnose sevengill shark\n",
      "327   broadnose seven gill shark  broadnose sevengill shark\n",
      "519  broadnose seven gill shark?  broadnose sevengill shark\n",
      "847             seven-gill shark  broadnose sevengill shark\n"
     ]
    }
   ],
   "source": [
    "# 6. broadnose sevengill shark\n",
    "species_mapping = {\n",
    "    \"2 m [6.75'] sevengill  shark\": \"broadnose sevengill shark\",\n",
    "    \"7-gill shark\": \"broadnose sevengill shark\",\n",
    "    \"7-gill shark?\": \"broadnose sevengill shark\",\n",
    "    \"broadnose seven gill shark\": \"broadnose sevengill shark\",\n",
    "    \"broadnose seven gill shark?\": \"broadnose sevengill shark\",\n",
    "    \"broadnose sevengill shark\": \"broadnose sevengill shark\",\n",
    "    \"sevengill shark\": \"broadnose sevengill shark\",\n",
    "    \"seven-gill shark\": \"broadnose sevengill shark\",\n",
    "    \"sevengill shark, 6' to 8'\": \"broadnose sevengill shark\",\n",
    "}\n",
    "shark_df[\"species_clean\"] = shark_df[\"species_clean\"].replace(species_mapping)\n",
    "shark_df_filtered = shark_df[shark_df[\"species_clean\"] == \"broadnose sevengill shark\"]\n",
    "print(shark_df_filtered[[\"species\", \"species_clean\"]].head())"
   ]
  },
  {
   "cell_type": "code",
   "execution_count": 53,
   "id": "0509288f",
   "metadata": {},
   "outputs": [
    {
     "name": "stdout",
     "output_type": "stream",
     "text": [
      "                        species        species_clean\n",
      "1                bronze whaler?  bronze whaler shark\n",
      "49                bronze whaler  bronze whaler shark\n",
      "112               broze whaler?  bronze whaler shark\n",
      "192  bronze whaler shark, 1.5 m  bronze whaler shark\n",
      "241               bronze whaler  bronze whaler shark\n"
     ]
    }
   ],
   "source": [
    "# 7. bronze whaler shark\n",
    "species_mapping = {\n",
    "    \"1.5 m [5'] \\\"whaler shark\\\"\": \"bronze whaler shark\",\n",
    "    \"1.5 to 2.5 m [5' to 8.25'] copper shark\": \"bronze whaler shark\",\n",
    "    \"2 m [6.75'] copper shark\": \"bronze whaler shark\",\n",
    "    \"bronze whaler\": \"bronze whaler shark\",\n",
    "    \"bronze whaler 1.5m\": \"bronze whaler shark\",\n",
    "    \"bronze whaler 2.5m\": \"bronze whaler shark\",\n",
    "    \"bronze whaler shark\": \"bronze whaler shark\",\n",
    "    \"bronze whaler shark, 1.5 m\": \"bronze whaler shark\",\n",
    "    \"bronze whaler shark, 1.5 m [5']\": \"bronze whaler shark\",\n",
    "    \"bronze whaler shark, 1.5m\": \"bronze whaler shark\",\n",
    "    \"bronze whaler shark, 2 m\": \"bronze whaler shark\",\n",
    "    \"bronze whaler shark, 2.4 m [8']\": \"bronze whaler shark\",\n",
    "    \"bronze whaler shark, 2.5 m [8.25']\": \"bronze whaler shark\",\n",
    "    \"bronze whaler shark, 2.5 m [8.25']  k\": \"bronze whaler shark\",\n",
    "    \"bronze whaler shark, 2.5m\": \"bronze whaler shark\",\n",
    "    \"bronze whaler shark, 2m\": \"bronze whaler shark\",\n",
    "    \"bronze whaler shark, 3m\": \"bronze whaler shark\",\n",
    "    \"bronze whaler shark, 6'\": \"bronze whaler shark\",\n",
    "    \"bronze whaler shark, a  juvenile\": \"bronze whaler shark\",\n",
    "    \"bronze whaler shark?\": \"bronze whaler shark\",\n",
    "    \"bronze whaler sharks x 3\": \"bronze whaler shark\",\n",
    "    \"bronze whaler?\": \"bronze whaler shark\",\n",
    "    \"broze whaler?\": \"bronze whaler shark\",\n",
    "    \"possibly a bronze whaler shark\": \"bronze whaler shark\",\n",
    "    \"thought to involve a bronze whale shark, 2m\": \"bronze whaler shark\",\n",
    "}\n",
    "shark_df[\"species_clean\"] = shark_df[\"species_clean\"].replace(species_mapping)\n",
    "shark_df_filtered = shark_df[shark_df[\"species_clean\"] == \"bronze whaler shark\"]\n",
    "print(shark_df_filtered[[\"species\", \"species_clean\"]].head())\n"
   ]
  },
  {
   "cell_type": "code",
   "execution_count": 54,
   "id": "be7f4696",
   "metadata": {},
   "outputs": [
    {
     "name": "stdout",
     "output_type": "stream",
     "text": [
      "                  species species_clean\n",
      "18  5ft (1.5m) bull shark    bull shark\n",
      "22         2m bull shark?    bull shark\n",
      "26             bull shark    bull shark\n",
      "38             bull shark    bull shark\n",
      "47             bull shark    bull shark\n"
     ]
    }
   ],
   "source": [
    "# 8. bull shark\n",
    "species_mapping = {\n",
    "    \"1.2 m [4'] bull shark\": \"bull shark\",\n",
    "    \"1.2 m to 1.5 m [4' to 5'] shark, possibly a bull shark\": \"bull shark\",\n",
    "    \"1.8 m [6'] bull shark\": \"bull shark\",\n",
    "    \"1.8m bull shark\": \"bull shark\",\n",
    "    \"1.9 m [6.5'] bull shark\": \"bull shark\",\n",
    "    \"2 small bull sharks\": \"bull shark\",\n",
    "    \"2.1 m  [7'] bull shark\": \"bull shark\",\n",
    "    \"2m bull shark?\": \"bull shark\",\n",
    "    \"3 m [10'] bull shark\": \"bull shark\",\n",
    "    \"5ft (1.5m) bull shark\": \"bull shark\",\n",
    "    \"a bull shark, according to some of the divers on the boat\": \"bull shark\",\n",
    "    \"bu.ll\": \"bull shark\",\n",
    "    \"bull shark\": \"bull shark\",\n",
    "    \"bull shark 6 ft\": \"bull shark\",\n",
    "    \"bull shark 6ft\": \"bull shark\",\n",
    "    \"bull shark pup\": \"bull shark\",\n",
    "    \"bull shark, 1.2m\": \"bull shark\",\n",
    "    \"bull shark, 1.4m\": \"bull shark\",\n",
    "    \"bull shark, 1.5\": \"bull shark\",\n",
    "    \"bull shark, 1.8 m to 2.1 m [6' to 7']\": \"bull shark\",\n",
    "    \"bull shark, 1.8m\": \"bull shark\",\n",
    "    \"bull shark, 10'\": \"bull shark\",\n",
    "    \"bull shark, 12'\": \"bull shark\",\n",
    "    \"bull shark, 2 m\": \"bull shark\",\n",
    "    \"bull shark, 2.3 m [7.5']\": \"bull shark\",\n",
    "    \"bull shark, 2.5 m\": \"bull shark\",\n",
    "    \"bull shark, 2.5m\": \"bull shark\",\n",
    "    \"bull shark, 2.7 m\": \"bull shark\",\n",
    "    \"bull shark, 2.8 to 3.1 m\": \"bull shark\",\n",
    "    \"bull shark, 2m\": \"bull shark\",\n",
    "    \"bull shark, 3' to 4'\": \"bull shark\",\n",
    "    \"bull shark, 3.5 m\": \"bull shark\",\n",
    "    \"bull shark, 3m\": \"bull shark\",\n",
    "    \"bull shark, 3m female\": \"bull shark\",\n",
    "    \"bull shark, 4'\": \"bull shark\",\n",
    "    \"bull shark, 4 m\": \"bull shark\",\n",
    "    \"bull shark, 4' to 5'\": \"bull shark\",\n",
    "    \"bull shark, 4' to 6'\": \"bull shark\",\n",
    "    \"bull shark, 400-lb\": \"bull shark\",\n",
    "    \"bull shark, 5'\": \"bull shark\",\n",
    "    \"bull shark, 5' to 7'\": \"bull shark\",\n",
    "    \"bull shark, 6'\": \"bull shark\",\n",
    "    \"bull shark, 6' to 7'\": \"bull shark\",\n",
    "    \"bull shark, 6' to 8'\": \"bull shark\",\n",
    "    \"bull shark, 6.5 to 10 '\": \"bull shark\",\n",
    "    \"bull shark, 7'\": \"bull shark\",\n",
    "    \"bull shark, 8'\": \"bull shark\",\n",
    "    \"bull shark, 9'\": \"bull shark\",\n",
    "    \"bull shark. 6.5'\": \"bull shark\",\n",
    "    \"bull shark?\": \"bull shark\",\n",
    "    \"bull sharks x 2\": \"bull shark\",\n",
    "    \"juvenile bull shark?\": \"bull shark\",\n",
    "    \"not specified bull shark highly suspect\": \"bull shark\",\n",
    "    \"possibly a 10' bull shark\": \"bull shark\",\n",
    "    \"possibly a 5' to 6' bull shark\": \"bull shark\",\n",
    "    \"possibly a 6' bull shark\": \"bull shark\",\n",
    "    \"possibly a bull shark\": \"bull shark\",\n",
    "    \"possibly a bull shark, 3'\": \"bull shark\",\n",
    "    \"reported to involve a bull shark\": \"bull shark\",\n",
    "    \"said to involve a bull shark, 5' to 6'\": \"bull shark\",\n",
    "    \"small bull shark\": \"bull shark\",\n",
    "    \"thought to involve a >2 m [6.75'] bull shark\": \"bull shark\",\n",
    "    \"thought to involve a 2.7 m [9'], 400-lb bull shark\": \"bull shark\",\n",
    "    \"thought to involve a bull shark\": \"bull shark\",\n",
    "    \"zambesi shark\": \"bull shark\",\n",
    "    \"zambesi shark?\": \"bull shark\",\n",
    "}\n",
    "shark_df[\"species_clean\"] = shark_df[\"species_clean\"].replace(species_mapping)\n",
    "shark_df_filtered = shark_df[shark_df[\"species_clean\"] == \"bull shark\"]\n",
    "print(shark_df_filtered[[\"species\", \"species_clean\"]].head())\n"
   ]
  },
  {
   "cell_type": "code",
   "execution_count": 55,
   "id": "917a32a2",
   "metadata": {},
   "outputs": [
    {
     "name": "stdout",
     "output_type": "stream",
     "text": [
      "                             species         species_clean\n",
      "94          carribean reef shark 7ft  caribbean reef shark\n",
      "172            caribbean rreef shark  caribbean reef shark\n",
      "895             caribbean reef shark  caribbean reef shark\n",
      "1257  caribbean reef shark, 7' to 8'  caribbean reef shark\n",
      "1670            caribbean reef shark  caribbean reef shark\n"
     ]
    }
   ],
   "source": [
    "# 9. caribbean reef shark\n",
    "species_mapping = {\n",
    "    \"1.8 m [6'] caribbean reef shark\": \"caribbean reef shark\",\n",
    "    \"caribbean reef shark\": \"caribbean reef shark\",\n",
    "    \"caribbean reef shark, 7' to 8'\": \"caribbean reef shark\",\n",
    "    \"caribbean rreef shark\": \"caribbean reef shark\",\n",
    "    \"carribean reef shark 7ft\": \"caribbean reef shark\",\n",
    "}\n",
    "shark_df[\"species_clean\"] = shark_df[\"species_clean\"].replace(species_mapping)\n",
    "shark_df_filtered = shark_df[shark_df[\"species_clean\"] == \"caribbean reef shark\"]\n",
    "print(shark_df_filtered[[\"species\", \"species_clean\"]].head())\n"
   ]
  },
  {
   "cell_type": "code",
   "execution_count": 56,
   "id": "72fedeb7",
   "metadata": {},
   "outputs": [
    {
     "name": "stdout",
     "output_type": "stream",
     "text": [
      "                                      species        species_clean\n",
      "576                        cookiecutter shark  cookie-cutter shark\n",
      "618                        cookiecutter shark  cookie-cutter shark\n",
      "624                        cookiecutter shark  cookie-cutter shark\n",
      "778                        cookiecutter shark  cookie-cutter shark\n",
      "1866  thought to involve a cookiecutter shark  cookie-cutter shark\n"
     ]
    }
   ],
   "source": [
    "# 10. cookie-cutter shark\n",
    "species_mapping = {\n",
    "    \"cookiecutter shark\": \"cookie-cutter shark\",\n",
    "    \"thought to involve a cookiecutter shark\": \"cookie-cutter shark\",\n",
    "}\n",
    "shark_df[\"species_clean\"] = shark_df[\"species_clean\"].replace(species_mapping)\n",
    "shark_df_filtered = shark_df[shark_df[\"species_clean\"] == \"cookie-cutter shark\"]\n",
    "print(shark_df_filtered[[\"species\", \"species_clean\"]].head())\n"
   ]
  },
  {
   "cell_type": "code",
   "execution_count": 57,
   "id": "b841b98b",
   "metadata": {},
   "outputs": [
    {
     "name": "stdout",
     "output_type": "stream",
     "text": [
      "              species species_clean\n",
      "1889  dusky shark, 2m   dusky shark\n"
     ]
    }
   ],
   "source": [
    "# 11. dusky shark\n",
    "species_mapping = {\n",
    "    \"dusky shark, 2m\": \"dusky shark\",\n",
    "}\n",
    "shark_df[\"species_clean\"] = shark_df[\"species_clean\"].replace(species_mapping)\n",
    "shark_df_filtered = shark_df[shark_df[\"species_clean\"] == \"dusky shark\"]\n",
    "print(shark_df_filtered[[\"species\", \"species_clean\"]].head())\n"
   ]
  },
  {
   "cell_type": "code",
   "execution_count": 58,
   "id": "0820a646",
   "metadata": {},
   "outputs": [
    {
     "name": "stdout",
     "output_type": "stream",
     "text": [
      "                         species    species_clean\n",
      "133   10' to 12' galapagos shark  galapagos shark\n",
      "561       galapagos shark, 5'-9'  galapagos shark\n",
      "1389             galapagos shark  galapagos shark\n"
     ]
    }
   ],
   "source": [
    "# 12. galapagos shark\n",
    "species_mapping = {\n",
    "    \"10' to 12' galapagos shark\": \"galapagos shark\",\n",
    "    \"galapagos shark\": \"galapagos shark\",\n",
    "    \"galapagos shark, 5'-9'\": \"galapagos shark\",\n",
    "}\n",
    "shark_df[\"species_clean\"] = shark_df[\"species_clean\"].replace(species_mapping)\n",
    "shark_df_filtered = shark_df[shark_df[\"species_clean\"] == \"galapagos shark\"]\n",
    "print(shark_df_filtered[[\"species\", \"species_clean\"]].head())\n"
   ]
  },
  {
   "cell_type": "code",
   "execution_count": 59,
   "id": "5294389d",
   "metadata": {},
   "outputs": [
    {
     "name": "stdout",
     "output_type": "stream",
     "text": [
      "                                             species           species_clean\n",
      "1765  thought to involve a juvenile hammerhead shark  great hammerhead shark\n",
      "2017                     possibly a hammerhead shark  great hammerhead shark\n",
      "2318                          small hammerhead shark  great hammerhead shark\n",
      "2479                       8' great hammerhead shark  great hammerhead shark\n",
      "2521          reported to involve a hammerhead shark  great hammerhead shark\n"
     ]
    }
   ],
   "source": [
    "# 13. great hammerhead shark\n",
    "species_mapping = {\n",
    "    \"8' great hammerhead shark\": \"great hammerhead shark\",\n",
    "    \"possibly a hammerhead shark\": \"great hammerhead shark\",\n",
    "    \"reported to involve a hammerhead shark\": \"great hammerhead shark\",\n",
    "    \"small hammerhead shark\": \"great hammerhead shark\",\n",
    "    \"thought to involve a juvenile hammerhead shark\": \"great hammerhead shark\",\n",
    "}\n",
    "shark_df[\"species_clean\"] = shark_df[\"species_clean\"].replace(species_mapping)\n",
    "shark_df_filtered = shark_df[shark_df[\"species_clean\"] == \"great hammerhead shark\"]\n",
    "print(shark_df_filtered[[\"species\", \"species_clean\"]].head())\n"
   ]
  },
  {
   "cell_type": "code",
   "execution_count": 60,
   "id": "ec0fb26a",
   "metadata": {},
   "outputs": [
    {
     "name": "stdout",
     "output_type": "stream",
     "text": [
      "                   species    species_clean\n",
      "173   grey reef shark, 2 m  grey reef shark\n",
      "438           \"reef shark\"  grey reef shark\n",
      "476  reef shark, 5' to 6 '  grey reef shark\n",
      "621    grey reef shark, 4'  grey reef shark\n",
      "631            reef shark,  grey reef shark\n"
     ]
    }
   ],
   "source": [
    "# 14. grey reef shark\n",
    "species_mapping = {\n",
    "    \"\\\"reef shark\\\"\": \"grey reef shark\",\n",
    "    \"1.2 m [4'] \\\"grey-colored shark\\\"\": \"grey reef shark\",\n",
    "    \"1.8 m [6'] grey-colored shark\": \"grey reef shark\",\n",
    "    \"1.8 m [6'] reef shark - or a 2.1 m to 2.4 m [7' to 8'] grey-colored shark\": \"grey reef shark\",\n",
    "    \"2' to 3' reef shark\": \"grey reef shark\",\n",
    "    \"2.4 m to 3 m [8' to 10'] grey colored shark\": \"grey reef shark\",\n",
    "    \"a small reef shark\": \"grey reef shark\",\n",
    "    \"grey reef shark\": \"grey reef shark\",\n",
    "    \"grey reef shark, 2 m\": \"grey reef shark\",\n",
    "    \"grey reef shark, 4'\": \"grey reef shark\",\n",
    "    \"grey reef shark. 2 m\": \"grey reef shark\",\n",
    "    \"reef shark\": \"grey reef shark\",\n",
    "    \"reef shark x 2\": \"grey reef shark\",\n",
    "    \"reef shark,\": \"grey reef shark\",\n",
    "    \"reef shark, 1.5m\": \"grey reef shark\",\n",
    "    \"reef shark, 5'\": \"grey reef shark\",\n",
    "    \"reef shark, 5' to 6 '\": \"grey reef shark\",\n",
    "    \"reef shark?\": \"grey reef shark\",\n",
    "}\n",
    "shark_df[\"species_clean\"] = shark_df[\"species_clean\"].replace(species_mapping)\n",
    "shark_df_filtered = shark_df[shark_df[\"species_clean\"] == \"grey reef shark\"]\n",
    "print(shark_df_filtered[[\"species\", \"species_clean\"]].head())"
   ]
  },
  {
   "cell_type": "code",
   "execution_count": 61,
   "id": "80e9f2bb",
   "metadata": {},
   "outputs": [
    {
     "name": "stdout",
     "output_type": "stream",
     "text": [
      "             species species_clean\n",
      "16       lemon shark   lemon shark\n",
      "123      lemon shark   lemon shark\n",
      "472  lemon shark, 8'   lemon shark\n",
      "522      lemon shark   lemon shark\n",
      "630      lemon shark   lemon shark\n"
     ]
    }
   ],
   "source": [
    "# 15. lemon shark\n",
    "species_mapping = {\n",
    "    \"lemon shark\": \"lemon shark\",\n",
    "    \"lemon shark, 2.1  m to 2.4 m [7' to 8']\": \"lemon shark\",\n",
    "    \"lemon shark, 2.5m to 3m\": \"lemon shark\",\n",
    "    \"lemon shark, 4' to 5'\": \"lemon shark\",\n",
    "    \"lemon shark, 8'\": \"lemon shark\",\n",
    "    \"possibly a 6' lemon shark\": \"lemon shark\",\n",
    "}\n",
    "shark_df[\"species_clean\"] = shark_df[\"species_clean\"].replace(species_mapping)\n",
    "shark_df_filtered = shark_df[shark_df[\"species_clean\"] == \"lemon shark\"]\n",
    "print(shark_df_filtered[[\"species\", \"species_clean\"]].head())\n"
   ]
  },
  {
   "cell_type": "code",
   "execution_count": 62,
   "id": "14eefe17",
   "metadata": {},
   "outputs": [
    {
     "name": "stdout",
     "output_type": "stream",
     "text": [
      "                   species species_clean\n",
      "249            nurse shark   nurse shark\n",
      "457  nurse shark, juvenile   nurse shark\n",
      "467        nurse shark, 5'   nurse shark\n",
      "564            nurse shark   nurse shark\n",
      "653            nurse shark   nurse shark\n"
     ]
    }
   ],
   "source": [
    "# 16. nurse shark\n",
    "species_mapping = {\n",
    "    \"nurse shark\": \"nurse shark\",\n",
    "    \"nurse shark, 1.2 m [4']\": \"nurse shark\",\n",
    "    \"nurse shark, 1.5 m [5']\": \"nurse shark\",\n",
    "    \"nurse shark, 1m\": \"nurse shark\",\n",
    "    \"nurse shark, 2' to 3'\": \"nurse shark\",\n",
    "    \"nurse shark, 5'\": \"nurse shark\",\n",
    "    \"nurse shark, juvenile\": \"nurse shark\",\n",
    "    \"nurse shark?\": \"nurse shark\",\n",
    "    \"small nurse shark\": \"nurse shark\",\n",
    "}\n",
    "shark_df[\"species_clean\"] = shark_df[\"species_clean\"].replace(species_mapping)\n",
    "shark_df_filtered = shark_df[shark_df[\"species_clean\"] == \"nurse shark\"]\n",
    "print(shark_df_filtered[[\"species\", \"species_clean\"]].head())\n"
   ]
  },
  {
   "cell_type": "code",
   "execution_count": 63,
   "id": "2ef6aa83",
   "metadata": {},
   "outputs": [
    {
     "name": "stdout",
     "output_type": "stream",
     "text": [
      "                                 species           species_clean\n",
      "432               oceanic whitetip shark  oceanic whitetip shark\n",
      "551               oceanic whitetip shark  oceanic whitetip shark\n",
      "816   oceanic whitetip shark, 1.8 to 2 m  oceanic whitetip shark\n",
      "1306              oceanic whitetip shark  oceanic whitetip shark\n",
      "1678        oceanic whitetip shark, 2.5m  oceanic whitetip shark\n"
     ]
    }
   ],
   "source": [
    "# 17. oceanic whitetip shark\n",
    "species_mapping = {\n",
    "    \"2.5 oceanic whitetip shark\": \"oceanic whitetip shark\",\n",
    "    \"oceanic whitetip shark\": \"oceanic whitetip shark\",\n",
    "    \"oceanic whitetip shark, 1.8 to 2 m\": \"oceanic whitetip shark\",\n",
    "    \"oceanic whitetip shark, 2.5 to 3m\": \"oceanic whitetip shark\",\n",
    "    \"oceanic whitetip shark, 2.5m\": \"oceanic whitetip shark\",\n",
    "    \"oceanic whitetip shark, 2.5m, female\": \"oceanic whitetip shark\",\n",
    "    \"oceanic whitetip shark, 6'\": \"oceanic whitetip shark\",\n",
    "    \"oceanic whitetip sharks were in the vicinity\": \"oceanic whitetip shark\",\n",
    "}\n",
    "shark_df[\"species_clean\"] = shark_df[\"species_clean\"].replace(species_mapping)\n",
    "shark_df_filtered = shark_df[shark_df[\"species_clean\"] == \"oceanic whitetip shark\"]\n",
    "print(shark_df_filtered[[\"species\", \"species_clean\"]].head())\n"
   ]
  },
  {
   "cell_type": "code",
   "execution_count": 64,
   "id": "53170175",
   "metadata": {},
   "outputs": [
    {
     "name": "stdout",
     "output_type": "stream",
     "text": [
      "                  species    species_clean\n",
      "1694  porbeagle shark, 8'  porbeagle shark\n"
     ]
    }
   ],
   "source": [
    "# 18. porbeagle shark\n",
    "species_mapping = {\n",
    "    \"porbeagle shark, 8'\": \"porbeagle shark\",\n",
    "}\n",
    "shark_df[\"species_clean\"] = shark_df[\"species_clean\"].replace(species_mapping)\n",
    "shark_df_filtered = shark_df[shark_df[\"species_clean\"] == \"porbeagle shark\"]\n",
    "print(shark_df_filtered[[\"species\", \"species_clean\"]].head())\n"
   ]
  },
  {
   "cell_type": "code",
   "execution_count": 65,
   "id": "2924e0c8",
   "metadata": {},
   "outputs": [
    {
     "name": "stdout",
     "output_type": "stream",
     "text": [
      "                     species       species_clean\n",
      "1570  port jackson shark, 1m  port jackson shark\n"
     ]
    }
   ],
   "source": [
    "# 19. port jackson shark\n",
    "species_mapping = {\n",
    "    \"port jackson shark, 1m\": \"port jackson shark\",\n",
    "}\n",
    "shark_df[\"species_clean\"] = shark_df[\"species_clean\"].replace(species_mapping)\n",
    "shark_df_filtered = shark_df[shark_df[\"species_clean\"] == \"port jackson shark\"]\n",
    "print(shark_df_filtered[[\"species\", \"species_clean\"]].head())\n"
   ]
  },
  {
   "cell_type": "code",
   "execution_count": 66,
   "id": "a7af6c48",
   "metadata": {},
   "outputs": [
    {
     "name": "stdout",
     "output_type": "stream",
     "text": [
      "           species species_clean\n",
      "1350  salmon shark  salmon shark\n"
     ]
    }
   ],
   "source": [
    "# 20. salmon shark\n",
    "species_mapping = {\n",
    "    \"salmon shark\": \"salmon shark\",\n",
    "}\n",
    "shark_df[\"species_clean\"] = shark_df[\"species_clean\"].replace(species_mapping)\n",
    "shark_df_filtered = shark_df[shark_df[\"species_clean\"] == \"salmon shark\"]\n",
    "print(shark_df_filtered[[\"species\", \"species_clean\"]].head())\n"
   ]
  },
  {
   "cell_type": "code",
   "execution_count": 67,
   "id": "7b7727a4",
   "metadata": {},
   "outputs": [
    {
     "name": "stdout",
     "output_type": "stream",
     "text": [
      "                                     species     species_clean\n",
      "23                          sand tiger shark  sand tiger shark\n",
      "167                         sand tiger shark  sand tiger shark\n",
      "257  thought to involve a 4' sandtiger shark  sand tiger shark\n",
      "582                          sandtiger shark  sand tiger shark\n",
      "613             grey nurse shark, 3 m female  sand tiger shark\n"
     ]
    }
   ],
   "source": [
    "# 21. sand tiger shark\n",
    "species_mapping = {\n",
    "    \"sand shark\": \"sand tiger shark\",\n",
    "    \"grey nurse shark\": \"sand tiger shark\",\n",
    "    \"grey nurse shark, 3 m female\": \"sand tiger shark\",\n",
    "    \"grey nurse shark, 3m\": \"sand tiger shark\",\n",
    "    \"possibly a 5' to 6' sandtiger shark\": \"sand tiger shark\",\n",
    "    \"raggedtooth shark\": \"sand tiger shark\",\n",
    "    \"raggedtooth shark, 1.3 m\": \"sand tiger shark\",\n",
    "    \"raggedtooth shark, 1.5 to 2 m [5' to 6.75']\": \"sand tiger shark\",\n",
    "    \"raggedtooth shark, 2.5 m to 3 m\": \"sand tiger shark\",\n",
    "    \"raggedtooth shark, 3.5 m [11.5']\": \"sand tiger shark\",\n",
    "    \"sand tiger shark\": \"sand tiger shark\",\n",
    "    \"sandtiger shark\": \"sand tiger shark\",\n",
    "    \"sandtiger shark  2'\": \"sand tiger shark\",\n",
    "    \"sandtiger shark, 4' to 5'\": \"sand tiger shark\",\n",
    "    \"thought to involve a 2 m [6.75'] grey nurse shark\": \"sand tiger shark\",\n",
    "    \"thought to involve a 4' sandtiger shark\": \"sand tiger shark\",\n",
    "}\n",
    "shark_df[\"species_clean\"] = shark_df[\"species_clean\"].replace(species_mapping)\n",
    "shark_df_filtered = shark_df[shark_df[\"species_clean\"] == \"sand tiger shark\"]\n",
    "print(shark_df_filtered[[\"species\", \"species_clean\"]].head())\n"
   ]
  },
  {
   "cell_type": "code",
   "execution_count": 68,
   "id": "5aa521c7",
   "metadata": {},
   "outputs": [
    {
     "name": "stdout",
     "output_type": "stream",
     "text": [
      "                      species  species_clean\n",
      "92           3m sandbar shark  sandbar shark\n",
      "1262  sandbar shark, 3' to 4'  sandbar shark\n"
     ]
    }
   ],
   "source": [
    "# 22. sandbar shark\n",
    "species_mapping = {\n",
    "    \"small brown shark\": \"sandbar shark\",\n",
    "    \"3m sandbar shark\": \"sandbar shark\",\n",
    "    \"sandbar shark, 3' to 4'\": \"sandbar shark\",\n",
    "}\n",
    "shark_df[\"species_clean\"] = shark_df[\"species_clean\"].replace(species_mapping)\n",
    "shark_df_filtered = shark_df[shark_df[\"species_clean\"] == \"sandbar shark\"]\n",
    "print(shark_df_filtered[[\"species\", \"species_clean\"]].head())\n"
   ]
  },
  {
   "cell_type": "code",
   "execution_count": 69,
   "id": "d03c6a47",
   "metadata": {},
   "outputs": [
    {
     "name": "stdout",
     "output_type": "stream",
     "text": [
      "             species        species_clean\n",
      "643   mako shark, 7'  shortfin mako shark\n",
      "986       mako shark  shortfin mako shark\n",
      "1133      mako shark  shortfin mako shark\n",
      "1159      mako shark  shortfin mako shark\n",
      "1680      mako shark  shortfin mako shark\n"
     ]
    }
   ],
   "source": [
    "# 23. shortfin mako shark\n",
    "species_mapping = {\n",
    "    \"mako shark\": \"shortfin mako shark\",\n",
    "    \"mako shark, 1.8 m [6']\": \"shortfin mako shark\",\n",
    "    \"mako shark, 2 m [6.75']\": \"shortfin mako shark\",\n",
    "    \"mako shark, 7'\": \"shortfin mako shark\",\n",
    "    \"shortfin mako shark, 3 m to 3.4 m [10' to 11']\": \"shortfin mako shark\",\n",
    "}\n",
    "shark_df[\"species_clean\"] = shark_df[\"species_clean\"].replace(species_mapping)\n",
    "shark_df_filtered = shark_df[shark_df[\"species_clean\"] == \"shortfin mako shark\"]\n",
    "print(shark_df_filtered[[\"species\", \"species_clean\"]].head())\n"
   ]
  },
  {
   "cell_type": "code",
   "execution_count": 70,
   "id": "81d39203",
   "metadata": {},
   "outputs": [
    {
     "name": "stdout",
     "output_type": "stream",
     "text": [
      "                         species  species_clean\n",
      "359           spinner shark, 4'?  spinner shark\n",
      "625                spinner shark  spinner shark\n",
      "665                spinner shark  spinner shark\n",
      "786   spinner shark, 4 to 5 feet  spinner shark\n",
      "1051           spinner shark, 7'  spinner shark\n"
     ]
    }
   ],
   "source": [
    "# 24. spinner shark\n",
    "species_mapping = {\n",
    "    \"a small spinner shark\": \"spinner shark\",\n",
    "    \"possibly a spinner shark\": \"spinner shark\",\n",
    "    \"spinner shark\": \"spinner shark\",\n",
    "    \"spinner shark, 1.2 m to 1.5 m [4' to 5']\": \"spinner shark\",\n",
    "    \"spinner shark, 3' to 4'\": \"spinner shark\",\n",
    "    \"spinner shark, 4 to 5 feet\": \"spinner shark\",\n",
    "    \"spinner shark, 4'?\": \"spinner shark\",\n",
    "    \"spinner shark, 5'\": \"spinner shark\",\n",
    "    \"spinner shark, 7'\": \"spinner shark\",\n",
    "}\n",
    "shark_df[\"species_clean\"] = shark_df[\"species_clean\"].replace(species_mapping)\n",
    "shark_df_filtered = shark_df[shark_df[\"species_clean\"] == \"spinner shark\"]\n",
    "print(shark_df_filtered[[\"species\", \"species_clean\"]].head())"
   ]
  },
  {
   "cell_type": "code",
   "execution_count": 71,
   "id": "4c301f58",
   "metadata": {},
   "outputs": [
    {
     "name": "stdout",
     "output_type": "stream",
     "text": [
      "             species   species_clean\n",
      "1789  thresher shark  thresher shark\n"
     ]
    }
   ],
   "source": [
    "# 25. thresher shark\n",
    "species_mapping = {\n",
    "    \"thresher shark\": \"thresher shark\",\n",
    "}\n",
    "shark_df[\"species_clean\"] = shark_df[\"species_clean\"].replace(species_mapping)\n",
    "shark_df_filtered = shark_df[shark_df[\"species_clean\"] == \"thresher shark\"]\n",
    "print(shark_df_filtered[[\"species\", \"species_clean\"]].head())\n"
   ]
  },
  {
   "cell_type": "code",
   "execution_count": 72,
   "id": "4e625421",
   "metadata": {},
   "outputs": [
    {
     "name": "stdout",
     "output_type": "stream",
     "text": [
      "                                           species species_clean\n",
      "36                                1.5m tiger shark   tiger shark\n",
      "55                        reportedly a tiger shark   tiger shark\n",
      "56                        reportedly a tiger shark   tiger shark\n",
      "64                 reported as a large tiger shark   tiger shark\n",
      "84  not stated area has tiger and galapogas sharks   tiger shark\n"
     ]
    }
   ],
   "source": [
    "# 26. tiger shark\n",
    "species_mapping = {\n",
    "    \"1.5m tiger shark\": \"tiger shark\",\n",
    "    \"10' tiger shark\": \"tiger shark\",\n",
    "    \"10'-12' tiger shark\": \"tiger shark\",\n",
    "    \"5 to 8-ff tiger shark\": \"tiger shark\",\n",
    "    \"6' to 8' shark, possibly a tiger shark\": \"tiger shark\",\n",
    "    \"8' tiger shark\": \"tiger shark\",\n",
    "    \"allegedly a 4 m tiger shark\": \"tiger shark\",\n",
    "    \"possibly juvenile tiger shark\": \"tiger shark\",\n",
    "    \"reported as a large tiger shark\": \"tiger shark\",\n",
    "    \"reportedly a tiger shark\": \"tiger shark\",\n",
    "    \"tiger  shark?\": \"tiger shark\",\n",
    "    \"tiger shark\": \"tiger shark\",\n",
    "    \"tiger shark 8'\": \"tiger shark\",\n",
    "    \"tiger shark, 0.9 m to 1.5 m [3' to 5'] ?\": \"tiger shark\",\n",
    "    \"tiger shark, 1.5 m\": \"tiger shark\",\n",
    "    \"tiger shark, 1.8 m [6']\": \"tiger shark\",\n",
    "    \"tiger shark, 1.8 m to 2.4 m [6' to 8']\": \"tiger shark\",\n",
    "    \"tiger shark, 10'\": \"tiger shark\",\n",
    "    \"tiger shark, 10' to 12'\": \"tiger shark\",\n",
    "    \"tiger shark, 12\": \"tiger shark\",\n",
    "    \"tiger shark, 12'\": \"tiger shark\",\n",
    "    \"tiger shark, 13'\": \"tiger shark\",\n",
    "    \"tiger shark, 14'\": \"tiger shark\",\n",
    "    \"tiger shark, 15'\": \"tiger shark\",\n",
    "    \"tiger shark, 2 to 2.5m\": \"tiger shark\",\n",
    "    \"tiger shark, 2.3m\": \"tiger shark\",\n",
    "    \"tiger shark, 2.4 m [8']\": \"tiger shark\",\n",
    "    \"tiger shark, 2.4 m to 2.7 m [8' to 9']\": \"tiger shark\",\n",
    "    \"tiger shark, 2.4 m to 3 m [8' to 10']\": \"tiger shark\",\n",
    "    \"tiger shark, 2.4 m to 3.7 m [8' to 12']\": \"tiger shark\",\n",
    "    \"tiger shark, 2.5 m\": \"tiger shark\",\n",
    "    \"tiger shark, 2.8m\": \"tiger shark\",\n",
    "    \"tiger shark, 3 m\": \"tiger shark\",\n",
    "    \"tiger shark, 3 m [10']\": \"tiger shark\",\n",
    "    \"tiger shark, 3.5 m\": \"tiger shark\",\n",
    "    \"tiger shark, 3.7 m to 4.5 m [12' to 14'9\\\"]\": \"tiger shark\",\n",
    "    \"tiger shark, 3m\": \"tiger shark\",\n",
    "    \"tiger shark, 4 m\": \"tiger shark\",\n",
    "    \"tiger shark, 4 m [13']  ?\": \"tiger shark\",\n",
    "    \"tiger shark, 4 m [13'] ?\": \"tiger shark\",\n",
    "    \"tiger shark, 4m\": \"tiger shark\",\n",
    "    \"tiger shark, 6'\": \"tiger shark\",\n",
    "    \"tiger shark, 7'\": \"tiger shark\",\n",
    "    \"tiger shark, 8'\": \"tiger shark\",\n",
    "    \"tiger shark, 8' to 10'\": \"tiger shark\",\n",
    "    \"tiger shark, 8 to 10 feet\": \"tiger shark\",\n",
    "    \"tiger shark, 8' to 12'\": \"tiger shark\",\n",
    "    \"tiger shark, 8 to 12 feet\": \"tiger shark\",\n",
    "    \"tiger shark, 8'-10'\": \"tiger shark\",\n",
    "    \"tiger shark, less than 10'\": \"tiger shark\",\n",
    "    \"tiger shark. 14'3\\\"\": \"tiger shark\",\n",
    "    \"tiger shark?\": \"tiger shark\",\n",
    "    \"tiger sharks\": \"tiger shark\",\n",
    "    \"not stated area has tiger and galapogas sharks\": \"tiger shark\",\n",
    "}\n",
    "\n",
    "shark_df[\"species_clean\"] = shark_df[\"species_clean\"].replace(species_mapping)\n",
    "shark_df_filtered = shark_df[shark_df[\"species_clean\"] == \"tiger shark\"]\n",
    "print(shark_df_filtered[[\"species\", \"species_clean\"]].head())\n"
   ]
  },
  {
   "cell_type": "code",
   "execution_count": 73,
   "id": "d6bca586",
   "metadata": {},
   "outputs": [
    {
     "name": "stdout",
     "output_type": "stream",
     "text": [
      "                            species species_clean\n",
      "4                 great white shark   white shark\n",
      "7           5m (16.5ft) great white   white shark\n",
      "10            suspected great white   white shark\n",
      "12  great white shark est 3m (10ft)   white shark\n",
      "27                      great white   white shark\n"
     ]
    }
   ],
   "source": [
    "# 27. white shark\n",
    "species_mapping = {\n",
    "    \"0.9 m to 1.2 m [3' to 4'] white shark\": \"white shark\",\n",
    "    \"1.8 m to 2.4 m [6' to 8'] white shark\": \"white shark\",\n",
    "    \"12' to 14' white shark\": \"white shark\",\n",
    "    \"14' to 16' white shark\": \"white shark\",\n",
    "    \"14' white shark\": \"white shark\",\n",
    "    \"18' white shark\": \"white shark\",\n",
    "    \"2 m [6.75'] white shark\": \"white shark\",\n",
    "    \"2 white shark: 13' & 9\\\"8\\\"\": \"white shark\",\n",
    "    \"2.5 m [8.25'] white shark\": \"white shark\",\n",
    "    \"3 m to 4 m white shark\": \"white shark\",\n",
    "    \"3 m to 4.5 m [10' to 15'] white shark\": \"white shark\",\n",
    "    \"3.5 m [11.5'] white shark\": \"white shark\",\n",
    "    \"3.5 m white shark\": \"white shark\",\n",
    "    \"3.7 m to 4.3 m [12' to 14'] white shark\": \"white shark\",\n",
    "    \"3m white shark\": \"white shark\",\n",
    "    \"4 m [13'] white shark\": \"white shark\",\n",
    "    \"4 m to 5 m [13' to 16.5'] white shark\": \"white shark\",\n",
    "    \"4 to 5m white shark\": \"white shark\",\n",
    "    \"4.5 m & 5 m white shark\": \"white shark\",\n",
    "    \"4.5 m to 5.5 m [15' to 18'] white shark\": \"white shark\",\n",
    "    \"4.9 m to 5.5 m [16' to 18'] white shark\": \"white shark\",\n",
    "    \"5 m [16.5'] white shark\": \"white shark\",\n",
    "    \"5.5 m [18'] white shark\": \"white shark\",\n",
    "    \"5m (16.5ft) great white\": \"white shark\",\n",
    "    \"6 m [20'] white shark\": \"white shark\",\n",
    "    \"9'2\\\" white shark\": \"white shark\",\n",
    "    \"a large white shark was filmed by divers on a local wreck 2 days prior to the incident.\": \"white shark\",\n",
    "    \"great white\": \"white shark\",\n",
    "    \"great white 6.0m\": \"white shark\",\n",
    "    \"great white shark\": \"white shark\",\n",
    "    \"great white shark est 3m (10ft)\": \"white shark\",\n",
    "    \"great white shart estimated 4.8m 16 ft\": \"white shark\",\n",
    "    \"juvenile white shark\": \"white shark\",\n",
    "    \"juvenile white shark,  2.7 to 3.2 m\": \"white shark\",\n",
    "    \"juvenile white shark?\": \"white shark\",\n",
    "    \"reported to involve a 4 m white shark\": \"white shark\",\n",
    "    \"reported to involve a white shark\": \"white shark\",\n",
    "    \"suspected great white\": \"white shark\",\n",
    "    \"thought to involve a white shark\": \"white shark\",\n",
    "    \"wfite shark\": \"white shark\",\n",
    "    \"while shark\": \"white shark\",\n",
    "    \"white shark\": \"white shark\",\n",
    "    \"white shark x 2\": \"white shark\",\n",
    "    \"white shark, >6'\": \"white shark\",\n",
    "    \"white shark, 10'\": \"white shark\",\n",
    "    \"white shark, 10 '\": \"white shark\",\n",
    "    \"white shark, 10' to 12'\": \"white shark\",\n",
    "    \"white shark, 11'\": \"white shark\",\n",
    "    \"white shark, 11' to 12'\": \"white shark\",\n",
    "    \"white shark, 11'?\": \"white shark\",\n",
    "    \"white shark, 12'\": \"white shark\",\n",
    "    \"white shark, 12' to 15'\": \"white shark\",\n",
    "    \"white shark, 12' to 15' female\": \"white shark\",\n",
    "    \"white shark, 13'\": \"white shark\",\n",
    "    \"white shark, 14' to 16'\": \"white shark\",\n",
    "    \"white shark, 14' to 18'\": \"white shark\",\n",
    "    \"white shark, 15'\": \"white shark\",\n",
    "    \"white shark, 15' to 16'\": \"white shark\",\n",
    "    \"white shark, 16'\": \"white shark\",\n",
    "    \"white shark, 17' female\": \"white shark\",\n",
    "    \"white shark, 2 m\": \"white shark\",\n",
    "    \"white shark, 2.4 m to 3 m [8' to 10']\": \"white shark\",\n",
    "    \"white shark, 2.5 m\": \"white shark\",\n",
    "    \"white shark, 2.5m\": \"white shark\",\n",
    "    \"white shark, 2.7 m\": \"white shark\",\n",
    "    \"white shark, 2.7 m [9']\": \"white shark\",\n",
    "    \"white shark, 2.7 m to 3 m [9' to 10']\": \"white shark\",\n",
    "    \"white shark, 2.8 to 3 m\": \"white shark\",\n",
    "    \"white shark, 2m\": \"white shark\",\n",
    "    \"white shark, 2m to 3 m\": \"white shark\",\n",
    "    \"white shark, 2-to 3m\": \"white shark\",\n",
    "    \"white shark, 3 m\": \"white shark\",\n",
    "    \"white shark, 3 to 3.5m\": \"white shark\",\n",
    "    \"white shark, 3.2m to 3.5m\": \"white shark\",\n",
    "    \"white shark, 3.5 m\": \"white shark\",\n",
    "    \"white shark, 3.5 m [11.5']  male\": \"white shark\",\n",
    "    \"white shark, 3.5m\": \"white shark\",\n",
    "    \"white shark, 3.8-4.2m\": \"white shark\",\n",
    "    \"white shark, 3.9 to 4.2 m\": \"white shark\",\n",
    "    \"white shark, 3m\": \"white shark\",\n",
    "    \"white shark, 3m to 4m\": \"white shark\",\n",
    "    \"white shark, 4 m\": \"white shark\",\n",
    "    \"white shark, 4 m to 5 m [13' to 16.5']\": \"white shark\",\n",
    "    \"white shark, 4 m to 5m\": \"white shark\",\n",
    "    \"white shark, 4 m white shark\": \"white shark\",\n",
    "    \"white shark, 4 to 5 m\": \"white shark\",\n",
    "    \"white shark, 4.3 m [14']\": \"white shark\",\n",
    "    \"white shark, 4.5 m\": \"white shark\",\n",
    "    \"white shark, 4.5m\": \"white shark\",\n",
    "    \"white shark, 4.6 m\": \"white shark\",\n",
    "    \"white shark, 4.6m\": \"white shark\",\n",
    "    \"white shark, 4.9 m [16']\": \"white shark\",\n",
    "    \"white shark, 4m\": \"white shark\",\n",
    "    \"white shark, 5' k\": \"white shark\",\n",
    "    \"white shark, 5 m [16.5']\": \"white shark\",\n",
    "    \"white shark, 5' to 6' juvenile\": \"white shark\",\n",
    "    \"white shark, 5' to 7'\": \"white shark\",\n",
    "    \"white shark, 5m\": \"white shark\",\n",
    "    \"white shark, 6 m\": \"white shark\",\n",
    "    \"white shark, 6' to 8'\": \"white shark\",\n",
    "    \"white shark, 6m [20']\": \"white shark\",\n",
    "    \"white shark, 7'\": \"white shark\",\n",
    "    \"white shark, 8' to 10'\": \"white shark\",\n",
    "    \"white shark, 9'\": \"white shark\",\n",
    "    \"white shark, juvenile\": \"white shark\",\n",
    "    \"white shark?\": \"white shark\",\n",
    "    \"white sharks\": \"white shark\",\n",
    "    \"white xhark\": \"white shark\",\n",
    "}\n",
    "shark_df[\"species_clean\"] = shark_df[\"species_clean\"].replace(species_mapping)\n",
    "shark_df_filtered = shark_df[shark_df[\"species_clean\"] == \"white shark\"]\n",
    "print(shark_df_filtered[[\"species\", \"species_clean\"]].head())"
   ]
  },
  {
   "cell_type": "code",
   "execution_count": 74,
   "id": "81fb8822",
   "metadata": {},
   "outputs": [
    {
     "name": "stdout",
     "output_type": "stream",
     "text": [
      "                                      species        species_clean\n",
      "1328            whitetip reef shark, 4' to 6'  whitetip reef shark\n",
      "1770                  whitetip reef shark, 1m  whitetip reef shark\n",
      "2237                      whitetip reef shark  whitetip reef shark\n",
      "2681  1 m shark, possibly whitetip reef shark  whitetip reef shark\n"
     ]
    }
   ],
   "source": [
    "# 28. whitetip reef shark\n",
    "species_mapping = {\n",
    "    \"1 m shark, possibly whitetip reef shark\": \"whitetip reef shark\",\n",
    "    \"whitetip reef shark\": \"whitetip reef shark\",\n",
    "    \"whitetip reef shark, 1m\": \"whitetip reef shark\",\n",
    "    \"whitetip reef shark, 4' to 6'\": \"whitetip reef shark\",\n",
    "}\n",
    "shark_df[\"species_clean\"] = shark_df[\"species_clean\"].replace(species_mapping)\n",
    "shark_df_filtered = shark_df[shark_df[\"species_clean\"] == \"whitetip reef shark\"]\n",
    "print(shark_df_filtered[[\"species\", \"species_clean\"]].head())\n"
   ]
  },
  {
   "cell_type": "code",
   "execution_count": 75,
   "id": "db41d2cb",
   "metadata": {},
   "outputs": [
    {
     "name": "stdout",
     "output_type": "stream",
     "text": [
      "             species    species_clean\n",
      "156  wobbegong shark  wobbegong shark\n",
      "308  wobbegong shark  wobbegong shark\n",
      "309  wobbegong shark  wobbegong shark\n",
      "638  wobbegong shark  wobbegong shark\n",
      "646  wobbegong shark  wobbegong shark\n"
     ]
    }
   ],
   "source": [
    "# 29. wobbegong shark\n",
    "species_mapping = {\n",
    "    \"wobbegong shark\": \"wobbegong shark\",\n",
    "    \"wobbegong shark, 1 m\": \"wobbegong shark\",\n",
    "    \"wobbegong shark, 1.2 m [4']\": \"wobbegong shark\",\n",
    "    \"wobbegong shark, 1.2 m [4'] k\": \"wobbegong shark\",\n",
    "    \"wobbegong shark, 1.6 to 1.8m\": \"wobbegong shark\",\n",
    "    \"wobbegong shark, 1.6m\": \"wobbegong shark\",\n",
    "    \"wobbegong shark, 1m\": \"wobbegong shark\",\n",
    "    \"wobbegong shark?\": \"wobbegong shark\",\n",
    "}\n",
    "shark_df[\"species_clean\"] = shark_df[\"species_clean\"].replace(species_mapping)\n",
    "shark_df_filtered = shark_df[shark_df[\"species_clean\"] == \"wobbegong shark\"]\n",
    "print(shark_df_filtered[[\"species\", \"species_clean\"]].head())\n"
   ]
  },
  {
   "cell_type": "code",
   "execution_count": 76,
   "id": "dc24551a",
   "metadata": {},
   "outputs": [
    {
     "name": "stdout",
     "output_type": "stream",
     "text": [
      "                            species                        species_clean\n",
      "312       blacktip or spinner shark  blacktip shark or spinner / sandbar\n",
      "317       blacktip or spinner shark  blacktip shark or spinner / sandbar\n",
      "470       blacktip or spinner shark  blacktip shark or spinner / sandbar\n",
      "581       blacktip or spinner shark  blacktip shark or spinner / sandbar\n",
      "1102  blacktip or spinner shark, 4'  blacktip shark or spinner / sandbar\n"
     ]
    }
   ],
   "source": [
    "# 30. blacktip shark or spinner / sandbar\n",
    "species_mapping = {\n",
    "    \"0.9 m [3'] shark,  probably a blacktip or spinner shark\": \"blacktip shark or spinner / sandbar\",\n",
    "    \"1.2 m [4'] blacktip or sandbar shark\": \"blacktip shark or spinner / sandbar\",\n",
    "    \"3' shark, possibly  a blacktip or spinner shark\": \"blacktip shark or spinner / sandbar\",\n",
    "    \"6' shark, possibly a blactip or spinner shark\": \"blacktip shark or spinner / sandbar\",\n",
    "    \"blacktip or spinner shark\": \"blacktip shark or spinner / sandbar\",\n",
    "    \"blacktip or spinner shark, 4'\": \"blacktip shark or spinner / sandbar\",\n",
    "    \"blacktip or spinner shark?\": \"blacktip shark or spinner / sandbar\",\n",
    "    \"possibly  a blacktip or spinner shark\": \"blacktip shark or spinner / sandbar\",\n",
    "    \"possibly a 1' to 3' blacktip or spinner shark\": \"blacktip shark or spinner / sandbar\",\n",
    "    \"possibly a 1.5 m [5'] blacktip or spinner shark\": \"blacktip shark or spinner / sandbar\",\n",
    "    \"possibly a juvenile blacktip or spinner shark\": \"blacktip shark or spinner / sandbar\",\n",
    "    \"possibly a sandbar shark or small blacktip shark\": \"blacktip shark or spinner / sandbar\",\n",
    "    \"spinner shark or blacktip shark\": \"blacktip shark or spinner / sandbar\",\n",
    "}\n",
    "shark_df[\"species_clean\"] = shark_df[\"species_clean\"].replace(species_mapping)\n",
    "shark_df_filtered = shark_df[shark_df[\"species_clean\"] == \"blacktip shark or spinner / sandbar\"]\n",
    "print(shark_df_filtered[[\"species\", \"species_clean\"]].head())"
   ]
  },
  {
   "cell_type": "code",
   "execution_count": 77,
   "id": "99802fd8",
   "metadata": {},
   "outputs": [
    {
     "name": "stdout",
     "output_type": "stream",
     "text": [
      "                                                species  \\\n",
      "2445  1.5 m [5'] shark, either a bronze whaler or a ...   \n",
      "\n",
      "                          species_clean  \n",
      "2445  bronze whaler shark or sand tiger  \n"
     ]
    }
   ],
   "source": [
    "# 31. bronze whaler shark or sand tiger\n",
    "species_mapping = {\n",
    "    \"1.5 m [5'] shark, either a bronze whaler or a grey nurse shark\": \"bronze whaler shark or sand tiger\",\n",
    "}\n",
    "shark_df[\"species_clean\"] = shark_df[\"species_clean\"].replace(species_mapping)\n",
    "shark_df_filtered = shark_df[shark_df[\"species_clean\"] == \"bronze whaler shark or sand tiger\"]\n",
    "print(shark_df_filtered[[\"species\", \"species_clean\"]].head())\n"
   ]
  },
  {
   "cell_type": "code",
   "execution_count": 78,
   "id": "76ad424e",
   "metadata": {},
   "outputs": [
    {
     "name": "stdout",
     "output_type": "stream",
     "text": [
      "                                    species  \\\n",
      "398                whaler or bull shark, 2m   \n",
      "1938  8' bull shark or caribbean reef shark   \n",
      "2182         5' to 6' spinner or bull shark   \n",
      "\n",
      "                                          species_clean  \n",
      "398   bull shark or caribbean reef / spinner / bronz...  \n",
      "1938  bull shark or caribbean reef / spinner / bronz...  \n",
      "2182  bull shark or caribbean reef / spinner / bronz...  \n"
     ]
    }
   ],
   "source": [
    "# 32. bull shark or caribbean reef / spinner / bronze whaler\n",
    "species_mapping = {\n",
    "    \"5' to 6' spinner or bull shark\": \"bull shark or caribbean reef / spinner / bronze whaler\",\n",
    "    \"8' bull shark or caribbean reef shark\": \"bull shark or caribbean reef / spinner / bronze whaler\",\n",
    "    \"whaler or bull shark, 2m\": \"bull shark or caribbean reef / spinner / bronze whaler\",\n",
    "}\n",
    "shark_df[\"species_clean\"] = shark_df[\"species_clean\"].replace(species_mapping)\n",
    "shark_df_filtered = shark_df[shark_df[\"species_clean\"] == \"bull shark or caribbean reef / spinner / bronze whaler\"]\n",
    "print(shark_df_filtered[[\"species\", \"species_clean\"]].head())"
   ]
  },
  {
   "cell_type": "code",
   "execution_count": 79,
   "id": "98a5be73",
   "metadata": {},
   "outputs": [
    {
     "name": "stdout",
     "output_type": "stream",
     "text": [
      "                                    species  \\\n",
      "1179  white shark or oceanic whitetip shark   \n",
      "1476           white shark or bronze whaler   \n",
      "1941         8' white shark or 7-gill shark   \n",
      "\n",
      "                                          species_clean  \n",
      "1179  white shark or broadnose sevengill / bronze wh...  \n",
      "1476  white shark or broadnose sevengill / bronze wh...  \n",
      "1941  white shark or broadnose sevengill / bronze wh...  \n"
     ]
    }
   ],
   "source": [
    "# 33. white shark or broadnose sevengill / bronze whaler / oceanic whitetip\n",
    "species_mapping = {\n",
    "    \"8' white shark or 7-gill shark\": \"white shark or broadnose sevengill / bronze whaler / oceanic whitetip\",\n",
    "    \"white shark or bronze whaler\": \"white shark or broadnose sevengill / bronze whaler / oceanic whitetip\",\n",
    "    \"white shark or oceanic whitetip shark\": \"white shark or broadnose sevengill / bronze whaler / oceanic whitetip\",\n",
    "}\n",
    "shark_df[\"species_clean\"] = shark_df[\"species_clean\"].replace(species_mapping)\n",
    "shark_df_filtered = shark_df[shark_df[\"species_clean\"] == \"white shark or broadnose sevengill / bronze whaler / oceanic whitetip\"]\n",
    "print(shark_df_filtered[[\"species\", \"species_clean\"]].head())\n"
   ]
  },
  {
   "cell_type": "code",
   "execution_count": 80,
   "id": "fc66d435",
   "metadata": {},
   "outputs": [
    {
     "name": "stdout",
     "output_type": "stream",
     "text": [
      "                                           species  \\\n",
      "0                              tiger or bull shark   \n",
      "52                  reportedly tiger or bull shark   \n",
      "65                             bull or tiger 7-8ft   \n",
      "264            oceaniic whitetip shark/tiger shark   \n",
      "265  oceaniic whitetip shark/tiger shark, 2m shark   \n",
      "\n",
      "                                        species_clean  \n",
      "0    tiger shark or oceanic whitetip shark/bull shark  \n",
      "52   tiger shark or oceanic whitetip shark/bull shark  \n",
      "65   tiger shark or oceanic whitetip shark/bull shark  \n",
      "264  tiger shark or oceanic whitetip shark/bull shark  \n",
      "265  tiger shark or oceanic whitetip shark/bull shark  \n"
     ]
    }
   ],
   "source": [
    "# 34. tiger shark or oceanic whitetip shark/bull shark\n",
    "species_mapping = {\n",
    "    \"bull or tiger 7-8ft\": \"tiger shark or oceanic whitetip shark/bull shark\",\n",
    "    \"bull or tiger shark\": \"tiger shark or oceanic whitetip shark/bull shark\",\n",
    "    \"oceaniic whitetip shark/tiger shark\": \"tiger shark or oceanic whitetip shark/bull shark\",\n",
    "    \"oceaniic whitetip shark/tiger shark, 2m shark\": \"tiger shark or oceanic whitetip shark/bull shark\",\n",
    "    \"possibly a bull shark or tiger shark\": \"tiger shark or oceanic whitetip shark/bull shark\",\n",
    "    \"reportedly tiger or bull shark\": \"tiger shark or oceanic whitetip shark/bull shark\",\n",
    "    \"thought to involve a 2.5 m bull or tiger shark\": \"tiger shark or oceanic whitetip shark/bull shark\",\n",
    "    \"tiger or bull shark\": \"tiger shark or oceanic whitetip shark/bull shark\",\n",
    "}\n",
    "shark_df[\"species_clean\"] = shark_df[\"species_clean\"].replace(species_mapping)\n",
    "shark_df_filtered = shark_df[shark_df[\"species_clean\"] == \"tiger shark or oceanic whitetip shark/bull shark\"]\n",
    "print(shark_df_filtered[[\"species\", \"species_clean\"]].head())\n"
   ]
  },
  {
   "cell_type": "code",
   "execution_count": 81,
   "id": "41bc62fd",
   "metadata": {},
   "outputs": [
    {
     "name": "stdout",
     "output_type": "stream",
     "text": [
      "     species       species_clean\n",
      "323  dogfish  dogfish shark spp.\n"
     ]
    }
   ],
   "source": [
    "# 36. dogfish shark spp.\n",
    "species_mapping = {\n",
    "    \"dogfish\": \"dogfish shark spp.\",\n",
    "}\n",
    "shark_df[\"species_clean\"] = shark_df[\"species_clean\"].replace(species_mapping)\n",
    "shark_df_filtered = shark_df[shark_df[\"species_clean\"] == \"dogfish shark spp.\"]\n",
    "print(shark_df_filtered[[\"species\", \"species_clean\"]].head())\n"
   ]
  },
  {
   "cell_type": "code",
   "execution_count": 82,
   "id": "999d2fcf",
   "metadata": {},
   "outputs": [
    {
     "name": "stdout",
     "output_type": "stream",
     "text": [
      "        species   species_clean\n",
      "1278  cow shark  cow shark spp.\n"
     ]
    }
   ],
   "source": [
    "# 37. cow shark spp.\n",
    "species_mapping = {\n",
    "    \"cow shark\": \"cow shark spp.\",\n",
    "}\n",
    "shark_df[\"species_clean\"] = shark_df[\"species_clean\"].replace(species_mapping)\n",
    "shark_df_filtered = shark_df[shark_df[\"species_clean\"] == \"cow shark spp.\"]\n",
    "print(shark_df_filtered[[\"species\", \"species_clean\"]].head())\n"
   ]
  },
  {
   "cell_type": "code",
   "execution_count": 83,
   "id": "63920e0b",
   "metadata": {},
   "outputs": [],
   "source": [
    "# Recategorizamos las observaciones que no tienen datos de especie, utilizando la dimensión del animal como criterio de agrupación\n",
    "# Define the mapping by rough size categories\n",
    "\n",
    "species_mapping = {\n",
    "    # Small sharks\n",
    "    \"small\": \"small\",\n",
    "    \"a small shark\": \"small\",\n",
    "    \"small shark\": \"small\",\n",
    "    \"[4' to 5']\": \"small\",\n",
    "    \"[4.5' to 5'] shark\": \"small\",\n",
    "    \"+3' shark\": \"small\",\n",
    "    \"0.9 m  [3'] shark\": \"small\",\n",
    "    \"0.9 m  to 1.2 m [3' to 4'] shark\": \"small\",\n",
    "    \"0.9 m [3'] shark\": \"small\",\n",
    "    \"0.9 m to 1.2 m [3' to 4'] shark; tooth fragment recovered from hand\": \"small\",\n",
    "    \"0.9 m to 1.5 m [3' to 5'] shark\": \"small\",\n",
    "    \"1 m  shark\": \"small\",\n",
    "    \"1 m shark\": \"small\",\n",
    "    \"1' to 2' shark\": \"small\",\n",
    "    \"1' to 4' shark\": \"small\",\n",
    "    \"1.2 m [4'] shark\": \"small\",\n",
    "    \"1.2 m to 1.5 m [4' to 5'] shark\": \"small\",\n",
    "    \"1.2 m to 1.5 m [4.5' to 5'] shark\": \"small\",\n",
    "    \"1.2 m to 1.8 m [4' to 6'] shark\": \"small\",\n",
    "    \"1.3m shark\": \"small\",\n",
    "    \"1.5 m [5'] shark\": \"small\",\n",
    "    \"1.5 m shark\": \"small\",\n",
    "    \"1.5' to 2' shark\": \"small\",\n",
    "    \"106 cm [3.5']  shark\": \"small\",\n",
    "    \"15 cm to 20 cm [6\\\" to 8\\\"] bite diameter just below left knee\": \"small\",\n",
    "    \"18\\\" to 24\\\" shark\": \"small\",\n",
    "    \"18\\\" to 36\\\" shark\": \"small\",\n",
    "    \"1m shark\": \"small\",\n",
    "    \"1m shark species unknown\": \"small\",\n",
    "    \"1m to 1.2 m shark\": \"small\",\n",
    "    \"2'  shark\": \"small\",\n",
    "    \"2' shark\": \"small\",\n",
    "    \"2' to 3' juvenile shark\": \"small\",\n",
    "    \"2' to 3' shark\": \"small\",\n",
    "    \"2' to 3.5' shark\": \"small\",\n",
    "    \"2.5' shark\": \"small\",\n",
    "    \"3'  shark\": \"small\",\n",
    "    \"3' shark\": \"small\",\n",
    "    \"3' to 3.5' shark\": \"small\",\n",
    "    \"3' to 4' shark\": \"small\",\n",
    "    \"3- to 4-foot shark\": \"small\",\n",
    "    \"3' to 5' shark\": \"small\",\n",
    "    \"3.5' to 4' shark\": \"small\",\n",
    "    \"3.5' to 4.5' shark\": \"small\",\n",
    "    \"4' shark\": \"small\",\n",
    "    \"4' shark?\": \"small\",\n",
    "    \"4' to 5' shark\": \"small\",\n",
    "    \"4' to 6' shark\": \"small\",\n",
    "    \"4' tp 5' shark\": \"small\",\n",
    "    \"4.5 to 5' shark\": \"small\",\n",
    "    \"4'shark\": \"small\",\n",
    "    \"5' shark\": \"small\",\n",
    "    \"5'shark\": \"small\",\n",
    "    \"60 cm to 90 cm [2' to 3'] shark\": \"small\",\n",
    "    \"8\\\" shark\": \"small\",\n",
    "    \"a “small” shark\": \"small\",\n",
    "    \"a 2' shark was seen in the area by witnesses\": \"small\",\n",
    "    \"juvenile shark\": \"small\",\n",
    "    \"said to involve a 1.5 m shark\": \"small\",\n",
    "    \"shark pup\": \"small\",\n",
    "    \"undetermined small shall shark\": \"small\",\n",
    "    \"unknown 1.2m shark\": \"small\",\n",
    "\n",
    "    # Medium sharks\n",
    "    \"1.5 m to 1.8 m [5' to 6'] shark\": \"medium\",\n",
    "    \"1.5 to 2 m shark\": \"medium\",\n",
    "    \"1.8 m [6'] shark\": \"medium\",\n",
    "    \"1.8 m shark\": \"medium\",\n",
    "    \"1.8 metre shark\": \"medium\",\n",
    "    \"10' shark\": \"medium\",\n",
    "    \"2 m shark\": \"medium\",\n",
    "    \"2 m to  3 m shark\": \"medium\",\n",
    "    \"2 to 2.5 m shark\": \"medium\",\n",
    "    \"2 to 3 m shark\": \"medium\",\n",
    "    \"2.1 m to 2.4 m [7' to 8'] shark\": \"medium\",\n",
    "    \"2.1 to 2.4 m [7' to 8'] shark\": \"medium\",\n",
    "    \"2.27 m shark\": \"medium\",\n",
    "    \"2.4 m [8'] shark\": \"medium\",\n",
    "    \"2.4 m shark\": \"medium\",\n",
    "    \"2.4 m to 3.7 m [8' to 12'] shark\": \"medium\",\n",
    "    \"2.5 m shark\": \"medium\",\n",
    "    \"2.5 to 3 m shark\": \"medium\",\n",
    "    \"2.5m shark\": \"medium\",\n",
    "    \"2.6 m shark\": \"medium\",\n",
    "    \"3 m [10'] shark\": \"medium\",\n",
    "    \"3 m shark\": \"medium\",\n",
    "    \"3m shark\": \"medium\",\n",
    "    \"5' to 6' shark\": \"medium\",\n",
    "    \"5' to 7' shark\": \"medium\",\n",
    "    \"5' to 8' shark\": \"medium\",\n",
    "    \"5.5 ft shark\": \"medium\",\n",
    "    \"6 ft shark\": \"medium\",\n",
    "    \"6' shark\": \"medium\",\n",
    "    \"6' to 7' shark\": \"medium\",\n",
    "    \"6' to 8' shark\": \"medium\",\n",
    "    \"6ft shark\": \"medium\",\n",
    "    \"7' shark\": \"medium\",\n",
    "    \"7' to 8' shark\": \"medium\",\n",
    "    \"8' shark\": \"medium\",\n",
    "    \"8' to 10' shark\": \"medium\",\n",
    "    \"9' shark\": \"medium\",\n",
    "    \"9.5' shark?\": \"medium\",\n",
    "\n",
    "    # Large sharks\n",
    "    \"10' to 12' shark\": \"large\",\n",
    "    \"14' shark\": \"large\",\n",
    "    \"15' shark\": \"large\",\n",
    "    \"2 sharks, 4.5 m & 3 m\": \"large\",\n",
    "    \"3 m to 3.7 m [10' to 12'] shark\": \"large\",\n",
    "    \"3 m to 4 m shark\": \"large\",\n",
    "    \"3.5 m shark\": \"large\",\n",
    "    \"3.5 to 4 m shark\": \"large\",\n",
    "    \"3.7 m to 4.3 m [12' to 14'] shark\": \"large\",\n",
    "    \"3+ m shark\": \"large\",\n",
    "    \"4 m [13'] shark\": \"large\",\n",
    "    \"4m shark\": \"large\",\n",
    "    \"5 m shark\": \"large\",\n",
    "    \"5m to 6m shark\": \"large\"\n",
    "}\n",
    "\n",
    "# Aplicamos el mapeo al dataframe\n",
    "shark_df[\"species_clean\"] = shark_df[\"species_clean\"].replace(species_mapping)"
   ]
  },
  {
   "cell_type": "code",
   "execution_count": 84,
   "id": "e510eaf5",
   "metadata": {},
   "outputs": [
    {
     "name": "stdout",
     "output_type": "stream",
     "text": [
      "                                 species                      species_clean\n",
      "2417  60 cm [23.6\"] blind or brown shark  blind shark spp. or sandbar shark\n"
     ]
    }
   ],
   "source": [
    "# 35. blind shark spp. or sandbar shark\n",
    "species_mapping = {\n",
    "    \"60 cm [23.6\\\"] blind or brown shark\": \"blind shark spp. or sandbar shark\",\n",
    "}\n",
    "shark_df[\"species_clean\"] = shark_df[\"species_clean\"].replace(species_mapping)\n",
    "shark_df_filtered = shark_df[shark_df[\"species_clean\"] == \"blind shark spp. or sandbar shark\"]\n",
    "print(shark_df_filtered[[\"species\", \"species_clean\"]].head())\n"
   ]
  },
  {
   "cell_type": "code",
   "execution_count": 85,
   "id": "d7be675a",
   "metadata": {},
   "outputs": [
    {
     "name": "stdout",
     "output_type": "stream",
     "text": [
      "                           species species_clean\n",
      "2               unknown 1.2m shark         small\n",
      "20  undetermined small shall shark         small\n",
      "24                     small shark         small\n",
      "59        1m shark species unknown         small\n",
      "74  undetermined small shall shark         small\n",
      "        species species_clean\n",
      "80   6 ft shark        medium\n",
      "82    6ft shark        medium\n",
      "91   2.5m shark        medium\n",
      "157    8' shark        medium\n",
      "231    3m shark        medium\n",
      "              species species_clean\n",
      "201    5m to 6m shark         large\n",
      "443          4m shark         large\n",
      "571  10' to 12' shark         large\n",
      "747       3.5 m shark         large\n",
      "985        3+ m shark         large\n"
     ]
    }
   ],
   "source": [
    "# Filtramos por cada clase de dimensión del animal y checkeamos los cambios\n",
    "shark_df_filtered = shark_df[shark_df[\"species_clean\"] == \"small\"]\n",
    "print(shark_df_filtered[[\"species\", \"species_clean\"]].head())\n",
    "\n",
    "# Filtramos por cada clase de dimensión del animal y checkeamos los cambios\n",
    "shark_df_filtered = shark_df[shark_df[\"species_clean\"] == \"medium\"]\n",
    "print(shark_df_filtered[[\"species\", \"species_clean\"]].head())\n",
    "\n",
    "# Filtramos por cada clase de dimensión del animal y checkeamos los cambios\n",
    "shark_df_filtered = shark_df[shark_df[\"species_clean\"] == \"large\"]\n",
    "print(shark_df_filtered[[\"species\", \"species_clean\"]].head())"
   ]
  },
  {
   "cell_type": "code",
   "execution_count": 86,
   "id": "b6e6cb96",
   "metadata": {},
   "outputs": [
    {
     "name": "stdout",
     "output_type": "stream",
     "text": [
      "         species species_clean\n",
      "5     not stated       unknown\n",
      "6     not stated       unknown\n",
      "8   undetermined       unknown\n",
      "13  undetermined       unknown\n",
      "17  undetermined       unknown\n"
     ]
    }
   ],
   "source": [
    "# unknown\n",
    "species_mapping = {\n",
    "    \"not specified\": \"unknown\", \"not stated\": \"unknown\",\n",
    "    \"shark involvement not confirmed\": \"unknown\",\n",
    "    \"shark involvement unconfirmed but considered probable\": \"unknown\",\n",
    "    \"species unidentified\": \"unknown\", \"undetermined\": \"unknown\",\n",
    "    \"undetermined small shall shark\": \"unknown\",\n",
    "    \"unidentified\": \"unknown\", \"unidentified species\": \"unknown\",\n",
    "    \"unknown\": \"unknown\",\n",
    "    \"unknown, but it was reported that a shark tooth was recovered from the wound\": \"unknown\",\n",
    "}\n",
    "shark_df[\"species_clean\"] = shark_df[\"species_clean\"].replace(species_mapping)\n",
    "shark_df_filtered = shark_df[shark_df[\"species_clean\"] == \"unknown\"]\n",
    "print(shark_df_filtered[[\"species\", \"species_clean\"]].head())\n"
   ]
  },
  {
   "cell_type": "code",
   "execution_count": 87,
   "id": "a9b73fe5",
   "metadata": {},
   "outputs": [
    {
     "name": "stdout",
     "output_type": "stream",
     "text": [
      "species_clean\n",
      "white shark                                                              227\n",
      "small                                                                    198\n",
      "bull shark                                                               133\n",
      "tiger shark                                                              120\n",
      "medium                                                                   102\n",
      "blacktip shark                                                            42\n",
      "bronze whaler shark                                                       40\n",
      "unknown                                                                   40\n",
      "sand tiger shark                                                          27\n",
      "blacktip shark or spinner / sandbar                                       25\n",
      "grey reef shark                                                           22\n",
      "wobbegong shark                                                           20\n",
      "nurse shark                                                               18\n",
      "large                                                                     15\n",
      "oceanic whitetip shark                                                    14\n",
      "spinner shark                                                             12\n",
      "lemon shark                                                               12\n",
      "blacktip reef shark                                                       11\n",
      "broadnose sevengill shark                                                 11\n",
      "tiger shark or oceanic whitetip shark/bull shark                          10\n",
      "shortfin mako shark                                                        9\n",
      "caribbean reef shark                                                       7\n",
      "\"a small shark\"                                                            7\n",
      "                                                                           7\n",
      "cookie-cutter shark                                                        5\n",
      "great hammerhead shark                                                     5\n",
      "whitetip reef shark                                                        4\n",
      "blue shark                                                                 3\n",
      "galapagos shark                                                            3\n",
      "bull shark or caribbean reef / spinner / bronze whaler                     3\n",
      "white shark or broadnose sevengill / bronze whaler / oceanic whitetip      3\n",
      "sandbar shark                                                              2\n",
      "2m shark                                                                   2\n",
      "\"small shark\"                                                              2\n",
      "blacktip whaler,      carcharhinus tilstoni, 2m                            1\n",
      "cow shark spp.                                                             1\n",
      "shovelnose \"shark\" which is a ray, not a shark)                            1\n",
      "dogfish shark spp.                                                         1\n",
      "port jackson shark                                                         1\n",
      "porbeagle shark                                                            1\n",
      "thresher shark                                                             1\n",
      "dusky shark                                                                1\n",
      "salmon shark                                                               1\n",
      "2 m to 3 m shark                                                           1\n",
      "atlantic angelshark                                                        1\n",
      "\"black tipped\" shark                                                       1\n",
      "blind shark spp. or sandbar shark                                          1\n",
      "bronze whaler shark or sand tiger                                          1\n",
      "“small brown shark”                                                        1\n",
      "\"sand shark\"                                                               1\n",
      "0.9 m to 1.2 m [3' to 4'] shark                                            1\n",
      "Name: count, dtype: Int64\n"
     ]
    }
   ],
   "source": [
    "# Check\n",
    "with pd.option_context('display.max_rows', None):\n",
    "    print(shark_df[\"species_clean\"].value_counts())"
   ]
  },
  {
   "cell_type": "code",
   "execution_count": 88,
   "id": "de0f5fbb",
   "metadata": {},
   "outputs": [
    {
     "name": "stdout",
     "output_type": "stream",
     "text": [
      "species_clean\n",
      "white shark                                         227\n",
      "small                                               198\n",
      "bull shark                                          133\n",
      "tiger shark                                         120\n",
      "medium                                              102\n",
      "other species                                        70\n",
      "blacktip shark                                       42\n",
      "unknown                                              40\n",
      "bronze whaler shark                                  40\n",
      "sand tiger shark                                     27\n",
      "blacktip shark or spinner / sandbar                  25\n",
      "grey reef shark                                      22\n",
      "wobbegong shark                                      20\n",
      "nurse shark                                          18\n",
      "large                                                15\n",
      "oceanic whitetip shark                               14\n",
      "spinner shark                                        12\n",
      "lemon shark                                          12\n",
      "blacktip reef shark                                  11\n",
      "broadnose sevengill shark                            11\n",
      "tiger shark or oceanic whitetip shark/bull shark     10\n",
      "shortfin mako shark                                   9\n",
      "Name: count, dtype: Int64\n"
     ]
    }
   ],
   "source": [
    "# Compute frequency table for species_clean\n",
    "freq = shark_df[\"species_clean\"].value_counts()\n",
    "\n",
    "# Identify categories with frequency below 9\n",
    "low_freq_categories = freq[freq < 9].index.tolist()\n",
    "\n",
    "# Replace them with \"other species\"\n",
    "shark_df[\"species_clean\"] = shark_df[\"species_clean\"].replace(low_freq_categories, \"other species\")\n",
    "\n",
    "# Check the updated frequencies\n",
    "with pd.option_context('display.max_rows', None):\n",
    "    print(shark_df[\"species_clean\"].value_counts())\n"
   ]
  },
  {
   "cell_type": "code",
   "execution_count": 89,
   "id": "17fed427",
   "metadata": {},
   "outputs": [],
   "source": [
    "shark_df.to_excel('SharkAttack_final.xlsx')"
   ]
  },
  {
   "cell_type": "code",
   "execution_count": 90,
   "id": "f9bdf884",
   "metadata": {},
   "outputs": [
    {
     "name": "stdout",
     "output_type": "stream",
     "text": [
      "Requirement already satisfied: matplotlib in c:\\users\\marle\\appdata\\local\\programs\\python\\python312\\lib\\site-packages (3.10.7)\n",
      "Requirement already satisfied: seaborn in c:\\users\\marle\\appdata\\local\\programs\\python\\python312\\lib\\site-packages (0.13.2)\n",
      "Requirement already satisfied: numpy in c:\\users\\marle\\appdata\\local\\programs\\python\\python312\\lib\\site-packages (2.3.4)\n",
      "Requirement already satisfied: contourpy>=1.0.1 in c:\\users\\marle\\appdata\\local\\programs\\python\\python312\\lib\\site-packages (from matplotlib) (1.3.3)\n",
      "Requirement already satisfied: cycler>=0.10 in c:\\users\\marle\\appdata\\local\\programs\\python\\python312\\lib\\site-packages (from matplotlib) (0.12.1)\n",
      "Requirement already satisfied: fonttools>=4.22.0 in c:\\users\\marle\\appdata\\local\\programs\\python\\python312\\lib\\site-packages (from matplotlib) (4.60.1)\n",
      "Requirement already satisfied: kiwisolver>=1.3.1 in c:\\users\\marle\\appdata\\local\\programs\\python\\python312\\lib\\site-packages (from matplotlib) (1.4.9)\n",
      "Requirement already satisfied: packaging>=20.0 in c:\\users\\marle\\appdata\\roaming\\python\\python312\\site-packages (from matplotlib) (25.0)\n",
      "Requirement already satisfied: pillow>=8 in c:\\users\\marle\\appdata\\local\\programs\\python\\python312\\lib\\site-packages (from matplotlib) (12.0.0)\n",
      "Requirement already satisfied: pyparsing>=3 in c:\\users\\marle\\appdata\\local\\programs\\python\\python312\\lib\\site-packages (from matplotlib) (3.2.5)\n",
      "Requirement already satisfied: python-dateutil>=2.7 in c:\\users\\marle\\appdata\\roaming\\python\\python312\\site-packages (from matplotlib) (2.9.0.post0)\n",
      "Requirement already satisfied: pandas>=1.2 in c:\\users\\marle\\appdata\\local\\programs\\python\\python312\\lib\\site-packages (from seaborn) (2.3.3)\n",
      "Requirement already satisfied: pytz>=2020.1 in c:\\users\\marle\\appdata\\local\\programs\\python\\python312\\lib\\site-packages (from pandas>=1.2->seaborn) (2025.2)\n",
      "Requirement already satisfied: tzdata>=2022.7 in c:\\users\\marle\\appdata\\local\\programs\\python\\python312\\lib\\site-packages (from pandas>=1.2->seaborn) (2025.2)\n",
      "Requirement already satisfied: six>=1.5 in c:\\users\\marle\\appdata\\roaming\\python\\python312\\site-packages (from python-dateutil>=2.7->matplotlib) (1.17.0)\n"
     ]
    },
    {
     "name": "stderr",
     "output_type": "stream",
     "text": [
      "\n",
      "[notice] A new release of pip is available: 24.3.1 -> 25.3\n",
      "[notice] To update, run: python.exe -m pip install --upgrade pip\n"
     ]
    }
   ],
   "source": [
    "!pip install matplotlib seaborn numpy"
   ]
  },
  {
   "cell_type": "code",
   "execution_count": 91,
   "id": "3fdfb6c2",
   "metadata": {},
   "outputs": [],
   "source": [
    "import matplotlib.pyplot as plt\n",
    "import seaborn as sns\n",
    "import numpy as np"
   ]
  },
  {
   "cell_type": "code",
   "execution_count": 92,
   "id": "089daeef",
   "metadata": {},
   "outputs": [
    {
     "name": "stdout",
     "output_type": "stream",
     "text": [
      "Requirement already satisfied: jinja2 in c:\\users\\marle\\appdata\\local\\programs\\python\\python312\\lib\\site-packages (3.1.6)\n",
      "Requirement already satisfied: MarkupSafe>=2.0 in c:\\users\\marle\\appdata\\local\\programs\\python\\python312\\lib\\site-packages (from jinja2) (3.0.3)\n"
     ]
    },
    {
     "name": "stderr",
     "output_type": "stream",
     "text": [
      "\n",
      "[notice] A new release of pip is available: 24.3.1 -> 25.3\n",
      "[notice] To update, run: python.exe -m pip install --upgrade pip\n"
     ]
    }
   ],
   "source": [
    "!pip install jinja2\n",
    "import jinja2"
   ]
  },
  {
   "cell_type": "code",
   "execution_count": 93,
   "id": "ac2f73ae",
   "metadata": {},
   "outputs": [
    {
     "data": {
      "text/html": [
       "<style type=\"text/css\">\n",
       "#T_310ee th {\n",
       "  background-color: #4CAF50;\n",
       "  color: white;\n",
       "  font-size: 14px;\n",
       "}\n",
       "#T_310ee td {\n",
       "  font-size: 12px;\n",
       "  text-align: center;\n",
       "}\n",
       "#T_310ee_row0_col1 {\n",
       "  background-color: #000000;\n",
       "  color: #f1f1f1;\n",
       "}\n",
       "#T_310ee_row1_col1 {\n",
       "  background-color: #081d58;\n",
       "  color: #f1f1f1;\n",
       "}\n",
       "#T_310ee_row2_col1 {\n",
       "  background-color: #f2fabc;\n",
       "  color: #000000;\n",
       "}\n",
       "#T_310ee_row3_col1 {\n",
       "  background-color: #ffffd9;\n",
       "  color: #000000;\n",
       "}\n",
       "</style>\n",
       "<table id=\"T_310ee\">\n",
       "  <caption>💀 Shark Attacks by Fatality (y/n)</caption>\n",
       "  <thead>\n",
       "    <tr>\n",
       "      <th class=\"blank level0\" >&nbsp;</th>\n",
       "      <th id=\"T_310ee_level0_col0\" class=\"col_heading level0 col0\" >Fatal (y/n)</th>\n",
       "      <th id=\"T_310ee_level0_col1\" class=\"col_heading level0 col1\" >Absolute</th>\n",
       "      <th id=\"T_310ee_level0_col2\" class=\"col_heading level0 col2\" >Relative (%)</th>\n",
       "    </tr>\n",
       "  </thead>\n",
       "  <tbody>\n",
       "    <tr>\n",
       "      <th id=\"T_310ee_level0_row0\" class=\"row_heading level0 row0\" >0</th>\n",
       "      <td id=\"T_310ee_row0_col0\" class=\"data row0 col0\" >Total</td>\n",
       "      <td id=\"T_310ee_row0_col1\" class=\"data row0 col1\" >1934</td>\n",
       "      <td id=\"T_310ee_row0_col2\" class=\"data row0 col2\" >100%</td>\n",
       "    </tr>\n",
       "    <tr>\n",
       "      <th id=\"T_310ee_level0_row1\" class=\"row_heading level0 row1\" >1</th>\n",
       "      <td id=\"T_310ee_row1_col0\" class=\"data row1 col0\" >n</td>\n",
       "      <td id=\"T_310ee_row1_col1\" class=\"data row1 col1\" >1750</td>\n",
       "      <td id=\"T_310ee_row1_col2\" class=\"data row1 col2\" >90%</td>\n",
       "    </tr>\n",
       "    <tr>\n",
       "      <th id=\"T_310ee_level0_row2\" class=\"row_heading level0 row2\" >2</th>\n",
       "      <td id=\"T_310ee_row2_col0\" class=\"data row2 col0\" >y</td>\n",
       "      <td id=\"T_310ee_row2_col1\" class=\"data row2 col1\" >171</td>\n",
       "      <td id=\"T_310ee_row2_col2\" class=\"data row2 col2\" >9%</td>\n",
       "    </tr>\n",
       "    <tr>\n",
       "      <th id=\"T_310ee_level0_row3\" class=\"row_heading level0 row3\" >3</th>\n",
       "      <td id=\"T_310ee_row3_col0\" class=\"data row3 col0\" >unknown</td>\n",
       "      <td id=\"T_310ee_row3_col1\" class=\"data row3 col1\" >13</td>\n",
       "      <td id=\"T_310ee_row3_col2\" class=\"data row3 col2\" >1%</td>\n",
       "    </tr>\n",
       "  </tbody>\n",
       "</table>\n"
      ],
      "text/plain": [
       "<pandas.io.formats.style.Styler at 0x1c032be2840>"
      ]
     },
     "metadata": {},
     "output_type": "display_data"
    }
   ],
   "source": [
    "# UNIVARIATE ANALYSIS - FATAL (Y/N)\n",
    "# Compute frequencies for fatal_y/n\n",
    "abs_freq = shark_df['fatal_y/n'].value_counts()\n",
    "rel_freq = (shark_df['fatal_y/n'].value_counts(normalize=True) * 100).round(0).astype(int)\n",
    "\n",
    "# Combine into a DataFrame\n",
    "freq_table = pd.DataFrame({\n",
    "    'Fatal (y/n)': abs_freq.index,\n",
    "    'Absolute': abs_freq.values,\n",
    "    'Relative (%)': rel_freq.values\n",
    "})\n",
    "\n",
    "# Sort by Absolute descending\n",
    "freq_table = freq_table.sort_values(by='Absolute', ascending=False).reset_index(drop=True)\n",
    "\n",
    "# Add Total row\n",
    "total_row = pd.DataFrame({\n",
    "    'Fatal (y/n)': ['Total'],\n",
    "    'Absolute': [freq_table['Absolute'].sum()],\n",
    "    'Relative (%)': [freq_table['Relative (%)'].sum()]\n",
    "})\n",
    "\n",
    "# Place total row at the top\n",
    "freq_table = pd.concat([total_row, freq_table], ignore_index=True)\n",
    "\n",
    "# Styling for presentation\n",
    "# Apply heatmap only to rows except the first one (Total row)\n",
    "styled_table = (\n",
    "    freq_table.style\n",
    "    .set_caption(\"💀 Shark Attacks by Fatality (y/n)\")\n",
    "    .set_table_styles([\n",
    "        {'selector': 'th', 'props': [('background-color', '#4CAF50'),\n",
    "                                     ('color', 'white'),\n",
    "                                     ('font-size', '14px')]},\n",
    "        {'selector': 'td', 'props': [('font-size', '12px'),\n",
    "                                     ('text-align', 'center')]}\n",
    "    ])\n",
    "    .background_gradient(\n",
    "        subset=['Absolute'],\n",
    "        cmap='YlGnBu',\n",
    "        gmap=freq_table['Absolute'].iloc[1:]  # exclude Total row\n",
    "    )\n",
    "    .format({'Relative (%)': \"{}%\"})\n",
    ")\n",
    "\n",
    "# Display\n",
    "display(styled_table)\n"
   ]
  },
  {
   "cell_type": "code",
   "execution_count": 94,
   "id": "92910ab9",
   "metadata": {},
   "outputs": [
    {
     "data": {
      "text/plain": [
       "species_clean        fatal_y/n\n",
       "small                n            198\n",
       "white shark          n            163\n",
       "bull shark           n            116\n",
       "tiger shark          n             99\n",
       "medium               n             97\n",
       "other species        n             68\n",
       "white shark          y             63\n",
       "blacktip shark       n             42\n",
       "bronze whaler shark  n             39\n",
       "unknown              n             36\n",
       "dtype: int64"
      ]
     },
     "execution_count": 94,
     "metadata": {},
     "output_type": "execute_result"
    }
   ],
   "source": [
    "# Bivariate analisis SPECIES - FATALITY\n",
    "\n",
    "species_clean_fatal_analysis = ['species_clean', 'fatal_y/n']\n",
    "dupe_mask_prova = shark_df.duplicated(subset=species_clean_fatal_analysis, keep=False)\n",
    "shark_df[dupe_mask_prova].sort_values(by=species_clean_fatal_analysis)\n",
    "\n",
    "# Cuántas veces se repite cada combinación de las columnas clave\n",
    "shark_df.groupby(species_clean_fatal_analysis).size().sort_values(ascending=False).head(10)"
   ]
  },
  {
   "cell_type": "code",
   "execution_count": 95,
   "id": "93c8d7f7",
   "metadata": {},
   "outputs": [
    {
     "data": {
      "text/html": [
       "<style type=\"text/css\">\n",
       "#T_ad39c th {\n",
       "  background-color: #4CAF50;\n",
       "  color: white;\n",
       "  font-size: 14px;\n",
       "  text-align: center;\n",
       "}\n",
       "#T_ad39c td {\n",
       "  font-size: 12px;\n",
       "  text-align: center;\n",
       "}\n",
       "#T_ad39c_row0_col2 {\n",
       "  background-color: #081d58;\n",
       "  color: #f1f1f1;\n",
       "}\n",
       "#T_ad39c_row1_col2 {\n",
       "  background-color: #24459c;\n",
       "  color: #f1f1f1;\n",
       "}\n",
       "#T_ad39c_row2_col2 {\n",
       "  background-color: #299dc1;\n",
       "  color: #f1f1f1;\n",
       "}\n",
       "#T_ad39c_row3_col2 {\n",
       "  background-color: #42b6c4;\n",
       "  color: #f1f1f1;\n",
       "}\n",
       "#T_ad39c_row4_col2 {\n",
       "  background-color: #48b9c3;\n",
       "  color: #f1f1f1;\n",
       "}\n",
       "#T_ad39c_row5_col2 {\n",
       "  background-color: #92d5b9;\n",
       "  color: #000000;\n",
       "}\n",
       "#T_ad39c_row6_col2 {\n",
       "  background-color: #a2dbb8;\n",
       "  color: #000000;\n",
       "}\n",
       "#T_ad39c_row7_col2 {\n",
       "  background-color: #d4eeb3;\n",
       "  color: #000000;\n",
       "}\n",
       "#T_ad39c_row8_col2 {\n",
       "  background-color: #d9f0b3;\n",
       "  color: #000000;\n",
       "}\n",
       "#T_ad39c_row9_col2 {\n",
       "  background-color: #ddf2b2;\n",
       "  color: #000000;\n",
       "}\n",
       "#T_ad39c_row10_col2 {\n",
       "  background-color: #ecf7b1;\n",
       "  color: #000000;\n",
       "}\n",
       "#T_ad39c_row11_col2 {\n",
       "  background-color: #edf8b2;\n",
       "  color: #000000;\n",
       "}\n",
       "#T_ad39c_row12_col2 {\n",
       "  background-color: #f0f9b7;\n",
       "  color: #000000;\n",
       "}\n",
       "#T_ad39c_row13_col2, #T_ad39c_row14_col2 {\n",
       "  background-color: #f1fabb;\n",
       "  color: #000000;\n",
       "}\n",
       "#T_ad39c_row15_col2 {\n",
       "  background-color: #f3fabd;\n",
       "  color: #000000;\n",
       "}\n",
       "#T_ad39c_row16_col2 {\n",
       "  background-color: #f4fbc1;\n",
       "  color: #000000;\n",
       "}\n",
       "#T_ad39c_row17_col2, #T_ad39c_row18_col2 {\n",
       "  background-color: #f7fcc7;\n",
       "  color: #000000;\n",
       "}\n",
       "#T_ad39c_row19_col2, #T_ad39c_row20_col2, #T_ad39c_row21_col2, #T_ad39c_row22_col2 {\n",
       "  background-color: #f8fcca;\n",
       "  color: #000000;\n",
       "}\n",
       "#T_ad39c_row23_col2 {\n",
       "  background-color: #fafdce;\n",
       "  color: #000000;\n",
       "}\n",
       "#T_ad39c_row24_col2, #T_ad39c_row25_col2, #T_ad39c_row26_col2 {\n",
       "  background-color: #fcfed3;\n",
       "  color: #000000;\n",
       "}\n",
       "#T_ad39c_row27_col2 {\n",
       "  background-color: #fdfed5;\n",
       "  color: #000000;\n",
       "}\n",
       "#T_ad39c_row28_col2, #T_ad39c_row29_col2, #T_ad39c_row30_col2, #T_ad39c_row31_col2 {\n",
       "  background-color: #feffd8;\n",
       "  color: #000000;\n",
       "}\n",
       "#T_ad39c_row32_col2, #T_ad39c_row33_col2, #T_ad39c_row34_col2, #T_ad39c_row35_col2, #T_ad39c_row36_col2, #T_ad39c_row37_col2 {\n",
       "  background-color: #ffffd9;\n",
       "  color: #000000;\n",
       "}\n",
       "</style>\n",
       "<table id=\"T_ad39c\">\n",
       "  <caption>🦈 Shark Attacks by Species and Fatality</caption>\n",
       "  <thead>\n",
       "    <tr>\n",
       "      <th class=\"blank level0\" >&nbsp;</th>\n",
       "      <th id=\"T_ad39c_level0_col0\" class=\"col_heading level0 col0\" >species_clean</th>\n",
       "      <th id=\"T_ad39c_level0_col1\" class=\"col_heading level0 col1\" >fatal_y/n</th>\n",
       "      <th id=\"T_ad39c_level0_col2\" class=\"col_heading level0 col2\" >count</th>\n",
       "      <th id=\"T_ad39c_level0_col3\" class=\"col_heading level0 col3\" >Relative (%)</th>\n",
       "    </tr>\n",
       "  </thead>\n",
       "  <tbody>\n",
       "    <tr>\n",
       "      <th id=\"T_ad39c_level0_row0\" class=\"row_heading level0 row0\" >0</th>\n",
       "      <td id=\"T_ad39c_row0_col0\" class=\"data row0 col0\" >small</td>\n",
       "      <td id=\"T_ad39c_row0_col1\" class=\"data row0 col1\" >n</td>\n",
       "      <td id=\"T_ad39c_row0_col2\" class=\"data row0 col2\" >198</td>\n",
       "      <td id=\"T_ad39c_row0_col3\" class=\"data row0 col3\" >17%</td>\n",
       "    </tr>\n",
       "    <tr>\n",
       "      <th id=\"T_ad39c_level0_row1\" class=\"row_heading level0 row1\" >1</th>\n",
       "      <td id=\"T_ad39c_row1_col0\" class=\"data row1 col0\" >white shark</td>\n",
       "      <td id=\"T_ad39c_row1_col1\" class=\"data row1 col1\" >n</td>\n",
       "      <td id=\"T_ad39c_row1_col2\" class=\"data row1 col2\" >163</td>\n",
       "      <td id=\"T_ad39c_row1_col3\" class=\"data row1 col3\" >14%</td>\n",
       "    </tr>\n",
       "    <tr>\n",
       "      <th id=\"T_ad39c_level0_row2\" class=\"row_heading level0 row2\" >2</th>\n",
       "      <td id=\"T_ad39c_row2_col0\" class=\"data row2 col0\" >bull shark</td>\n",
       "      <td id=\"T_ad39c_row2_col1\" class=\"data row2 col1\" >n</td>\n",
       "      <td id=\"T_ad39c_row2_col2\" class=\"data row2 col2\" >116</td>\n",
       "      <td id=\"T_ad39c_row2_col3\" class=\"data row2 col3\" >10%</td>\n",
       "    </tr>\n",
       "    <tr>\n",
       "      <th id=\"T_ad39c_level0_row3\" class=\"row_heading level0 row3\" >3</th>\n",
       "      <td id=\"T_ad39c_row3_col0\" class=\"data row3 col0\" >tiger shark</td>\n",
       "      <td id=\"T_ad39c_row3_col1\" class=\"data row3 col1\" >n</td>\n",
       "      <td id=\"T_ad39c_row3_col2\" class=\"data row3 col2\" >99</td>\n",
       "      <td id=\"T_ad39c_row3_col3\" class=\"data row3 col3\" >8%</td>\n",
       "    </tr>\n",
       "    <tr>\n",
       "      <th id=\"T_ad39c_level0_row4\" class=\"row_heading level0 row4\" >4</th>\n",
       "      <td id=\"T_ad39c_row4_col0\" class=\"data row4 col0\" >medium</td>\n",
       "      <td id=\"T_ad39c_row4_col1\" class=\"data row4 col1\" >n</td>\n",
       "      <td id=\"T_ad39c_row4_col2\" class=\"data row4 col2\" >97</td>\n",
       "      <td id=\"T_ad39c_row4_col3\" class=\"data row4 col3\" >8%</td>\n",
       "    </tr>\n",
       "    <tr>\n",
       "      <th id=\"T_ad39c_level0_row5\" class=\"row_heading level0 row5\" >5</th>\n",
       "      <td id=\"T_ad39c_row5_col0\" class=\"data row5 col0\" >other species</td>\n",
       "      <td id=\"T_ad39c_row5_col1\" class=\"data row5 col1\" >n</td>\n",
       "      <td id=\"T_ad39c_row5_col2\" class=\"data row5 col2\" >68</td>\n",
       "      <td id=\"T_ad39c_row5_col3\" class=\"data row5 col3\" >6%</td>\n",
       "    </tr>\n",
       "    <tr>\n",
       "      <th id=\"T_ad39c_level0_row6\" class=\"row_heading level0 row6\" >6</th>\n",
       "      <td id=\"T_ad39c_row6_col0\" class=\"data row6 col0\" >white shark</td>\n",
       "      <td id=\"T_ad39c_row6_col1\" class=\"data row6 col1\" >y</td>\n",
       "      <td id=\"T_ad39c_row6_col2\" class=\"data row6 col2\" >63</td>\n",
       "      <td id=\"T_ad39c_row6_col3\" class=\"data row6 col3\" >5%</td>\n",
       "    </tr>\n",
       "    <tr>\n",
       "      <th id=\"T_ad39c_level0_row7\" class=\"row_heading level0 row7\" >7</th>\n",
       "      <td id=\"T_ad39c_row7_col0\" class=\"data row7 col0\" >blacktip shark</td>\n",
       "      <td id=\"T_ad39c_row7_col1\" class=\"data row7 col1\" >n</td>\n",
       "      <td id=\"T_ad39c_row7_col2\" class=\"data row7 col2\" >42</td>\n",
       "      <td id=\"T_ad39c_row7_col3\" class=\"data row7 col3\" >4%</td>\n",
       "    </tr>\n",
       "    <tr>\n",
       "      <th id=\"T_ad39c_level0_row8\" class=\"row_heading level0 row8\" >8</th>\n",
       "      <td id=\"T_ad39c_row8_col0\" class=\"data row8 col0\" >bronze whaler shark</td>\n",
       "      <td id=\"T_ad39c_row8_col1\" class=\"data row8 col1\" >n</td>\n",
       "      <td id=\"T_ad39c_row8_col2\" class=\"data row8 col2\" >39</td>\n",
       "      <td id=\"T_ad39c_row8_col3\" class=\"data row8 col3\" >3%</td>\n",
       "    </tr>\n",
       "    <tr>\n",
       "      <th id=\"T_ad39c_level0_row9\" class=\"row_heading level0 row9\" >9</th>\n",
       "      <td id=\"T_ad39c_row9_col0\" class=\"data row9 col0\" >unknown</td>\n",
       "      <td id=\"T_ad39c_row9_col1\" class=\"data row9 col1\" >n</td>\n",
       "      <td id=\"T_ad39c_row9_col2\" class=\"data row9 col2\" >36</td>\n",
       "      <td id=\"T_ad39c_row9_col3\" class=\"data row9 col3\" >3%</td>\n",
       "    </tr>\n",
       "    <tr>\n",
       "      <th id=\"T_ad39c_level0_row10\" class=\"row_heading level0 row10\" >10</th>\n",
       "      <td id=\"T_ad39c_row10_col0\" class=\"data row10 col0\" >sand tiger shark</td>\n",
       "      <td id=\"T_ad39c_row10_col1\" class=\"data row10 col1\" >n</td>\n",
       "      <td id=\"T_ad39c_row10_col2\" class=\"data row10 col2\" >27</td>\n",
       "      <td id=\"T_ad39c_row10_col3\" class=\"data row10 col3\" >2%</td>\n",
       "    </tr>\n",
       "    <tr>\n",
       "      <th id=\"T_ad39c_level0_row11\" class=\"row_heading level0 row11\" >11</th>\n",
       "      <td id=\"T_ad39c_row11_col0\" class=\"data row11 col0\" >blacktip shark or spinner / sandbar</td>\n",
       "      <td id=\"T_ad39c_row11_col1\" class=\"data row11 col1\" >n</td>\n",
       "      <td id=\"T_ad39c_row11_col2\" class=\"data row11 col2\" >25</td>\n",
       "      <td id=\"T_ad39c_row11_col3\" class=\"data row11 col3\" >2%</td>\n",
       "    </tr>\n",
       "    <tr>\n",
       "      <th id=\"T_ad39c_level0_row12\" class=\"row_heading level0 row12\" >12</th>\n",
       "      <td id=\"T_ad39c_row12_col0\" class=\"data row12 col0\" >grey reef shark</td>\n",
       "      <td id=\"T_ad39c_row12_col1\" class=\"data row12 col1\" >n</td>\n",
       "      <td id=\"T_ad39c_row12_col2\" class=\"data row12 col2\" >22</td>\n",
       "      <td id=\"T_ad39c_row12_col3\" class=\"data row12 col3\" >2%</td>\n",
       "    </tr>\n",
       "    <tr>\n",
       "      <th id=\"T_ad39c_level0_row13\" class=\"row_heading level0 row13\" >13</th>\n",
       "      <td id=\"T_ad39c_row13_col0\" class=\"data row13 col0\" >wobbegong shark</td>\n",
       "      <td id=\"T_ad39c_row13_col1\" class=\"data row13 col1\" >n</td>\n",
       "      <td id=\"T_ad39c_row13_col2\" class=\"data row13 col2\" >20</td>\n",
       "      <td id=\"T_ad39c_row13_col3\" class=\"data row13 col3\" >2%</td>\n",
       "    </tr>\n",
       "    <tr>\n",
       "      <th id=\"T_ad39c_level0_row14\" class=\"row_heading level0 row14\" >14</th>\n",
       "      <td id=\"T_ad39c_row14_col0\" class=\"data row14 col0\" >tiger shark</td>\n",
       "      <td id=\"T_ad39c_row14_col1\" class=\"data row14 col1\" >y</td>\n",
       "      <td id=\"T_ad39c_row14_col2\" class=\"data row14 col2\" >20</td>\n",
       "      <td id=\"T_ad39c_row14_col3\" class=\"data row14 col3\" >2%</td>\n",
       "    </tr>\n",
       "    <tr>\n",
       "      <th id=\"T_ad39c_level0_row15\" class=\"row_heading level0 row15\" >15</th>\n",
       "      <td id=\"T_ad39c_row15_col0\" class=\"data row15 col0\" >nurse shark</td>\n",
       "      <td id=\"T_ad39c_row15_col1\" class=\"data row15 col1\" >n</td>\n",
       "      <td id=\"T_ad39c_row15_col2\" class=\"data row15 col2\" >18</td>\n",
       "      <td id=\"T_ad39c_row15_col3\" class=\"data row15 col3\" >2%</td>\n",
       "    </tr>\n",
       "    <tr>\n",
       "      <th id=\"T_ad39c_level0_row16\" class=\"row_heading level0 row16\" >16</th>\n",
       "      <td id=\"T_ad39c_row16_col0\" class=\"data row16 col0\" >bull shark</td>\n",
       "      <td id=\"T_ad39c_row16_col1\" class=\"data row16 col1\" >y</td>\n",
       "      <td id=\"T_ad39c_row16_col2\" class=\"data row16 col2\" >16</td>\n",
       "      <td id=\"T_ad39c_row16_col3\" class=\"data row16 col3\" >1%</td>\n",
       "    </tr>\n",
       "    <tr>\n",
       "      <th id=\"T_ad39c_level0_row17\" class=\"row_heading level0 row17\" >17</th>\n",
       "      <td id=\"T_ad39c_row17_col0\" class=\"data row17 col0\" >spinner shark</td>\n",
       "      <td id=\"T_ad39c_row17_col1\" class=\"data row17 col1\" >n</td>\n",
       "      <td id=\"T_ad39c_row17_col2\" class=\"data row17 col2\" >12</td>\n",
       "      <td id=\"T_ad39c_row17_col3\" class=\"data row17 col3\" >1%</td>\n",
       "    </tr>\n",
       "    <tr>\n",
       "      <th id=\"T_ad39c_level0_row18\" class=\"row_heading level0 row18\" >18</th>\n",
       "      <td id=\"T_ad39c_row18_col0\" class=\"data row18 col0\" >lemon shark</td>\n",
       "      <td id=\"T_ad39c_row18_col1\" class=\"data row18 col1\" >n</td>\n",
       "      <td id=\"T_ad39c_row18_col2\" class=\"data row18 col2\" >12</td>\n",
       "      <td id=\"T_ad39c_row18_col3\" class=\"data row18 col3\" >1%</td>\n",
       "    </tr>\n",
       "    <tr>\n",
       "      <th id=\"T_ad39c_level0_row19\" class=\"row_heading level0 row19\" >19</th>\n",
       "      <td id=\"T_ad39c_row19_col0\" class=\"data row19 col0\" >oceanic whitetip shark</td>\n",
       "      <td id=\"T_ad39c_row19_col1\" class=\"data row19 col1\" >n</td>\n",
       "      <td id=\"T_ad39c_row19_col2\" class=\"data row19 col2\" >11</td>\n",
       "      <td id=\"T_ad39c_row19_col3\" class=\"data row19 col3\" >1%</td>\n",
       "    </tr>\n",
       "    <tr>\n",
       "      <th id=\"T_ad39c_level0_row20\" class=\"row_heading level0 row20\" >20</th>\n",
       "      <td id=\"T_ad39c_row20_col0\" class=\"data row20 col0\" >blacktip reef shark</td>\n",
       "      <td id=\"T_ad39c_row20_col1\" class=\"data row20 col1\" >n</td>\n",
       "      <td id=\"T_ad39c_row20_col2\" class=\"data row20 col2\" >11</td>\n",
       "      <td id=\"T_ad39c_row20_col3\" class=\"data row20 col3\" >1%</td>\n",
       "    </tr>\n",
       "    <tr>\n",
       "      <th id=\"T_ad39c_level0_row21\" class=\"row_heading level0 row21\" >21</th>\n",
       "      <td id=\"T_ad39c_row21_col0\" class=\"data row21 col0\" >broadnose sevengill shark</td>\n",
       "      <td id=\"T_ad39c_row21_col1\" class=\"data row21 col1\" >n</td>\n",
       "      <td id=\"T_ad39c_row21_col2\" class=\"data row21 col2\" >11</td>\n",
       "      <td id=\"T_ad39c_row21_col3\" class=\"data row21 col3\" >1%</td>\n",
       "    </tr>\n",
       "    <tr>\n",
       "      <th id=\"T_ad39c_level0_row22\" class=\"row_heading level0 row22\" >22</th>\n",
       "      <td id=\"T_ad39c_row22_col0\" class=\"data row22 col0\" >large</td>\n",
       "      <td id=\"T_ad39c_row22_col1\" class=\"data row22 col1\" >n</td>\n",
       "      <td id=\"T_ad39c_row22_col2\" class=\"data row22 col2\" >11</td>\n",
       "      <td id=\"T_ad39c_row22_col3\" class=\"data row22 col3\" >1%</td>\n",
       "    </tr>\n",
       "    <tr>\n",
       "      <th id=\"T_ad39c_level0_row23\" class=\"row_heading level0 row23\" >23</th>\n",
       "      <td id=\"T_ad39c_row23_col0\" class=\"data row23 col0\" >shortfin mako shark</td>\n",
       "      <td id=\"T_ad39c_row23_col1\" class=\"data row23 col1\" >n</td>\n",
       "      <td id=\"T_ad39c_row23_col2\" class=\"data row23 col2\" >8</td>\n",
       "      <td id=\"T_ad39c_row23_col3\" class=\"data row23 col3\" >1%</td>\n",
       "    </tr>\n",
       "    <tr>\n",
       "      <th id=\"T_ad39c_level0_row24\" class=\"row_heading level0 row24\" >24</th>\n",
       "      <td id=\"T_ad39c_row24_col0\" class=\"data row24 col0\" >tiger shark or oceanic whitetip shark/bull shark</td>\n",
       "      <td id=\"T_ad39c_row24_col1\" class=\"data row24 col1\" >n</td>\n",
       "      <td id=\"T_ad39c_row24_col2\" class=\"data row24 col2\" >5</td>\n",
       "      <td id=\"T_ad39c_row24_col3\" class=\"data row24 col3\" >0%</td>\n",
       "    </tr>\n",
       "    <tr>\n",
       "      <th id=\"T_ad39c_level0_row25\" class=\"row_heading level0 row25\" >25</th>\n",
       "      <td id=\"T_ad39c_row25_col0\" class=\"data row25 col0\" >tiger shark or oceanic whitetip shark/bull shark</td>\n",
       "      <td id=\"T_ad39c_row25_col1\" class=\"data row25 col1\" >y</td>\n",
       "      <td id=\"T_ad39c_row25_col2\" class=\"data row25 col2\" >5</td>\n",
       "      <td id=\"T_ad39c_row25_col3\" class=\"data row25 col3\" >0%</td>\n",
       "    </tr>\n",
       "    <tr>\n",
       "      <th id=\"T_ad39c_level0_row26\" class=\"row_heading level0 row26\" >26</th>\n",
       "      <td id=\"T_ad39c_row26_col0\" class=\"data row26 col0\" >medium</td>\n",
       "      <td id=\"T_ad39c_row26_col1\" class=\"data row26 col1\" >y</td>\n",
       "      <td id=\"T_ad39c_row26_col2\" class=\"data row26 col2\" >5</td>\n",
       "      <td id=\"T_ad39c_row26_col3\" class=\"data row26 col3\" >0%</td>\n",
       "    </tr>\n",
       "    <tr>\n",
       "      <th id=\"T_ad39c_level0_row27\" class=\"row_heading level0 row27\" >27</th>\n",
       "      <td id=\"T_ad39c_row27_col0\" class=\"data row27 col0\" >large</td>\n",
       "      <td id=\"T_ad39c_row27_col1\" class=\"data row27 col1\" >y</td>\n",
       "      <td id=\"T_ad39c_row27_col2\" class=\"data row27 col2\" >4</td>\n",
       "      <td id=\"T_ad39c_row27_col3\" class=\"data row27 col3\" >0%</td>\n",
       "    </tr>\n",
       "    <tr>\n",
       "      <th id=\"T_ad39c_level0_row28\" class=\"row_heading level0 row28\" >28</th>\n",
       "      <td id=\"T_ad39c_row28_col0\" class=\"data row28 col0\" >unknown</td>\n",
       "      <td id=\"T_ad39c_row28_col1\" class=\"data row28 col1\" >y</td>\n",
       "      <td id=\"T_ad39c_row28_col2\" class=\"data row28 col2\" >2</td>\n",
       "      <td id=\"T_ad39c_row28_col3\" class=\"data row28 col3\" >0%</td>\n",
       "    </tr>\n",
       "    <tr>\n",
       "      <th id=\"T_ad39c_level0_row29\" class=\"row_heading level0 row29\" >29</th>\n",
       "      <td id=\"T_ad39c_row29_col0\" class=\"data row29 col0\" >other species</td>\n",
       "      <td id=\"T_ad39c_row29_col1\" class=\"data row29 col1\" >unknown</td>\n",
       "      <td id=\"T_ad39c_row29_col2\" class=\"data row29 col2\" >2</td>\n",
       "      <td id=\"T_ad39c_row29_col3\" class=\"data row29 col3\" >0%</td>\n",
       "    </tr>\n",
       "    <tr>\n",
       "      <th id=\"T_ad39c_level0_row30\" class=\"row_heading level0 row30\" >30</th>\n",
       "      <td id=\"T_ad39c_row30_col0\" class=\"data row30 col0\" >oceanic whitetip shark</td>\n",
       "      <td id=\"T_ad39c_row30_col1\" class=\"data row30 col1\" >y</td>\n",
       "      <td id=\"T_ad39c_row30_col2\" class=\"data row30 col2\" >2</td>\n",
       "      <td id=\"T_ad39c_row30_col3\" class=\"data row30 col3\" >0%</td>\n",
       "    </tr>\n",
       "    <tr>\n",
       "      <th id=\"T_ad39c_level0_row31\" class=\"row_heading level0 row31\" >31</th>\n",
       "      <td id=\"T_ad39c_row31_col0\" class=\"data row31 col0\" >unknown</td>\n",
       "      <td id=\"T_ad39c_row31_col1\" class=\"data row31 col1\" >unknown</td>\n",
       "      <td id=\"T_ad39c_row31_col2\" class=\"data row31 col2\" >2</td>\n",
       "      <td id=\"T_ad39c_row31_col3\" class=\"data row31 col3\" >0%</td>\n",
       "    </tr>\n",
       "    <tr>\n",
       "      <th id=\"T_ad39c_level0_row32\" class=\"row_heading level0 row32\" >32</th>\n",
       "      <td id=\"T_ad39c_row32_col0\" class=\"data row32 col0\" >bronze whaler shark</td>\n",
       "      <td id=\"T_ad39c_row32_col1\" class=\"data row32 col1\" >unknown</td>\n",
       "      <td id=\"T_ad39c_row32_col2\" class=\"data row32 col2\" >1</td>\n",
       "      <td id=\"T_ad39c_row32_col3\" class=\"data row32 col3\" >0%</td>\n",
       "    </tr>\n",
       "    <tr>\n",
       "      <th id=\"T_ad39c_level0_row33\" class=\"row_heading level0 row33\" >33</th>\n",
       "      <td id=\"T_ad39c_row33_col0\" class=\"data row33 col0\" >bull shark</td>\n",
       "      <td id=\"T_ad39c_row33_col1\" class=\"data row33 col1\" >unknown</td>\n",
       "      <td id=\"T_ad39c_row33_col2\" class=\"data row33 col2\" >1</td>\n",
       "      <td id=\"T_ad39c_row33_col3\" class=\"data row33 col3\" >0%</td>\n",
       "    </tr>\n",
       "    <tr>\n",
       "      <th id=\"T_ad39c_level0_row34\" class=\"row_heading level0 row34\" >34</th>\n",
       "      <td id=\"T_ad39c_row34_col0\" class=\"data row34 col0\" >oceanic whitetip shark</td>\n",
       "      <td id=\"T_ad39c_row34_col1\" class=\"data row34 col1\" >unknown</td>\n",
       "      <td id=\"T_ad39c_row34_col2\" class=\"data row34 col2\" >1</td>\n",
       "      <td id=\"T_ad39c_row34_col3\" class=\"data row34 col3\" >0%</td>\n",
       "    </tr>\n",
       "    <tr>\n",
       "      <th id=\"T_ad39c_level0_row35\" class=\"row_heading level0 row35\" >35</th>\n",
       "      <td id=\"T_ad39c_row35_col0\" class=\"data row35 col0\" >shortfin mako shark</td>\n",
       "      <td id=\"T_ad39c_row35_col1\" class=\"data row35 col1\" >y</td>\n",
       "      <td id=\"T_ad39c_row35_col2\" class=\"data row35 col2\" >1</td>\n",
       "      <td id=\"T_ad39c_row35_col3\" class=\"data row35 col3\" >0%</td>\n",
       "    </tr>\n",
       "    <tr>\n",
       "      <th id=\"T_ad39c_level0_row36\" class=\"row_heading level0 row36\" >36</th>\n",
       "      <td id=\"T_ad39c_row36_col0\" class=\"data row36 col0\" >tiger shark</td>\n",
       "      <td id=\"T_ad39c_row36_col1\" class=\"data row36 col1\" >unknown</td>\n",
       "      <td id=\"T_ad39c_row36_col2\" class=\"data row36 col2\" >1</td>\n",
       "      <td id=\"T_ad39c_row36_col3\" class=\"data row36 col3\" >0%</td>\n",
       "    </tr>\n",
       "    <tr>\n",
       "      <th id=\"T_ad39c_level0_row37\" class=\"row_heading level0 row37\" >37</th>\n",
       "      <td id=\"T_ad39c_row37_col0\" class=\"data row37 col0\" >white shark</td>\n",
       "      <td id=\"T_ad39c_row37_col1\" class=\"data row37 col1\" >unknown</td>\n",
       "      <td id=\"T_ad39c_row37_col2\" class=\"data row37 col2\" >1</td>\n",
       "      <td id=\"T_ad39c_row37_col3\" class=\"data row37 col3\" >0%</td>\n",
       "    </tr>\n",
       "  </tbody>\n",
       "</table>\n"
      ],
      "text/plain": [
       "<pandas.io.formats.style.Styler at 0x1c033731c40>"
      ]
     },
     "metadata": {},
     "output_type": "display_data"
    }
   ],
   "source": [
    "# Aggregate counts if not already aggregated\n",
    "freq_table = (\n",
    "    shark_df.groupby(['species_clean', 'fatal_y/n'])\n",
    "    .size()\n",
    "    .reset_index(name='count')\n",
    ")\n",
    "\n",
    "# Add relative frequency column\n",
    "total_attacks = freq_table['count'].sum()\n",
    "freq_table['Relative (%)'] = ((freq_table['count'] / total_attacks) * 100).round(0).astype(int)\n",
    "\n",
    "# Optional: Sort by count descending\n",
    "freq_table = freq_table.sort_values(by='count', ascending=False).reset_index(drop=True)\n",
    "\n",
    "# Styling for presentation\n",
    "styled_table = (\n",
    "    freq_table.style\n",
    "    .set_caption(\"🦈 Shark Attacks by Species and Fatality\")\n",
    "    .set_table_styles([\n",
    "        {'selector': 'th', 'props': [('background-color', '#4CAF50'),\n",
    "                                     ('color', 'white'),\n",
    "                                     ('font-size', '14px'),\n",
    "                                     ('text-align', 'center')]},\n",
    "        {'selector': 'td', 'props': [('font-size', '12px'),\n",
    "                                     ('text-align', 'center')]}\n",
    "    ])\n",
    "    .background_gradient(subset=['count'], cmap='YlGnBu')  # heatmap on counts\n",
    "    .format({'count': \"{:,}\", 'Relative (%)': \"{}%\"})       # format numbers and %\n",
    ")\n",
    "\n",
    "# Display\n",
    "display(styled_table)"
   ]
  },
  {
   "cell_type": "code",
   "execution_count": 96,
   "id": "db0461e6",
   "metadata": {},
   "outputs": [
    {
     "data": {
      "text/html": [
       "<style type=\"text/css\">\n",
       "#T_87fa6 th {\n",
       "  background-color: #4CAF50;\n",
       "  color: white;\n",
       "  font-size: 14px;\n",
       "  text-align: center;\n",
       "}\n",
       "#T_87fa6 td {\n",
       "  font-size: 12px;\n",
       "  text-align: center;\n",
       "}\n",
       "#T_87fa6_row0_col2 {\n",
       "  background-color: #081d58;\n",
       "  color: #f1f1f1;\n",
       "}\n",
       "#T_87fa6_row1_col2 {\n",
       "  background-color: #2352a3;\n",
       "  color: #f1f1f1;\n",
       "}\n",
       "#T_87fa6_row2_col2 {\n",
       "  background-color: #44b7c4;\n",
       "  color: #f1f1f1;\n",
       "}\n",
       "#T_87fa6_row3_col2 {\n",
       "  background-color: #7ecdbb;\n",
       "  color: #000000;\n",
       "}\n",
       "#T_87fa6_row4_col2 {\n",
       "  background-color: #78cbbc;\n",
       "  color: #000000;\n",
       "}\n",
       "#T_87fa6_row5_col2 {\n",
       "  background-color: #d7efb3;\n",
       "  color: #000000;\n",
       "}\n",
       "#T_87fa6_row6_col2 {\n",
       "  background-color: #e1f3b2;\n",
       "  color: #000000;\n",
       "}\n",
       "#T_87fa6_row7_col2 {\n",
       "  background-color: #fafdce;\n",
       "  color: #000000;\n",
       "}\n",
       "#T_87fa6_row8_col2 {\n",
       "  background-color: #fdfed4;\n",
       "  color: #000000;\n",
       "}\n",
       "#T_87fa6_row9_col2 {\n",
       "  background-color: #ffffd9;\n",
       "  color: #000000;\n",
       "}\n",
       "</style>\n",
       "<table id=\"T_87fa6\">\n",
       "  <caption>🦈 Top 10 Shark Attacks by Species and Fatality (Relative %)</caption>\n",
       "  <thead>\n",
       "    <tr>\n",
       "      <th class=\"blank level0\" >&nbsp;</th>\n",
       "      <th id=\"T_87fa6_level0_col0\" class=\"col_heading level0 col0\" >species_clean</th>\n",
       "      <th id=\"T_87fa6_level0_col1\" class=\"col_heading level0 col1\" >fatal_y/n</th>\n",
       "      <th id=\"T_87fa6_level0_col2\" class=\"col_heading level0 col2\" >count</th>\n",
       "      <th id=\"T_87fa6_level0_col3\" class=\"col_heading level0 col3\" >Relative (%)</th>\n",
       "    </tr>\n",
       "  </thead>\n",
       "  <tbody>\n",
       "    <tr>\n",
       "      <th id=\"T_87fa6_level0_row0\" class=\"row_heading level0 row0\" >0</th>\n",
       "      <td id=\"T_87fa6_row0_col0\" class=\"data row0 col0\" >small</td>\n",
       "      <td id=\"T_87fa6_row0_col1\" class=\"data row0 col1\" >n</td>\n",
       "      <td id=\"T_87fa6_row0_col2\" class=\"data row0 col2\" >198</td>\n",
       "      <td id=\"T_87fa6_row0_col3\" class=\"data row0 col3\" >17%</td>\n",
       "    </tr>\n",
       "    <tr>\n",
       "      <th id=\"T_87fa6_level0_row1\" class=\"row_heading level0 row1\" >1</th>\n",
       "      <td id=\"T_87fa6_row1_col0\" class=\"data row1 col0\" >white shark</td>\n",
       "      <td id=\"T_87fa6_row1_col1\" class=\"data row1 col1\" >n</td>\n",
       "      <td id=\"T_87fa6_row1_col2\" class=\"data row1 col2\" >163</td>\n",
       "      <td id=\"T_87fa6_row1_col3\" class=\"data row1 col3\" >14%</td>\n",
       "    </tr>\n",
       "    <tr>\n",
       "      <th id=\"T_87fa6_level0_row2\" class=\"row_heading level0 row2\" >2</th>\n",
       "      <td id=\"T_87fa6_row2_col0\" class=\"data row2 col0\" >bull shark</td>\n",
       "      <td id=\"T_87fa6_row2_col1\" class=\"data row2 col1\" >n</td>\n",
       "      <td id=\"T_87fa6_row2_col2\" class=\"data row2 col2\" >116</td>\n",
       "      <td id=\"T_87fa6_row2_col3\" class=\"data row2 col3\" >10%</td>\n",
       "    </tr>\n",
       "    <tr>\n",
       "      <th id=\"T_87fa6_level0_row3\" class=\"row_heading level0 row3\" >3</th>\n",
       "      <td id=\"T_87fa6_row3_col0\" class=\"data row3 col0\" >medium</td>\n",
       "      <td id=\"T_87fa6_row3_col1\" class=\"data row3 col1\" >n</td>\n",
       "      <td id=\"T_87fa6_row3_col2\" class=\"data row3 col2\" >97</td>\n",
       "      <td id=\"T_87fa6_row3_col3\" class=\"data row3 col3\" >8%</td>\n",
       "    </tr>\n",
       "    <tr>\n",
       "      <th id=\"T_87fa6_level0_row4\" class=\"row_heading level0 row4\" >4</th>\n",
       "      <td id=\"T_87fa6_row4_col0\" class=\"data row4 col0\" >tiger shark</td>\n",
       "      <td id=\"T_87fa6_row4_col1\" class=\"data row4 col1\" >n</td>\n",
       "      <td id=\"T_87fa6_row4_col2\" class=\"data row4 col2\" >99</td>\n",
       "      <td id=\"T_87fa6_row4_col3\" class=\"data row4 col3\" >8%</td>\n",
       "    </tr>\n",
       "    <tr>\n",
       "      <th id=\"T_87fa6_level0_row5\" class=\"row_heading level0 row5\" >5</th>\n",
       "      <td id=\"T_87fa6_row5_col0\" class=\"data row5 col0\" >other species</td>\n",
       "      <td id=\"T_87fa6_row5_col1\" class=\"data row5 col1\" >n</td>\n",
       "      <td id=\"T_87fa6_row5_col2\" class=\"data row5 col2\" >68</td>\n",
       "      <td id=\"T_87fa6_row5_col3\" class=\"data row5 col3\" >6%</td>\n",
       "    </tr>\n",
       "    <tr>\n",
       "      <th id=\"T_87fa6_level0_row6\" class=\"row_heading level0 row6\" >6</th>\n",
       "      <td id=\"T_87fa6_row6_col0\" class=\"data row6 col0\" >white shark</td>\n",
       "      <td id=\"T_87fa6_row6_col1\" class=\"data row6 col1\" >y</td>\n",
       "      <td id=\"T_87fa6_row6_col2\" class=\"data row6 col2\" >63</td>\n",
       "      <td id=\"T_87fa6_row6_col3\" class=\"data row6 col3\" >5%</td>\n",
       "    </tr>\n",
       "    <tr>\n",
       "      <th id=\"T_87fa6_level0_row7\" class=\"row_heading level0 row7\" >7</th>\n",
       "      <td id=\"T_87fa6_row7_col0\" class=\"data row7 col0\" >blacktip shark</td>\n",
       "      <td id=\"T_87fa6_row7_col1\" class=\"data row7 col1\" >n</td>\n",
       "      <td id=\"T_87fa6_row7_col2\" class=\"data row7 col2\" >42</td>\n",
       "      <td id=\"T_87fa6_row7_col3\" class=\"data row7 col3\" >4%</td>\n",
       "    </tr>\n",
       "    <tr>\n",
       "      <th id=\"T_87fa6_level0_row8\" class=\"row_heading level0 row8\" >8</th>\n",
       "      <td id=\"T_87fa6_row8_col0\" class=\"data row8 col0\" >bronze whaler shark</td>\n",
       "      <td id=\"T_87fa6_row8_col1\" class=\"data row8 col1\" >n</td>\n",
       "      <td id=\"T_87fa6_row8_col2\" class=\"data row8 col2\" >39</td>\n",
       "      <td id=\"T_87fa6_row8_col3\" class=\"data row8 col3\" >3%</td>\n",
       "    </tr>\n",
       "    <tr>\n",
       "      <th id=\"T_87fa6_level0_row9\" class=\"row_heading level0 row9\" >9</th>\n",
       "      <td id=\"T_87fa6_row9_col0\" class=\"data row9 col0\" >unknown</td>\n",
       "      <td id=\"T_87fa6_row9_col1\" class=\"data row9 col1\" >n</td>\n",
       "      <td id=\"T_87fa6_row9_col2\" class=\"data row9 col2\" >36</td>\n",
       "      <td id=\"T_87fa6_row9_col3\" class=\"data row9 col3\" >3%</td>\n",
       "    </tr>\n",
       "  </tbody>\n",
       "</table>\n"
      ],
      "text/plain": [
       "<pandas.io.formats.style.Styler at 0x1c03393d640>"
      ]
     },
     "metadata": {},
     "output_type": "display_data"
    }
   ],
   "source": [
    "# Aggregate counts if not already aggregated\n",
    "freq_table = (\n",
    "    shark_df.groupby(['species_clean', 'fatal_y/n'])\n",
    "    .size()\n",
    "    .reset_index(name='count')\n",
    ")\n",
    "\n",
    "# Add relative frequency column\n",
    "total_attacks = freq_table['count'].sum()\n",
    "freq_table['Relative (%)'] = ((freq_table['count'] / total_attacks) * 100).round(0).astype(int)\n",
    "\n",
    "# Sort by relative frequency descending and select top 10\n",
    "freq_table_top10 = freq_table.sort_values(by='Relative (%)', ascending=False).head(10).reset_index(drop=True)\n",
    "\n",
    "# Styling for presentation\n",
    "styled_table = (\n",
    "    freq_table_top10.style\n",
    "    .set_caption(\"🦈 Top 10 Shark Attacks by Species and Fatality (Relative %)\")\n",
    "    .set_table_styles([\n",
    "        {'selector': 'th', 'props': [('background-color', '#4CAF50'),\n",
    "                                     ('color', 'white'),\n",
    "                                     ('font-size', '14px'),\n",
    "                                     ('text-align', 'center')]},\n",
    "        {'selector': 'td', 'props': [('font-size', '12px'),\n",
    "                                     ('text-align', 'center')]}\n",
    "    ])\n",
    "    .background_gradient(subset=['count'], cmap='YlGnBu')  # heatmap on counts\n",
    "    .format({'count': \"{:,}\", 'Relative (%)': \"{}%\"})       # format numbers and %\n",
    ")\n",
    "\n",
    "# --- Display ---\n",
    "display(styled_table)"
   ]
  },
  {
   "cell_type": "code",
   "execution_count": 97,
   "id": "61f595cd",
   "metadata": {},
   "outputs": [
    {
     "name": "stdout",
     "output_type": "stream",
     "text": [
      "Requirement already satisfied: statsmodels in c:\\users\\marle\\appdata\\local\\programs\\python\\python312\\lib\\site-packages (0.14.5)\n",
      "Requirement already satisfied: numpy<3,>=1.22.3 in c:\\users\\marle\\appdata\\local\\programs\\python\\python312\\lib\\site-packages (from statsmodels) (2.3.4)\n",
      "Requirement already satisfied: scipy!=1.9.2,>=1.8 in c:\\users\\marle\\appdata\\local\\programs\\python\\python312\\lib\\site-packages (from statsmodels) (1.16.3)\n",
      "Requirement already satisfied: pandas!=2.1.0,>=1.4 in c:\\users\\marle\\appdata\\local\\programs\\python\\python312\\lib\\site-packages (from statsmodels) (2.3.3)\n",
      "Requirement already satisfied: patsy>=0.5.6 in c:\\users\\marle\\appdata\\local\\programs\\python\\python312\\lib\\site-packages (from statsmodels) (1.0.2)\n",
      "Requirement already satisfied: packaging>=21.3 in c:\\users\\marle\\appdata\\roaming\\python\\python312\\site-packages (from statsmodels) (25.0)\n",
      "Requirement already satisfied: python-dateutil>=2.8.2 in c:\\users\\marle\\appdata\\roaming\\python\\python312\\site-packages (from pandas!=2.1.0,>=1.4->statsmodels) (2.9.0.post0)\n",
      "Requirement already satisfied: pytz>=2020.1 in c:\\users\\marle\\appdata\\local\\programs\\python\\python312\\lib\\site-packages (from pandas!=2.1.0,>=1.4->statsmodels) (2025.2)\n",
      "Requirement already satisfied: tzdata>=2022.7 in c:\\users\\marle\\appdata\\local\\programs\\python\\python312\\lib\\site-packages (from pandas!=2.1.0,>=1.4->statsmodels) (2025.2)\n",
      "Requirement already satisfied: six>=1.5 in c:\\users\\marle\\appdata\\roaming\\python\\python312\\site-packages (from python-dateutil>=2.8.2->pandas!=2.1.0,>=1.4->statsmodels) (1.17.0)\n"
     ]
    },
    {
     "name": "stderr",
     "output_type": "stream",
     "text": [
      "\n",
      "[notice] A new release of pip is available: 24.3.1 -> 25.3\n",
      "[notice] To update, run: python.exe -m pip install --upgrade pip\n"
     ]
    }
   ],
   "source": [
    "!pip install statsmodels"
   ]
  },
  {
   "cell_type": "code",
   "execution_count": 98,
   "id": "5de9d2b8",
   "metadata": {},
   "outputs": [
    {
     "name": "stdout",
     "output_type": "stream",
     "text": [
      "Warning: Maximum number of iterations has been exceeded.\n",
      "         Current function value: 0.248172\n",
      "         Iterations: 35\n",
      "                           Logit Regression Results                           \n",
      "==============================================================================\n",
      "Dep. Variable:           fatal_binary   No. Observations:                 1131\n",
      "Model:                          Logit   Df Residuals:                     1110\n",
      "Method:                           MLE   Df Model:                           20\n",
      "Date:                Sat, 01 Nov 2025   Pseudo R-squ.:                  0.2495\n",
      "Time:                        12:31:38   Log-Likelihood:                -280.68\n",
      "converged:                      False   LL-Null:                       -374.00\n",
      "Covariance Type:            nonrobust   LLR p-value:                 4.854e-29\n",
      "==========================================================================================================================================\n",
      "                                                                             coef    std err          z      P>|z|      [0.025      0.975]\n",
      "------------------------------------------------------------------------------------------------------------------------------------------\n",
      "Intercept                                                                -31.1007   1.65e+06  -1.89e-05      1.000   -3.23e+06    3.23e+06\n",
      "C(species_grouped)[T.blacktip shark]                                       7.4152   1.65e+06    4.5e-06      1.000   -3.23e+06    3.23e+06\n",
      "C(species_grouped)[T.blacktip shark or spinner / sandbar]                  8.4147   1.65e+06    5.1e-06      1.000   -3.23e+06    3.23e+06\n",
      "C(species_grouped)[T.broadnose sevengill shark]                            2.0116   1.76e+06   1.14e-06      1.000   -3.46e+06    3.46e+06\n",
      "C(species_grouped)[T.bronze whaler shark]                                 -6.8517    2.8e+07  -2.45e-07      1.000   -5.48e+07    5.48e+07\n",
      "C(species_grouped)[T.bull shark]                                          29.1197   1.65e+06   1.77e-05      1.000   -3.23e+06    3.23e+06\n",
      "C(species_grouped)[T.grey reef shark]                                      8.4422   1.65e+06   5.12e-06      1.000   -3.23e+06    3.23e+06\n",
      "C(species_grouped)[T.large]                                               30.0891   1.65e+06   1.82e-05      1.000   -3.23e+06    3.23e+06\n",
      "C(species_grouped)[T.lemon shark]                                          1.9066   1.77e+06   1.08e-06      1.000   -3.46e+06    3.46e+06\n",
      "C(species_grouped)[T.medium]                                              28.1354   1.65e+06   1.71e-05      1.000   -3.23e+06    3.23e+06\n",
      "C(species_grouped)[T.nurse shark]                                         11.0025   1.65e+06   6.67e-06      1.000   -3.23e+06    3.23e+06\n",
      "C(species_grouped)[T.oceanic whitetip shark]                              29.3959   1.65e+06   1.78e-05      1.000   -3.23e+06    3.23e+06\n",
      "C(species_grouped)[T.other species]                                       -8.5935   5.05e+07   -1.7e-07      1.000    -9.9e+07     9.9e+07\n",
      "C(species_grouped)[T.sand tiger shark]                                     8.3750   1.65e+06   5.08e-06      1.000   -3.23e+06    3.23e+06\n",
      "C(species_grouped)[T.shortfin mako shark]                                 29.0212   1.65e+06   1.76e-05      1.000   -3.23e+06    3.23e+06\n",
      "C(species_grouped)[T.small]                                              -66.3253   1.02e+20  -6.52e-19      1.000   -1.99e+20    1.99e+20\n",
      "C(species_grouped)[T.spinner shark]                                        1.9066   1.77e+06   1.08e-06      1.000   -3.46e+06    3.46e+06\n",
      "C(species_grouped)[T.tiger shark]                                         29.5013   1.65e+06   1.79e-05      1.000   -3.23e+06    3.23e+06\n",
      "C(species_grouped)[T.tiger shark or oceanic whitetip shark/bull shark]    31.1007   1.65e+06   1.89e-05      1.000   -3.23e+06    3.23e+06\n",
      "C(species_grouped)[T.white shark]                                         30.1501   1.65e+06   1.83e-05      1.000   -3.23e+06    3.23e+06\n",
      "C(species_grouped)[T.wobbegong shark]                                      8.7992   1.65e+06   5.34e-06      1.000   -3.23e+06    3.23e+06\n",
      "==========================================================================================================================================\n",
      "\n",
      "Possibly complete quasi-separation: A fraction 0.45 of observations can be\n",
      "perfectly predicted. This might indicate that there is complete\n",
      "quasi-separation. In this case some parameters will not be identified.\n",
      "\n",
      "Odds Ratios por especie:\n"
     ]
    },
    {
     "name": "stderr",
     "output_type": "stream",
     "text": [
      "c:\\Users\\marle\\AppData\\Local\\Programs\\Python\\Python312\\Lib\\site-packages\\statsmodels\\base\\model.py:607: ConvergenceWarning: Maximum Likelihood optimization failed to converge. Check mle_retvals\n",
      "  warnings.warn(\"Maximum Likelihood optimization failed to \"\n",
      "C:\\Users\\marle\\AppData\\Local\\Temp\\ipykernel_4688\\1396873844.py:33: RuntimeWarning: overflow encountered in exp\n",
      "  \"CI_upper\": conf[1].apply(lambda x: round(np.exp(x),2))\n"
     ]
    },
    {
     "data": {
      "text/html": [
       "<div>\n",
       "<style scoped>\n",
       "    .dataframe tbody tr th:only-of-type {\n",
       "        vertical-align: middle;\n",
       "    }\n",
       "\n",
       "    .dataframe tbody tr th {\n",
       "        vertical-align: top;\n",
       "    }\n",
       "\n",
       "    .dataframe thead th {\n",
       "        text-align: right;\n",
       "    }\n",
       "</style>\n",
       "<table border=\"1\" class=\"dataframe\">\n",
       "  <thead>\n",
       "    <tr style=\"text-align: right;\">\n",
       "      <th></th>\n",
       "      <th>Species</th>\n",
       "      <th>OR</th>\n",
       "      <th>CI_lower</th>\n",
       "      <th>CI_upper</th>\n",
       "    </tr>\n",
       "  </thead>\n",
       "  <tbody>\n",
       "    <tr>\n",
       "      <th>0</th>\n",
       "      <td>C(species_grouped)[T.tiger shark or oceanic wh...</td>\n",
       "      <td>3.212551e+13</td>\n",
       "      <td>0.0</td>\n",
       "      <td>inf</td>\n",
       "    </tr>\n",
       "    <tr>\n",
       "      <th>1</th>\n",
       "      <td>C(species_grouped)[T.white shark]</td>\n",
       "      <td>1.241661e+13</td>\n",
       "      <td>0.0</td>\n",
       "      <td>inf</td>\n",
       "    </tr>\n",
       "    <tr>\n",
       "      <th>2</th>\n",
       "      <td>C(species_grouped)[T.large]</td>\n",
       "      <td>1.168201e+13</td>\n",
       "      <td>0.0</td>\n",
       "      <td>inf</td>\n",
       "    </tr>\n",
       "    <tr>\n",
       "      <th>3</th>\n",
       "      <td>C(species_grouped)[T.tiger shark]</td>\n",
       "      <td>6.490003e+12</td>\n",
       "      <td>0.0</td>\n",
       "      <td>inf</td>\n",
       "    </tr>\n",
       "    <tr>\n",
       "      <th>4</th>\n",
       "      <td>C(species_grouped)[T.oceanic whitetip shark]</td>\n",
       "      <td>5.841003e+12</td>\n",
       "      <td>0.0</td>\n",
       "      <td>inf</td>\n",
       "    </tr>\n",
       "    <tr>\n",
       "      <th>5</th>\n",
       "      <td>C(species_grouped)[T.bull shark]</td>\n",
       "      <td>4.431105e+12</td>\n",
       "      <td>0.0</td>\n",
       "      <td>inf</td>\n",
       "    </tr>\n",
       "    <tr>\n",
       "      <th>6</th>\n",
       "      <td>C(species_grouped)[T.shortfin mako shark]</td>\n",
       "      <td>4.015689e+12</td>\n",
       "      <td>0.0</td>\n",
       "      <td>inf</td>\n",
       "    </tr>\n",
       "    <tr>\n",
       "      <th>7</th>\n",
       "      <td>C(species_grouped)[T.medium]</td>\n",
       "      <td>1.655954e+12</td>\n",
       "      <td>0.0</td>\n",
       "      <td>inf</td>\n",
       "    </tr>\n",
       "    <tr>\n",
       "      <th>8</th>\n",
       "      <td>C(species_grouped)[T.nurse shark]</td>\n",
       "      <td>6.002288e+04</td>\n",
       "      <td>0.0</td>\n",
       "      <td>inf</td>\n",
       "    </tr>\n",
       "    <tr>\n",
       "      <th>9</th>\n",
       "      <td>C(species_grouped)[T.wobbegong shark]</td>\n",
       "      <td>6.628750e+03</td>\n",
       "      <td>0.0</td>\n",
       "      <td>inf</td>\n",
       "    </tr>\n",
       "    <tr>\n",
       "      <th>10</th>\n",
       "      <td>C(species_grouped)[T.grey reef shark]</td>\n",
       "      <td>4.638960e+03</td>\n",
       "      <td>0.0</td>\n",
       "      <td>inf</td>\n",
       "    </tr>\n",
       "    <tr>\n",
       "      <th>11</th>\n",
       "      <td>C(species_grouped)[T.blacktip shark or spinner...</td>\n",
       "      <td>4.513000e+03</td>\n",
       "      <td>0.0</td>\n",
       "      <td>inf</td>\n",
       "    </tr>\n",
       "    <tr>\n",
       "      <th>12</th>\n",
       "      <td>C(species_grouped)[T.sand tiger shark]</td>\n",
       "      <td>4.337470e+03</td>\n",
       "      <td>0.0</td>\n",
       "      <td>inf</td>\n",
       "    </tr>\n",
       "    <tr>\n",
       "      <th>13</th>\n",
       "      <td>C(species_grouped)[T.blacktip shark]</td>\n",
       "      <td>1.661010e+03</td>\n",
       "      <td>0.0</td>\n",
       "      <td>inf</td>\n",
       "    </tr>\n",
       "    <tr>\n",
       "      <th>14</th>\n",
       "      <td>C(species_grouped)[T.broadnose sevengill shark]</td>\n",
       "      <td>7.480000e+00</td>\n",
       "      <td>0.0</td>\n",
       "      <td>inf</td>\n",
       "    </tr>\n",
       "    <tr>\n",
       "      <th>15</th>\n",
       "      <td>C(species_grouped)[T.spinner shark]</td>\n",
       "      <td>6.730000e+00</td>\n",
       "      <td>0.0</td>\n",
       "      <td>inf</td>\n",
       "    </tr>\n",
       "    <tr>\n",
       "      <th>16</th>\n",
       "      <td>C(species_grouped)[T.lemon shark]</td>\n",
       "      <td>6.730000e+00</td>\n",
       "      <td>0.0</td>\n",
       "      <td>inf</td>\n",
       "    </tr>\n",
       "    <tr>\n",
       "      <th>17</th>\n",
       "      <td>C(species_grouped)[T.bronze whaler shark]</td>\n",
       "      <td>0.000000e+00</td>\n",
       "      <td>0.0</td>\n",
       "      <td>inf</td>\n",
       "    </tr>\n",
       "    <tr>\n",
       "      <th>18</th>\n",
       "      <td>Intercept</td>\n",
       "      <td>0.000000e+00</td>\n",
       "      <td>0.0</td>\n",
       "      <td>inf</td>\n",
       "    </tr>\n",
       "    <tr>\n",
       "      <th>19</th>\n",
       "      <td>C(species_grouped)[T.other species]</td>\n",
       "      <td>0.000000e+00</td>\n",
       "      <td>0.0</td>\n",
       "      <td>inf</td>\n",
       "    </tr>\n",
       "    <tr>\n",
       "      <th>20</th>\n",
       "      <td>C(species_grouped)[T.small]</td>\n",
       "      <td>0.000000e+00</td>\n",
       "      <td>0.0</td>\n",
       "      <td>inf</td>\n",
       "    </tr>\n",
       "  </tbody>\n",
       "</table>\n",
       "</div>"
      ],
      "text/plain": [
       "                                              Species            OR  CI_lower  \\\n",
       "0   C(species_grouped)[T.tiger shark or oceanic wh...  3.212551e+13       0.0   \n",
       "1                   C(species_grouped)[T.white shark]  1.241661e+13       0.0   \n",
       "2                         C(species_grouped)[T.large]  1.168201e+13       0.0   \n",
       "3                   C(species_grouped)[T.tiger shark]  6.490003e+12       0.0   \n",
       "4        C(species_grouped)[T.oceanic whitetip shark]  5.841003e+12       0.0   \n",
       "5                    C(species_grouped)[T.bull shark]  4.431105e+12       0.0   \n",
       "6           C(species_grouped)[T.shortfin mako shark]  4.015689e+12       0.0   \n",
       "7                        C(species_grouped)[T.medium]  1.655954e+12       0.0   \n",
       "8                   C(species_grouped)[T.nurse shark]  6.002288e+04       0.0   \n",
       "9               C(species_grouped)[T.wobbegong shark]  6.628750e+03       0.0   \n",
       "10              C(species_grouped)[T.grey reef shark]  4.638960e+03       0.0   \n",
       "11  C(species_grouped)[T.blacktip shark or spinner...  4.513000e+03       0.0   \n",
       "12             C(species_grouped)[T.sand tiger shark]  4.337470e+03       0.0   \n",
       "13               C(species_grouped)[T.blacktip shark]  1.661010e+03       0.0   \n",
       "14    C(species_grouped)[T.broadnose sevengill shark]  7.480000e+00       0.0   \n",
       "15                C(species_grouped)[T.spinner shark]  6.730000e+00       0.0   \n",
       "16                  C(species_grouped)[T.lemon shark]  6.730000e+00       0.0   \n",
       "17          C(species_grouped)[T.bronze whaler shark]  0.000000e+00       0.0   \n",
       "18                                          Intercept  0.000000e+00       0.0   \n",
       "19                C(species_grouped)[T.other species]  0.000000e+00       0.0   \n",
       "20                        C(species_grouped)[T.small]  0.000000e+00       0.0   \n",
       "\n",
       "    CI_upper  \n",
       "0        inf  \n",
       "1        inf  \n",
       "2        inf  \n",
       "3        inf  \n",
       "4        inf  \n",
       "5        inf  \n",
       "6        inf  \n",
       "7        inf  \n",
       "8        inf  \n",
       "9        inf  \n",
       "10       inf  \n",
       "11       inf  \n",
       "12       inf  \n",
       "13       inf  \n",
       "14       inf  \n",
       "15       inf  \n",
       "16       inf  \n",
       "17       inf  \n",
       "18       inf  \n",
       "19       inf  \n",
       "20       inf  "
      ]
     },
     "metadata": {},
     "output_type": "display_data"
    }
   ],
   "source": [
    "import pandas as pd\n",
    "import numpy as np\n",
    "import statsmodels.api as sm\n",
    "from statsmodels.formula.api import logit\n",
    "\n",
    "# 1. Preparar la variable dependiente\n",
    "shark_df = shark_df.copy()\n",
    "shark_df = shark_df[shark_df['fatal_y/n'].isin(['y','n'])]  # excluir unknown\n",
    "shark_df['fatal_binary'] = shark_df['fatal_y/n'].map({'y':1, 'n':0})\n",
    "\n",
    "# 2. Excluir especies desconocidas\n",
    "shark_df_clean = shark_df[shark_df['species_clean'] != 'unknown'].copy()\n",
    "\n",
    "# 3. Agrupar especies poco frecuentes\n",
    "species_counts = shark_df_clean['species_clean'].value_counts()\n",
    "rare_species = species_counts[species_counts < 8].index\n",
    "shark_df_clean = shark_df_clean.copy()  # evitar warnings\n",
    "shark_df_clean['species_grouped'] = shark_df_clean['species_clean'].replace(rare_species, 'Other')\n",
    "\n",
    "# 4. Ajustar regresión logística\n",
    "model = logit(\"fatal_binary ~ C(species_grouped)\", data=shark_df_clean).fit()\n",
    "\n",
    "# 5. Mostrar resultados\n",
    "print(model.summary())\n",
    "\n",
    "# 6. Calcular odds ratios y CI\n",
    "params = model.params\n",
    "conf = model.conf_int()\n",
    "odds_ratios = pd.DataFrame({\n",
    "    \"Species\": params.index,\n",
    "    \"OR\": params.apply(lambda x: round(np.exp(x),2)),\n",
    "    \"CI_lower\": conf[0].apply(lambda x: round(np.exp(x),2)),\n",
    "    \"CI_upper\": conf[1].apply(lambda x: round(np.exp(x),2))\n",
    "})\n",
    "\n",
    "# Ordenar por mayor OR\n",
    "odds_ratios = odds_ratios.sort_values(\"OR\", ascending=False).reset_index(drop=True)\n",
    "\n",
    "print(\"\\nOdds Ratios por especie:\")\n",
    "display(odds_ratios)"
   ]
  },
  {
   "cell_type": "code",
   "execution_count": 99,
   "id": "e7e60947",
   "metadata": {},
   "outputs": [
    {
     "name": "stdout",
     "output_type": "stream",
     "text": [
      "Variables codificadas en el modelo:\n",
      "['Intercept', 'C(species_grouped)[T.blacktip shark]', 'C(species_grouped)[T.blacktip shark or spinner / sandbar]', 'C(species_grouped)[T.broadnose sevengill shark]', 'C(species_grouped)[T.bronze whaler shark]', 'C(species_grouped)[T.bull shark]', 'C(species_grouped)[T.grey reef shark]', 'C(species_grouped)[T.large]', 'C(species_grouped)[T.lemon shark]', 'C(species_grouped)[T.medium]', 'C(species_grouped)[T.nurse shark]', 'C(species_grouped)[T.oceanic whitetip shark]', 'C(species_grouped)[T.other species]', 'C(species_grouped)[T.sand tiger shark]', 'C(species_grouped)[T.shortfin mako shark]', 'C(species_grouped)[T.small]', 'C(species_grouped)[T.spinner shark]', 'C(species_grouped)[T.tiger shark]', 'C(species_grouped)[T.tiger shark or oceanic whitetip shark/bull shark]', 'C(species_grouped)[T.white shark]', 'C(species_grouped)[T.wobbegong shark]']\n",
      "\n",
      "Categorías de species_grouped en el modelo (dummies):\n",
      "['C(species_grouped)[T.blacktip shark]', 'C(species_grouped)[T.blacktip shark or spinner / sandbar]', 'C(species_grouped)[T.broadnose sevengill shark]', 'C(species_grouped)[T.bronze whaler shark]', 'C(species_grouped)[T.bull shark]', 'C(species_grouped)[T.grey reef shark]', 'C(species_grouped)[T.large]', 'C(species_grouped)[T.lemon shark]', 'C(species_grouped)[T.medium]', 'C(species_grouped)[T.nurse shark]', 'C(species_grouped)[T.oceanic whitetip shark]', 'C(species_grouped)[T.other species]', 'C(species_grouped)[T.sand tiger shark]', 'C(species_grouped)[T.shortfin mako shark]', 'C(species_grouped)[T.small]', 'C(species_grouped)[T.spinner shark]', 'C(species_grouped)[T.tiger shark]', 'C(species_grouped)[T.tiger shark or oceanic whitetip shark/bull shark]', 'C(species_grouped)[T.white shark]', 'C(species_grouped)[T.wobbegong shark]']\n"
     ]
    }
   ],
   "source": [
    "# Mostrar los nombres de las variables en el modelo\n",
    "print(\"Variables codificadas en el modelo:\")\n",
    "print(model.model.exog_names)\n",
    "\n",
    "# Identificar la categoría de referencia\n",
    "# En statsmodels, la categoría de referencia es la que **no aparece** como dummy\n",
    "reference_category = [col for col in model.model.data.orig_exog.columns if 'species_grouped' in col]\n",
    "print(\"\\nCategorías de species_grouped en el modelo (dummies):\")\n",
    "print(reference_category)"
   ]
  },
  {
   "cell_type": "code",
   "execution_count": 100,
   "id": "cf288149",
   "metadata": {},
   "outputs": [
    {
     "name": "stdout",
     "output_type": "stream",
     "text": [
      "Frecuencias absolutas:\n"
     ]
    },
    {
     "data": {
      "text/html": [
       "<div>\n",
       "<style scoped>\n",
       "    .dataframe tbody tr th:only-of-type {\n",
       "        vertical-align: middle;\n",
       "    }\n",
       "\n",
       "    .dataframe tbody tr th {\n",
       "        vertical-align: top;\n",
       "    }\n",
       "\n",
       "    .dataframe thead th {\n",
       "        text-align: right;\n",
       "    }\n",
       "</style>\n",
       "<table border=\"1\" class=\"dataframe\">\n",
       "  <thead>\n",
       "    <tr style=\"text-align: right;\">\n",
       "      <th>fatal_y/n</th>\n",
       "      <th>n</th>\n",
       "      <th>y</th>\n",
       "    </tr>\n",
       "    <tr>\n",
       "      <th>species_clean</th>\n",
       "      <th></th>\n",
       "      <th></th>\n",
       "    </tr>\n",
       "  </thead>\n",
       "  <tbody>\n",
       "    <tr>\n",
       "      <th>white shark</th>\n",
       "      <td>163</td>\n",
       "      <td>63</td>\n",
       "    </tr>\n",
       "    <tr>\n",
       "      <th>tiger shark</th>\n",
       "      <td>99</td>\n",
       "      <td>20</td>\n",
       "    </tr>\n",
       "    <tr>\n",
       "      <th>bull shark</th>\n",
       "      <td>116</td>\n",
       "      <td>16</td>\n",
       "    </tr>\n",
       "    <tr>\n",
       "      <th>medium</th>\n",
       "      <td>97</td>\n",
       "      <td>5</td>\n",
       "    </tr>\n",
       "    <tr>\n",
       "      <th>tiger shark or oceanic whitetip shark/bull shark</th>\n",
       "      <td>5</td>\n",
       "      <td>5</td>\n",
       "    </tr>\n",
       "    <tr>\n",
       "      <th>large</th>\n",
       "      <td>11</td>\n",
       "      <td>4</td>\n",
       "    </tr>\n",
       "    <tr>\n",
       "      <th>oceanic whitetip shark</th>\n",
       "      <td>11</td>\n",
       "      <td>2</td>\n",
       "    </tr>\n",
       "    <tr>\n",
       "      <th>shortfin mako shark</th>\n",
       "      <td>8</td>\n",
       "      <td>1</td>\n",
       "    </tr>\n",
       "    <tr>\n",
       "      <th>bronze whaler shark</th>\n",
       "      <td>39</td>\n",
       "      <td>0</td>\n",
       "    </tr>\n",
       "    <tr>\n",
       "      <th>blacktip reef shark</th>\n",
       "      <td>11</td>\n",
       "      <td>0</td>\n",
       "    </tr>\n",
       "    <tr>\n",
       "      <th>broadnose sevengill shark</th>\n",
       "      <td>11</td>\n",
       "      <td>0</td>\n",
       "    </tr>\n",
       "    <tr>\n",
       "      <th>blacktip shark or spinner / sandbar</th>\n",
       "      <td>25</td>\n",
       "      <td>0</td>\n",
       "    </tr>\n",
       "    <tr>\n",
       "      <th>blacktip shark</th>\n",
       "      <td>42</td>\n",
       "      <td>0</td>\n",
       "    </tr>\n",
       "    <tr>\n",
       "      <th>other species</th>\n",
       "      <td>68</td>\n",
       "      <td>0</td>\n",
       "    </tr>\n",
       "    <tr>\n",
       "      <th>nurse shark</th>\n",
       "      <td>18</td>\n",
       "      <td>0</td>\n",
       "    </tr>\n",
       "    <tr>\n",
       "      <th>grey reef shark</th>\n",
       "      <td>22</td>\n",
       "      <td>0</td>\n",
       "    </tr>\n",
       "    <tr>\n",
       "      <th>lemon shark</th>\n",
       "      <td>12</td>\n",
       "      <td>0</td>\n",
       "    </tr>\n",
       "    <tr>\n",
       "      <th>spinner shark</th>\n",
       "      <td>12</td>\n",
       "      <td>0</td>\n",
       "    </tr>\n",
       "    <tr>\n",
       "      <th>small</th>\n",
       "      <td>198</td>\n",
       "      <td>0</td>\n",
       "    </tr>\n",
       "    <tr>\n",
       "      <th>sand tiger shark</th>\n",
       "      <td>27</td>\n",
       "      <td>0</td>\n",
       "    </tr>\n",
       "    <tr>\n",
       "      <th>wobbegong shark</th>\n",
       "      <td>20</td>\n",
       "      <td>0</td>\n",
       "    </tr>\n",
       "  </tbody>\n",
       "</table>\n",
       "</div>"
      ],
      "text/plain": [
       "fatal_y/n                                           n   y\n",
       "species_clean                                            \n",
       "white shark                                       163  63\n",
       "tiger shark                                        99  20\n",
       "bull shark                                        116  16\n",
       "medium                                             97   5\n",
       "tiger shark or oceanic whitetip shark/bull shark    5   5\n",
       "large                                              11   4\n",
       "oceanic whitetip shark                             11   2\n",
       "shortfin mako shark                                 8   1\n",
       "bronze whaler shark                                39   0\n",
       "blacktip reef shark                                11   0\n",
       "broadnose sevengill shark                          11   0\n",
       "blacktip shark or spinner / sandbar                25   0\n",
       "blacktip shark                                     42   0\n",
       "other species                                      68   0\n",
       "nurse shark                                        18   0\n",
       "grey reef shark                                    22   0\n",
       "lemon shark                                        12   0\n",
       "spinner shark                                      12   0\n",
       "small                                             198   0\n",
       "sand tiger shark                                   27   0\n",
       "wobbegong shark                                    20   0"
      ]
     },
     "metadata": {},
     "output_type": "display_data"
    },
    {
     "name": "stdout",
     "output_type": "stream",
     "text": [
      "Porcentaje de fatalidad por especie:\n"
     ]
    },
    {
     "data": {
      "text/html": [
       "<div>\n",
       "<style scoped>\n",
       "    .dataframe tbody tr th:only-of-type {\n",
       "        vertical-align: middle;\n",
       "    }\n",
       "\n",
       "    .dataframe tbody tr th {\n",
       "        vertical-align: top;\n",
       "    }\n",
       "\n",
       "    .dataframe thead th {\n",
       "        text-align: right;\n",
       "    }\n",
       "</style>\n",
       "<table border=\"1\" class=\"dataframe\">\n",
       "  <thead>\n",
       "    <tr style=\"text-align: right;\">\n",
       "      <th>fatal_y/n</th>\n",
       "      <th>n</th>\n",
       "      <th>y</th>\n",
       "    </tr>\n",
       "    <tr>\n",
       "      <th>species_clean</th>\n",
       "      <th></th>\n",
       "      <th></th>\n",
       "    </tr>\n",
       "  </thead>\n",
       "  <tbody>\n",
       "    <tr>\n",
       "      <th>white shark</th>\n",
       "      <td>72.1</td>\n",
       "      <td>27.9</td>\n",
       "    </tr>\n",
       "    <tr>\n",
       "      <th>tiger shark</th>\n",
       "      <td>83.2</td>\n",
       "      <td>16.8</td>\n",
       "    </tr>\n",
       "    <tr>\n",
       "      <th>bull shark</th>\n",
       "      <td>87.9</td>\n",
       "      <td>12.1</td>\n",
       "    </tr>\n",
       "    <tr>\n",
       "      <th>medium</th>\n",
       "      <td>95.1</td>\n",
       "      <td>4.9</td>\n",
       "    </tr>\n",
       "    <tr>\n",
       "      <th>tiger shark or oceanic whitetip shark/bull shark</th>\n",
       "      <td>50.0</td>\n",
       "      <td>50.0</td>\n",
       "    </tr>\n",
       "    <tr>\n",
       "      <th>large</th>\n",
       "      <td>73.3</td>\n",
       "      <td>26.7</td>\n",
       "    </tr>\n",
       "    <tr>\n",
       "      <th>oceanic whitetip shark</th>\n",
       "      <td>84.6</td>\n",
       "      <td>15.4</td>\n",
       "    </tr>\n",
       "    <tr>\n",
       "      <th>shortfin mako shark</th>\n",
       "      <td>88.9</td>\n",
       "      <td>11.1</td>\n",
       "    </tr>\n",
       "    <tr>\n",
       "      <th>bronze whaler shark</th>\n",
       "      <td>100.0</td>\n",
       "      <td>0.0</td>\n",
       "    </tr>\n",
       "    <tr>\n",
       "      <th>blacktip reef shark</th>\n",
       "      <td>100.0</td>\n",
       "      <td>0.0</td>\n",
       "    </tr>\n",
       "    <tr>\n",
       "      <th>broadnose sevengill shark</th>\n",
       "      <td>100.0</td>\n",
       "      <td>0.0</td>\n",
       "    </tr>\n",
       "    <tr>\n",
       "      <th>blacktip shark or spinner / sandbar</th>\n",
       "      <td>100.0</td>\n",
       "      <td>0.0</td>\n",
       "    </tr>\n",
       "    <tr>\n",
       "      <th>blacktip shark</th>\n",
       "      <td>100.0</td>\n",
       "      <td>0.0</td>\n",
       "    </tr>\n",
       "    <tr>\n",
       "      <th>other species</th>\n",
       "      <td>100.0</td>\n",
       "      <td>0.0</td>\n",
       "    </tr>\n",
       "    <tr>\n",
       "      <th>nurse shark</th>\n",
       "      <td>100.0</td>\n",
       "      <td>0.0</td>\n",
       "    </tr>\n",
       "    <tr>\n",
       "      <th>grey reef shark</th>\n",
       "      <td>100.0</td>\n",
       "      <td>0.0</td>\n",
       "    </tr>\n",
       "    <tr>\n",
       "      <th>lemon shark</th>\n",
       "      <td>100.0</td>\n",
       "      <td>0.0</td>\n",
       "    </tr>\n",
       "    <tr>\n",
       "      <th>spinner shark</th>\n",
       "      <td>100.0</td>\n",
       "      <td>0.0</td>\n",
       "    </tr>\n",
       "    <tr>\n",
       "      <th>small</th>\n",
       "      <td>100.0</td>\n",
       "      <td>0.0</td>\n",
       "    </tr>\n",
       "    <tr>\n",
       "      <th>sand tiger shark</th>\n",
       "      <td>100.0</td>\n",
       "      <td>0.0</td>\n",
       "    </tr>\n",
       "    <tr>\n",
       "      <th>wobbegong shark</th>\n",
       "      <td>100.0</td>\n",
       "      <td>0.0</td>\n",
       "    </tr>\n",
       "  </tbody>\n",
       "</table>\n",
       "</div>"
      ],
      "text/plain": [
       "fatal_y/n                                             n     y\n",
       "species_clean                                                \n",
       "white shark                                        72.1  27.9\n",
       "tiger shark                                        83.2  16.8\n",
       "bull shark                                         87.9  12.1\n",
       "medium                                             95.1   4.9\n",
       "tiger shark or oceanic whitetip shark/bull shark   50.0  50.0\n",
       "large                                              73.3  26.7\n",
       "oceanic whitetip shark                             84.6  15.4\n",
       "shortfin mako shark                                88.9  11.1\n",
       "bronze whaler shark                               100.0   0.0\n",
       "blacktip reef shark                               100.0   0.0\n",
       "broadnose sevengill shark                         100.0   0.0\n",
       "blacktip shark or spinner / sandbar               100.0   0.0\n",
       "blacktip shark                                    100.0   0.0\n",
       "other species                                     100.0   0.0\n",
       "nurse shark                                       100.0   0.0\n",
       "grey reef shark                                   100.0   0.0\n",
       "lemon shark                                       100.0   0.0\n",
       "spinner shark                                     100.0   0.0\n",
       "small                                             100.0   0.0\n",
       "sand tiger shark                                  100.0   0.0\n",
       "wobbegong shark                                   100.0   0.0"
      ]
     },
     "metadata": {},
     "output_type": "display_data"
    }
   ],
   "source": [
    "# Excluir unknown si quieres\n",
    "shark_df_clean = shark_df[shark_df['species_clean'] != 'unknown'].copy()\n",
    "\n",
    "# Tabla de contingencia: frecuencia absoluta\n",
    "cross_tab = pd.crosstab(shark_df_clean['species_clean'], shark_df_clean['fatal_y/n'])\n",
    "cross_tab = cross_tab.sort_values(by='y', ascending=False)  # ordenar por fatalidad\n",
    "print(\"Frecuencias absolutas:\")\n",
    "display(cross_tab)\n",
    "\n",
    "# Tabla de proporciones por especie\n",
    "cross_tab_rel = cross_tab.div(cross_tab.sum(axis=1), axis=0) * 100\n",
    "cross_tab_rel = cross_tab_rel.round(1)\n",
    "print(\"Porcentaje de fatalidad por especie:\")\n",
    "display(cross_tab_rel)"
   ]
  },
  {
   "cell_type": "code",
   "execution_count": 101,
   "id": "57a3f256",
   "metadata": {},
   "outputs": [
    {
     "name": "stdout",
     "output_type": "stream",
     "text": [
      "Frecuencias absolutas (especies >5 ataques fatales):\n"
     ]
    },
    {
     "data": {
      "text/html": [
       "<div>\n",
       "<style scoped>\n",
       "    .dataframe tbody tr th:only-of-type {\n",
       "        vertical-align: middle;\n",
       "    }\n",
       "\n",
       "    .dataframe tbody tr th {\n",
       "        vertical-align: top;\n",
       "    }\n",
       "\n",
       "    .dataframe thead th {\n",
       "        text-align: right;\n",
       "    }\n",
       "</style>\n",
       "<table border=\"1\" class=\"dataframe\">\n",
       "  <thead>\n",
       "    <tr style=\"text-align: right;\">\n",
       "      <th>fatal_y/n</th>\n",
       "      <th>n</th>\n",
       "      <th>y</th>\n",
       "    </tr>\n",
       "    <tr>\n",
       "      <th>species_clean</th>\n",
       "      <th></th>\n",
       "      <th></th>\n",
       "    </tr>\n",
       "  </thead>\n",
       "  <tbody>\n",
       "    <tr>\n",
       "      <th>white shark</th>\n",
       "      <td>163</td>\n",
       "      <td>63</td>\n",
       "    </tr>\n",
       "    <tr>\n",
       "      <th>tiger shark</th>\n",
       "      <td>99</td>\n",
       "      <td>20</td>\n",
       "    </tr>\n",
       "    <tr>\n",
       "      <th>bull shark</th>\n",
       "      <td>116</td>\n",
       "      <td>16</td>\n",
       "    </tr>\n",
       "  </tbody>\n",
       "</table>\n",
       "</div>"
      ],
      "text/plain": [
       "fatal_y/n        n   y\n",
       "species_clean         \n",
       "white shark    163  63\n",
       "tiger shark     99  20\n",
       "bull shark     116  16"
      ]
     },
     "metadata": {},
     "output_type": "display_data"
    },
    {
     "name": "stdout",
     "output_type": "stream",
     "text": [
      "Porcentaje de fatalidad por especie:\n"
     ]
    },
    {
     "data": {
      "text/html": [
       "<div>\n",
       "<style scoped>\n",
       "    .dataframe tbody tr th:only-of-type {\n",
       "        vertical-align: middle;\n",
       "    }\n",
       "\n",
       "    .dataframe tbody tr th {\n",
       "        vertical-align: top;\n",
       "    }\n",
       "\n",
       "    .dataframe thead th {\n",
       "        text-align: right;\n",
       "    }\n",
       "</style>\n",
       "<table border=\"1\" class=\"dataframe\">\n",
       "  <thead>\n",
       "    <tr style=\"text-align: right;\">\n",
       "      <th>fatal_y/n</th>\n",
       "      <th>n</th>\n",
       "      <th>y</th>\n",
       "    </tr>\n",
       "    <tr>\n",
       "      <th>species_clean</th>\n",
       "      <th></th>\n",
       "      <th></th>\n",
       "    </tr>\n",
       "  </thead>\n",
       "  <tbody>\n",
       "    <tr>\n",
       "      <th>white shark</th>\n",
       "      <td>72.1</td>\n",
       "      <td>27.9</td>\n",
       "    </tr>\n",
       "    <tr>\n",
       "      <th>tiger shark</th>\n",
       "      <td>83.2</td>\n",
       "      <td>16.8</td>\n",
       "    </tr>\n",
       "    <tr>\n",
       "      <th>bull shark</th>\n",
       "      <td>87.9</td>\n",
       "      <td>12.1</td>\n",
       "    </tr>\n",
       "  </tbody>\n",
       "</table>\n",
       "</div>"
      ],
      "text/plain": [
       "fatal_y/n         n     y\n",
       "species_clean            \n",
       "white shark    72.1  27.9\n",
       "tiger shark    83.2  16.8\n",
       "bull shark     87.9  12.1"
      ]
     },
     "metadata": {},
     "output_type": "display_data"
    },
    {
     "data": {
      "image/png": "[encoded data removed]",
      "text/plain": [
       "<Figure size 1200x600 with 1 Axes>"
      ]
     },
     "metadata": {},
     "output_type": "display_data"
    }
   ],
   "source": [
    "# Excluir unknown\n",
    "shark_df_clean = shark_df[shark_df['species_clean'] != 'unknown'].copy()\n",
    "\n",
    "# Contar ataques fatales por especie\n",
    "fatal_counts = shark_df_clean.groupby('species_clean')['fatal_y/n'].apply(lambda x: (x=='y').sum())\n",
    "\n",
    "# Seleccionar especies con más de 5 ataques fatales\n",
    "species_selected = fatal_counts[fatal_counts > 5].index\n",
    "shark_df_filtered = shark_df_clean[shark_df_clean['species_clean'].isin(species_selected)]\n",
    "\n",
    "# 1. Tabla de contingencia y proporciones\n",
    "cross_tab = pd.crosstab(shark_df_filtered['species_clean'], shark_df_filtered['fatal_y/n'])\n",
    "cross_tab = cross_tab.sort_values(by='y', ascending=False)  # ordenar por fatalidad\n",
    "print(\"Frecuencias absolutas (especies >5 ataques fatales):\")\n",
    "display(cross_tab)\n",
    "\n",
    "cross_tab_rel = cross_tab.div(cross_tab.sum(axis=1), axis=0) * 100\n",
    "cross_tab_rel = cross_tab_rel.round(1)\n",
    "print(\"Porcentaje de fatalidad por especie:\")\n",
    "display(cross_tab_rel)\n",
    "\n",
    "# 2. Visualización: gráfico de barras\n",
    "fatal_percentage = cross_tab_rel['y'].sort_values(ascending=False)\n",
    "\n",
    "plt.figure(figsize=(12,6))\n",
    "fatal_percentage.plot(kind='bar', color='red', edgecolor='black')\n",
    "plt.ylabel(\"Porcentaje de ataques fatales (%)\")\n",
    "plt.xlabel(\"Especie\")\n",
    "plt.title(\"Tasa de fatalidad por especie (especies con >5 ataques fatales)\")\n",
    "plt.xticks(rotation=45, ha='right')\n",
    "plt.tight_layout()\n",
    "plt.show()"
   ]
  },
  {
   "cell_type": "code",
   "execution_count": 102,
   "id": "737e3345",
   "metadata": {},
   "outputs": [
    {
     "name": "stdout",
     "output_type": "stream",
     "text": [
      "         species_clean  year  attack_count\n",
      "0  blacktip reef shark  2001             1\n",
      "1  blacktip reef shark  2006             2\n",
      "2  blacktip reef shark  2013             2\n",
      "3  blacktip reef shark  2014             2\n",
      "4  blacktip reef shark  2015             1\n"
     ]
    }
   ],
   "source": [
    "# Bivariate - Aggregate: count attacks per species per year\n",
    "bivariate_summary = (\n",
    "    shark_df.groupby(['species_clean', 'year'])\n",
    "    .size()\n",
    "    .reset_index(name='attack_count')\n",
    ")\n",
    "\n",
    "print(bivariate_summary.head())"
   ]
  },
  {
   "cell_type": "code",
   "execution_count": 103,
   "id": "05917c43",
   "metadata": {},
   "outputs": [
    {
     "data": {
      "image/png": "[encoded data removed]",
      "text/plain": [
       "<Figure size 1600x800 with 2 Axes>"
      ]
     },
     "metadata": {},
     "output_type": "display_data"
    }
   ],
   "source": [
    "heatmap_data = bivariate_summary.pivot(\n",
    "    index='species_clean',\n",
    "    columns='year',\n",
    "    values='attack_count'\n",
    ").fillna(0)  # missing combinations → 0 attacks\n",
    "\n",
    "plt.figure(figsize=(16, 8))\n",
    "sns.heatmap(\n",
    "    heatmap_data,\n",
    "    annot=True,       # show counts in cells\n",
    "    fmt='g',          # general number format\n",
    "    cmap='YlGnBu',    # color palette\n",
    "    linewidths=.5,\n",
    "    linecolor='gray',\n",
    "    cbar_kws={'label': 'Number of Attacks'}\n",
    ")\n",
    "\n",
    "plt.title('Shark Attacks by Species and Year', fontsize=16, fontweight='bold')\n",
    "plt.xlabel('Year', fontsize=14)\n",
    "plt.ylabel('Species', fontsize=14)\n",
    "plt.yticks(rotation=0)\n",
    "plt.tight_layout()\n",
    "plt.show()\n"
   ]
  },
  {
   "cell_type": "code",
   "execution_count": 104,
   "id": "1bb5a9b7",
   "metadata": {},
   "outputs": [
    {
     "name": "stdout",
     "output_type": "stream",
     "text": [
      "Empty DataFrame\n",
      "Columns: [year, type, country, state, activity, sex, fatal_y/n, species, species_clean, fatal_binary]\n",
      "Index: []\n",
      "year               0\n",
      "species_clean    752\n",
      "dtype: int64\n",
      "[2025 2024 2023 2022 2021 2020 2019 2018 2017 2016 2015 2014 2013 2012\n",
      " 2011 2010 2009 2008 2007 2006 2005 2004 2003 2002 2001 2000]\n"
     ]
    }
   ],
   "source": [
    "# Show all rows with missing Year\n",
    "missing_years = shark_df[shark_df['year'].isnull()]\n",
    "print(missing_years)\n",
    "\n",
    "print(shark_df[['year', 'species_clean']].isnull().sum())\n",
    "\n",
    "# Convert 'year' is numeric\n",
    "shark_df[\"year\"] = shark_df[\"year\"].astype(int)\n",
    "print(shark_df[\"year\"].unique())"
   ]
  },
  {
   "cell_type": "code",
   "execution_count": 105,
   "id": "4f4b0594",
   "metadata": {},
   "outputs": [
    {
     "data": {
      "text/plain": [
       "(1169, 10)"
      ]
     },
     "execution_count": 105,
     "metadata": {},
     "output_type": "execute_result"
    }
   ],
   "source": [
    "# Drop rows with missing values in 'year' or 'species_clean'\n",
    "shark_df_clean = shark_df.dropna(subset=[\"year\", \"species_clean\"])\n",
    "shark_df_clean.shape"
   ]
  },
  {
   "cell_type": "code",
   "execution_count": 106,
   "id": "3495713d",
   "metadata": {},
   "outputs": [
    {
     "name": "stdout",
     "output_type": "stream",
     "text": [
      "Requirement already satisfied: plotly in c:\\users\\marle\\appdata\\local\\programs\\python\\python312\\lib\\site-packages (6.3.1)\n",
      "Requirement already satisfied: narwhals>=1.15.1 in c:\\users\\marle\\appdata\\local\\programs\\python\\python312\\lib\\site-packages (from plotly) (2.10.0)\n",
      "Requirement already satisfied: packaging in c:\\users\\marle\\appdata\\roaming\\python\\python312\\site-packages (from plotly) (25.0)\n"
     ]
    },
    {
     "name": "stderr",
     "output_type": "stream",
     "text": [
      "\n",
      "[notice] A new release of pip is available: 24.3.1 -> 25.3\n",
      "[notice] To update, run: python.exe -m pip install --upgrade pip\n"
     ]
    }
   ],
   "source": [
    "!pip install plotly"
   ]
  },
  {
   "cell_type": "code",
   "execution_count": 107,
   "id": "e55c4617",
   "metadata": {},
   "outputs": [
    {
     "data": {
      "text/plain": [
       "year  country  fatal_y/n\n",
       "2015  usa      n            56\n",
       "2007  usa      n            54\n",
       "2012  usa      n            54\n",
       "2016  usa      n            54\n",
       "2014  usa      n            53\n",
       "2017  usa      n            52\n",
       "2013  usa      n            51\n",
       "2001  usa      n            50\n",
       "2019  usa      n            50\n",
       "2008  usa      n            49\n",
       "dtype: int64"
      ]
     },
     "execution_count": 107,
     "metadata": {},
     "output_type": "execute_result"
    }
   ],
   "source": [
    "# Análisis por YEAR - COUNTRY\n",
    "\n",
    "year_analysis_cols = ['year', 'country', 'fatal_y/n']\n",
    "dupe_mask1 = shark_df.duplicated(subset=year_analysis_cols, keep=False)\n",
    "shark_df[dupe_mask1].sort_values(by=year_analysis_cols)\n",
    "\n",
    "# Cuántas veces se repite cada combinación de las columnas clave\n",
    "shark_df.groupby(year_analysis_cols).size().sort_values(ascending=False).head(10)"
   ]
  },
  {
   "cell_type": "code",
   "execution_count": 108,
   "id": "848a6c10",
   "metadata": {},
   "outputs": [
    {
     "data": {
      "text/html": [
       "<div>\n",
       "<style scoped>\n",
       "    .dataframe tbody tr th:only-of-type {\n",
       "        vertical-align: middle;\n",
       "    }\n",
       "\n",
       "    .dataframe tbody tr th {\n",
       "        vertical-align: top;\n",
       "    }\n",
       "\n",
       "    .dataframe thead th {\n",
       "        text-align: right;\n",
       "    }\n",
       "</style>\n",
       "<table border=\"1\" class=\"dataframe\">\n",
       "  <thead>\n",
       "    <tr style=\"text-align: right;\">\n",
       "      <th></th>\n",
       "      <th>year</th>\n",
       "      <th>country</th>\n",
       "      <th>fatal_y/n</th>\n",
       "      <th>attack_count</th>\n",
       "    </tr>\n",
       "  </thead>\n",
       "  <tbody>\n",
       "    <tr>\n",
       "      <th>0</th>\n",
       "      <td>2000</td>\n",
       "      <td>australia</td>\n",
       "      <td>n</td>\n",
       "      <td>8</td>\n",
       "    </tr>\n",
       "    <tr>\n",
       "      <th>1</th>\n",
       "      <td>2000</td>\n",
       "      <td>australia</td>\n",
       "      <td>y</td>\n",
       "      <td>3</td>\n",
       "    </tr>\n",
       "    <tr>\n",
       "      <th>2</th>\n",
       "      <td>2000</td>\n",
       "      <td>new caledonia</td>\n",
       "      <td>y</td>\n",
       "      <td>1</td>\n",
       "    </tr>\n",
       "    <tr>\n",
       "      <th>3</th>\n",
       "      <td>2000</td>\n",
       "      <td>new zealand</td>\n",
       "      <td>n</td>\n",
       "      <td>1</td>\n",
       "    </tr>\n",
       "    <tr>\n",
       "      <th>4</th>\n",
       "      <td>2000</td>\n",
       "      <td>new zealand</td>\n",
       "      <td>y</td>\n",
       "      <td>1</td>\n",
       "    </tr>\n",
       "  </tbody>\n",
       "</table>\n",
       "</div>"
      ],
      "text/plain": [
       "   year        country fatal_y/n  attack_count\n",
       "0  2000      australia         n             8\n",
       "1  2000      australia         y             3\n",
       "2  2000  new caledonia         y             1\n",
       "3  2000    new zealand         n             1\n",
       "4  2000    new zealand         y             1"
      ]
     },
     "execution_count": 108,
     "metadata": {},
     "output_type": "execute_result"
    }
   ],
   "source": [
    "# Agrupamos los datos y contamos los ataques\n",
    "shark_summary = (shark_df.groupby(year_analysis_cols).size().reset_index(name=\"attack_count\"))\n",
    "\n",
    "shark_summary.head()"
   ]
  },
  {
   "cell_type": "code",
   "execution_count": 109,
   "id": "7cc2a1ef",
   "metadata": {},
   "outputs": [
    {
     "data": {
      "application/vnd.plotly.v1+json": {
       "config": {
        "plotlyServerURL": "https://plot.ly"
       },
       "data": [
        {
         "hovertemplate": "Fatalidad=n<br>country=australia<br>Año=%{x}<br>Nº de ataques=%{y}<extra></extra>",
         "legendgroup": "n",
         "marker": {
          "color": "#636efa",
          "pattern": {
           "shape": ""
          }
         },
         "name": "n",
         "orientation": "v",
         "showlegend": true,
         "textposition": "auto",
         "type": "bar",
         "x": {
          "bdata": "0AfRB9IH0wfUB9UH1gfXB9gH2QfaB9sH3AfdB94H3wfgB+EH4gfjB+QH5QfmB+cH6AfpBw==",
          "dtype": "i2"
         },
         "xaxis": "x10",
         "y": {
          "bdata": "CAUHCQoNCQ8HFg4KEg0PFRUTGxAREBMPDA4=",
          "dtype": "i1"
         },
         "yaxis": "y10"
        },
        {
         "hovertemplate": "Fatalidad=n<br>country=new caledonia<br>Año=%{x}<br>Nº de ataques=%{y}<extra></extra>",
         "legendgroup": "n",
         "marker": {
          "color": "#636efa",
          "pattern": {
           "shape": ""
          }
         },
         "name": "n",
         "orientation": "v",
         "showlegend": false,
         "textposition": "auto",
         "type": "bar",
         "x": {
          "bdata": "1AfVB9cH2AfbB90H3gfgB+MH5AflB+cH",
          "dtype": "i2"
         },
         "xaxis": "x11",
         "y": {
          "bdata": "AQEDAgEBAQIBAQEB",
          "dtype": "i1"
         },
         "yaxis": "y11"
        },
        {
         "hovertemplate": "Fatalidad=n<br>country=new zealand<br>Año=%{x}<br>Nº de ataques=%{y}<extra></extra>",
         "legendgroup": "n",
         "marker": {
          "color": "#636efa",
          "pattern": {
           "shape": ""
          }
         },
         "name": "n",
         "orientation": "v",
         "showlegend": false,
         "textposition": "auto",
         "type": "bar",
         "x": {
          "bdata": "0AfTB9QH1gfXB9gH2QfaB9sH3AfdB94H4QfiB+MH5AflB+YH5wc=",
          "dtype": "i2"
         },
         "xaxis": "x12",
         "y": {
          "bdata": "AQICAQEBAgEBAgECAQMCAgMCAg==",
          "dtype": "i1"
         },
         "yaxis": "y12"
        },
        {
         "hovertemplate": "Fatalidad=n<br>country=reunion<br>Año=%{x}<br>Nº de ataques=%{y}<extra></extra>",
         "legendgroup": "n",
         "marker": {
          "color": "#636efa",
          "pattern": {
           "shape": ""
          }
         },
         "name": "n",
         "orientation": "v",
         "showlegend": false,
         "textposition": "auto",
         "type": "bar",
         "x": {
          "bdata": "0AfUB9YH2gfbB9wH3QfeB98H",
          "dtype": "i2"
         },
         "xaxis": "x7",
         "y": {
          "bdata": "AQIBAQMCAQEB",
          "dtype": "i1"
         },
         "yaxis": "y7"
        },
        {
         "hovertemplate": "Fatalidad=n<br>country=south africa<br>Año=%{x}<br>Nº de ataques=%{y}<extra></extra>",
         "legendgroup": "n",
         "marker": {
          "color": "#636efa",
          "pattern": {
           "shape": ""
          }
         },
         "name": "n",
         "orientation": "v",
         "showlegend": false,
         "textposition": "auto",
         "type": "bar",
         "x": {
          "bdata": "0AfRB9IH0wfUB9UH1gfXB9gH2QfaB9sH3AfdB94H3wfgB+EH4gfjB+QH5QfnBw==",
          "dtype": "i2"
         },
         "xaxis": "x8",
         "y": {
          "bdata": "BQMFAgYFCAIEAwUGAQUCCAMCBQIBAgI=",
          "dtype": "i1"
         },
         "yaxis": "y8"
        },
        {
         "hovertemplate": "Fatalidad=n<br>country=usa<br>Año=%{x}<br>Nº de ataques=%{y}<extra></extra>",
         "legendgroup": "n",
         "marker": {
          "color": "#636efa",
          "pattern": {
           "shape": ""
          }
         },
         "name": "n",
         "orientation": "v",
         "showlegend": false,
         "textposition": "auto",
         "type": "bar",
         "x": {
          "bdata": "0AfRB9IH0wfUB9UH1gfXB9gH2QfaB9sH3AfdB94H3wfgB+EH4gfjB+QH5QfmB+cH6AfpBw==",
          "dtype": "i2"
         },
         "xaxis": "x9",
         "y": {
          "bdata": "LTIsLR4nLDYxIB0oNjM1ODY0HjIlLyglDw4=",
          "dtype": "i1"
         },
         "yaxis": "y9"
        },
        {
         "hovertemplate": "Fatalidad=n<br>country=bahamas<br>Año=%{x}<br>Nº de ataques=%{y}<extra></extra>",
         "legendgroup": "n",
         "marker": {
          "color": "#636efa",
          "pattern": {
           "shape": ""
          }
         },
         "name": "n",
         "orientation": "v",
         "showlegend": false,
         "textposition": "auto",
         "type": "bar",
         "x": {
          "bdata": "0QfSB9MH1QfWB9cH2AfZB9oH2wfcB90H3gffB+AH4QfiB+MH5AfoB+kH",
          "dtype": "i2"
         },
         "xaxis": "x4",
         "y": {
          "bdata": "AwECAQICAQECAgEEAQICBgYCAwIC",
          "dtype": "i1"
         },
         "yaxis": "y4"
        },
        {
         "hovertemplate": "Fatalidad=n<br>country=brazil<br>Año=%{x}<br>Nº de ataques=%{y}<extra></extra>",
         "legendgroup": "n",
         "marker": {
          "color": "#636efa",
          "pattern": {
           "shape": ""
          }
         },
         "name": "n",
         "orientation": "v",
         "showlegend": false,
         "textposition": "auto",
         "type": "bar",
         "x": {
          "bdata": "0QfSB9MH1AfVB9YH1wfYB9oH2wffB+AH4QfiB+MH5QfnBw==",
          "dtype": "i2"
         },
         "xaxis": "x5",
         "y": {
          "bdata": "AQMDBAECAQMBAgECAQEBAwM=",
          "dtype": "i1"
         },
         "yaxis": "y5"
        },
        {
         "hovertemplate": "Fatalidad=n<br>country=mexico<br>Año=%{x}<br>Nº de ataques=%{y}<extra></extra>",
         "legendgroup": "n",
         "marker": {
          "color": "#636efa",
          "pattern": {
           "shape": ""
          }
         },
         "name": "n",
         "orientation": "v",
         "showlegend": false,
         "textposition": "auto",
         "type": "bar",
         "x": {
          "bdata": "0QfVB9gH2wfcB90H4wflBw==",
          "dtype": "i2"
         },
         "xaxis": "x6",
         "y": {
          "bdata": "AgEDBAECAgE=",
          "dtype": "i1"
         },
         "yaxis": "y6"
        },
        {
         "hovertemplate": "Fatalidad=n<br>country=french polynesia<br>Año=%{x}<br>Nº de ataques=%{y}<extra></extra>",
         "legendgroup": "n",
         "marker": {
          "color": "#636efa",
          "pattern": {
           "shape": ""
          }
         },
         "name": "n",
         "orientation": "v",
         "showlegend": false,
         "textposition": "auto",
         "type": "bar",
         "x": {
          "bdata": "0gfTB9gH2wfcB90H3gffB+AH4QfkB+UH5gfnB+gH6Qc=",
          "dtype": "i2"
         },
         "xaxis": "x",
         "y": {
          "bdata": "AQEBAQECAgMBAQMCAgEBAQ==",
          "dtype": "i1"
         },
         "yaxis": "y"
        },
        {
         "hovertemplate": "Fatalidad=n<br>country=egypt<br>Año=%{x}<br>Nº de ataques=%{y}<extra></extra>",
         "legendgroup": "n",
         "marker": {
          "color": "#636efa",
          "pattern": {
           "shape": ""
          }
         },
         "name": "n",
         "orientation": "v",
         "showlegend": false,
         "textposition": "auto",
         "type": "bar",
         "x": {
          "bdata": "0wfUB9cH2AfZB9oH4AfhB+QH5wfoBw==",
          "dtype": "i2"
         },
         "xaxis": "x2",
         "y": {
          "bdata": "AQEBAQIGAQECAQE=",
          "dtype": "i1"
         },
         "yaxis": "y2"
        },
        {
         "hovertemplate": "Fatalidad=y<br>country=australia<br>Año=%{x}<br>Nº de ataques=%{y}<extra></extra>",
         "legendgroup": "y",
         "marker": {
          "color": "#EF553B",
          "pattern": {
           "shape": ""
          }
         },
         "name": "y",
         "orientation": "v",
         "showlegend": true,
         "textposition": "auto",
         "type": "bar",
         "x": {
          "bdata": "0AfSB9MH1AfVB9YH2AfaB9sH3AfdB94H3wfgB+EH4gfkB+UH5gfnB+gH6Qc=",
          "dtype": "i2"
         },
         "xaxis": "x10",
         "y": {
          "bdata": "AwIBAwIBAgEEAgIFAgIBAQgEAQQBBA==",
          "dtype": "i1"
         },
         "yaxis": "y10"
        },
        {
         "hovertemplate": "Fatalidad=y<br>country=new caledonia<br>Año=%{x}<br>Nº de ataques=%{y}<extra></extra>",
         "legendgroup": "y",
         "marker": {
          "color": "#EF553B",
          "pattern": {
           "shape": ""
          }
         },
         "name": "y",
         "orientation": "v",
         "showlegend": false,
         "textposition": "auto",
         "type": "bar",
         "x": {
          "bdata": "0AfXB9kH2wfgB+MH5AfnB+kH",
          "dtype": "i2"
         },
         "xaxis": "x11",
         "y": {
          "bdata": "AQEBAQIBAQEB",
          "dtype": "i1"
         },
         "yaxis": "y11"
        },
        {
         "hovertemplate": "Fatalidad=y<br>country=new zealand<br>Año=%{x}<br>Nº de ataques=%{y}<extra></extra>",
         "legendgroup": "y",
         "marker": {
          "color": "#EF553B",
          "pattern": {
           "shape": ""
          }
         },
         "name": "y",
         "orientation": "v",
         "showlegend": false,
         "textposition": "auto",
         "type": "bar",
         "x": {
          "bdata": "0AfTB9kH3QflB+gH",
          "dtype": "i2"
         },
         "xaxis": "x12",
         "y": {
          "bdata": "AQEBAQEB",
          "dtype": "i1"
         },
         "yaxis": "y12"
        },
        {
         "hovertemplate": "Fatalidad=y<br>country=reunion<br>Año=%{x}<br>Nº de ataques=%{y}<extra></extra>",
         "legendgroup": "y",
         "marker": {
          "color": "#EF553B",
          "pattern": {
           "shape": ""
          }
         },
         "name": "y",
         "orientation": "v",
         "showlegend": false,
         "textposition": "auto",
         "type": "bar",
         "x": {
          "bdata": "1gfbB9wH3QffB+EH",
          "dtype": "i2"
         },
         "xaxis": "x7",
         "y": {
          "bdata": "AQIBAgIC",
          "dtype": "i1"
         },
         "yaxis": "y7"
        },
        {
         "hovertemplate": "Fatalidad=y<br>country=south africa<br>Año=%{x}<br>Nº de ataques=%{y}<extra></extra>",
         "legendgroup": "y",
         "marker": {
          "color": "#EF553B",
          "pattern": {
           "shape": ""
          }
         },
         "name": "y",
         "orientation": "v",
         "showlegend": false,
         "textposition": "auto",
         "type": "bar",
         "x": {
          "bdata": "0wfUB9UH1wfZB9oH2wfcB90H3gfhB+UH5gfpBw==",
          "dtype": "i2"
         },
         "xaxis": "x8",
         "y": {
          "bdata": "AgIBAQUCAwMBAQEBAgE=",
          "dtype": "i1"
         },
         "yaxis": "y8"
        },
        {
         "hovertemplate": "Fatalidad=y<br>country=usa<br>Año=%{x}<br>Nº de ataques=%{y}<extra></extra>",
         "legendgroup": "y",
         "marker": {
          "color": "#EF553B",
          "pattern": {
           "shape": ""
          }
         },
         "name": "y",
         "orientation": "v",
         "showlegend": false,
         "textposition": "auto",
         "type": "bar",
         "x": {
          "bdata": "0AfRB9MH1AfVB9gH2gfcB90H3wfiB+MH5AflB+YH5wc=",
          "dtype": "i2"
         },
         "xaxis": "x9",
         "y": {
          "bdata": "AQIBAgIBAgECAQEBAwICAg==",
          "dtype": "i1"
         },
         "yaxis": "y9"
        },
        {
         "hovertemplate": "Fatalidad=y<br>country=bahamas<br>Año=%{x}<br>Nº de ataques=%{y}<extra></extra>",
         "legendgroup": "y",
         "marker": {
          "color": "#EF553B",
          "pattern": {
           "shape": ""
          }
         },
         "name": "y",
         "orientation": "v",
         "showlegend": false,
         "textposition": "auto",
         "type": "bar",
         "x": {
          "bdata": "2AfjB+cH",
          "dtype": "i2"
         },
         "xaxis": "x4",
         "y": {
          "bdata": "AQEC",
          "dtype": "i1"
         },
         "yaxis": "y4"
        },
        {
         "hovertemplate": "Fatalidad=y<br>country=brazil<br>Año=%{x}<br>Nº de ataques=%{y}<extra></extra>",
         "legendgroup": "y",
         "marker": {
          "color": "#EF553B",
          "pattern": {
           "shape": ""
          }
         },
         "name": "y",
         "orientation": "v",
         "showlegend": false,
         "textposition": "auto",
         "type": "bar",
         "x": {
          "bdata": "0QfSB9MH1AfWB9kH3AfdB+IH5Qc=",
          "dtype": "i2"
         },
         "xaxis": "x5",
         "y": {
          "bdata": "AQQBAwIBAQIBAQ==",
          "dtype": "i1"
         },
         "yaxis": "y5"
        },
        {
         "hovertemplate": "Fatalidad=y<br>country=mexico<br>Año=%{x}<br>Nº de ataques=%{y}<extra></extra>",
         "legendgroup": "y",
         "marker": {
          "color": "#EF553B",
          "pattern": {
           "shape": ""
          }
         },
         "name": "y",
         "orientation": "v",
         "showlegend": false,
         "textposition": "auto",
         "type": "bar",
         "x": {
          "bdata": "2AfcB+EH4gfmB+cH",
          "dtype": "i2"
         },
         "xaxis": "x6",
         "y": {
          "bdata": "AgEBAQED",
          "dtype": "i1"
         },
         "yaxis": "y6"
        },
        {
         "hovertemplate": "Fatalidad=y<br>country=egypt<br>Año=%{x}<br>Nº de ataques=%{y}<extra></extra>",
         "legendgroup": "y",
         "marker": {
          "color": "#EF553B",
          "pattern": {
           "shape": ""
          }
         },
         "name": "y",
         "orientation": "v",
         "showlegend": false,
         "textposition": "auto",
         "type": "bar",
         "x": {
          "bdata": "2QfaB98H5gfnB+gH",
          "dtype": "i2"
         },
         "xaxis": "x2",
         "y": {
          "bdata": "AQEBAgEB",
          "dtype": "i1"
         },
         "yaxis": "y2"
        }
       ],
       "layout": {
        "annotations": [
         {
          "font": {},
          "showarrow": false,
          "text": "country=french polynesia",
          "x": 0.15999999999999998,
          "xanchor": "center",
          "xref": "paper",
          "y": 0.1975,
          "yanchor": "bottom",
          "yref": "paper"
         },
         {
          "font": {},
          "showarrow": false,
          "text": "country=egypt",
          "x": 0.49999999999999994,
          "xanchor": "center",
          "xref": "paper",
          "y": 0.1975,
          "yanchor": "bottom",
          "yref": "paper"
         },
         {
          "font": {},
          "showarrow": false,
          "text": "country=bahamas",
          "x": 0.15999999999999998,
          "xanchor": "center",
          "xref": "paper",
          "y": 0.465,
          "yanchor": "bottom",
          "yref": "paper"
         },
         {
          "font": {},
          "showarrow": false,
          "text": "country=brazil",
          "x": 0.49999999999999994,
          "xanchor": "center",
          "xref": "paper",
          "y": 0.465,
          "yanchor": "bottom",
          "yref": "paper"
         },
         {
          "font": {},
          "showarrow": false,
          "text": "country=mexico",
          "x": 0.8399999999999999,
          "xanchor": "center",
          "xref": "paper",
          "y": 0.465,
          "yanchor": "bottom",
          "yref": "paper"
         },
         {
          "font": {},
          "showarrow": false,
          "text": "country=reunion",
          "x": 0.15999999999999998,
          "xanchor": "center",
          "xref": "paper",
          "y": 0.7325,
          "yanchor": "bottom",
          "yref": "paper"
         },
         {
          "font": {},
          "showarrow": false,
          "text": "country=south africa",
          "x": 0.49999999999999994,
          "xanchor": "center",
          "xref": "paper",
          "y": 0.7325,
          "yanchor": "bottom",
          "yref": "paper"
         },
         {
          "font": {},
          "showarrow": false,
          "text": "country=usa",
          "x": 0.8399999999999999,
          "xanchor": "center",
          "xref": "paper",
          "y": 0.7325,
          "yanchor": "bottom",
          "yref": "paper"
         },
         {
          "font": {},
          "showarrow": false,
          "text": "country=australia",
          "x": 0.15999999999999998,
          "xanchor": "center",
          "xref": "paper",
          "y": 1,
          "yanchor": "bottom",
          "yref": "paper"
         },
         {
          "font": {},
          "showarrow": false,
          "text": "country=new caledonia",
          "x": 0.49999999999999994,
          "xanchor": "center",
          "xref": "paper",
          "y": 1,
          "yanchor": "bottom",
          "yref": "paper"
         },
         {
          "font": {},
          "showarrow": false,
          "text": "country=new zealand",
          "x": 0.8399999999999999,
          "xanchor": "center",
          "xref": "paper",
          "y": 1,
          "yanchor": "bottom",
          "yref": "paper"
         }
        ],
        "barmode": "relative",
        "height": 1000,
        "legend": {
         "title": {
          "text": "Fatalidad"
         },
         "tracegroupgap": 0
        },
        "template": {
         "data": {
          "bar": [
           {
            "error_x": {
             "color": "#2a3f5f"
            },
            "error_y": {
             "color": "#2a3f5f"
            },
            "marker": {
             "line": {
              "color": "#E5ECF6",
              "width": 0.5
             },
             "pattern": {
              "fillmode": "overlay",
              "size": 10,
              "solidity": 0.2
             }
            },
            "type": "bar"
           }
          ],
          "barpolar": [
           {
            "marker": {
             "line": {
              "color": "#E5ECF6",
              "width": 0.5
             },
             "pattern": {
              "fillmode": "overlay",
              "size": 10,
              "solidity": 0.2
             }
            },
            "type": "barpolar"
           }
          ],
          "carpet": [
           {
            "aaxis": {
             "endlinecolor": "#2a3f5f",
             "gridcolor": "white",
             "linecolor": "white",
             "minorgridcolor": "white",
             "startlinecolor": "#2a3f5f"
            },
            "baxis": {
             "endlinecolor": "#2a3f5f",
             "gridcolor": "white",
             "linecolor": "white",
             "minorgridcolor": "white",
             "startlinecolor": "#2a3f5f"
            },
            "type": "carpet"
           }
          ],
          "choropleth": [
           {
            "colorbar": {
             "outlinewidth": 0,
             "ticks": ""
            },
            "type": "choropleth"
           }
          ],
          "contour": [
           {
            "colorbar": {
             "outlinewidth": 0,
             "ticks": ""
            },
            "colorscale": [
             [
              0,
              "#0d0887"
             ],
             [
              0.1111111111111111,
              "#46039f"
             ],
             [
              0.2222222222222222,
              "#7201a8"
             ],
             [
              0.3333333333333333,
              "#9c179e"
             ],
             [
              0.4444444444444444,
              "#bd3786"
             ],
             [
              0.5555555555555556,
              "#d8576b"
             ],
             [
              0.6666666666666666,
              "#ed7953"
             ],
             [
              0.7777777777777778,
              "#fb9f3a"
             ],
             [
              0.8888888888888888,
              "#fdca26"
             ],
             [
              1,
              "#f0f921"
             ]
            ],
            "type": "contour"
           }
          ],
          "contourcarpet": [
           {
            "colorbar": {
             "outlinewidth": 0,
             "ticks": ""
            },
            "type": "contourcarpet"
           }
          ],
          "heatmap": [
           {
            "colorbar": {
             "outlinewidth": 0,
             "ticks": ""
            },
            "colorscale": [
             [
              0,
              "#0d0887"
             ],
             [
              0.1111111111111111,
              "#46039f"
             ],
             [
              0.2222222222222222,
              "#7201a8"
             ],
             [
              0.3333333333333333,
              "#9c179e"
             ],
             [
              0.4444444444444444,
              "#bd3786"
             ],
             [
              0.5555555555555556,
              "#d8576b"
             ],
             [
              0.6666666666666666,
              "#ed7953"
             ],
             [
              0.7777777777777778,
              "#fb9f3a"
             ],
             [
              0.8888888888888888,
              "#fdca26"
             ],
             [
              1,
              "#f0f921"
             ]
            ],
            "type": "heatmap"
           }
          ],
          "histogram": [
           {
            "marker": {
             "pattern": {
              "fillmode": "overlay",
              "size": 10,
              "solidity": 0.2
             }
            },
            "type": "histogram"
           }
          ],
          "histogram2d": [
           {
            "colorbar": {
             "outlinewidth": 0,
             "ticks": ""
            },
            "colorscale": [
             [
              0,
              "#0d0887"
             ],
             [
              0.1111111111111111,
              "#46039f"
             ],
             [
              0.2222222222222222,
              "#7201a8"
             ],
             [
              0.3333333333333333,
              "#9c179e"
             ],
             [
              0.4444444444444444,
              "#bd3786"
             ],
             [
              0.5555555555555556,
              "#d8576b"
             ],
             [
              0.6666666666666666,
              "#ed7953"
             ],
             [
              0.7777777777777778,
              "#fb9f3a"
             ],
             [
              0.8888888888888888,
              "#fdca26"
             ],
             [
              1,
              "#f0f921"
             ]
            ],
            "type": "histogram2d"
           }
          ],
          "histogram2dcontour": [
           {
            "colorbar": {
             "outlinewidth": 0,
             "ticks": ""
            },
            "colorscale": [
             [
              0,
              "#0d0887"
             ],
             [
              0.1111111111111111,
              "#46039f"
             ],
             [
              0.2222222222222222,
              "#7201a8"
             ],
             [
              0.3333333333333333,
              "#9c179e"
             ],
             [
              0.4444444444444444,
              "#bd3786"
             ],
             [
              0.5555555555555556,
              "#d8576b"
             ],
             [
              0.6666666666666666,
              "#ed7953"
             ],
             [
              0.7777777777777778,
              "#fb9f3a"
             ],
             [
              0.8888888888888888,
              "#fdca26"
             ],
             [
              1,
              "#f0f921"
             ]
            ],
            "type": "histogram2dcontour"
           }
          ],
          "mesh3d": [
           {
            "colorbar": {
             "outlinewidth": 0,
             "ticks": ""
            },
            "type": "mesh3d"
           }
          ],
          "parcoords": [
           {
            "line": {
             "colorbar": {
              "outlinewidth": 0,
              "ticks": ""
             }
            },
            "type": "parcoords"
           }
          ],
          "pie": [
           {
            "automargin": true,
            "type": "pie"
           }
          ],
          "scatter": [
           {
            "fillpattern": {
             "fillmode": "overlay",
             "size": 10,
             "solidity": 0.2
            },
            "type": "scatter"
           }
          ],
          "scatter3d": [
           {
            "line": {
             "colorbar": {
              "outlinewidth": 0,
              "ticks": ""
             }
            },
            "marker": {
             "colorbar": {
              "outlinewidth": 0,
              "ticks": ""
             }
            },
            "type": "scatter3d"
           }
          ],
          "scattercarpet": [
           {
            "marker": {
             "colorbar": {
              "outlinewidth": 0,
              "ticks": ""
             }
            },
            "type": "scattercarpet"
           }
          ],
          "scattergeo": [
           {
            "marker": {
             "colorbar": {
              "outlinewidth": 0,
              "ticks": ""
             }
            },
            "type": "scattergeo"
           }
          ],
          "scattergl": [
           {
            "marker": {
             "colorbar": {
              "outlinewidth": 0,
              "ticks": ""
             }
            },
            "type": "scattergl"
           }
          ],
          "scattermap": [
           {
            "marker": {
             "colorbar": {
              "outlinewidth": 0,
              "ticks": ""
             }
            },
            "type": "scattermap"
           }
          ],
          "scattermapbox": [
           {
            "marker": {
             "colorbar": {
              "outlinewidth": 0,
              "ticks": ""
             }
            },
            "type": "scattermapbox"
           }
          ],
          "scatterpolar": [
           {
            "marker": {
             "colorbar": {
              "outlinewidth": 0,
              "ticks": ""
             }
            },
            "type": "scatterpolar"
           }
          ],
          "scatterpolargl": [
           {
            "marker": {
             "colorbar": {
              "outlinewidth": 0,
              "ticks": ""
             }
            },
            "type": "scatterpolargl"
           }
          ],
          "scatterternary": [
           {
            "marker": {
             "colorbar": {
              "outlinewidth": 0,
              "ticks": ""
             }
            },
            "type": "scatterternary"
           }
          ],
          "surface": [
           {
            "colorbar": {
             "outlinewidth": 0,
             "ticks": ""
            },
            "colorscale": [
             [
              0,
              "#0d0887"
             ],
             [
              0.1111111111111111,
              "#46039f"
             ],
             [
              0.2222222222222222,
              "#7201a8"
             ],
             [
              0.3333333333333333,
              "#9c179e"
             ],
             [
              0.4444444444444444,
              "#bd3786"
             ],
             [
              0.5555555555555556,
              "#d8576b"
             ],
             [
              0.6666666666666666,
              "#ed7953"
             ],
             [
              0.7777777777777778,
              "#fb9f3a"
             ],
             [
              0.8888888888888888,
              "#fdca26"
             ],
             [
              1,
              "#f0f921"
             ]
            ],
            "type": "surface"
           }
          ],
          "table": [
           {
            "cells": {
             "fill": {
              "color": "#EBF0F8"
             },
             "line": {
              "color": "white"
             }
            },
            "header": {
             "fill": {
              "color": "#C8D4E3"
             },
             "line": {
              "color": "white"
             }
            },
            "type": "table"
           }
          ]
         },
         "layout": {
          "annotationdefaults": {
           "arrowcolor": "#2a3f5f",
           "arrowhead": 0,
           "arrowwidth": 1
          },
          "autotypenumbers": "strict",
          "coloraxis": {
           "colorbar": {
            "outlinewidth": 0,
            "ticks": ""
           }
          },
          "colorscale": {
           "diverging": [
            [
             0,
             "#8e0152"
            ],
            [
             0.1,
             "#c51b7d"
            ],
            [
             0.2,
             "#de77ae"
            ],
            [
             0.3,
             "#f1b6da"
            ],
            [
             0.4,
             "#fde0ef"
            ],
            [
             0.5,
             "#f7f7f7"
            ],
            [
             0.6,
             "#e6f5d0"
            ],
            [
             0.7,
             "#b8e186"
            ],
            [
             0.8,
             "#7fbc41"
            ],
            [
             0.9,
             "#4d9221"
            ],
            [
             1,
             "#276419"
            ]
           ],
           "sequential": [
            [
             0,
             "#0d0887"
            ],
            [
             0.1111111111111111,
             "#46039f"
            ],
            [
             0.2222222222222222,
             "#7201a8"
            ],
            [
             0.3333333333333333,
             "#9c179e"
            ],
            [
             0.4444444444444444,
             "#bd3786"
            ],
            [
             0.5555555555555556,
             "#d8576b"
            ],
            [
             0.6666666666666666,
             "#ed7953"
            ],
            [
             0.7777777777777778,
             "#fb9f3a"
            ],
            [
             0.8888888888888888,
             "#fdca26"
            ],
            [
             1,
             "#f0f921"
            ]
           ],
           "sequentialminus": [
            [
             0,
             "#0d0887"
            ],
            [
             0.1111111111111111,
             "#46039f"
            ],
            [
             0.2222222222222222,
             "#7201a8"
            ],
            [
             0.3333333333333333,
             "#9c179e"
            ],
            [
             0.4444444444444444,
             "#bd3786"
            ],
            [
             0.5555555555555556,
             "#d8576b"
            ],
            [
             0.6666666666666666,
             "#ed7953"
            ],
            [
             0.7777777777777778,
             "#fb9f3a"
            ],
            [
             0.8888888888888888,
             "#fdca26"
            ],
            [
             1,
             "#f0f921"
            ]
           ]
          },
          "colorway": [
           "#636efa",
           "#EF553B",
           "#00cc96",
           "#ab63fa",
           "#FFA15A",
           "#19d3f3",
           "#FF6692",
           "#B6E880",
           "#FF97FF",
           "#FECB52"
          ],
          "font": {
           "color": "#2a3f5f"
          },
          "geo": {
           "bgcolor": "white",
           "lakecolor": "white",
           "landcolor": "#E5ECF6",
           "showlakes": true,
           "showland": true,
           "subunitcolor": "white"
          },
          "hoverlabel": {
           "align": "left"
          },
          "hovermode": "closest",
          "mapbox": {
           "style": "light"
          },
          "paper_bgcolor": "white",
          "plot_bgcolor": "#E5ECF6",
          "polar": {
           "angularaxis": {
            "gridcolor": "white",
            "linecolor": "white",
            "ticks": ""
           },
           "bgcolor": "#E5ECF6",
           "radialaxis": {
            "gridcolor": "white",
            "linecolor": "white",
            "ticks": ""
           }
          },
          "scene": {
           "xaxis": {
            "backgroundcolor": "#E5ECF6",
            "gridcolor": "white",
            "gridwidth": 2,
            "linecolor": "white",
            "showbackground": true,
            "ticks": "",
            "zerolinecolor": "white"
           },
           "yaxis": {
            "backgroundcolor": "#E5ECF6",
            "gridcolor": "white",
            "gridwidth": 2,
            "linecolor": "white",
            "showbackground": true,
            "ticks": "",
            "zerolinecolor": "white"
           },
           "zaxis": {
            "backgroundcolor": "#E5ECF6",
            "gridcolor": "white",
            "gridwidth": 2,
            "linecolor": "white",
            "showbackground": true,
            "ticks": "",
            "zerolinecolor": "white"
           }
          },
          "shapedefaults": {
           "line": {
            "color": "#2a3f5f"
           }
          },
          "ternary": {
           "aaxis": {
            "gridcolor": "white",
            "linecolor": "white",
            "ticks": ""
           },
           "baxis": {
            "gridcolor": "white",
            "linecolor": "white",
            "ticks": ""
           },
           "bgcolor": "#E5ECF6",
           "caxis": {
            "gridcolor": "white",
            "linecolor": "white",
            "ticks": ""
           }
          },
          "title": {
           "x": 0.05
          },
          "xaxis": {
           "automargin": true,
           "gridcolor": "white",
           "linecolor": "white",
           "ticks": "",
           "title": {
            "standoff": 15
           },
           "zerolinecolor": "white",
           "zerolinewidth": 2
          },
          "yaxis": {
           "automargin": true,
           "gridcolor": "white",
           "linecolor": "white",
           "ticks": "",
           "title": {
            "standoff": 15
           },
           "zerolinecolor": "white",
           "zerolinewidth": 2
          }
         }
        },
        "title": {
         "text": "Ataques de tiburón por año y país (divido por ataque fatal/no fatal)"
        },
        "xaxis": {
         "anchor": "y",
         "domain": [
          0,
          0.31999999999999995
         ],
         "title": {
          "text": "Año"
         }
        },
        "xaxis10": {
         "anchor": "y10",
         "domain": [
          0,
          0.31999999999999995
         ],
         "matches": "x",
         "showticklabels": false
        },
        "xaxis11": {
         "anchor": "y11",
         "domain": [
          0.33999999999999997,
          0.6599999999999999
         ],
         "matches": "x",
         "showticklabels": false
        },
        "xaxis12": {
         "anchor": "y12",
         "domain": [
          0.6799999999999999,
          0.9999999999999999
         ],
         "matches": "x",
         "showticklabels": false
        },
        "xaxis2": {
         "anchor": "y2",
         "domain": [
          0.33999999999999997,
          0.6599999999999999
         ],
         "matches": "x",
         "title": {
          "text": "Año"
         }
        },
        "xaxis3": {
         "anchor": "y3",
         "domain": [
          0.6799999999999999,
          0.9999999999999999
         ],
         "matches": "x",
         "title": {
          "text": "Año"
         }
        },
        "xaxis4": {
         "anchor": "y4",
         "domain": [
          0,
          0.31999999999999995
         ],
         "matches": "x",
         "showticklabels": false
        },
        "xaxis5": {
         "anchor": "y5",
         "domain": [
          0.33999999999999997,
          0.6599999999999999
         ],
         "matches": "x",
         "showticklabels": false
        },
        "xaxis6": {
         "anchor": "y6",
         "domain": [
          0.6799999999999999,
          0.9999999999999999
         ],
         "matches": "x",
         "showticklabels": false
        },
        "xaxis7": {
         "anchor": "y7",
         "domain": [
          0,
          0.31999999999999995
         ],
         "matches": "x",
         "showticklabels": false
        },
        "xaxis8": {
         "anchor": "y8",
         "domain": [
          0.33999999999999997,
          0.6599999999999999
         ],
         "matches": "x",
         "showticklabels": false
        },
        "xaxis9": {
         "anchor": "y9",
         "domain": [
          0.6799999999999999,
          0.9999999999999999
         ],
         "matches": "x",
         "showticklabels": false
        },
        "yaxis": {
         "anchor": "x",
         "domain": [
          0,
          0.1975
         ],
         "title": {
          "text": "Nº de ataques"
         }
        },
        "yaxis10": {
         "anchor": "x10",
         "domain": [
          0.8025,
          1
         ],
         "matches": "y",
         "title": {
          "text": "Nº de ataques"
         }
        },
        "yaxis11": {
         "anchor": "x11",
         "domain": [
          0.8025,
          1
         ],
         "matches": "y",
         "showticklabels": false
        },
        "yaxis12": {
         "anchor": "x12",
         "domain": [
          0.8025,
          1
         ],
         "matches": "y",
         "showticklabels": false
        },
        "yaxis2": {
         "anchor": "x2",
         "domain": [
          0,
          0.1975
         ],
         "matches": "y",
         "showticklabels": false
        },
        "yaxis3": {
         "anchor": "x3",
         "domain": [
          0,
          0.1975
         ],
         "matches": "y",
         "showticklabels": false
        },
        "yaxis4": {
         "anchor": "x4",
         "domain": [
          0.2675,
          0.465
         ],
         "matches": "y",
         "title": {
          "text": "Nº de ataques"
         }
        },
        "yaxis5": {
         "anchor": "x5",
         "domain": [
          0.2675,
          0.465
         ],
         "matches": "y",
         "showticklabels": false
        },
        "yaxis6": {
         "anchor": "x6",
         "domain": [
          0.2675,
          0.465
         ],
         "matches": "y",
         "showticklabels": false
        },
        "yaxis7": {
         "anchor": "x7",
         "domain": [
          0.535,
          0.7325
         ],
         "matches": "y",
         "title": {
          "text": "Nº de ataques"
         }
        },
        "yaxis8": {
         "anchor": "x8",
         "domain": [
          0.535,
          0.7325
         ],
         "matches": "y",
         "showticklabels": false
        },
        "yaxis9": {
         "anchor": "x9",
         "domain": [
          0.535,
          0.7325
         ],
         "matches": "y",
         "showticklabels": false
        }
       }
      }
     },
     "metadata": {},
     "output_type": "display_data"
    }
   ],
   "source": [
    "import plotly.express as px\n",
    "\n",
    "fig = px.bar(\n",
    "    shark_summary,\n",
    "    x=\"year\",\n",
    "    y=\"attack_count\",\n",
    "    color=\"fatal_y/n\",\n",
    "    facet_col=\"country\",       # crea subgráficos por país\n",
    "    facet_col_wrap=3,          # organiza en filas/columnas\n",
    "    title=\"Ataques de tiburón por año y país (divido por ataque fatal/no fatal)\",\n",
    "    labels={\n",
    "        \"year\": \"Año\",\n",
    "        \"attack_count\": \"Nº de ataques\",\n",
    "        \"fatal_y/n\": \"Fatalidad\"\n",
    "    }\n",
    ")\n",
    "\n",
    "fig.update_layout(height=1000)\n",
    "fig.show()\n"
   ]
  },
  {
   "cell_type": "code",
   "execution_count": 110,
   "id": "87f6132c",
   "metadata": {},
   "outputs": [
    {
     "data": {
      "application/vnd.plotly.v1+json": {
       "config": {
        "plotlyServerURL": "https://plot.ly"
       },
       "data": [
        {
         "hovertemplate": "fatal_y/n=n<br>year=%{x}<br>attack_count=%{y}<extra></extra>",
         "legendgroup": "n",
         "line": {
          "color": "#636efa",
          "dash": "solid"
         },
         "marker": {
          "symbol": "circle"
         },
         "mode": "lines+markers",
         "name": "n",
         "orientation": "v",
         "showlegend": true,
         "type": "scatter",
         "x": {
          "bdata": "0AfRB9IH0wfUB9UH1gfXB9gH2QfaB9sH3AfdB94H3wfgB+EH4gfjB+QH5QfmB+cH6AfpBw==",
          "dtype": "i2"
         },
         "xaxis": "x",
         "y": {
          "bdata": "PEA9QTg9Q09IPjtGUFBNXFZTSExCSz8+Hx8=",
          "dtype": "i1"
         },
         "yaxis": "y"
        },
        {
         "hovertemplate": "fatal_y/n=y<br>year=%{x}<br>attack_count=%{y}<extra></extra>",
         "legendgroup": "y",
         "line": {
          "color": "#EF553B",
          "dash": "solid"
         },
         "marker": {
          "symbol": "circle"
         },
         "mode": "lines+markers",
         "name": "y",
         "orientation": "v",
         "showlegend": true,
         "type": "scatter",
         "x": {
          "bdata": "0AfRB9IH0wfUB9UH1gfXB9gH2QfaB9sH3AfdB94H3wfgB+EH4gfjB+QH5QfmB+cH6AfpBw==",
          "dtype": "i2"
         },
         "xaxis": "x",
         "y": {
          "bdata": "BgMGBgoFBAIGCQYKCQoGBgQFBAMMCQgNAwY=",
          "dtype": "i1"
         },
         "yaxis": "y"
        }
       ],
       "layout": {
        "legend": {
         "title": {
          "text": "fatal_y/n"
         },
         "tracegroupgap": 0
        },
        "template": {
         "data": {
          "bar": [
           {
            "error_x": {
             "color": "#2a3f5f"
            },
            "error_y": {
             "color": "#2a3f5f"
            },
            "marker": {
             "line": {
              "color": "#E5ECF6",
              "width": 0.5
             },
             "pattern": {
              "fillmode": "overlay",
              "size": 10,
              "solidity": 0.2
             }
            },
            "type": "bar"
           }
          ],
          "barpolar": [
           {
            "marker": {
             "line": {
              "color": "#E5ECF6",
              "width": 0.5
             },
             "pattern": {
              "fillmode": "overlay",
              "size": 10,
              "solidity": 0.2
             }
            },
            "type": "barpolar"
           }
          ],
          "carpet": [
           {
            "aaxis": {
             "endlinecolor": "#2a3f5f",
             "gridcolor": "white",
             "linecolor": "white",
             "minorgridcolor": "white",
             "startlinecolor": "#2a3f5f"
            },
            "baxis": {
             "endlinecolor": "#2a3f5f",
             "gridcolor": "white",
             "linecolor": "white",
             "minorgridcolor": "white",
             "startlinecolor": "#2a3f5f"
            },
            "type": "carpet"
           }
          ],
          "choropleth": [
           {
            "colorbar": {
             "outlinewidth": 0,
             "ticks": ""
            },
            "type": "choropleth"
           }
          ],
          "contour": [
           {
            "colorbar": {
             "outlinewidth": 0,
             "ticks": ""
            },
            "colorscale": [
             [
              0,
              "#0d0887"
             ],
             [
              0.1111111111111111,
              "#46039f"
             ],
             [
              0.2222222222222222,
              "#7201a8"
             ],
             [
              0.3333333333333333,
              "#9c179e"
             ],
             [
              0.4444444444444444,
              "#bd3786"
             ],
             [
              0.5555555555555556,
              "#d8576b"
             ],
             [
              0.6666666666666666,
              "#ed7953"
             ],
             [
              0.7777777777777778,
              "#fb9f3a"
             ],
             [
              0.8888888888888888,
              "#fdca26"
             ],
             [
              1,
              "#f0f921"
             ]
            ],
            "type": "contour"
           }
          ],
          "contourcarpet": [
           {
            "colorbar": {
             "outlinewidth": 0,
             "ticks": ""
            },
            "type": "contourcarpet"
           }
          ],
          "heatmap": [
           {
            "colorbar": {
             "outlinewidth": 0,
             "ticks": ""
            },
            "colorscale": [
             [
              0,
              "#0d0887"
             ],
             [
              0.1111111111111111,
              "#46039f"
             ],
             [
              0.2222222222222222,
              "#7201a8"
             ],
             [
              0.3333333333333333,
              "#9c179e"
             ],
             [
              0.4444444444444444,
              "#bd3786"
             ],
             [
              0.5555555555555556,
              "#d8576b"
             ],
             [
              0.6666666666666666,
              "#ed7953"
             ],
             [
              0.7777777777777778,
              "#fb9f3a"
             ],
             [
              0.8888888888888888,
              "#fdca26"
             ],
             [
              1,
              "#f0f921"
             ]
            ],
            "type": "heatmap"
           }
          ],
          "histogram": [
           {
            "marker": {
             "pattern": {
              "fillmode": "overlay",
              "size": 10,
              "solidity": 0.2
             }
            },
            "type": "histogram"
           }
          ],
          "histogram2d": [
           {
            "colorbar": {
             "outlinewidth": 0,
             "ticks": ""
            },
            "colorscale": [
             [
              0,
              "#0d0887"
             ],
             [
              0.1111111111111111,
              "#46039f"
             ],
             [
              0.2222222222222222,
              "#7201a8"
             ],
             [
              0.3333333333333333,
              "#9c179e"
             ],
             [
              0.4444444444444444,
              "#bd3786"
             ],
             [
              0.5555555555555556,
              "#d8576b"
             ],
             [
              0.6666666666666666,
              "#ed7953"
             ],
             [
              0.7777777777777778,
              "#fb9f3a"
             ],
             [
              0.8888888888888888,
              "#fdca26"
             ],
             [
              1,
              "#f0f921"
             ]
            ],
            "type": "histogram2d"
           }
          ],
          "histogram2dcontour": [
           {
            "colorbar": {
             "outlinewidth": 0,
             "ticks": ""
            },
            "colorscale": [
             [
              0,
              "#0d0887"
             ],
             [
              0.1111111111111111,
              "#46039f"
             ],
             [
              0.2222222222222222,
              "#7201a8"
             ],
             [
              0.3333333333333333,
              "#9c179e"
             ],
             [
              0.4444444444444444,
              "#bd3786"
             ],
             [
              0.5555555555555556,
              "#d8576b"
             ],
             [
              0.6666666666666666,
              "#ed7953"
             ],
             [
              0.7777777777777778,
              "#fb9f3a"
             ],
             [
              0.8888888888888888,
              "#fdca26"
             ],
             [
              1,
              "#f0f921"
             ]
            ],
            "type": "histogram2dcontour"
           }
          ],
          "mesh3d": [
           {
            "colorbar": {
             "outlinewidth": 0,
             "ticks": ""
            },
            "type": "mesh3d"
           }
          ],
          "parcoords": [
           {
            "line": {
             "colorbar": {
              "outlinewidth": 0,
              "ticks": ""
             }
            },
            "type": "parcoords"
           }
          ],
          "pie": [
           {
            "automargin": true,
            "type": "pie"
           }
          ],
          "scatter": [
           {
            "fillpattern": {
             "fillmode": "overlay",
             "size": 10,
             "solidity": 0.2
            },
            "type": "scatter"
           }
          ],
          "scatter3d": [
           {
            "line": {
             "colorbar": {
              "outlinewidth": 0,
              "ticks": ""
             }
            },
            "marker": {
             "colorbar": {
              "outlinewidth": 0,
              "ticks": ""
             }
            },
            "type": "scatter3d"
           }
          ],
          "scattercarpet": [
           {
            "marker": {
             "colorbar": {
              "outlinewidth": 0,
              "ticks": ""
             }
            },
            "type": "scattercarpet"
           }
          ],
          "scattergeo": [
           {
            "marker": {
             "colorbar": {
              "outlinewidth": 0,
              "ticks": ""
             }
            },
            "type": "scattergeo"
           }
          ],
          "scattergl": [
           {
            "marker": {
             "colorbar": {
              "outlinewidth": 0,
              "ticks": ""
             }
            },
            "type": "scattergl"
           }
          ],
          "scattermap": [
           {
            "marker": {
             "colorbar": {
              "outlinewidth": 0,
              "ticks": ""
             }
            },
            "type": "scattermap"
           }
          ],
          "scattermapbox": [
           {
            "marker": {
             "colorbar": {
              "outlinewidth": 0,
              "ticks": ""
             }
            },
            "type": "scattermapbox"
           }
          ],
          "scatterpolar": [
           {
            "marker": {
             "colorbar": {
              "outlinewidth": 0,
              "ticks": ""
             }
            },
            "type": "scatterpolar"
           }
          ],
          "scatterpolargl": [
           {
            "marker": {
             "colorbar": {
              "outlinewidth": 0,
              "ticks": ""
             }
            },
            "type": "scatterpolargl"
           }
          ],
          "scatterternary": [
           {
            "marker": {
             "colorbar": {
              "outlinewidth": 0,
              "ticks": ""
             }
            },
            "type": "scatterternary"
           }
          ],
          "surface": [
           {
            "colorbar": {
             "outlinewidth": 0,
             "ticks": ""
            },
            "colorscale": [
             [
              0,
              "#0d0887"
             ],
             [
              0.1111111111111111,
              "#46039f"
             ],
             [
              0.2222222222222222,
              "#7201a8"
             ],
             [
              0.3333333333333333,
              "#9c179e"
             ],
             [
              0.4444444444444444,
              "#bd3786"
             ],
             [
              0.5555555555555556,
              "#d8576b"
             ],
             [
              0.6666666666666666,
              "#ed7953"
             ],
             [
              0.7777777777777778,
              "#fb9f3a"
             ],
             [
              0.8888888888888888,
              "#fdca26"
             ],
             [
              1,
              "#f0f921"
             ]
            ],
            "type": "surface"
           }
          ],
          "table": [
           {
            "cells": {
             "fill": {
              "color": "#EBF0F8"
             },
             "line": {
              "color": "white"
             }
            },
            "header": {
             "fill": {
              "color": "#C8D4E3"
             },
             "line": {
              "color": "white"
             }
            },
            "type": "table"
           }
          ]
         },
         "layout": {
          "annotationdefaults": {
           "arrowcolor": "#2a3f5f",
           "arrowhead": 0,
           "arrowwidth": 1
          },
          "autotypenumbers": "strict",
          "coloraxis": {
           "colorbar": {
            "outlinewidth": 0,
            "ticks": ""
           }
          },
          "colorscale": {
           "diverging": [
            [
             0,
             "#8e0152"
            ],
            [
             0.1,
             "#c51b7d"
            ],
            [
             0.2,
             "#de77ae"
            ],
            [
             0.3,
             "#f1b6da"
            ],
            [
             0.4,
             "#fde0ef"
            ],
            [
             0.5,
             "#f7f7f7"
            ],
            [
             0.6,
             "#e6f5d0"
            ],
            [
             0.7,
             "#b8e186"
            ],
            [
             0.8,
             "#7fbc41"
            ],
            [
             0.9,
             "#4d9221"
            ],
            [
             1,
             "#276419"
            ]
           ],
           "sequential": [
            [
             0,
             "#0d0887"
            ],
            [
             0.1111111111111111,
             "#46039f"
            ],
            [
             0.2222222222222222,
             "#7201a8"
            ],
            [
             0.3333333333333333,
             "#9c179e"
            ],
            [
             0.4444444444444444,
             "#bd3786"
            ],
            [
             0.5555555555555556,
             "#d8576b"
            ],
            [
             0.6666666666666666,
             "#ed7953"
            ],
            [
             0.7777777777777778,
             "#fb9f3a"
            ],
            [
             0.8888888888888888,
             "#fdca26"
            ],
            [
             1,
             "#f0f921"
            ]
           ],
           "sequentialminus": [
            [
             0,
             "#0d0887"
            ],
            [
             0.1111111111111111,
             "#46039f"
            ],
            [
             0.2222222222222222,
             "#7201a8"
            ],
            [
             0.3333333333333333,
             "#9c179e"
            ],
            [
             0.4444444444444444,
             "#bd3786"
            ],
            [
             0.5555555555555556,
             "#d8576b"
            ],
            [
             0.6666666666666666,
             "#ed7953"
            ],
            [
             0.7777777777777778,
             "#fb9f3a"
            ],
            [
             0.8888888888888888,
             "#fdca26"
            ],
            [
             1,
             "#f0f921"
            ]
           ]
          },
          "colorway": [
           "#636efa",
           "#EF553B",
           "#00cc96",
           "#ab63fa",
           "#FFA15A",
           "#19d3f3",
           "#FF6692",
           "#B6E880",
           "#FF97FF",
           "#FECB52"
          ],
          "font": {
           "color": "#2a3f5f"
          },
          "geo": {
           "bgcolor": "white",
           "lakecolor": "white",
           "landcolor": "#E5ECF6",
           "showlakes": true,
           "showland": true,
           "subunitcolor": "white"
          },
          "hoverlabel": {
           "align": "left"
          },
          "hovermode": "closest",
          "mapbox": {
           "style": "light"
          },
          "paper_bgcolor": "white",
          "plot_bgcolor": "#E5ECF6",
          "polar": {
           "angularaxis": {
            "gridcolor": "white",
            "linecolor": "white",
            "ticks": ""
           },
           "bgcolor": "#E5ECF6",
           "radialaxis": {
            "gridcolor": "white",
            "linecolor": "white",
            "ticks": ""
           }
          },
          "scene": {
           "xaxis": {
            "backgroundcolor": "#E5ECF6",
            "gridcolor": "white",
            "gridwidth": 2,
            "linecolor": "white",
            "showbackground": true,
            "ticks": "",
            "zerolinecolor": "white"
           },
           "yaxis": {
            "backgroundcolor": "#E5ECF6",
            "gridcolor": "white",
            "gridwidth": 2,
            "linecolor": "white",
            "showbackground": true,
            "ticks": "",
            "zerolinecolor": "white"
           },
           "zaxis": {
            "backgroundcolor": "#E5ECF6",
            "gridcolor": "white",
            "gridwidth": 2,
            "linecolor": "white",
            "showbackground": true,
            "ticks": "",
            "zerolinecolor": "white"
           }
          },
          "shapedefaults": {
           "line": {
            "color": "#2a3f5f"
           }
          },
          "ternary": {
           "aaxis": {
            "gridcolor": "white",
            "linecolor": "white",
            "ticks": ""
           },
           "baxis": {
            "gridcolor": "white",
            "linecolor": "white",
            "ticks": ""
           },
           "bgcolor": "#E5ECF6",
           "caxis": {
            "gridcolor": "white",
            "linecolor": "white",
            "ticks": ""
           }
          },
          "title": {
           "x": 0.05
          },
          "xaxis": {
           "automargin": true,
           "gridcolor": "white",
           "linecolor": "white",
           "ticks": "",
           "title": {
            "standoff": 15
           },
           "zerolinecolor": "white",
           "zerolinewidth": 2
          },
          "yaxis": {
           "automargin": true,
           "gridcolor": "white",
           "linecolor": "white",
           "ticks": "",
           "title": {
            "standoff": 15
           },
           "zerolinecolor": "white",
           "zerolinewidth": 2
          }
         }
        },
        "title": {
         "text": "Evolución de los ataques fatales vs no fatales"
        },
        "xaxis": {
         "anchor": "y",
         "domain": [
          0,
          1
         ],
         "title": {
          "text": "year"
         }
        },
        "yaxis": {
         "anchor": "x",
         "domain": [
          0,
          1
         ],
         "title": {
          "text": "attack_count"
         }
        }
       }
      }
     },
     "metadata": {},
     "output_type": "display_data"
    }
   ],
   "source": [
    "year_fatal_summary = (\n",
    "    shark_summary.groupby([\"year\", \"fatal_y/n\"])[\"attack_count\"]\n",
    "    .sum()\n",
    "    .reset_index()\n",
    ")\n",
    "\n",
    "fig = px.line(\n",
    "    year_fatal_summary,\n",
    "    x=\"year\",\n",
    "    y=\"attack_count\",\n",
    "    color=\"fatal_y/n\",\n",
    "    markers=True,\n",
    "    title=\"Evolución de los ataques fatales vs no fatales\"\n",
    ")\n",
    "\n",
    "fig.show()\n"
   ]
  },
  {
   "cell_type": "code",
   "execution_count": 111,
   "id": "2db61afa",
   "metadata": {},
   "outputs": [
    {
     "data": {
      "text/plain": [
       "country    state              activity  fatal_y/n\n",
       "usa        florida            surfing   n            293\n",
       "                              swimming  n            184\n",
       "australia  new south wales    surfing   n            105\n",
       "usa        california         surfing   n             61\n",
       "           hawaii             surfing   n             60\n",
       "           south carolina     swimming  n             41\n",
       "           north carolina     swimming  n             41\n",
       "           florida            paddle    n             40\n",
       "australia  western australia  surfing   n             38\n",
       "usa        hawaii             swimming  n             32\n",
       "dtype: int64"
      ]
     },
     "execution_count": 111,
     "metadata": {},
     "output_type": "execute_result"
    }
   ],
   "source": [
    "# Análisis por COUNTRY - STATE\n",
    "geo_analysis_cols = ['country', 'state', 'activity','fatal_y/n']\n",
    "dupe_mask2 = shark_df.duplicated(subset=geo_analysis_cols, keep=False)\n",
    "shark_df[dupe_mask2].sort_values(by=geo_analysis_cols)\n",
    "\n",
    "# Cuántas veces se repite cada combinación de las columnas clave\n",
    "shark_df.groupby(geo_analysis_cols).size().sort_values(ascending=False).head(10)"
   ]
  },
  {
   "cell_type": "code",
   "execution_count": 112,
   "id": "5350d145",
   "metadata": {},
   "outputs": [
    {
     "data": {
      "application/vnd.plotly.v1+json": {
       "config": {
        "plotlyServerURL": "https://plot.ly"
       },
       "data": [
        {
         "coloraxis": "coloraxis",
         "histfunc": "sum",
         "hovertemplate": "year=%{x}<br>country=%{y}<br>sum of attack_count=%{z}<extra></extra>",
         "name": "",
         "type": "histogram2d",
         "x": {
          "bdata": "0AfQB9AH0AfQB9AH0AfQB9AH0QfRB9EH0QfRB9EH0QfRB9IH0gfSB9IH0gfSB9IH0gfTB9MH0wfTB9MH0wfTB9MH0wfTB9MH0wfTB9QH1AfUB9QH1AfUB9QH1AfUB9QH1AfUB9UH1QfVB9UH1QfVB9UH1QfVB9UH1gfWB9YH1gfWB9YH1gfWB9YH1gfXB9cH1wfXB9cH1wfXB9cH1wfXB9gH2AfYB9gH2AfYB9gH2AfYB9gH2AfYB9gH2AfZB9kH2QfZB9kH2QfZB9kH2QfZB9kH2gfaB9oH2gfaB9oH2gfaB9oH2gfaB9oH2wfbB9sH2wfbB9sH2wfbB9sH2wfbB9sH2wfbB9wH3AfcB9wH3AfcB9wH3AfcB9wH3AfcB9wH3AfdB90H3QfdB90H3QfdB90H3QfdB90H3QfdB90H3QfeB94H3gfeB94H3gfeB94H3gfeB98H3wffB98H3wffB98H3wffB98H3wfgB+AH4AfgB+AH4AfgB+AH4AfgB+EH4QfhB+EH4QfhB+EH4QfhB+EH4QfhB+IH4gfiB+IH4gfiB+IH4gfiB+IH4wfjB+MH4wfjB+MH4wfjB+MH4wfjB+QH5AfkB+QH5AfkB+QH5AfkB+QH5AflB+UH5QflB+UH5QflB+UH5QflB+UH5QflB+YH5gfmB+YH5gfmB+YH5gfmB+cH5wfnB+cH5wfnB+cH5wfnB+cH5wfnB+cH5wfoB+gH6AfoB+gH6AfoB+gH6QfpB+kH6QfpB+kH6Qc=",
          "dtype": "i2"
         },
         "xaxis": "x",
         "xbingroup": "x",
         "y": [
          "australia",
          "australia",
          "new caledonia",
          "new zealand",
          "new zealand",
          "reunion",
          "south africa",
          "usa",
          "usa",
          "australia",
          "bahamas",
          "brazil",
          "brazil",
          "mexico",
          "south africa",
          "usa",
          "usa",
          "australia",
          "australia",
          "bahamas",
          "brazil",
          "brazil",
          "french polynesia",
          "south africa",
          "usa",
          "australia",
          "australia",
          "bahamas",
          "brazil",
          "brazil",
          "egypt",
          "french polynesia",
          "new zealand",
          "new zealand",
          "south africa",
          "south africa",
          "usa",
          "usa",
          "australia",
          "australia",
          "brazil",
          "brazil",
          "egypt",
          "new caledonia",
          "new zealand",
          "reunion",
          "south africa",
          "south africa",
          "usa",
          "usa",
          "australia",
          "australia",
          "bahamas",
          "brazil",
          "mexico",
          "new caledonia",
          "south africa",
          "south africa",
          "usa",
          "usa",
          "australia",
          "australia",
          "bahamas",
          "brazil",
          "brazil",
          "new zealand",
          "reunion",
          "reunion",
          "south africa",
          "usa",
          "australia",
          "bahamas",
          "brazil",
          "egypt",
          "new caledonia",
          "new caledonia",
          "new zealand",
          "south africa",
          "south africa",
          "usa",
          "australia",
          "australia",
          "bahamas",
          "bahamas",
          "brazil",
          "egypt",
          "french polynesia",
          "mexico",
          "mexico",
          "new caledonia",
          "new zealand",
          "south africa",
          "usa",
          "usa",
          "australia",
          "bahamas",
          "brazil",
          "egypt",
          "egypt",
          "new caledonia",
          "new zealand",
          "new zealand",
          "south africa",
          "south africa",
          "usa",
          "australia",
          "australia",
          "bahamas",
          "brazil",
          "egypt",
          "egypt",
          "new zealand",
          "reunion",
          "south africa",
          "south africa",
          "usa",
          "usa",
          "australia",
          "australia",
          "bahamas",
          "brazil",
          "french polynesia",
          "mexico",
          "new caledonia",
          "new caledonia",
          "new zealand",
          "reunion",
          "reunion",
          "south africa",
          "south africa",
          "usa",
          "australia",
          "australia",
          "bahamas",
          "brazil",
          "french polynesia",
          "mexico",
          "mexico",
          "new zealand",
          "reunion",
          "reunion",
          "south africa",
          "south africa",
          "usa",
          "usa",
          "australia",
          "australia",
          "bahamas",
          "brazil",
          "french polynesia",
          "mexico",
          "new caledonia",
          "new zealand",
          "new zealand",
          "reunion",
          "reunion",
          "south africa",
          "south africa",
          "usa",
          "usa",
          "australia",
          "australia",
          "bahamas",
          "french polynesia",
          "new caledonia",
          "new zealand",
          "reunion",
          "south africa",
          "south africa",
          "usa",
          "australia",
          "australia",
          "bahamas",
          "brazil",
          "egypt",
          "french polynesia",
          "reunion",
          "reunion",
          "south africa",
          "usa",
          "usa",
          "australia",
          "australia",
          "bahamas",
          "brazil",
          "egypt",
          "french polynesia",
          "new caledonia",
          "new caledonia",
          "south africa",
          "usa",
          "australia",
          "australia",
          "bahamas",
          "brazil",
          "egypt",
          "french polynesia",
          "mexico",
          "new zealand",
          "reunion",
          "south africa",
          "south africa",
          "usa",
          "australia",
          "australia",
          "bahamas",
          "brazil",
          "brazil",
          "mexico",
          "new zealand",
          "south africa",
          "usa",
          "usa",
          "australia",
          "bahamas",
          "bahamas",
          "brazil",
          "mexico",
          "new caledonia",
          "new caledonia",
          "new zealand",
          "south africa",
          "usa",
          "usa",
          "australia",
          "australia",
          "bahamas",
          "egypt",
          "french polynesia",
          "new caledonia",
          "new caledonia",
          "new zealand",
          "south africa",
          "usa",
          "usa",
          "australia",
          "australia",
          "brazil",
          "brazil",
          "french polynesia",
          "mexico",
          "new caledonia",
          "new zealand",
          "new zealand",
          "south africa",
          "south africa",
          "usa",
          "usa",
          "australia",
          "australia",
          "egypt",
          "french polynesia",
          "mexico",
          "new zealand",
          "south africa",
          "usa",
          "usa",
          "australia",
          "australia",
          "bahamas",
          "brazil",
          "egypt",
          "egypt",
          "french polynesia",
          "mexico",
          "new caledonia",
          "new caledonia",
          "new zealand",
          "south africa",
          "usa",
          "usa",
          "australia",
          "australia",
          "bahamas",
          "egypt",
          "egypt",
          "french polynesia",
          "new zealand",
          "usa",
          "australia",
          "australia",
          "bahamas",
          "french polynesia",
          "new caledonia",
          "south africa",
          "usa"
         ],
         "yaxis": "y",
         "ybingroup": "y",
         "z": {
          "bdata": "CAMBAQEBBS0BBQMBAQIDMgIHAgEDBAEFLAkBAgMBAQECAQICLQEKAwQDAQECAgYCHgINAgEBAQEFAScCCQECAgIBAQEILA8CAQEDAQECATYHAgEBAwEBAwICAQQxARYBAQIBAQIBAwUgDgECAQYBAQEFAh0CCgQCAgEEAQEBAwIGAygSAgEBAQEBAgIBAQM2AQ0CBAICAgEBAQECBQEzAg8FAQIBAgECATUVAgIBAQMBAgg4ARUCAgIBAQICAzYTAQYBAQEBAQICATQbAQYBAQEDBR4BEAIBAQIBAQICMgERCAMCAwEBAgElAxAEAwECAQEDAQIBLwITAQICAQICKAIPBAIDAQEBAwEBAgIlAgwBAgEBAQEPDgQCAQEBDg==",
          "dtype": "i1"
         }
        }
       ],
       "layout": {
        "coloraxis": {
         "colorbar": {
          "title": {
           "text": "sum of attack_count"
          }
         },
         "colorscale": [
          [
           0,
           "#00224e"
          ],
          [
           0.1111111111111111,
           "#123570"
          ],
          [
           0.2222222222222222,
           "#3b496c"
          ],
          [
           0.3333333333333333,
           "#575d6d"
          ],
          [
           0.4444444444444444,
           "#707173"
          ],
          [
           0.5555555555555556,
           "#8a8678"
          ],
          [
           0.6666666666666666,
           "#a59c74"
          ],
          [
           0.7777777777777778,
           "#c3b369"
          ],
          [
           0.8888888888888888,
           "#e1cc55"
          ],
          [
           1,
           "#fee838"
          ]
         ]
        },
        "legend": {
         "tracegroupgap": 0
        },
        "template": {
         "data": {
          "bar": [
           {
            "error_x": {
             "color": "#2a3f5f"
            },
            "error_y": {
             "color": "#2a3f5f"
            },
            "marker": {
             "line": {
              "color": "#E5ECF6",
              "width": 0.5
             },
             "pattern": {
              "fillmode": "overlay",
              "size": 10,
              "solidity": 0.2
             }
            },
            "type": "bar"
           }
          ],
          "barpolar": [
           {
            "marker": {
             "line": {
              "color": "#E5ECF6",
              "width": 0.5
             },
             "pattern": {
              "fillmode": "overlay",
              "size": 10,
              "solidity": 0.2
             }
            },
            "type": "barpolar"
           }
          ],
          "carpet": [
           {
            "aaxis": {
             "endlinecolor": "#2a3f5f",
             "gridcolor": "white",
             "linecolor": "white",
             "minorgridcolor": "white",
             "startlinecolor": "#2a3f5f"
            },
            "baxis": {
             "endlinecolor": "#2a3f5f",
             "gridcolor": "white",
             "linecolor": "white",
             "minorgridcolor": "white",
             "startlinecolor": "#2a3f5f"
            },
            "type": "carpet"
           }
          ],
          "choropleth": [
           {
            "colorbar": {
             "outlinewidth": 0,
             "ticks": ""
            },
            "type": "choropleth"
           }
          ],
          "contour": [
           {
            "colorbar": {
             "outlinewidth": 0,
             "ticks": ""
            },
            "colorscale": [
             [
              0,
              "#0d0887"
             ],
             [
              0.1111111111111111,
              "#46039f"
             ],
             [
              0.2222222222222222,
              "#7201a8"
             ],
             [
              0.3333333333333333,
              "#9c179e"
             ],
             [
              0.4444444444444444,
              "#bd3786"
             ],
             [
              0.5555555555555556,
              "#d8576b"
             ],
             [
              0.6666666666666666,
              "#ed7953"
             ],
             [
              0.7777777777777778,
              "#fb9f3a"
             ],
             [
              0.8888888888888888,
              "#fdca26"
             ],
             [
              1,
              "#f0f921"
             ]
            ],
            "type": "contour"
           }
          ],
          "contourcarpet": [
           {
            "colorbar": {
             "outlinewidth": 0,
             "ticks": ""
            },
            "type": "contourcarpet"
           }
          ],
          "heatmap": [
           {
            "colorbar": {
             "outlinewidth": 0,
             "ticks": ""
            },
            "colorscale": [
             [
              0,
              "#0d0887"
             ],
             [
              0.1111111111111111,
              "#46039f"
             ],
             [
              0.2222222222222222,
              "#7201a8"
             ],
             [
              0.3333333333333333,
              "#9c179e"
             ],
             [
              0.4444444444444444,
              "#bd3786"
             ],
             [
              0.5555555555555556,
              "#d8576b"
             ],
             [
              0.6666666666666666,
              "#ed7953"
             ],
             [
              0.7777777777777778,
              "#fb9f3a"
             ],
             [
              0.8888888888888888,
              "#fdca26"
             ],
             [
              1,
              "#f0f921"
             ]
            ],
            "type": "heatmap"
           }
          ],
          "histogram": [
           {
            "marker": {
             "pattern": {
              "fillmode": "overlay",
              "size": 10,
              "solidity": 0.2
             }
            },
            "type": "histogram"
           }
          ],
          "histogram2d": [
           {
            "colorbar": {
             "outlinewidth": 0,
             "ticks": ""
            },
            "colorscale": [
             [
              0,
              "#0d0887"
             ],
             [
              0.1111111111111111,
              "#46039f"
             ],
             [
              0.2222222222222222,
              "#7201a8"
             ],
             [
              0.3333333333333333,
              "#9c179e"
             ],
             [
              0.4444444444444444,
              "#bd3786"
             ],
             [
              0.5555555555555556,
              "#d8576b"
             ],
             [
              0.6666666666666666,
              "#ed7953"
             ],
             [
              0.7777777777777778,
              "#fb9f3a"
             ],
             [
              0.8888888888888888,
              "#fdca26"
             ],
             [
              1,
              "#f0f921"
             ]
            ],
            "type": "histogram2d"
           }
          ],
          "histogram2dcontour": [
           {
            "colorbar": {
             "outlinewidth": 0,
             "ticks": ""
            },
            "colorscale": [
             [
              0,
              "#0d0887"
             ],
             [
              0.1111111111111111,
              "#46039f"
             ],
             [
              0.2222222222222222,
              "#7201a8"
             ],
             [
              0.3333333333333333,
              "#9c179e"
             ],
             [
              0.4444444444444444,
              "#bd3786"
             ],
             [
              0.5555555555555556,
              "#d8576b"
             ],
             [
              0.6666666666666666,
              "#ed7953"
             ],
             [
              0.7777777777777778,
              "#fb9f3a"
             ],
             [
              0.8888888888888888,
              "#fdca26"
             ],
             [
              1,
              "#f0f921"
             ]
            ],
            "type": "histogram2dcontour"
           }
          ],
          "mesh3d": [
           {
            "colorbar": {
             "outlinewidth": 0,
             "ticks": ""
            },
            "type": "mesh3d"
           }
          ],
          "parcoords": [
           {
            "line": {
             "colorbar": {
              "outlinewidth": 0,
              "ticks": ""
             }
            },
            "type": "parcoords"
           }
          ],
          "pie": [
           {
            "automargin": true,
            "type": "pie"
           }
          ],
          "scatter": [
           {
            "fillpattern": {
             "fillmode": "overlay",
             "size": 10,
             "solidity": 0.2
            },
            "type": "scatter"
           }
          ],
          "scatter3d": [
           {
            "line": {
             "colorbar": {
              "outlinewidth": 0,
              "ticks": ""
             }
            },
            "marker": {
             "colorbar": {
              "outlinewidth": 0,
              "ticks": ""
             }
            },
            "type": "scatter3d"
           }
          ],
          "scattercarpet": [
           {
            "marker": {
             "colorbar": {
              "outlinewidth": 0,
              "ticks": ""
             }
            },
            "type": "scattercarpet"
           }
          ],
          "scattergeo": [
           {
            "marker": {
             "colorbar": {
              "outlinewidth": 0,
              "ticks": ""
             }
            },
            "type": "scattergeo"
           }
          ],
          "scattergl": [
           {
            "marker": {
             "colorbar": {
              "outlinewidth": 0,
              "ticks": ""
             }
            },
            "type": "scattergl"
           }
          ],
          "scattermap": [
           {
            "marker": {
             "colorbar": {
              "outlinewidth": 0,
              "ticks": ""
             }
            },
            "type": "scattermap"
           }
          ],
          "scattermapbox": [
           {
            "marker": {
             "colorbar": {
              "outlinewidth": 0,
              "ticks": ""
             }
            },
            "type": "scattermapbox"
           }
          ],
          "scatterpolar": [
           {
            "marker": {
             "colorbar": {
              "outlinewidth": 0,
              "ticks": ""
             }
            },
            "type": "scatterpolar"
           }
          ],
          "scatterpolargl": [
           {
            "marker": {
             "colorbar": {
              "outlinewidth": 0,
              "ticks": ""
             }
            },
            "type": "scatterpolargl"
           }
          ],
          "scatterternary": [
           {
            "marker": {
             "colorbar": {
              "outlinewidth": 0,
              "ticks": ""
             }
            },
            "type": "scatterternary"
           }
          ],
          "surface": [
           {
            "colorbar": {
             "outlinewidth": 0,
             "ticks": ""
            },
            "colorscale": [
             [
              0,
              "#0d0887"
             ],
             [
              0.1111111111111111,
              "#46039f"
             ],
             [
              0.2222222222222222,
              "#7201a8"
             ],
             [
              0.3333333333333333,
              "#9c179e"
             ],
             [
              0.4444444444444444,
              "#bd3786"
             ],
             [
              0.5555555555555556,
              "#d8576b"
             ],
             [
              0.6666666666666666,
              "#ed7953"
             ],
             [
              0.7777777777777778,
              "#fb9f3a"
             ],
             [
              0.8888888888888888,
              "#fdca26"
             ],
             [
              1,
              "#f0f921"
             ]
            ],
            "type": "surface"
           }
          ],
          "table": [
           {
            "cells": {
             "fill": {
              "color": "#EBF0F8"
             },
             "line": {
              "color": "white"
             }
            },
            "header": {
             "fill": {
              "color": "#C8D4E3"
             },
             "line": {
              "color": "white"
             }
            },
            "type": "table"
           }
          ]
         },
         "layout": {
          "annotationdefaults": {
           "arrowcolor": "#2a3f5f",
           "arrowhead": 0,
           "arrowwidth": 1
          },
          "autotypenumbers": "strict",
          "coloraxis": {
           "colorbar": {
            "outlinewidth": 0,
            "ticks": ""
           }
          },
          "colorscale": {
           "diverging": [
            [
             0,
             "#8e0152"
            ],
            [
             0.1,
             "#c51b7d"
            ],
            [
             0.2,
             "#de77ae"
            ],
            [
             0.3,
             "#f1b6da"
            ],
            [
             0.4,
             "#fde0ef"
            ],
            [
             0.5,
             "#f7f7f7"
            ],
            [
             0.6,
             "#e6f5d0"
            ],
            [
             0.7,
             "#b8e186"
            ],
            [
             0.8,
             "#7fbc41"
            ],
            [
             0.9,
             "#4d9221"
            ],
            [
             1,
             "#276419"
            ]
           ],
           "sequential": [
            [
             0,
             "#0d0887"
            ],
            [
             0.1111111111111111,
             "#46039f"
            ],
            [
             0.2222222222222222,
             "#7201a8"
            ],
            [
             0.3333333333333333,
             "#9c179e"
            ],
            [
             0.4444444444444444,
             "#bd3786"
            ],
            [
             0.5555555555555556,
             "#d8576b"
            ],
            [
             0.6666666666666666,
             "#ed7953"
            ],
            [
             0.7777777777777778,
             "#fb9f3a"
            ],
            [
             0.8888888888888888,
             "#fdca26"
            ],
            [
             1,
             "#f0f921"
            ]
           ],
           "sequentialminus": [
            [
             0,
             "#0d0887"
            ],
            [
             0.1111111111111111,
             "#46039f"
            ],
            [
             0.2222222222222222,
             "#7201a8"
            ],
            [
             0.3333333333333333,
             "#9c179e"
            ],
            [
             0.4444444444444444,
             "#bd3786"
            ],
            [
             0.5555555555555556,
             "#d8576b"
            ],
            [
             0.6666666666666666,
             "#ed7953"
            ],
            [
             0.7777777777777778,
             "#fb9f3a"
            ],
            [
             0.8888888888888888,
             "#fdca26"
            ],
            [
             1,
             "#f0f921"
            ]
           ]
          },
          "colorway": [
           "#636efa",
           "#EF553B",
           "#00cc96",
           "#ab63fa",
           "#FFA15A",
           "#19d3f3",
           "#FF6692",
           "#B6E880",
           "#FF97FF",
           "#FECB52"
          ],
          "font": {
           "color": "#2a3f5f"
          },
          "geo": {
           "bgcolor": "white",
           "lakecolor": "white",
           "landcolor": "#E5ECF6",
           "showlakes": true,
           "showland": true,
           "subunitcolor": "white"
          },
          "hoverlabel": {
           "align": "left"
          },
          "hovermode": "closest",
          "mapbox": {
           "style": "light"
          },
          "paper_bgcolor": "white",
          "plot_bgcolor": "#E5ECF6",
          "polar": {
           "angularaxis": {
            "gridcolor": "white",
            "linecolor": "white",
            "ticks": ""
           },
           "bgcolor": "#E5ECF6",
           "radialaxis": {
            "gridcolor": "white",
            "linecolor": "white",
            "ticks": ""
           }
          },
          "scene": {
           "xaxis": {
            "backgroundcolor": "#E5ECF6",
            "gridcolor": "white",
            "gridwidth": 2,
            "linecolor": "white",
            "showbackground": true,
            "ticks": "",
            "zerolinecolor": "white"
           },
           "yaxis": {
            "backgroundcolor": "#E5ECF6",
            "gridcolor": "white",
            "gridwidth": 2,
            "linecolor": "white",
            "showbackground": true,
            "ticks": "",
            "zerolinecolor": "white"
           },
           "zaxis": {
            "backgroundcolor": "#E5ECF6",
            "gridcolor": "white",
            "gridwidth": 2,
            "linecolor": "white",
            "showbackground": true,
            "ticks": "",
            "zerolinecolor": "white"
           }
          },
          "shapedefaults": {
           "line": {
            "color": "#2a3f5f"
           }
          },
          "ternary": {
           "aaxis": {
            "gridcolor": "white",
            "linecolor": "white",
            "ticks": ""
           },
           "baxis": {
            "gridcolor": "white",
            "linecolor": "white",
            "ticks": ""
           },
           "bgcolor": "#E5ECF6",
           "caxis": {
            "gridcolor": "white",
            "linecolor": "white",
            "ticks": ""
           }
          },
          "title": {
           "x": 0.05
          },
          "xaxis": {
           "automargin": true,
           "gridcolor": "white",
           "linecolor": "white",
           "ticks": "",
           "title": {
            "standoff": 15
           },
           "zerolinecolor": "white",
           "zerolinewidth": 2
          },
          "yaxis": {
           "automargin": true,
           "gridcolor": "white",
           "linecolor": "white",
           "ticks": "",
           "title": {
            "standoff": 15
           },
           "zerolinecolor": "white",
           "zerolinewidth": 2
          }
         }
        },
        "title": {
         "text": "Mapa de calor: dispersión de ataques por año y país"
        },
        "xaxis": {
         "anchor": "y",
         "domain": [
          0,
          1
         ],
         "title": {
          "text": "year"
         }
        },
        "yaxis": {
         "anchor": "x",
         "domain": [
          0,
          1
         ],
         "title": {
          "text": "country"
         }
        }
       }
      }
     },
     "metadata": {},
     "output_type": "display_data"
    }
   ],
   "source": [
    "fig = px.density_heatmap(\n",
    "    shark_summary,\n",
    "    x=\"year\",\n",
    "    y=\"country\",\n",
    "    z=\"attack_count\",\n",
    "    color_continuous_scale=\"Cividis\",\n",
    "    title=\"Mapa de calor: dispersión de ataques por año y país\"\n",
    ")\n",
    "\n",
    "fig.show()\n"
   ]
  },
  {
   "cell_type": "code",
   "execution_count": 113,
   "id": "95002997",
   "metadata": {},
   "outputs": [
    {
     "name": "stderr",
     "output_type": "stream",
     "text": [
      "C:\\Users\\marle\\AppData\\Local\\Temp\\ipykernel_4688\\281653722.py:3: DeprecationWarning:\n",
      "\n",
      "The library used by the *country names* `locationmode` option is changing in an upcoming version. Country names in existing plots may not work in the new version. To ensure consistent behavior, consider setting `locationmode` to *ISO-3*.\n",
      "\n"
     ]
    },
    {
     "data": {
      "application/vnd.plotly.v1+json": {
       "config": {
        "plotlyServerURL": "https://plot.ly"
       },
       "data": [
        {
         "geo": "geo",
         "hovertemplate": "fatal_y/n=n<br>attack_count=%{marker.size}<br>country=%{location}<extra></extra>",
         "legendgroup": "n",
         "locationmode": "country names",
         "locations": [
          "australia",
          "australia",
          "australia",
          "australia",
          "australia",
          "australia",
          "australia",
          "australia",
          "australia",
          "bahamas",
          "bahamas",
          "bahamas",
          "bahamas",
          "bahamas",
          "bahamas",
          "bahamas",
          "bahamas",
          "brazil",
          "brazil",
          "brazil",
          "brazil",
          "brazil",
          "brazil",
          "brazil",
          "egypt",
          "egypt",
          "egypt",
          "french polynesia",
          "french polynesia",
          "french polynesia",
          "french polynesia",
          "mexico",
          "mexico",
          "mexico",
          "new caledonia",
          "new caledonia",
          "new caledonia",
          "new caledonia",
          "new caledonia",
          "new zealand",
          "new zealand",
          "new zealand",
          "new zealand",
          "reunion",
          "reunion",
          "reunion",
          "reunion",
          "reunion",
          "south africa",
          "south africa",
          "south africa",
          "usa",
          "usa",
          "usa",
          "usa",
          "usa",
          "usa",
          "usa",
          "usa",
          "usa",
          "usa",
          "usa",
          "usa",
          "usa",
          "usa",
          "usa",
          "usa",
          "usa",
          "usa",
          "usa",
          "usa",
          "usa",
          "usa",
          "usa",
          "usa",
          "usa",
          "usa",
          "usa",
          "usa"
         ],
         "marker": {
          "color": "#636efa",
          "size": {
           "bdata": "lgAFAEEAGAAFAAEAAQAXAGIAFgABAAEAAgAHAAgAAQAGAAIAGAACAAEAAQACAAEABgALAAEAAQAEAA0ABgAFAAQABwABAAQABQABAAUAAQABAA0AEQABAAEAAQABAAkAJAAQACMACgABAF4AAQABAFUCAQAFAAIAjwABAAYAAQABAAMABQAQAEQAEAABAAEAAQABAE0AIgACAAEAAQA=",
           "dtype": "i2"
          },
          "sizemode": "area",
          "sizeref": 1.4925,
          "symbol": "circle"
         },
         "mode": "markers",
         "name": "n",
         "showlegend": true,
         "type": "scattergeo"
        },
        {
         "geo": "geo",
         "hovertemplate": "fatal_y/n=y<br>attack_count=%{marker.size}<br>country=%{location}<extra></extra>",
         "legendgroup": "y",
         "locationmode": "country names",
         "locations": [
          "australia",
          "australia",
          "australia",
          "australia",
          "australia",
          "bahamas",
          "bahamas",
          "bahamas",
          "bahamas",
          "brazil",
          "egypt",
          "egypt",
          "mexico",
          "mexico",
          "mexico",
          "mexico",
          "mexico",
          "mexico",
          "new caledonia",
          "new caledonia",
          "new caledonia",
          "new caledonia",
          "new caledonia",
          "new caledonia",
          "new zealand",
          "new zealand",
          "new zealand",
          "reunion",
          "reunion",
          "reunion",
          "south africa",
          "south africa",
          "south africa",
          "usa",
          "usa",
          "usa",
          "usa",
          "usa",
          "usa",
          "usa",
          "usa"
         ],
         "marker": {
          "color": "#EF553B",
          "size": {
           "bdata": "CwsMARUBAQEBEQYBAQIBAQEDAQIBAwECAgMBAQgBCgMNCQQIAQEBAQE=",
           "dtype": "i1"
          },
          "sizemode": "area",
          "sizeref": 1.4925,
          "symbol": "circle"
         },
         "mode": "markers",
         "name": "y",
         "showlegend": true,
         "type": "scattergeo"
        }
       ],
       "layout": {
        "geo": {
         "center": {},
         "domain": {
          "x": [
           0,
           1
          ],
          "y": [
           0,
           1
          ]
         },
         "projection": {
          "type": "natural earth"
         }
        },
        "legend": {
         "itemsizing": "constant",
         "title": {
          "text": "fatal_y/n"
         },
         "tracegroupgap": 0
        },
        "template": {
         "data": {
          "bar": [
           {
            "error_x": {
             "color": "#2a3f5f"
            },
            "error_y": {
             "color": "#2a3f5f"
            },
            "marker": {
             "line": {
              "color": "#E5ECF6",
              "width": 0.5
             },
             "pattern": {
              "fillmode": "overlay",
              "size": 10,
              "solidity": 0.2
             }
            },
            "type": "bar"
           }
          ],
          "barpolar": [
           {
            "marker": {
             "line": {
              "color": "#E5ECF6",
              "width": 0.5
             },
             "pattern": {
              "fillmode": "overlay",
              "size": 10,
              "solidity": 0.2
             }
            },
            "type": "barpolar"
           }
          ],
          "carpet": [
           {
            "aaxis": {
             "endlinecolor": "#2a3f5f",
             "gridcolor": "white",
             "linecolor": "white",
             "minorgridcolor": "white",
             "startlinecolor": "#2a3f5f"
            },
            "baxis": {
             "endlinecolor": "#2a3f5f",
             "gridcolor": "white",
             "linecolor": "white",
             "minorgridcolor": "white",
             "startlinecolor": "#2a3f5f"
            },
            "type": "carpet"
           }
          ],
          "choropleth": [
           {
            "colorbar": {
             "outlinewidth": 0,
             "ticks": ""
            },
            "type": "choropleth"
           }
          ],
          "contour": [
           {
            "colorbar": {
             "outlinewidth": 0,
             "ticks": ""
            },
            "colorscale": [
             [
              0,
              "#0d0887"
             ],
             [
              0.1111111111111111,
              "#46039f"
             ],
             [
              0.2222222222222222,
              "#7201a8"
             ],
             [
              0.3333333333333333,
              "#9c179e"
             ],
             [
              0.4444444444444444,
              "#bd3786"
             ],
             [
              0.5555555555555556,
              "#d8576b"
             ],
             [
              0.6666666666666666,
              "#ed7953"
             ],
             [
              0.7777777777777778,
              "#fb9f3a"
             ],
             [
              0.8888888888888888,
              "#fdca26"
             ],
             [
              1,
              "#f0f921"
             ]
            ],
            "type": "contour"
           }
          ],
          "contourcarpet": [
           {
            "colorbar": {
             "outlinewidth": 0,
             "ticks": ""
            },
            "type": "contourcarpet"
           }
          ],
          "heatmap": [
           {
            "colorbar": {
             "outlinewidth": 0,
             "ticks": ""
            },
            "colorscale": [
             [
              0,
              "#0d0887"
             ],
             [
              0.1111111111111111,
              "#46039f"
             ],
             [
              0.2222222222222222,
              "#7201a8"
             ],
             [
              0.3333333333333333,
              "#9c179e"
             ],
             [
              0.4444444444444444,
              "#bd3786"
             ],
             [
              0.5555555555555556,
              "#d8576b"
             ],
             [
              0.6666666666666666,
              "#ed7953"
             ],
             [
              0.7777777777777778,
              "#fb9f3a"
             ],
             [
              0.8888888888888888,
              "#fdca26"
             ],
             [
              1,
              "#f0f921"
             ]
            ],
            "type": "heatmap"
           }
          ],
          "histogram": [
           {
            "marker": {
             "pattern": {
              "fillmode": "overlay",
              "size": 10,
              "solidity": 0.2
             }
            },
            "type": "histogram"
           }
          ],
          "histogram2d": [
           {
            "colorbar": {
             "outlinewidth": 0,
             "ticks": ""
            },
            "colorscale": [
             [
              0,
              "#0d0887"
             ],
             [
              0.1111111111111111,
              "#46039f"
             ],
             [
              0.2222222222222222,
              "#7201a8"
             ],
             [
              0.3333333333333333,
              "#9c179e"
             ],
             [
              0.4444444444444444,
              "#bd3786"
             ],
             [
              0.5555555555555556,
              "#d8576b"
             ],
             [
              0.6666666666666666,
              "#ed7953"
             ],
             [
              0.7777777777777778,
              "#fb9f3a"
             ],
             [
              0.8888888888888888,
              "#fdca26"
             ],
             [
              1,
              "#f0f921"
             ]
            ],
            "type": "histogram2d"
           }
          ],
          "histogram2dcontour": [
           {
            "colorbar": {
             "outlinewidth": 0,
             "ticks": ""
            },
            "colorscale": [
             [
              0,
              "#0d0887"
             ],
             [
              0.1111111111111111,
              "#46039f"
             ],
             [
              0.2222222222222222,
              "#7201a8"
             ],
             [
              0.3333333333333333,
              "#9c179e"
             ],
             [
              0.4444444444444444,
              "#bd3786"
             ],
             [
              0.5555555555555556,
              "#d8576b"
             ],
             [
              0.6666666666666666,
              "#ed7953"
             ],
             [
              0.7777777777777778,
              "#fb9f3a"
             ],
             [
              0.8888888888888888,
              "#fdca26"
             ],
             [
              1,
              "#f0f921"
             ]
            ],
            "type": "histogram2dcontour"
           }
          ],
          "mesh3d": [
           {
            "colorbar": {
             "outlinewidth": 0,
             "ticks": ""
            },
            "type": "mesh3d"
           }
          ],
          "parcoords": [
           {
            "line": {
             "colorbar": {
              "outlinewidth": 0,
              "ticks": ""
             }
            },
            "type": "parcoords"
           }
          ],
          "pie": [
           {
            "automargin": true,
            "type": "pie"
           }
          ],
          "scatter": [
           {
            "fillpattern": {
             "fillmode": "overlay",
             "size": 10,
             "solidity": 0.2
            },
            "type": "scatter"
           }
          ],
          "scatter3d": [
           {
            "line": {
             "colorbar": {
              "outlinewidth": 0,
              "ticks": ""
             }
            },
            "marker": {
             "colorbar": {
              "outlinewidth": 0,
              "ticks": ""
             }
            },
            "type": "scatter3d"
           }
          ],
          "scattercarpet": [
           {
            "marker": {
             "colorbar": {
              "outlinewidth": 0,
              "ticks": ""
             }
            },
            "type": "scattercarpet"
           }
          ],
          "scattergeo": [
           {
            "marker": {
             "colorbar": {
              "outlinewidth": 0,
              "ticks": ""
             }
            },
            "type": "scattergeo"
           }
          ],
          "scattergl": [
           {
            "marker": {
             "colorbar": {
              "outlinewidth": 0,
              "ticks": ""
             }
            },
            "type": "scattergl"
           }
          ],
          "scattermap": [
           {
            "marker": {
             "colorbar": {
              "outlinewidth": 0,
              "ticks": ""
             }
            },
            "type": "scattermap"
           }
          ],
          "scattermapbox": [
           {
            "marker": {
             "colorbar": {
              "outlinewidth": 0,
              "ticks": ""
             }
            },
            "type": "scattermapbox"
           }
          ],
          "scatterpolar": [
           {
            "marker": {
             "colorbar": {
              "outlinewidth": 0,
              "ticks": ""
             }
            },
            "type": "scatterpolar"
           }
          ],
          "scatterpolargl": [
           {
            "marker": {
             "colorbar": {
              "outlinewidth": 0,
              "ticks": ""
             }
            },
            "type": "scatterpolargl"
           }
          ],
          "scatterternary": [
           {
            "marker": {
             "colorbar": {
              "outlinewidth": 0,
              "ticks": ""
             }
            },
            "type": "scatterternary"
           }
          ],
          "surface": [
           {
            "colorbar": {
             "outlinewidth": 0,
             "ticks": ""
            },
            "colorscale": [
             [
              0,
              "#0d0887"
             ],
             [
              0.1111111111111111,
              "#46039f"
             ],
             [
              0.2222222222222222,
              "#7201a8"
             ],
             [
              0.3333333333333333,
              "#9c179e"
             ],
             [
              0.4444444444444444,
              "#bd3786"
             ],
             [
              0.5555555555555556,
              "#d8576b"
             ],
             [
              0.6666666666666666,
              "#ed7953"
             ],
             [
              0.7777777777777778,
              "#fb9f3a"
             ],
             [
              0.8888888888888888,
              "#fdca26"
             ],
             [
              1,
              "#f0f921"
             ]
            ],
            "type": "surface"
           }
          ],
          "table": [
           {
            "cells": {
             "fill": {
              "color": "#EBF0F8"
             },
             "line": {
              "color": "white"
             }
            },
            "header": {
             "fill": {
              "color": "#C8D4E3"
             },
             "line": {
              "color": "white"
             }
            },
            "type": "table"
           }
          ]
         },
         "layout": {
          "annotationdefaults": {
           "arrowcolor": "#2a3f5f",
           "arrowhead": 0,
           "arrowwidth": 1
          },
          "autotypenumbers": "strict",
          "coloraxis": {
           "colorbar": {
            "outlinewidth": 0,
            "ticks": ""
           }
          },
          "colorscale": {
           "diverging": [
            [
             0,
             "#8e0152"
            ],
            [
             0.1,
             "#c51b7d"
            ],
            [
             0.2,
             "#de77ae"
            ],
            [
             0.3,
             "#f1b6da"
            ],
            [
             0.4,
             "#fde0ef"
            ],
            [
             0.5,
             "#f7f7f7"
            ],
            [
             0.6,
             "#e6f5d0"
            ],
            [
             0.7,
             "#b8e186"
            ],
            [
             0.8,
             "#7fbc41"
            ],
            [
             0.9,
             "#4d9221"
            ],
            [
             1,
             "#276419"
            ]
           ],
           "sequential": [
            [
             0,
             "#0d0887"
            ],
            [
             0.1111111111111111,
             "#46039f"
            ],
            [
             0.2222222222222222,
             "#7201a8"
            ],
            [
             0.3333333333333333,
             "#9c179e"
            ],
            [
             0.4444444444444444,
             "#bd3786"
            ],
            [
             0.5555555555555556,
             "#d8576b"
            ],
            [
             0.6666666666666666,
             "#ed7953"
            ],
            [
             0.7777777777777778,
             "#fb9f3a"
            ],
            [
             0.8888888888888888,
             "#fdca26"
            ],
            [
             1,
             "#f0f921"
            ]
           ],
           "sequentialminus": [
            [
             0,
             "#0d0887"
            ],
            [
             0.1111111111111111,
             "#46039f"
            ],
            [
             0.2222222222222222,
             "#7201a8"
            ],
            [
             0.3333333333333333,
             "#9c179e"
            ],
            [
             0.4444444444444444,
             "#bd3786"
            ],
            [
             0.5555555555555556,
             "#d8576b"
            ],
            [
             0.6666666666666666,
             "#ed7953"
            ],
            [
             0.7777777777777778,
             "#fb9f3a"
            ],
            [
             0.8888888888888888,
             "#fdca26"
            ],
            [
             1,
             "#f0f921"
            ]
           ]
          },
          "colorway": [
           "#636efa",
           "#EF553B",
           "#00cc96",
           "#ab63fa",
           "#FFA15A",
           "#19d3f3",
           "#FF6692",
           "#B6E880",
           "#FF97FF",
           "#FECB52"
          ],
          "font": {
           "color": "#2a3f5f"
          },
          "geo": {
           "bgcolor": "white",
           "lakecolor": "white",
           "landcolor": "#E5ECF6",
           "showlakes": true,
           "showland": true,
           "subunitcolor": "white"
          },
          "hoverlabel": {
           "align": "left"
          },
          "hovermode": "closest",
          "mapbox": {
           "style": "light"
          },
          "paper_bgcolor": "white",
          "plot_bgcolor": "#E5ECF6",
          "polar": {
           "angularaxis": {
            "gridcolor": "white",
            "linecolor": "white",
            "ticks": ""
           },
           "bgcolor": "#E5ECF6",
           "radialaxis": {
            "gridcolor": "white",
            "linecolor": "white",
            "ticks": ""
           }
          },
          "scene": {
           "xaxis": {
            "backgroundcolor": "#E5ECF6",
            "gridcolor": "white",
            "gridwidth": 2,
            "linecolor": "white",
            "showbackground": true,
            "ticks": "",
            "zerolinecolor": "white"
           },
           "yaxis": {
            "backgroundcolor": "#E5ECF6",
            "gridcolor": "white",
            "gridwidth": 2,
            "linecolor": "white",
            "showbackground": true,
            "ticks": "",
            "zerolinecolor": "white"
           },
           "zaxis": {
            "backgroundcolor": "#E5ECF6",
            "gridcolor": "white",
            "gridwidth": 2,
            "linecolor": "white",
            "showbackground": true,
            "ticks": "",
            "zerolinecolor": "white"
           }
          },
          "shapedefaults": {
           "line": {
            "color": "#2a3f5f"
           }
          },
          "ternary": {
           "aaxis": {
            "gridcolor": "white",
            "linecolor": "white",
            "ticks": ""
           },
           "baxis": {
            "gridcolor": "white",
            "linecolor": "white",
            "ticks": ""
           },
           "bgcolor": "#E5ECF6",
           "caxis": {
            "gridcolor": "white",
            "linecolor": "white",
            "ticks": ""
           }
          },
          "title": {
           "x": 0.05
          },
          "xaxis": {
           "automargin": true,
           "gridcolor": "white",
           "linecolor": "white",
           "ticks": "",
           "title": {
            "standoff": 15
           },
           "zerolinecolor": "white",
           "zerolinewidth": 2
          },
          "yaxis": {
           "automargin": true,
           "gridcolor": "white",
           "linecolor": "white",
           "ticks": "",
           "title": {
            "standoff": 15
           },
           "zerolinecolor": "white",
           "zerolinewidth": 2
          }
         }
        },
        "title": {
         "text": "Mapa interactivo de ataques de tiburón por país y estado"
        }
       }
      }
     },
     "metadata": {},
     "output_type": "display_data"
    }
   ],
   "source": [
    "geo_summary = (shark_df.groupby(['country', 'state', 'fatal_y/n']).size().reset_index(name=\"attack_count\"))\n",
    "\n",
    "fig = px.scatter_geo(\n",
    "    geo_summary,\n",
    "    locations=\"country\",           # reconoce nombres de países automáticamente\n",
    "    locationmode=\"country names\",\n",
    "    size=\"attack_count\",\n",
    "    color=\"fatal_y/n\",\n",
    "    title=\"Mapa interactivo de ataques de tiburón por país y estado\",\n",
    "    projection=\"natural earth\"\n",
    ")\n",
    "fig.show()\n"
   ]
  },
  {
   "cell_type": "code",
   "execution_count": 114,
   "id": "a66578b4",
   "metadata": {},
   "outputs": [
    {
     "data": {
      "text/plain": [
       "fatal_y/n  sex  activity\n",
       "n          m    surfing     676\n",
       "                swimming    307\n",
       "           f    swimming    171\n",
       "           m    fishing     140\n",
       "                paddle       98\n",
       "                diving       97\n",
       "           f    surfing      77\n",
       "y          m    surfing      43\n",
       "                swimming     41\n",
       "n          f    diving       40\n",
       "dtype: int64"
      ]
     },
     "execution_count": 114,
     "metadata": {},
     "output_type": "execute_result"
    }
   ],
   "source": [
    "# Análisis por FATAL-SEX-ACTIVITY\n",
    "sex_analysis_cols = ['fatal_y/n','sex', 'activity']\n",
    "dupe_mask3 = shark_df.duplicated(subset=sex_analysis_cols, keep=False)\n",
    "shark_df[dupe_mask3].sort_values(by=sex_analysis_cols)\n",
    "\n",
    "# Cuántas veces se repite cada combinación de las columnas clave\n",
    "shark_df.groupby(sex_analysis_cols).size().sort_values(ascending=False).head(10)"
   ]
  },
  {
   "cell_type": "code",
   "execution_count": 115,
   "id": "aa2c2fdf",
   "metadata": {},
   "outputs": [
    {
     "data": {
      "application/vnd.plotly.v1+json": {
       "config": {
        "plotlyServerURL": "https://plot.ly"
       },
       "data": [
        {
         "coloraxis": "coloraxis",
         "histfunc": "sum",
         "hovertemplate": "activity=%{x}<br>country=%{y}<br>sum of attack_count=%{z}<extra></extra>",
         "name": "",
         "type": "histogram2d",
         "x": [
          "diving",
          "fishing",
          "kayaking",
          "paddle",
          "study",
          "surfing",
          "swimming",
          "unknown activity",
          "diving",
          "fishing",
          "paddle",
          "surfing",
          "swimming",
          "unknown activity",
          "diving",
          "fishing",
          "paddle",
          "surfing",
          "swimming",
          "unknown activity",
          "diving",
          "swimming",
          "diving",
          "fishing",
          "kayaking",
          "surfing",
          "swimming",
          "unknown activity",
          "attempting to fix motor",
          "diving",
          "paddle",
          "surfing",
          "swimming",
          "diving",
          "fishing",
          "surfing",
          "swimming",
          "diving",
          "fishing",
          "paddle",
          "surfing",
          "swimming",
          "diving",
          "paddle",
          "surfing",
          "swimming",
          "diving",
          "fishing",
          "paddle",
          "surfing",
          "swimming",
          "unknown activity",
          "diving",
          "fishing",
          "kayaking",
          "paddle",
          "shipwreck",
          "study",
          "surfing",
          "swimming",
          "unknown activity"
         ],
         "xaxis": "x",
         "xbingroup": "x",
         "y": [
          "australia",
          "australia",
          "australia",
          "australia",
          "australia",
          "australia",
          "australia",
          "australia",
          "bahamas",
          "bahamas",
          "bahamas",
          "bahamas",
          "bahamas",
          "bahamas",
          "brazil",
          "brazil",
          "brazil",
          "brazil",
          "brazil",
          "brazil",
          "egypt",
          "egypt",
          "french polynesia",
          "french polynesia",
          "french polynesia",
          "french polynesia",
          "french polynesia",
          "french polynesia",
          "mexico",
          "mexico",
          "mexico",
          "mexico",
          "mexico",
          "new caledonia",
          "new caledonia",
          "new caledonia",
          "new caledonia",
          "new zealand",
          "new zealand",
          "new zealand",
          "new zealand",
          "new zealand",
          "reunion",
          "reunion",
          "reunion",
          "reunion",
          "south africa",
          "south africa",
          "south africa",
          "south africa",
          "south africa",
          "south africa",
          "usa",
          "usa",
          "usa",
          "usa",
          "usa",
          "usa",
          "usa",
          "usa",
          "usa"
         ],
         "yaxis": "y",
         "ybingroup": "y",
         "z": {
          "bdata": "NgA0AAYAGQABANAATAAGAA8AGQABAAIACAABAAEAAQACAA8AHAADABIABwADAAgAAgAGAAMAAgABAAcAAQAHAAkAAwALAAgABAAGAAYAAgAOAAoAAQAJAAsAAgALAA0ACAA8ABQAAQAxADUABgBnAAEABADhAXMBMQA=",
          "dtype": "i2"
         }
        }
       ],
       "layout": {
        "coloraxis": {
         "colorbar": {
          "title": {
           "text": "sum of attack_count"
          }
         },
         "colorscale": [
          [
           0,
           "#000004"
          ],
          [
           0.1111111111111111,
           "#1b0c41"
          ],
          [
           0.2222222222222222,
           "#4a0c6b"
          ],
          [
           0.3333333333333333,
           "#781c6d"
          ],
          [
           0.4444444444444444,
           "#a52c60"
          ],
          [
           0.5555555555555556,
           "#cf4446"
          ],
          [
           0.6666666666666666,
           "#ed6925"
          ],
          [
           0.7777777777777778,
           "#fb9b06"
          ],
          [
           0.8888888888888888,
           "#f7d13d"
          ],
          [
           1,
           "#fcffa4"
          ]
         ]
        },
        "legend": {
         "tracegroupgap": 0
        },
        "template": {
         "data": {
          "bar": [
           {
            "error_x": {
             "color": "#2a3f5f"
            },
            "error_y": {
             "color": "#2a3f5f"
            },
            "marker": {
             "line": {
              "color": "#E5ECF6",
              "width": 0.5
             },
             "pattern": {
              "fillmode": "overlay",
              "size": 10,
              "solidity": 0.2
             }
            },
            "type": "bar"
           }
          ],
          "barpolar": [
           {
            "marker": {
             "line": {
              "color": "#E5ECF6",
              "width": 0.5
             },
             "pattern": {
              "fillmode": "overlay",
              "size": 10,
              "solidity": 0.2
             }
            },
            "type": "barpolar"
           }
          ],
          "carpet": [
           {
            "aaxis": {
             "endlinecolor": "#2a3f5f",
             "gridcolor": "white",
             "linecolor": "white",
             "minorgridcolor": "white",
             "startlinecolor": "#2a3f5f"
            },
            "baxis": {
             "endlinecolor": "#2a3f5f",
             "gridcolor": "white",
             "linecolor": "white",
             "minorgridcolor": "white",
             "startlinecolor": "#2a3f5f"
            },
            "type": "carpet"
           }
          ],
          "choropleth": [
           {
            "colorbar": {
             "outlinewidth": 0,
             "ticks": ""
            },
            "type": "choropleth"
           }
          ],
          "contour": [
           {
            "colorbar": {
             "outlinewidth": 0,
             "ticks": ""
            },
            "colorscale": [
             [
              0,
              "#0d0887"
             ],
             [
              0.1111111111111111,
              "#46039f"
             ],
             [
              0.2222222222222222,
              "#7201a8"
             ],
             [
              0.3333333333333333,
              "#9c179e"
             ],
             [
              0.4444444444444444,
              "#bd3786"
             ],
             [
              0.5555555555555556,
              "#d8576b"
             ],
             [
              0.6666666666666666,
              "#ed7953"
             ],
             [
              0.7777777777777778,
              "#fb9f3a"
             ],
             [
              0.8888888888888888,
              "#fdca26"
             ],
             [
              1,
              "#f0f921"
             ]
            ],
            "type": "contour"
           }
          ],
          "contourcarpet": [
           {
            "colorbar": {
             "outlinewidth": 0,
             "ticks": ""
            },
            "type": "contourcarpet"
           }
          ],
          "heatmap": [
           {
            "colorbar": {
             "outlinewidth": 0,
             "ticks": ""
            },
            "colorscale": [
             [
              0,
              "#0d0887"
             ],
             [
              0.1111111111111111,
              "#46039f"
             ],
             [
              0.2222222222222222,
              "#7201a8"
             ],
             [
              0.3333333333333333,
              "#9c179e"
             ],
             [
              0.4444444444444444,
              "#bd3786"
             ],
             [
              0.5555555555555556,
              "#d8576b"
             ],
             [
              0.6666666666666666,
              "#ed7953"
             ],
             [
              0.7777777777777778,
              "#fb9f3a"
             ],
             [
              0.8888888888888888,
              "#fdca26"
             ],
             [
              1,
              "#f0f921"
             ]
            ],
            "type": "heatmap"
           }
          ],
          "histogram": [
           {
            "marker": {
             "pattern": {
              "fillmode": "overlay",
              "size": 10,
              "solidity": 0.2
             }
            },
            "type": "histogram"
           }
          ],
          "histogram2d": [
           {
            "colorbar": {
             "outlinewidth": 0,
             "ticks": ""
            },
            "colorscale": [
             [
              0,
              "#0d0887"
             ],
             [
              0.1111111111111111,
              "#46039f"
             ],
             [
              0.2222222222222222,
              "#7201a8"
             ],
             [
              0.3333333333333333,
              "#9c179e"
             ],
             [
              0.4444444444444444,
              "#bd3786"
             ],
             [
              0.5555555555555556,
              "#d8576b"
             ],
             [
              0.6666666666666666,
              "#ed7953"
             ],
             [
              0.7777777777777778,
              "#fb9f3a"
             ],
             [
              0.8888888888888888,
              "#fdca26"
             ],
             [
              1,
              "#f0f921"
             ]
            ],
            "type": "histogram2d"
           }
          ],
          "histogram2dcontour": [
           {
            "colorbar": {
             "outlinewidth": 0,
             "ticks": ""
            },
            "colorscale": [
             [
              0,
              "#0d0887"
             ],
             [
              0.1111111111111111,
              "#46039f"
             ],
             [
              0.2222222222222222,
              "#7201a8"
             ],
             [
              0.3333333333333333,
              "#9c179e"
             ],
             [
              0.4444444444444444,
              "#bd3786"
             ],
             [
              0.5555555555555556,
              "#d8576b"
             ],
             [
              0.6666666666666666,
              "#ed7953"
             ],
             [
              0.7777777777777778,
              "#fb9f3a"
             ],
             [
              0.8888888888888888,
              "#fdca26"
             ],
             [
              1,
              "#f0f921"
             ]
            ],
            "type": "histogram2dcontour"
           }
          ],
          "mesh3d": [
           {
            "colorbar": {
             "outlinewidth": 0,
             "ticks": ""
            },
            "type": "mesh3d"
           }
          ],
          "parcoords": [
           {
            "line": {
             "colorbar": {
              "outlinewidth": 0,
              "ticks": ""
             }
            },
            "type": "parcoords"
           }
          ],
          "pie": [
           {
            "automargin": true,
            "type": "pie"
           }
          ],
          "scatter": [
           {
            "fillpattern": {
             "fillmode": "overlay",
             "size": 10,
             "solidity": 0.2
            },
            "type": "scatter"
           }
          ],
          "scatter3d": [
           {
            "line": {
             "colorbar": {
              "outlinewidth": 0,
              "ticks": ""
             }
            },
            "marker": {
             "colorbar": {
              "outlinewidth": 0,
              "ticks": ""
             }
            },
            "type": "scatter3d"
           }
          ],
          "scattercarpet": [
           {
            "marker": {
             "colorbar": {
              "outlinewidth": 0,
              "ticks": ""
             }
            },
            "type": "scattercarpet"
           }
          ],
          "scattergeo": [
           {
            "marker": {
             "colorbar": {
              "outlinewidth": 0,
              "ticks": ""
             }
            },
            "type": "scattergeo"
           }
          ],
          "scattergl": [
           {
            "marker": {
             "colorbar": {
              "outlinewidth": 0,
              "ticks": ""
             }
            },
            "type": "scattergl"
           }
          ],
          "scattermap": [
           {
            "marker": {
             "colorbar": {
              "outlinewidth": 0,
              "ticks": ""
             }
            },
            "type": "scattermap"
           }
          ],
          "scattermapbox": [
           {
            "marker": {
             "colorbar": {
              "outlinewidth": 0,
              "ticks": ""
             }
            },
            "type": "scattermapbox"
           }
          ],
          "scatterpolar": [
           {
            "marker": {
             "colorbar": {
              "outlinewidth": 0,
              "ticks": ""
             }
            },
            "type": "scatterpolar"
           }
          ],
          "scatterpolargl": [
           {
            "marker": {
             "colorbar": {
              "outlinewidth": 0,
              "ticks": ""
             }
            },
            "type": "scatterpolargl"
           }
          ],
          "scatterternary": [
           {
            "marker": {
             "colorbar": {
              "outlinewidth": 0,
              "ticks": ""
             }
            },
            "type": "scatterternary"
           }
          ],
          "surface": [
           {
            "colorbar": {
             "outlinewidth": 0,
             "ticks": ""
            },
            "colorscale": [
             [
              0,
              "#0d0887"
             ],
             [
              0.1111111111111111,
              "#46039f"
             ],
             [
              0.2222222222222222,
              "#7201a8"
             ],
             [
              0.3333333333333333,
              "#9c179e"
             ],
             [
              0.4444444444444444,
              "#bd3786"
             ],
             [
              0.5555555555555556,
              "#d8576b"
             ],
             [
              0.6666666666666666,
              "#ed7953"
             ],
             [
              0.7777777777777778,
              "#fb9f3a"
             ],
             [
              0.8888888888888888,
              "#fdca26"
             ],
             [
              1,
              "#f0f921"
             ]
            ],
            "type": "surface"
           }
          ],
          "table": [
           {
            "cells": {
             "fill": {
              "color": "#EBF0F8"
             },
             "line": {
              "color": "white"
             }
            },
            "header": {
             "fill": {
              "color": "#C8D4E3"
             },
             "line": {
              "color": "white"
             }
            },
            "type": "table"
           }
          ]
         },
         "layout": {
          "annotationdefaults": {
           "arrowcolor": "#2a3f5f",
           "arrowhead": 0,
           "arrowwidth": 1
          },
          "autotypenumbers": "strict",
          "coloraxis": {
           "colorbar": {
            "outlinewidth": 0,
            "ticks": ""
           }
          },
          "colorscale": {
           "diverging": [
            [
             0,
             "#8e0152"
            ],
            [
             0.1,
             "#c51b7d"
            ],
            [
             0.2,
             "#de77ae"
            ],
            [
             0.3,
             "#f1b6da"
            ],
            [
             0.4,
             "#fde0ef"
            ],
            [
             0.5,
             "#f7f7f7"
            ],
            [
             0.6,
             "#e6f5d0"
            ],
            [
             0.7,
             "#b8e186"
            ],
            [
             0.8,
             "#7fbc41"
            ],
            [
             0.9,
             "#4d9221"
            ],
            [
             1,
             "#276419"
            ]
           ],
           "sequential": [
            [
             0,
             "#0d0887"
            ],
            [
             0.1111111111111111,
             "#46039f"
            ],
            [
             0.2222222222222222,
             "#7201a8"
            ],
            [
             0.3333333333333333,
             "#9c179e"
            ],
            [
             0.4444444444444444,
             "#bd3786"
            ],
            [
             0.5555555555555556,
             "#d8576b"
            ],
            [
             0.6666666666666666,
             "#ed7953"
            ],
            [
             0.7777777777777778,
             "#fb9f3a"
            ],
            [
             0.8888888888888888,
             "#fdca26"
            ],
            [
             1,
             "#f0f921"
            ]
           ],
           "sequentialminus": [
            [
             0,
             "#0d0887"
            ],
            [
             0.1111111111111111,
             "#46039f"
            ],
            [
             0.2222222222222222,
             "#7201a8"
            ],
            [
             0.3333333333333333,
             "#9c179e"
            ],
            [
             0.4444444444444444,
             "#bd3786"
            ],
            [
             0.5555555555555556,
             "#d8576b"
            ],
            [
             0.6666666666666666,
             "#ed7953"
            ],
            [
             0.7777777777777778,
             "#fb9f3a"
            ],
            [
             0.8888888888888888,
             "#fdca26"
            ],
            [
             1,
             "#f0f921"
            ]
           ]
          },
          "colorway": [
           "#636efa",
           "#EF553B",
           "#00cc96",
           "#ab63fa",
           "#FFA15A",
           "#19d3f3",
           "#FF6692",
           "#B6E880",
           "#FF97FF",
           "#FECB52"
          ],
          "font": {
           "color": "#2a3f5f"
          },
          "geo": {
           "bgcolor": "white",
           "lakecolor": "white",
           "landcolor": "#E5ECF6",
           "showlakes": true,
           "showland": true,
           "subunitcolor": "white"
          },
          "hoverlabel": {
           "align": "left"
          },
          "hovermode": "closest",
          "mapbox": {
           "style": "light"
          },
          "paper_bgcolor": "white",
          "plot_bgcolor": "#E5ECF6",
          "polar": {
           "angularaxis": {
            "gridcolor": "white",
            "linecolor": "white",
            "ticks": ""
           },
           "bgcolor": "#E5ECF6",
           "radialaxis": {
            "gridcolor": "white",
            "linecolor": "white",
            "ticks": ""
           }
          },
          "scene": {
           "xaxis": {
            "backgroundcolor": "#E5ECF6",
            "gridcolor": "white",
            "gridwidth": 2,
            "linecolor": "white",
            "showbackground": true,
            "ticks": "",
            "zerolinecolor": "white"
           },
           "yaxis": {
            "backgroundcolor": "#E5ECF6",
            "gridcolor": "white",
            "gridwidth": 2,
            "linecolor": "white",
            "showbackground": true,
            "ticks": "",
            "zerolinecolor": "white"
           },
           "zaxis": {
            "backgroundcolor": "#E5ECF6",
            "gridcolor": "white",
            "gridwidth": 2,
            "linecolor": "white",
            "showbackground": true,
            "ticks": "",
            "zerolinecolor": "white"
           }
          },
          "shapedefaults": {
           "line": {
            "color": "#2a3f5f"
           }
          },
          "ternary": {
           "aaxis": {
            "gridcolor": "white",
            "linecolor": "white",
            "ticks": ""
           },
           "baxis": {
            "gridcolor": "white",
            "linecolor": "white",
            "ticks": ""
           },
           "bgcolor": "#E5ECF6",
           "caxis": {
            "gridcolor": "white",
            "linecolor": "white",
            "ticks": ""
           }
          },
          "title": {
           "x": 0.05
          },
          "xaxis": {
           "automargin": true,
           "gridcolor": "white",
           "linecolor": "white",
           "ticks": "",
           "title": {
            "standoff": 15
           },
           "zerolinecolor": "white",
           "zerolinewidth": 2
          },
          "yaxis": {
           "automargin": true,
           "gridcolor": "white",
           "linecolor": "white",
           "ticks": "",
           "title": {
            "standoff": 15
           },
           "zerolinecolor": "white",
           "zerolinewidth": 2
          }
         }
        },
        "title": {
         "text": "Mapa de calor: dispersión de los ataques por actividad en cada país"
        },
        "xaxis": {
         "anchor": "y",
         "domain": [
          0,
          1
         ],
         "title": {
          "text": "activity"
         }
        },
        "yaxis": {
         "anchor": "x",
         "domain": [
          0,
          1
         ],
         "title": {
          "text": "country"
         }
        }
       }
      }
     },
     "metadata": {},
     "output_type": "display_data"
    }
   ],
   "source": [
    "geo_summary = (shark_df.groupby(['country', 'activity']).size().reset_index(name=\"attack_count\"))\n",
    "\n",
    "fig = px.density_heatmap(\n",
    "    geo_summary,\n",
    "    x=\"activity\",\n",
    "    y=\"country\",\n",
    "    z=\"attack_count\",\n",
    "    color_continuous_scale=\"Inferno\",\n",
    "    title=\"Mapa de calor: dispersión de los ataques por actividad en cada país\"\n",
    ")\n",
    "fig.show()\n"
   ]
  },
  {
   "cell_type": "code",
   "execution_count": 116,
   "id": "73c68f23",
   "metadata": {},
   "outputs": [
    {
     "data": {
      "text/plain": [
       "species         fatal_y/n\n",
       "white shark     n            43\n",
       "bull shark      n            35\n",
       "4' shark        n            29\n",
       "tiger shark     n            27\n",
       "white shark     y            22\n",
       "4' to 5' shark  n            20\n",
       "6' shark        n            18\n",
       "3' shark        n            17\n",
       "3' to 4' shark  n            16\n",
       "blacktip shark  n            15\n",
       "dtype: int64"
      ]
     },
     "execution_count": 116,
     "metadata": {},
     "output_type": "execute_result"
    }
   ],
   "source": [
    "# Análisis por SPECIES-FATAL\n",
    "species_analysis_cols = ['species','fatal_y/n']\n",
    "dupe_mask4 = shark_df.duplicated(subset=species_analysis_cols, keep=False)\n",
    "shark_df[dupe_mask4].sort_values(by=species_analysis_cols)\n",
    "\n",
    "# Cuántas veces se repite cada combinación de las columnas clave\n",
    "shark_df.groupby(species_analysis_cols).size().sort_values(ascending=False).head(10)"
   ]
  },
  {
   "cell_type": "code",
   "execution_count": 117,
   "id": "77b751b9",
   "metadata": {},
   "outputs": [],
   "source": [
    "# Resumen species × fatal\n",
    "sp_fatal = (shark_df.groupby([\"species\",\"fatal_y/n\"]).size().reset_index(name=\"count\"))\n",
    "\n",
    "# Totales por especie\n",
    "sp_total = sp_fatal.groupby(\"species\", as_index=False)[\"count\"].sum().rename(columns={\"count\":\"total\"})\n",
    "sp_fatal = sp_fatal.merge(sp_total, on=\"species\", how=\"left\")\n",
    "\n",
    "# Métricas por especie (CFR = case fatality rate)\n",
    "sp_rate = (\n",
    "    sp_fatal.pivot_table(index=\"species\", columns=\"fatal_y/n\", values=\"count\", fill_value=0)\n",
    "             .rename_axis(None, axis=1)\n",
    "             .reset_index()\n",
    ")\n",
    "sp_rate[\"total\"] = sp_rate.get(\"y\",0) + sp_rate.get(\"n\",0) + sp_rate.get(\"unknown\",0)\n",
    "sp_rate[\"fatality_rate\"] = sp_rate.get(\"y\",0) / sp_rate[\"total\"]\n",
    "sp_rate = sp_rate.sort_values([\"total\",\"fatality_rate\"], ascending=[False, False])\n",
    "\n",
    "# Filtro a especies con suficiente muestra para evitar ruido\n",
    "MIN_N = 15\n",
    "sp_fatal_top = sp_fatal[sp_fatal[\"total\"] >= MIN_N].copy()\n",
    "sp_rate_top  = sp_rate[sp_rate[\"total\"] >= MIN_N].copy()\n",
    "\n",
    "# Orden de categorías por volumen\n",
    "species_order = sp_rate_top[\"species\"].tolist()"
   ]
  },
  {
   "cell_type": "code",
   "execution_count": 118,
   "id": "2762e044",
   "metadata": {},
   "outputs": [
    {
     "data": {
      "application/vnd.plotly.v1+json": {
       "config": {
        "plotlyServerURL": "https://plot.ly"
       },
       "data": [
        {
         "hovertemplate": "Fatalidad=y<br>Especie=%{x}<br>Nº casos=%{y}<extra></extra>",
         "legendgroup": "y",
         "marker": {
          "color": "#636efa",
          "pattern": {
           "shape": ""
          }
         },
         "name": "y",
         "orientation": "v",
         "showlegend": true,
         "textposition": "auto",
         "type": "bar",
         "x": [
          "white shark",
          "bull shark",
          "tiger shark"
         ],
         "xaxis": "x",
         "y": {
          "bdata": "FgoK",
          "dtype": "i1"
         },
         "yaxis": "y"
        },
        {
         "hovertemplate": "Fatalidad=n<br>Especie=%{x}<br>Nº casos=%{y}<extra></extra>",
         "legendgroup": "n",
         "marker": {
          "color": "#EF553B",
          "pattern": {
           "shape": ""
          }
         },
         "name": "n",
         "orientation": "v",
         "showlegend": true,
         "textposition": "auto",
         "type": "bar",
         "x": [
          "white shark",
          "bull shark",
          "tiger shark",
          "4' shark",
          "4' to 5' shark",
          "6' shark",
          "3' shark",
          "3' to 4' shark",
          "blacktip shark"
         ],
         "xaxis": "x",
         "y": {
          "bdata": "KyMbHRQSERAP",
          "dtype": "i1"
         },
         "yaxis": "y"
        }
       ],
       "layout": {
        "barmode": "stack",
        "height": 550,
        "legend": {
         "title": {
          "text": "Fatalidad"
         },
         "tracegroupgap": 0
        },
        "template": {
         "data": {
          "bar": [
           {
            "error_x": {
             "color": "#2a3f5f"
            },
            "error_y": {
             "color": "#2a3f5f"
            },
            "marker": {
             "line": {
              "color": "#E5ECF6",
              "width": 0.5
             },
             "pattern": {
              "fillmode": "overlay",
              "size": 10,
              "solidity": 0.2
             }
            },
            "type": "bar"
           }
          ],
          "barpolar": [
           {
            "marker": {
             "line": {
              "color": "#E5ECF6",
              "width": 0.5
             },
             "pattern": {
              "fillmode": "overlay",
              "size": 10,
              "solidity": 0.2
             }
            },
            "type": "barpolar"
           }
          ],
          "carpet": [
           {
            "aaxis": {
             "endlinecolor": "#2a3f5f",
             "gridcolor": "white",
             "linecolor": "white",
             "minorgridcolor": "white",
             "startlinecolor": "#2a3f5f"
            },
            "baxis": {
             "endlinecolor": "#2a3f5f",
             "gridcolor": "white",
             "linecolor": "white",
             "minorgridcolor": "white",
             "startlinecolor": "#2a3f5f"
            },
            "type": "carpet"
           }
          ],
          "choropleth": [
           {
            "colorbar": {
             "outlinewidth": 0,
             "ticks": ""
            },
            "type": "choropleth"
           }
          ],
          "contour": [
           {
            "colorbar": {
             "outlinewidth": 0,
             "ticks": ""
            },
            "colorscale": [
             [
              0,
              "#0d0887"
             ],
             [
              0.1111111111111111,
              "#46039f"
             ],
             [
              0.2222222222222222,
              "#7201a8"
             ],
             [
              0.3333333333333333,
              "#9c179e"
             ],
             [
              0.4444444444444444,
              "#bd3786"
             ],
             [
              0.5555555555555556,
              "#d8576b"
             ],
             [
              0.6666666666666666,
              "#ed7953"
             ],
             [
              0.7777777777777778,
              "#fb9f3a"
             ],
             [
              0.8888888888888888,
              "#fdca26"
             ],
             [
              1,
              "#f0f921"
             ]
            ],
            "type": "contour"
           }
          ],
          "contourcarpet": [
           {
            "colorbar": {
             "outlinewidth": 0,
             "ticks": ""
            },
            "type": "contourcarpet"
           }
          ],
          "heatmap": [
           {
            "colorbar": {
             "outlinewidth": 0,
             "ticks": ""
            },
            "colorscale": [
             [
              0,
              "#0d0887"
             ],
             [
              0.1111111111111111,
              "#46039f"
             ],
             [
              0.2222222222222222,
              "#7201a8"
             ],
             [
              0.3333333333333333,
              "#9c179e"
             ],
             [
              0.4444444444444444,
              "#bd3786"
             ],
             [
              0.5555555555555556,
              "#d8576b"
             ],
             [
              0.6666666666666666,
              "#ed7953"
             ],
             [
              0.7777777777777778,
              "#fb9f3a"
             ],
             [
              0.8888888888888888,
              "#fdca26"
             ],
             [
              1,
              "#f0f921"
             ]
            ],
            "type": "heatmap"
           }
          ],
          "histogram": [
           {
            "marker": {
             "pattern": {
              "fillmode": "overlay",
              "size": 10,
              "solidity": 0.2
             }
            },
            "type": "histogram"
           }
          ],
          "histogram2d": [
           {
            "colorbar": {
             "outlinewidth": 0,
             "ticks": ""
            },
            "colorscale": [
             [
              0,
              "#0d0887"
             ],
             [
              0.1111111111111111,
              "#46039f"
             ],
             [
              0.2222222222222222,
              "#7201a8"
             ],
             [
              0.3333333333333333,
              "#9c179e"
             ],
             [
              0.4444444444444444,
              "#bd3786"
             ],
             [
              0.5555555555555556,
              "#d8576b"
             ],
             [
              0.6666666666666666,
              "#ed7953"
             ],
             [
              0.7777777777777778,
              "#fb9f3a"
             ],
             [
              0.8888888888888888,
              "#fdca26"
             ],
             [
              1,
              "#f0f921"
             ]
            ],
            "type": "histogram2d"
           }
          ],
          "histogram2dcontour": [
           {
            "colorbar": {
             "outlinewidth": 0,
             "ticks": ""
            },
            "colorscale": [
             [
              0,
              "#0d0887"
             ],
             [
              0.1111111111111111,
              "#46039f"
             ],
             [
              0.2222222222222222,
              "#7201a8"
             ],
             [
              0.3333333333333333,
              "#9c179e"
             ],
             [
              0.4444444444444444,
              "#bd3786"
             ],
             [
              0.5555555555555556,
              "#d8576b"
             ],
             [
              0.6666666666666666,
              "#ed7953"
             ],
             [
              0.7777777777777778,
              "#fb9f3a"
             ],
             [
              0.8888888888888888,
              "#fdca26"
             ],
             [
              1,
              "#f0f921"
             ]
            ],
            "type": "histogram2dcontour"
           }
          ],
          "mesh3d": [
           {
            "colorbar": {
             "outlinewidth": 0,
             "ticks": ""
            },
            "type": "mesh3d"
           }
          ],
          "parcoords": [
           {
            "line": {
             "colorbar": {
              "outlinewidth": 0,
              "ticks": ""
             }
            },
            "type": "parcoords"
           }
          ],
          "pie": [
           {
            "automargin": true,
            "type": "pie"
           }
          ],
          "scatter": [
           {
            "fillpattern": {
             "fillmode": "overlay",
             "size": 10,
             "solidity": 0.2
            },
            "type": "scatter"
           }
          ],
          "scatter3d": [
           {
            "line": {
             "colorbar": {
              "outlinewidth": 0,
              "ticks": ""
             }
            },
            "marker": {
             "colorbar": {
              "outlinewidth": 0,
              "ticks": ""
             }
            },
            "type": "scatter3d"
           }
          ],
          "scattercarpet": [
           {
            "marker": {
             "colorbar": {
              "outlinewidth": 0,
              "ticks": ""
             }
            },
            "type": "scattercarpet"
           }
          ],
          "scattergeo": [
           {
            "marker": {
             "colorbar": {
              "outlinewidth": 0,
              "ticks": ""
             }
            },
            "type": "scattergeo"
           }
          ],
          "scattergl": [
           {
            "marker": {
             "colorbar": {
              "outlinewidth": 0,
              "ticks": ""
             }
            },
            "type": "scattergl"
           }
          ],
          "scattermap": [
           {
            "marker": {
             "colorbar": {
              "outlinewidth": 0,
              "ticks": ""
             }
            },
            "type": "scattermap"
           }
          ],
          "scattermapbox": [
           {
            "marker": {
             "colorbar": {
              "outlinewidth": 0,
              "ticks": ""
             }
            },
            "type": "scattermapbox"
           }
          ],
          "scatterpolar": [
           {
            "marker": {
             "colorbar": {
              "outlinewidth": 0,
              "ticks": ""
             }
            },
            "type": "scatterpolar"
           }
          ],
          "scatterpolargl": [
           {
            "marker": {
             "colorbar": {
              "outlinewidth": 0,
              "ticks": ""
             }
            },
            "type": "scatterpolargl"
           }
          ],
          "scatterternary": [
           {
            "marker": {
             "colorbar": {
              "outlinewidth": 0,
              "ticks": ""
             }
            },
            "type": "scatterternary"
           }
          ],
          "surface": [
           {
            "colorbar": {
             "outlinewidth": 0,
             "ticks": ""
            },
            "colorscale": [
             [
              0,
              "#0d0887"
             ],
             [
              0.1111111111111111,
              "#46039f"
             ],
             [
              0.2222222222222222,
              "#7201a8"
             ],
             [
              0.3333333333333333,
              "#9c179e"
             ],
             [
              0.4444444444444444,
              "#bd3786"
             ],
             [
              0.5555555555555556,
              "#d8576b"
             ],
             [
              0.6666666666666666,
              "#ed7953"
             ],
             [
              0.7777777777777778,
              "#fb9f3a"
             ],
             [
              0.8888888888888888,
              "#fdca26"
             ],
             [
              1,
              "#f0f921"
             ]
            ],
            "type": "surface"
           }
          ],
          "table": [
           {
            "cells": {
             "fill": {
              "color": "#EBF0F8"
             },
             "line": {
              "color": "white"
             }
            },
            "header": {
             "fill": {
              "color": "#C8D4E3"
             },
             "line": {
              "color": "white"
             }
            },
            "type": "table"
           }
          ]
         },
         "layout": {
          "annotationdefaults": {
           "arrowcolor": "#2a3f5f",
           "arrowhead": 0,
           "arrowwidth": 1
          },
          "autotypenumbers": "strict",
          "coloraxis": {
           "colorbar": {
            "outlinewidth": 0,
            "ticks": ""
           }
          },
          "colorscale": {
           "diverging": [
            [
             0,
             "#8e0152"
            ],
            [
             0.1,
             "#c51b7d"
            ],
            [
             0.2,
             "#de77ae"
            ],
            [
             0.3,
             "#f1b6da"
            ],
            [
             0.4,
             "#fde0ef"
            ],
            [
             0.5,
             "#f7f7f7"
            ],
            [
             0.6,
             "#e6f5d0"
            ],
            [
             0.7,
             "#b8e186"
            ],
            [
             0.8,
             "#7fbc41"
            ],
            [
             0.9,
             "#4d9221"
            ],
            [
             1,
             "#276419"
            ]
           ],
           "sequential": [
            [
             0,
             "#0d0887"
            ],
            [
             0.1111111111111111,
             "#46039f"
            ],
            [
             0.2222222222222222,
             "#7201a8"
            ],
            [
             0.3333333333333333,
             "#9c179e"
            ],
            [
             0.4444444444444444,
             "#bd3786"
            ],
            [
             0.5555555555555556,
             "#d8576b"
            ],
            [
             0.6666666666666666,
             "#ed7953"
            ],
            [
             0.7777777777777778,
             "#fb9f3a"
            ],
            [
             0.8888888888888888,
             "#fdca26"
            ],
            [
             1,
             "#f0f921"
            ]
           ],
           "sequentialminus": [
            [
             0,
             "#0d0887"
            ],
            [
             0.1111111111111111,
             "#46039f"
            ],
            [
             0.2222222222222222,
             "#7201a8"
            ],
            [
             0.3333333333333333,
             "#9c179e"
            ],
            [
             0.4444444444444444,
             "#bd3786"
            ],
            [
             0.5555555555555556,
             "#d8576b"
            ],
            [
             0.6666666666666666,
             "#ed7953"
            ],
            [
             0.7777777777777778,
             "#fb9f3a"
            ],
            [
             0.8888888888888888,
             "#fdca26"
            ],
            [
             1,
             "#f0f921"
            ]
           ]
          },
          "colorway": [
           "#636efa",
           "#EF553B",
           "#00cc96",
           "#ab63fa",
           "#FFA15A",
           "#19d3f3",
           "#FF6692",
           "#B6E880",
           "#FF97FF",
           "#FECB52"
          ],
          "font": {
           "color": "#2a3f5f"
          },
          "geo": {
           "bgcolor": "white",
           "lakecolor": "white",
           "landcolor": "#E5ECF6",
           "showlakes": true,
           "showland": true,
           "subunitcolor": "white"
          },
          "hoverlabel": {
           "align": "left"
          },
          "hovermode": "closest",
          "mapbox": {
           "style": "light"
          },
          "paper_bgcolor": "white",
          "plot_bgcolor": "#E5ECF6",
          "polar": {
           "angularaxis": {
            "gridcolor": "white",
            "linecolor": "white",
            "ticks": ""
           },
           "bgcolor": "#E5ECF6",
           "radialaxis": {
            "gridcolor": "white",
            "linecolor": "white",
            "ticks": ""
           }
          },
          "scene": {
           "xaxis": {
            "backgroundcolor": "#E5ECF6",
            "gridcolor": "white",
            "gridwidth": 2,
            "linecolor": "white",
            "showbackground": true,
            "ticks": "",
            "zerolinecolor": "white"
           },
           "yaxis": {
            "backgroundcolor": "#E5ECF6",
            "gridcolor": "white",
            "gridwidth": 2,
            "linecolor": "white",
            "showbackground": true,
            "ticks": "",
            "zerolinecolor": "white"
           },
           "zaxis": {
            "backgroundcolor": "#E5ECF6",
            "gridcolor": "white",
            "gridwidth": 2,
            "linecolor": "white",
            "showbackground": true,
            "ticks": "",
            "zerolinecolor": "white"
           }
          },
          "shapedefaults": {
           "line": {
            "color": "#2a3f5f"
           }
          },
          "ternary": {
           "aaxis": {
            "gridcolor": "white",
            "linecolor": "white",
            "ticks": ""
           },
           "baxis": {
            "gridcolor": "white",
            "linecolor": "white",
            "ticks": ""
           },
           "bgcolor": "#E5ECF6",
           "caxis": {
            "gridcolor": "white",
            "linecolor": "white",
            "ticks": ""
           }
          },
          "title": {
           "x": 0.05
          },
          "xaxis": {
           "automargin": true,
           "gridcolor": "white",
           "linecolor": "white",
           "ticks": "",
           "title": {
            "standoff": 15
           },
           "zerolinecolor": "white",
           "zerolinewidth": 2
          },
          "yaxis": {
           "automargin": true,
           "gridcolor": "white",
           "linecolor": "white",
           "ticks": "",
           "title": {
            "standoff": 15
           },
           "zerolinecolor": "white",
           "zerolinewidth": 2
          }
         }
        },
        "title": {
         "text": "Ataques por especie y fatalidad"
        },
        "xaxis": {
         "anchor": "y",
         "categoryarray": [
          "white shark",
          "bull shark",
          "tiger shark",
          "4' shark",
          "4' to 5' shark",
          "6' shark",
          "3' shark",
          "3' to 4' shark",
          "blacktip shark"
         ],
         "categoryorder": "array",
         "domain": [
          0,
          1
         ],
         "tickangle": 45,
         "title": {
          "text": "Especie"
         }
        },
        "yaxis": {
         "anchor": "x",
         "domain": [
          0,
          1
         ],
         "title": {
          "text": "Nº casos"
         }
        }
       }
      }
     },
     "metadata": {},
     "output_type": "display_data"
    }
   ],
   "source": [
    "fig = px.bar(\n",
    "    sp_fatal_top.sort_values(\"total\", ascending=False),\n",
    "    x=\"species\",\n",
    "    y=\"count\",\n",
    "    color=\"fatal_y/n\",\n",
    "    title=\"Ataques por especie y fatalidad\",\n",
    "    labels={\"species\":\"Especie\",\"count\":\"Nº casos\",\"fatal_y/n\":\"Fatalidad\"},\n",
    "    category_orders={\"species\": species_order}\n",
    ")\n",
    "fig.update_layout(\n",
    "    xaxis_tickangle=45,\n",
    "    barmode=\"stack\",\n",
    "    height=550\n",
    ")\n",
    "fig.show()\n"
   ]
  },
  {
   "cell_type": "code",
   "execution_count": 119,
   "id": "9ec27edc",
   "metadata": {},
   "outputs": [
    {
     "data": {
      "application/vnd.plotly.v1+json": {
       "config": {
        "plotlyServerURL": "https://plot.ly"
       },
       "data": [
        {
         "hovertemplate": "<b>%{hovertext}</b><br><br>Total casos=%{marker.size}<br>Tasa de fatalidad=%{marker.color}<extra></extra>",
         "hovertext": [
          "white shark",
          "bull shark",
          "tiger shark",
          "4' shark",
          "4' to 5' shark",
          "6' shark",
          "3' shark",
          "3' to 4' shark",
          "blacktip shark"
         ],
         "legendgroup": "",
         "marker": {
          "color": {
           "bdata": "llqplVqp1T8cx3Ecx3HMP8IU+awbTNE/AAAAAAAAAAAAAAAAAAAAAAAAAAAAAAAAAAAAAAAAAAAAAAAAAAAAAAAAAAAAAAAA",
           "dtype": "f8"
          },
          "coloraxis": "coloraxis",
          "size": {
           "bdata": "AAAAAABAUEAAAAAAAIBGQAAAAAAAgEJAAAAAAAAAPUAAAAAAAAA0QAAAAAAAADJAAAAAAAAAMUAAAAAAAAAwQAAAAAAAAC5A",
           "dtype": "f8"
          },
          "sizemode": "area",
          "sizeref": 0.1625,
          "symbol": "circle"
         },
         "mode": "markers",
         "name": "",
         "orientation": "v",
         "showlegend": false,
         "type": "scatter",
         "x": {
          "bdata": "AAAAAABAUEAAAAAAAIBGQAAAAAAAgEJAAAAAAAAAPUAAAAAAAAA0QAAAAAAAADJAAAAAAAAAMUAAAAAAAAAwQAAAAAAAAC5A",
          "dtype": "f8"
         },
         "xaxis": "x",
         "y": {
          "bdata": "llqplVqp1T8cx3Ecx3HMP8IU+awbTNE/AAAAAAAAAAAAAAAAAAAAAAAAAAAAAAAAAAAAAAAAAAAAAAAAAAAAAAAAAAAAAAAA",
          "dtype": "f8"
         },
         "yaxis": "y"
        }
       ],
       "layout": {
        "coloraxis": {
         "colorbar": {
          "title": {
           "text": "Tasa de fatalidad"
          }
         },
         "colorscale": [
          [
           0,
           "#000004"
          ],
          [
           0.1111111111111111,
           "#1b0c41"
          ],
          [
           0.2222222222222222,
           "#4a0c6b"
          ],
          [
           0.3333333333333333,
           "#781c6d"
          ],
          [
           0.4444444444444444,
           "#a52c60"
          ],
          [
           0.5555555555555556,
           "#cf4446"
          ],
          [
           0.6666666666666666,
           "#ed6925"
          ],
          [
           0.7777777777777778,
           "#fb9b06"
          ],
          [
           0.8888888888888888,
           "#f7d13d"
          ],
          [
           1,
           "#fcffa4"
          ]
         ]
        },
        "height": 550,
        "legend": {
         "itemsizing": "constant",
         "tracegroupgap": 0
        },
        "template": {
         "data": {
          "bar": [
           {
            "error_x": {
             "color": "#2a3f5f"
            },
            "error_y": {
             "color": "#2a3f5f"
            },
            "marker": {
             "line": {
              "color": "#E5ECF6",
              "width": 0.5
             },
             "pattern": {
              "fillmode": "overlay",
              "size": 10,
              "solidity": 0.2
             }
            },
            "type": "bar"
           }
          ],
          "barpolar": [
           {
            "marker": {
             "line": {
              "color": "#E5ECF6",
              "width": 0.5
             },
             "pattern": {
              "fillmode": "overlay",
              "size": 10,
              "solidity": 0.2
             }
            },
            "type": "barpolar"
           }
          ],
          "carpet": [
           {
            "aaxis": {
             "endlinecolor": "#2a3f5f",
             "gridcolor": "white",
             "linecolor": "white",
             "minorgridcolor": "white",
             "startlinecolor": "#2a3f5f"
            },
            "baxis": {
             "endlinecolor": "#2a3f5f",
             "gridcolor": "white",
             "linecolor": "white",
             "minorgridcolor": "white",
             "startlinecolor": "#2a3f5f"
            },
            "type": "carpet"
           }
          ],
          "choropleth": [
           {
            "colorbar": {
             "outlinewidth": 0,
             "ticks": ""
            },
            "type": "choropleth"
           }
          ],
          "contour": [
           {
            "colorbar": {
             "outlinewidth": 0,
             "ticks": ""
            },
            "colorscale": [
             [
              0,
              "#0d0887"
             ],
             [
              0.1111111111111111,
              "#46039f"
             ],
             [
              0.2222222222222222,
              "#7201a8"
             ],
             [
              0.3333333333333333,
              "#9c179e"
             ],
             [
              0.4444444444444444,
              "#bd3786"
             ],
             [
              0.5555555555555556,
              "#d8576b"
             ],
             [
              0.6666666666666666,
              "#ed7953"
             ],
             [
              0.7777777777777778,
              "#fb9f3a"
             ],
             [
              0.8888888888888888,
              "#fdca26"
             ],
             [
              1,
              "#f0f921"
             ]
            ],
            "type": "contour"
           }
          ],
          "contourcarpet": [
           {
            "colorbar": {
             "outlinewidth": 0,
             "ticks": ""
            },
            "type": "contourcarpet"
           }
          ],
          "heatmap": [
           {
            "colorbar": {
             "outlinewidth": 0,
             "ticks": ""
            },
            "colorscale": [
             [
              0,
              "#0d0887"
             ],
             [
              0.1111111111111111,
              "#46039f"
             ],
             [
              0.2222222222222222,
              "#7201a8"
             ],
             [
              0.3333333333333333,
              "#9c179e"
             ],
             [
              0.4444444444444444,
              "#bd3786"
             ],
             [
              0.5555555555555556,
              "#d8576b"
             ],
             [
              0.6666666666666666,
              "#ed7953"
             ],
             [
              0.7777777777777778,
              "#fb9f3a"
             ],
             [
              0.8888888888888888,
              "#fdca26"
             ],
             [
              1,
              "#f0f921"
             ]
            ],
            "type": "heatmap"
           }
          ],
          "histogram": [
           {
            "marker": {
             "pattern": {
              "fillmode": "overlay",
              "size": 10,
              "solidity": 0.2
             }
            },
            "type": "histogram"
           }
          ],
          "histogram2d": [
           {
            "colorbar": {
             "outlinewidth": 0,
             "ticks": ""
            },
            "colorscale": [
             [
              0,
              "#0d0887"
             ],
             [
              0.1111111111111111,
              "#46039f"
             ],
             [
              0.2222222222222222,
              "#7201a8"
             ],
             [
              0.3333333333333333,
              "#9c179e"
             ],
             [
              0.4444444444444444,
              "#bd3786"
             ],
             [
              0.5555555555555556,
              "#d8576b"
             ],
             [
              0.6666666666666666,
              "#ed7953"
             ],
             [
              0.7777777777777778,
              "#fb9f3a"
             ],
             [
              0.8888888888888888,
              "#fdca26"
             ],
             [
              1,
              "#f0f921"
             ]
            ],
            "type": "histogram2d"
           }
          ],
          "histogram2dcontour": [
           {
            "colorbar": {
             "outlinewidth": 0,
             "ticks": ""
            },
            "colorscale": [
             [
              0,
              "#0d0887"
             ],
             [
              0.1111111111111111,
              "#46039f"
             ],
             [
              0.2222222222222222,
              "#7201a8"
             ],
             [
              0.3333333333333333,
              "#9c179e"
             ],
             [
              0.4444444444444444,
              "#bd3786"
             ],
             [
              0.5555555555555556,
              "#d8576b"
             ],
             [
              0.6666666666666666,
              "#ed7953"
             ],
             [
              0.7777777777777778,
              "#fb9f3a"
             ],
             [
              0.8888888888888888,
              "#fdca26"
             ],
             [
              1,
              "#f0f921"
             ]
            ],
            "type": "histogram2dcontour"
           }
          ],
          "mesh3d": [
           {
            "colorbar": {
             "outlinewidth": 0,
             "ticks": ""
            },
            "type": "mesh3d"
           }
          ],
          "parcoords": [
           {
            "line": {
             "colorbar": {
              "outlinewidth": 0,
              "ticks": ""
             }
            },
            "type": "parcoords"
           }
          ],
          "pie": [
           {
            "automargin": true,
            "type": "pie"
           }
          ],
          "scatter": [
           {
            "fillpattern": {
             "fillmode": "overlay",
             "size": 10,
             "solidity": 0.2
            },
            "type": "scatter"
           }
          ],
          "scatter3d": [
           {
            "line": {
             "colorbar": {
              "outlinewidth": 0,
              "ticks": ""
             }
            },
            "marker": {
             "colorbar": {
              "outlinewidth": 0,
              "ticks": ""
             }
            },
            "type": "scatter3d"
           }
          ],
          "scattercarpet": [
           {
            "marker": {
             "colorbar": {
              "outlinewidth": 0,
              "ticks": ""
             }
            },
            "type": "scattercarpet"
           }
          ],
          "scattergeo": [
           {
            "marker": {
             "colorbar": {
              "outlinewidth": 0,
              "ticks": ""
             }
            },
            "type": "scattergeo"
           }
          ],
          "scattergl": [
           {
            "marker": {
             "colorbar": {
              "outlinewidth": 0,
              "ticks": ""
             }
            },
            "type": "scattergl"
           }
          ],
          "scattermap": [
           {
            "marker": {
             "colorbar": {
              "outlinewidth": 0,
              "ticks": ""
             }
            },
            "type": "scattermap"
           }
          ],
          "scattermapbox": [
           {
            "marker": {
             "colorbar": {
              "outlinewidth": 0,
              "ticks": ""
             }
            },
            "type": "scattermapbox"
           }
          ],
          "scatterpolar": [
           {
            "marker": {
             "colorbar": {
              "outlinewidth": 0,
              "ticks": ""
             }
            },
            "type": "scatterpolar"
           }
          ],
          "scatterpolargl": [
           {
            "marker": {
             "colorbar": {
              "outlinewidth": 0,
              "ticks": ""
             }
            },
            "type": "scatterpolargl"
           }
          ],
          "scatterternary": [
           {
            "marker": {
             "colorbar": {
              "outlinewidth": 0,
              "ticks": ""
             }
            },
            "type": "scatterternary"
           }
          ],
          "surface": [
           {
            "colorbar": {
             "outlinewidth": 0,
             "ticks": ""
            },
            "colorscale": [
             [
              0,
              "#0d0887"
             ],
             [
              0.1111111111111111,
              "#46039f"
             ],
             [
              0.2222222222222222,
              "#7201a8"
             ],
             [
              0.3333333333333333,
              "#9c179e"
             ],
             [
              0.4444444444444444,
              "#bd3786"
             ],
             [
              0.5555555555555556,
              "#d8576b"
             ],
             [
              0.6666666666666666,
              "#ed7953"
             ],
             [
              0.7777777777777778,
              "#fb9f3a"
             ],
             [
              0.8888888888888888,
              "#fdca26"
             ],
             [
              1,
              "#f0f921"
             ]
            ],
            "type": "surface"
           }
          ],
          "table": [
           {
            "cells": {
             "fill": {
              "color": "#EBF0F8"
             },
             "line": {
              "color": "white"
             }
            },
            "header": {
             "fill": {
              "color": "#C8D4E3"
             },
             "line": {
              "color": "white"
             }
            },
            "type": "table"
           }
          ]
         },
         "layout": {
          "annotationdefaults": {
           "arrowcolor": "#2a3f5f",
           "arrowhead": 0,
           "arrowwidth": 1
          },
          "autotypenumbers": "strict",
          "coloraxis": {
           "colorbar": {
            "outlinewidth": 0,
            "ticks": ""
           }
          },
          "colorscale": {
           "diverging": [
            [
             0,
             "#8e0152"
            ],
            [
             0.1,
             "#c51b7d"
            ],
            [
             0.2,
             "#de77ae"
            ],
            [
             0.3,
             "#f1b6da"
            ],
            [
             0.4,
             "#fde0ef"
            ],
            [
             0.5,
             "#f7f7f7"
            ],
            [
             0.6,
             "#e6f5d0"
            ],
            [
             0.7,
             "#b8e186"
            ],
            [
             0.8,
             "#7fbc41"
            ],
            [
             0.9,
             "#4d9221"
            ],
            [
             1,
             "#276419"
            ]
           ],
           "sequential": [
            [
             0,
             "#0d0887"
            ],
            [
             0.1111111111111111,
             "#46039f"
            ],
            [
             0.2222222222222222,
             "#7201a8"
            ],
            [
             0.3333333333333333,
             "#9c179e"
            ],
            [
             0.4444444444444444,
             "#bd3786"
            ],
            [
             0.5555555555555556,
             "#d8576b"
            ],
            [
             0.6666666666666666,
             "#ed7953"
            ],
            [
             0.7777777777777778,
             "#fb9f3a"
            ],
            [
             0.8888888888888888,
             "#fdca26"
            ],
            [
             1,
             "#f0f921"
            ]
           ],
           "sequentialminus": [
            [
             0,
             "#0d0887"
            ],
            [
             0.1111111111111111,
             "#46039f"
            ],
            [
             0.2222222222222222,
             "#7201a8"
            ],
            [
             0.3333333333333333,
             "#9c179e"
            ],
            [
             0.4444444444444444,
             "#bd3786"
            ],
            [
             0.5555555555555556,
             "#d8576b"
            ],
            [
             0.6666666666666666,
             "#ed7953"
            ],
            [
             0.7777777777777778,
             "#fb9f3a"
            ],
            [
             0.8888888888888888,
             "#fdca26"
            ],
            [
             1,
             "#f0f921"
            ]
           ]
          },
          "colorway": [
           "#636efa",
           "#EF553B",
           "#00cc96",
           "#ab63fa",
           "#FFA15A",
           "#19d3f3",
           "#FF6692",
           "#B6E880",
           "#FF97FF",
           "#FECB52"
          ],
          "font": {
           "color": "#2a3f5f"
          },
          "geo": {
           "bgcolor": "white",
           "lakecolor": "white",
           "landcolor": "#E5ECF6",
           "showlakes": true,
           "showland": true,
           "subunitcolor": "white"
          },
          "hoverlabel": {
           "align": "left"
          },
          "hovermode": "closest",
          "mapbox": {
           "style": "light"
          },
          "paper_bgcolor": "white",
          "plot_bgcolor": "#E5ECF6",
          "polar": {
           "angularaxis": {
            "gridcolor": "white",
            "linecolor": "white",
            "ticks": ""
           },
           "bgcolor": "#E5ECF6",
           "radialaxis": {
            "gridcolor": "white",
            "linecolor": "white",
            "ticks": ""
           }
          },
          "scene": {
           "xaxis": {
            "backgroundcolor": "#E5ECF6",
            "gridcolor": "white",
            "gridwidth": 2,
            "linecolor": "white",
            "showbackground": true,
            "ticks": "",
            "zerolinecolor": "white"
           },
           "yaxis": {
            "backgroundcolor": "#E5ECF6",
            "gridcolor": "white",
            "gridwidth": 2,
            "linecolor": "white",
            "showbackground": true,
            "ticks": "",
            "zerolinecolor": "white"
           },
           "zaxis": {
            "backgroundcolor": "#E5ECF6",
            "gridcolor": "white",
            "gridwidth": 2,
            "linecolor": "white",
            "showbackground": true,
            "ticks": "",
            "zerolinecolor": "white"
           }
          },
          "shapedefaults": {
           "line": {
            "color": "#2a3f5f"
           }
          },
          "ternary": {
           "aaxis": {
            "gridcolor": "white",
            "linecolor": "white",
            "ticks": ""
           },
           "baxis": {
            "gridcolor": "white",
            "linecolor": "white",
            "ticks": ""
           },
           "bgcolor": "#E5ECF6",
           "caxis": {
            "gridcolor": "white",
            "linecolor": "white",
            "ticks": ""
           }
          },
          "title": {
           "x": 0.05
          },
          "xaxis": {
           "automargin": true,
           "gridcolor": "white",
           "linecolor": "white",
           "ticks": "",
           "title": {
            "standoff": 15
           },
           "zerolinecolor": "white",
           "zerolinewidth": 2
          },
          "yaxis": {
           "automargin": true,
           "gridcolor": "white",
           "linecolor": "white",
           "ticks": "",
           "title": {
            "standoff": 15
           },
           "zerolinecolor": "white",
           "zerolinewidth": 2
          }
         }
        },
        "title": {
         "text": "Relación número de ataques vs tasa de fatalidad por especie"
        },
        "xaxis": {
         "anchor": "y",
         "domain": [
          0,
          1
         ],
         "dtick": 10,
         "title": {
          "text": "Total casos"
         }
        },
        "yaxis": {
         "anchor": "x",
         "domain": [
          0,
          1
         ],
         "tickformat": ".0%",
         "title": {
          "text": "Tasa de fatalidad"
         }
        }
       }
      }
     },
     "metadata": {},
     "output_type": "display_data"
    }
   ],
   "source": [
    "fig = px.scatter(\n",
    "    sp_rate_top,\n",
    "    x=\"total\",\n",
    "    y=\"fatality_rate\",\n",
    "    size=\"total\",\n",
    "    hover_name=\"species\",\n",
    "    title=\"Relación número de ataques vs tasa de fatalidad por especie\",\n",
    "    labels={\"total\":\"Total casos\",\"fatality_rate\":\"Tasa de fatalidad\"},\n",
    "    color=\"fatality_rate\",\n",
    "    color_continuous_scale=\"Inferno\"\n",
    ")\n",
    "fig.update_layout(height=550, xaxis=dict(dtick=10))\n",
    "fig.update_yaxes(tickformat=\".0%\")\n",
    "fig.show()\n"
   ]
  }
 ],
 "metadata": {
  "kernelspec": {
   "display_name": "Python 3",
   "language": "python",
   "name": "python3"
  },
  "language_info": {
   "codemirror_mode": {
    "name": "ipython",
    "version": 3
   },
   "file_extension": ".py",
   "mimetype": "text/x-python",
   "name": "python",
   "nbconvert_exporter": "python",
   "pygments_lexer": "ipython3",
   "version": "3.12.9"
  }
 },
 "nbformat": 4,
 "nbformat_minor": 5
}
