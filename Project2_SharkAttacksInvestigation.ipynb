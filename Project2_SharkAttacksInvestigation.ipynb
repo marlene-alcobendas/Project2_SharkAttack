{
 "cells": [
  {
   "cell_type": "code",
   "execution_count": 1,
   "id": "3c25cd96",
   "metadata": {},
   "outputs": [
    {
     "name": "stdout",
     "output_type": "stream",
     "text": [
      "01: Date;Year;Type;Country;State;Location;Activity;Name;Sex;Age;Injury;Fatal Y/N;Time;Species ;Source;pdf;href formula;href;Case Number;Case Number;original order;;;;;;;;;;;;;;;;;;;;;;;;;;;;;;;;;;;;;;;;;;;;;;;;;;;;;;;;;;;;;;;;;;;;;;;;;;;;;;;;;;;;;;;;;;;;;;;;;;;;;;;;;;;;;;;;;;;;;;;;;;;;;;;;;;;;;;;;;;;;;;;;;;;;;;;;;;;;;;;;;;;;;;;;;;;;;;;;;;;;;;;;;;;;;;;;;;;;;;;;;;;;;;;;;;;;;;;;;;;;;;;;;;;;;;;;;;\n",
      "02: 11th October;2025;Unprovoked;Australia;Queensland;Cook Esplanade Thursday Island;Fishing/swimming;Samuel Nai;M;14;Serious abdonminal injuries;N;1823 hrs;Tiger or Bull shark;Kevin McMurray Trackingsharks.com;;;;;;;;;;;;;;;;;;;;;;;;;;;;;;;;;;;;;;;;;;;;;;;;;;;;;;;;;;;;;;;;;;;;;;;;;;;;;;;;;;;;;;;;;;;;;;;;;;;;;;;;;;;;;;;;;;;;;;;;;;;;;;;;;;;;;;;;;;;;;;;;;;;;;;;;;;;;;;;;;;;;;;;;;;;;;;;;;;;;;;;;;;;;;;;;;;;;;;;;;;;;;;;;;;;;;;;;;;;;;;;;;;;;;;;;;;;;;;;;\n",
      "03: 7th October;2025;Unprovoked;Australia;South Australia;Kangaroo Island;Surfing;Lee Berryman;M;50+;Lacerations to calf ;N;1330hrs;Bronze whaler?;Kevin McMurray Trackingsharks.com;;;;;;;;;;;;;;;;;;;;;;;;;;;;;;;;;;;;;;;;;;;;;;;;;;;;;;;;;;;;;;;;;;;;;;;;;;;;;;;;;;;;;;;;;;;;;;;;;;;;;;;;;;;;;;;;;;;;;;;;;;;;;;;;;;;;;;;;;;;;;;;;;;;;;;;;;;;;;;;;;;;;;;;;;;;;;;;;;;;;;;;;;;;;;;;;;;;;;;;;;;;;;;;;;;;;;;;;;;;;;;;;;;;;;;;;;;;;;;;;\n",
      "04: 29th September;2025;Unprovoked;USA;Off California;Catalina Island;Swimming;Christopher Murray;M;54;Leg and foot injury;N;0100hrs;unknown 1.2m shark;Todd Smith: Kevin McMurray Trackingsharks.com;;;;;;;;;;;;;;;;;;;;;;;;;;;;;;;;;;;;;;;;;;;;;;;;;;;;;;;;;;;;;;;;;;;;;;;;;;;;;;;;;;;;;;;;;;;;;;;;;;;;;;;;;;;;;;;;;;;;;;;;;;;;;;;;;;;;;;;;;;;;;;;;;;;;;;;;;;;;;;;;;;;;;;;;;;;;;;;;;;;;;;;;;;;;;;;;;;;;;;;;;;;;;;;;;;;;;;;;;;;;;;;;;;;;;;;;;;;;;;;;\n",
      "05: 27th September;2025;Provoked;Costa Rica;;Cocos Islands;Diving-Tagging sharks;Dr. Mauricio Hoyos;M;48;Head face and arms;N;Not stated;Tiger shark 4m;Todd Smith: Kevin McMurray Trackingsharks.com;;;;;;;;;;;;;;;;;;;;;;;;;;;;;;;;;;;;;;;;;;;;;;;;;;;;;;;;;;;;;;;;;;;;;;;;;;;;;;;;;;;;;;;;;;;;;;;;;;;;;;;;;;;;;;;;;;;;;;;;;;;;;;;;;;;;;;;;;;;;;;;;;;;;;;;;;;;;;;;;;;;;;;;;;;;;;;;;;;;;;;;;;;;;;;;;;;;;;;;;;;;;;;;;;;;;;;;;;;;;;;;;;;;;;;;;;;;;;;;;\n",
      "06: 6th September;2025;Unprovoked;Australia;NSW;Long Reef Sydney;Surfing;Mercury Psillaskis;M;57;Both legs and arm severed;Y;0930hrs;Great White Shark;Todd Smith: Andy Currie: Simon De Marchi: Kevin McMurray Trackingsharks.com:;;;;;;;;;;;;;;;;;;;;;;;;;;;;;;;;;;;;;;;;;;;;;;;;;;;;;;;;;;;;;;;;;;;;;;;;;;;;;;;;;;;;;;;;;;;;;;;;;;;;;;;;;;;;;;;;;;;;;;;;;;;;;;;;;;;;;;;;;;;;;;;;;;;;;;;;;;;;;;;;;;;;;;;;;;;;;;;;;;;;;;;;;;;;;;;;;;;;;;;;;;;;;;;;;;;;;;;;;;;;;;;;;;;;;;;;;;;;;;;;\n",
      "07: 1st September;2025;Unprovoked;USA;Florida;Horseshoe reef Key Largo;Snorkeling;Richard Burrows;M;8;Bite to leg;N;1524hrs;Not stated;Todd Smith: US SUN: NY Post: The Guardian: People:;;;;;;;;;;;;;;;;;;;;;;;;;;;;;;;;;;;;;;;;;;;;;;;;;;;;;;;;;;;;;;;;;;;;;;;;;;;;;;;;;;;;;;;;;;;;;;;;;;;;;;;;;;;;;;;;;;;;;;;;;;;;;;;;;;;;;;;;;;;;;;;;;;;;;;;;;;;;;;;;;;;;;;;;;;;;;;;;;;;;;;;;;;;;;;;;;;;;;;;;;;;;;;;;;;;;;;;;;;;;;;;;;;;;;;;;;;;;;;;;\n",
      "08: 30th August;2025;Unprovoked;USA;Texas;Galveston;Swimming;Harper Ochoa;F;8;Bite to leg;N;Not stated;Not stated;Bob Myatt GSAF : People:;;;;;;;;;;;;;;;;;;;;;;;;;;;;;;;;;;;;;;;;;;;;;;;;;;;;;;;;;;;;;;;;;;;;;;;;;;;;;;;;;;;;;;;;;;;;;;;;;;;;;;;;;;;;;;;;;;;;;;;;;;;;;;;;;;;;;;;;;;;;;;;;;;;;;;;;;;;;;;;;;;;;;;;;;;;;;;;;;;;;;;;;;;;;;;;;;;;;;;;;;;;;;;;;;;;;;;;;;;;;;;;;;;;;;;;;;;;;;;;;\n",
      "09: 18th August;2025;Unprovoked;Australia;NSW;Cabarita Beach;Surfing;Brad Ross;M;?;None sustained board severly damaged;N;0730hrs;5m (16.5ft) Great White;Bob Myatt GSAF The Guardian: 9 News: ABS News: Daily Telegraph:;;;;;;;;;;;;;;;;;;;;;;;;;;;;;;;;;;;;;;;;;;;;;;;;;;;;;;;;;;;;;;;;;;;;;;;;;;;;;;;;;;;;;;;;;;;;;;;;;;;;;;;;;;;;;;;;;;;;;;;;;;;;;;;;;;;;;;;;;;;;;;;;;;;;;;;;;;;;;;;;;;;;;;;;;;;;;;;;;;;;;;;;;;;;;;;;;;;;;;;;;;;;;;;;;;;;;;;;;;;;;;;;;;;;;;;;;;;;;;;;\n",
      "10: 17th August;2025;Unprovoked;Bahamas;Atlantic Ocean near Big Grand Cay;North of Grand Bahama near Freeport;Spearfishing;Not stated;M;63;Severe injuries no detail;N;1300hrs;Undetermined;Ralph Collier GSAF and Kevin MCMurray Trackingsharks.com ;;;;;;;;;;;;;;;;;;;;;;;;;;;;;;;;;;;;;;;;;;;;;;;;;;;;;;;;;;;;;;;;;;;;;;;;;;;;;;;;;;;;;;;;;;;;;;;;;;;;;;;;;;;;;;;;;;;;;;;;;;;;;;;;;;;;;;;;;;;;;;;;;;;;;;;;;;;;;;;;;;;;;;;;;;;;;;;;;;;;;;;;;;;;;;;;;;;;;;;;;;;;;;;;;;;;;;;;;;;;;;;;;;;;;;;;;;;;;;;;\n"
     ]
    }
   ],
   "source": [
    "''' \n",
    "Script para descargar un archivo de Google Drive y mostrar las primeras 10 líneas\n",
    "'''\n",
    "\n",
    "url_view = \"https://drive.google.com/file/d/1RMKdCJKS7vFBhiTLosCotau1k4UsN5iu/view?usp=sharing\"   # Enlace de Google Drive\n",
    "file_id = url_view.split('/')[5]  # Extrae el ID del archivo (la 6ª parte del enlace)\n",
    "download_url = f\"https://drive.google.com/uc?id={file_id}\"   # Crea el enlace de descarga directa\n",
    "\n",
    "import requests\n",
    "response = requests.get(download_url)\n",
    "\n",
    "# Muestra las primeras 10 líneas, para saber el tipo de separación del csv\n",
    "for i, line in enumerate(response.text.splitlines()[:10], start=1):\n",
    "    print(f\"{i:02d}: {line}\")\n"
   ]
  },
  {
   "cell_type": "code",
   "execution_count": 2,
   "id": "d7ef8877",
   "metadata": {},
   "outputs": [
    {
     "name": "stdout",
     "output_type": "stream",
     "text": [
      "Inicialmente los datos tienen: (39139, 255)\n",
      "             Date  Year        Type     Country            State  \\\n",
      "0    11th October  2025  Unprovoked   Australia       Queensland   \n",
      "1     7th October  2025  Unprovoked   Australia  South Australia   \n",
      "2  29th September  2025  Unprovoked         USA   Off California   \n",
      "3  27th September  2025    Provoked  Costa Rica              NaN   \n",
      "4   6th September  2025  Unprovoked   Australia              NSW   \n",
      "\n",
      "                         Location               Activity                Name  \\\n",
      "0  Cook Esplanade Thursday Island       Fishing/swimming          Samuel Nai   \n",
      "1                 Kangaroo Island                Surfing        Lee Berryman   \n",
      "2                 Catalina Island               Swimming  Christopher Murray   \n",
      "3                   Cocos Islands  Diving-Tagging sharks  Dr. Mauricio Hoyos   \n",
      "4                Long Reef Sydney                Surfing  Mercury Psillaskis   \n",
      "\n",
      "  Sex  Age  ... Unnamed: 245 Unnamed: 246 Unnamed: 247 Unnamed: 248  \\\n",
      "0   M   14  ...          NaN          NaN          NaN          NaN   \n",
      "1   M  50+  ...          NaN          NaN          NaN          NaN   \n",
      "2   M   54  ...          NaN          NaN          NaN          NaN   \n",
      "3   M   48  ...          NaN          NaN          NaN          NaN   \n",
      "4   M   57  ...          NaN          NaN          NaN          NaN   \n",
      "\n",
      "  Unnamed: 249 Unnamed: 250 Unnamed: 251 Unnamed: 252 Unnamed: 253  \\\n",
      "0          NaN          NaN          NaN          NaN          NaN   \n",
      "1          NaN          NaN          NaN          NaN          NaN   \n",
      "2          NaN          NaN          NaN          NaN          NaN   \n",
      "3          NaN          NaN          NaN          NaN          NaN   \n",
      "4          NaN          NaN          NaN          NaN          NaN   \n",
      "\n",
      "  Unnamed: 254  \n",
      "0          NaN  \n",
      "1          NaN  \n",
      "2          NaN  \n",
      "3          NaN  \n",
      "4          NaN  \n",
      "\n",
      "[5 rows x 255 columns]\n",
      "Ahora los datos tienen: (39139, 23)\n",
      "Index(['Date', 'Year', 'Type', 'Country', 'State', 'Location', 'Activity',\n",
      "       'Name', 'Sex', 'Age', 'Injury', 'Fatal Y/N', 'Time', 'Species ',\n",
      "       'Source', 'pdf', 'href formula', 'href', 'Case Number', 'Case Number.1',\n",
      "       'original order', 'Unnamed: 21', 'Unnamed: 22'],\n",
      "      dtype='object')\n"
     ]
    }
   ],
   "source": [
    "import pandas as pd\n",
    "from typing import Optional, Iterable\n",
    "\n",
    "shark_df = pd.read_csv(download_url, sep=';', encoding='utf-8', low_memory=False)\n",
    "print(\"Inicialmente los datos tienen:\", shark_df.shape)\n",
    "print(shark_df.head())  # Muestra las primeras filas del DataFrame\n",
    "\n",
    "shark_df = shark_df.dropna(axis=1, how='all') # Eliminar columnas vacías enteras\n",
    "print(\"Ahora los datos tienen:\",shark_df.shape)\n",
    "print(shark_df.columns)  # Muestra las columnas del DataFrame: 255 col a 23 col"
   ]
  },
  {
   "cell_type": "code",
   "execution_count": 3,
   "id": "6c14c272",
   "metadata": {},
   "outputs": [
    {
     "name": "stdout",
     "output_type": "stream",
     "text": [
      "Index(['Year', 'Type', 'Country', 'State', 'Activity', 'Sex', 'Fatal Y/N',\n",
      "       'Species '],\n",
      "      dtype='object')\n"
     ]
    }
   ],
   "source": [
    "#Quitamos las columnas que no nos sirven para el análisis\n",
    "\n",
    "shark_df.drop(['Date','Location','Name','Age','Injury','Time','Source', 'pdf', 'href formula', 'href', 'Case Number', 'Case Number.1',\n",
    "       'original order', 'Unnamed: 21', 'Unnamed: 22'], axis=1, inplace=True)\n",
    "\n",
    "print(shark_df.columns)  # Muestra las columnas del DataFrame después de eliminar las que no analizaremos"
   ]
  },
  {
   "cell_type": "code",
   "execution_count": 4,
   "id": "0a0cf08d",
   "metadata": {},
   "outputs": [
    {
     "name": "stdout",
     "output_type": "stream",
     "text": [
      "   year        type     country            state               activity sex  \\\n",
      "0  2025  unprovoked   australia       queensland       fishing/swimming   m   \n",
      "1  2025  unprovoked   australia  south australia                surfing   m   \n",
      "2  2025  unprovoked         usa   off california               swimming   m   \n",
      "3  2025    provoked  costa rica             <NA>  diving-tagging sharks   m   \n",
      "4  2025  unprovoked   australia              nsw                surfing   m   \n",
      "\n",
      "  fatal_y/n              species  \n",
      "0         n  tiger or bull shark  \n",
      "1         n       bronze whaler?  \n",
      "2         n   unknown 1.2m shark  \n",
      "3         n       tiger shark 4m  \n",
      "4         y    great white shark  \n"
     ]
    }
   ],
   "source": [
    "\"\"\"\"\n",
    "Normalize text columns (strip spaces, set lowercase).\n",
    "\n",
    "Parameters\n",
    "----------\n",
    "df : DataFrame\n",
    "cols : columns to normalize; if None, all object/string columns\n",
    "lower : convert to lowercase\n",
    "strip : strip leading/trailing whitespace\n",
    "normalize_columns: normalize column names (strip, lower, replace spaces with _)\n",
    "\n",
    "Returns\n",
    "-------\n",
    "DataFrame (same object, modified in place style but returns df for chaining)\n",
    "\"\"\"\n",
    "\n",
    "def standardize_text(\n",
    "    df: pd.DataFrame,\n",
    "    cols: Optional[Iterable[str]] = None,\n",
    "    lower: bool = True,\n",
    "    strip: bool = True,\n",
    "    normalize_columns: bool = True,\n",
    ") -> pd.DataFrame:\n",
    "       \n",
    "    if cols is None:\n",
    "        cols = df.select_dtypes(include=[\"object\", \"string\"]).columns\n",
    "\n",
    "    for c in cols:\n",
    "        s = df[c].astype(\"string\")\n",
    "        if strip:\n",
    "            s = s.str.strip()\n",
    "        if lower:\n",
    "            s = s.str.lower()\n",
    "        df[c] = s\n",
    "     \n",
    "    if normalize_columns:\n",
    "        df.columns = (\n",
    "            df.columns\n",
    "            .str.strip()\n",
    "            .str.lower()\n",
    "            .str.replace(\" \", \"_\")\n",
    "        )\n",
    "\n",
    "    return df\n",
    "\n",
    "shark_df = standardize_text(shark_df)\n",
    "print(shark_df.head())  # Muestra las primeras filas del DataFrame después de la normalización del texto y las columnas"
   ]
  },
  {
   "cell_type": "code",
   "execution_count": 5,
   "id": "b631b385",
   "metadata": {},
   "outputs": [
    {
     "name": "stdout",
     "output_type": "stream",
     "text": [
      "YEAR --> valores únicos: <StringArray>\n",
      "['2025', '2024', '2026', '2023', '2022', '2021', '2020', '2019', '2018',\n",
      " '2017',\n",
      " ...\n",
      " '1580', '1555', '1554', '1543', '1518', '1500', '1000', '0077', '0005',\n",
      " '0000']\n",
      "Length: 263, dtype: string\n",
      "TYPE --> valores únicos: <StringArray>\n",
      "[         'unprovoked',            'provoked',        'questionable',\n",
      "          'watercraft',        'sea disaster',                  <NA>,\n",
      "                   '?',         'unconfirmed',          'unverified',\n",
      "             'invalid', 'under investigation',                'boat']\n",
      "Length: 12, dtype: string\n",
      "COUNTRY --> valores únicos: <StringArray>\n",
      "[               'australia',                      'usa',\n",
      "               'costa rica',                  'bahamas',\n",
      "              'puerto rico',         'french polynesia',\n",
      "                    'spain',           'canary islands',\n",
      "             'south africa',                  'vanuatu',\n",
      " ...\n",
      "        'mediterranean sea',                   'sweden',\n",
      "                   'roatan', 'between portugal & india',\n",
      "                 'djibouti',                  'bahrein',\n",
      "                    'korea',                 'red sea?',\n",
      "                    'asia?',       'ceylon (sri lanka)']\n",
      "Length: 213, dtype: string\n",
      "STATE --> valores únicos: <StringArray>\n",
      "[                       'queensland',                   'south australia',\n",
      "                    'off california',                                <NA>,\n",
      "                               'nsw',                           'florida',\n",
      "                             'texas', 'atlantic ocean near big grand cay',\n",
      "                          'carolina',                         'nuku hiva',\n",
      " ...\n",
      "               'milne bay  province',                   'island of volos',\n",
      "                  'amirante islands',               'kadavu island group',\n",
      "                'toamasina province',                     'riau province',\n",
      "                      'bikini atoll', 'between new ireland & new britain',\n",
      "         'ba ria-vung tau  province',                      'moala island']\n",
      "Length: 909, dtype: string\n",
      "ACTIVITY --> valores únicos: <StringArray>\n",
      "[                                                  'fishing/swimming',\n",
      "                                                            'surfing',\n",
      "                                                           'swimming',\n",
      "                                              'diving-tagging sharks',\n",
      "                                                         'snorkeling',\n",
      "                                                       'spearfishing',\n",
      "                                                            'fishing',\n",
      "                                                             'wading',\n",
      "                                                           'kayaking',\n",
      "                                             'surfing (hydrofoiling)',\n",
      " ...\n",
      " 'standing, washing rear wheels of his ambulance in ankle-deep water',\n",
      "                      'carrying a supposedly dead shark by its mouth',\n",
      "                                             'spent 8 days in dinghy',\n",
      "                       'aircraft ditched in the sea, swimming ashore',\n",
      "                                                'wooden fishing boat',\n",
      "                 'swimming in pool formed by construction of a wharf',\n",
      "                                      'swimming around anchored ship',\n",
      "                        'crew swimming alongside their anchored ship',\n",
      "                                                 '4 men were bathing',\n",
      "                               'wreck of  large double sailing canoe']\n",
      "Length: 1548, dtype: string\n",
      "SEX --> valores únicos: <StringArray>\n",
      "['m', 'f', <NA>, 'lli', 'm x 2', 'n', '.']\n",
      "Length: 7, dtype: string\n",
      "FATAL_Y/N --> valores únicos: <StringArray>\n",
      "['n', 'y', 'f', 'm', <NA>, 'nq', 'unknown', '2017', 'y x 2']\n",
      "Length: 9, dtype: string\n",
      "SPECIES --> valores únicos: <StringArray>\n",
      "[                                                                                                          'tiger or bull shark',\n",
      "                                                                                                                'bronze whaler?',\n",
      "                                                                                                            'unknown 1.2m shark',\n",
      "                                                                                                                'tiger shark 4m',\n",
      "                                                                                                             'great white shark',\n",
      "                                                                                                                    'not stated',\n",
      "                                                                                                       '5m (16.5ft) great white',\n",
      "                                                                                                                  'undetermined',\n",
      "                                                                                                       'lemon shark 1.8 m (6ft)',\n",
      "                                                                                                         'suspected great white',\n",
      " ...\n",
      "                                                                                                      'a large hammerhead shark',\n",
      "                                                                                             'shovelnose guitarfish, adult male',\n",
      "                                                                                                            '\"a pack of sharks\"',\n",
      "                                                                                                         'white shark, 7' to 8'',\n",
      "                                                                                                         'white shark, 1,900-lb',\n",
      "                                                               'bull shark caught, leg recovered & buried beside the man's body',\n",
      "                                                                                                        '\"a black-tipped shark\"',\n",
      "                                                                                                               '12' tiger shark',\n",
      "                                                                                                                 'blue pointers',\n",
      " 'said to involve a grey nurse shark that leapt out of the water and  seized the boy but species identification is questionable']\n",
      "Length: 1613, dtype: string\n"
     ]
    }
   ],
   "source": [
    "#Check valores únicos por columna:\n",
    "\n",
    "for col in shark_df.columns:\n",
    "    print(f'{col.upper()} --> valores únicos:', shark_df[col].unique())"
   ]
  },
  {
   "cell_type": "code",
   "execution_count": 6,
   "id": "91990ccb",
   "metadata": {},
   "outputs": [
    {
     "data": {
      "text/plain": [
       "year         string[python]\n",
       "type         string[python]\n",
       "country      string[python]\n",
       "state        string[python]\n",
       "activity     string[python]\n",
       "sex          string[python]\n",
       "fatal_y/n    string[python]\n",
       "species      string[python]\n",
       "dtype: object"
      ]
     },
     "execution_count": 6,
     "metadata": {},
     "output_type": "execute_result"
    }
   ],
   "source": [
    "shark_df.dtypes"
   ]
  },
  {
   "cell_type": "code",
   "execution_count": 7,
   "id": "365618c8",
   "metadata": {},
   "outputs": [
    {
     "name": "stdout",
     "output_type": "stream",
     "text": [
      "Los valores iniciales eran: <bound method IndexOpsMixin.nunique of 0        2025\n",
      "1        2025\n",
      "2        2025\n",
      "3        2025\n",
      "4        2025\n",
      "         ... \n",
      "39134    <NA>\n",
      "39135    <NA>\n",
      "39136    <NA>\n",
      "39137    <NA>\n",
      "39138    <NA>\n",
      "Name: year, Length: 39139, dtype: string>\n",
      "Los valores iniciales eran: (39139,)\n",
      "Los valores iniciales eran: <bound method IndexOpsMixin.nunique of 0        unprovoked\n",
      "1        unprovoked\n",
      "2        unprovoked\n",
      "3          provoked\n",
      "4        unprovoked\n",
      "            ...    \n",
      "39134          <NA>\n",
      "39135          <NA>\n",
      "39136          <NA>\n",
      "39137          <NA>\n",
      "39138          <NA>\n",
      "Name: type, Length: 39139, dtype: string>\n",
      "Los valores iniciales eran: (39139,)\n"
     ]
    }
   ],
   "source": [
    "print('Los valores iniciales eran:', shark_df['year'].nunique)\n",
    "print('Los valores iniciales eran:', shark_df['year'].shape)\n",
    "print('Los valores iniciales eran:', shark_df['type'].nunique)\n",
    "print('Los valores iniciales eran:', shark_df['type'].shape)\n",
    "\n",
    "#PRIMER FILTRO (Marlene):\n",
    "\n",
    "shark_df = shark_df[shark_df['type'] == 'unprovoked'].copy() #Quitamos los accidentes que no sean \"unprovoked\""
   ]
  },
  {
   "cell_type": "code",
   "execution_count": 8,
   "id": "a8ae12fb",
   "metadata": {},
   "outputs": [],
   "source": [
    "#Exportamos a excel post filtro: TYPE\n",
    "\n",
    "shark_df.to_excel('SharkAttack_check1.xlsx')"
   ]
  },
  {
   "cell_type": "code",
   "execution_count": 9,
   "id": "f8ac7041",
   "metadata": {},
   "outputs": [
    {
     "name": "stdout",
     "output_type": "stream",
     "text": [
      "year    1\n",
      "dtype: int64\n",
      "year            0\n",
      "type            0\n",
      "country        33\n",
      "state         300\n",
      "activity      359\n",
      "sex           168\n",
      "fatal_y/n      17\n",
      "species      2598\n",
      "dtype: int64\n"
     ]
    }
   ],
   "source": [
    "print(shark_df[['year']].isnull().sum())\n",
    "\n",
    "shark_df = shark_df.dropna(subset=['year']) #Quitamos los null de la columna \"year\"\n",
    "\n",
    "print(shark_df.isnull().sum())"
   ]
  },
  {
   "cell_type": "code",
   "execution_count": 10,
   "id": "42e5ae0d",
   "metadata": {},
   "outputs": [
    {
     "name": "stdout",
     "output_type": "stream",
     "text": [
      "Post filtro quedan: (2206,) valores\n",
      "Post filtro quedan: (2206,) valores\n"
     ]
    }
   ],
   "source": [
    "#formateamos para que todos los string sean igual (con decimal \".\")\n",
    "\n",
    "shark_df['year'] = (\n",
    "    shark_df['year']\n",
    "    .astype(str)                 \n",
    "    .str.replace(',', '.', regex=False)  # cambia coma por punto\n",
    "    .astype(float)      \n",
    ")\n",
    "shark_df['year'] = pd.to_numeric(shark_df['year'])\n",
    "shark_df = shark_df.loc[(shark_df['year'] >= 2000) & (shark_df['year'] <= 2025)] #filtramos los años sujetos a estudio\n",
    "\n",
    "#CHECK FILTRO 1\n",
    "print('Post filtro quedan:', shark_df['year'].shape , \"valores\")\n",
    "print('Post filtro quedan:', shark_df['type'].shape , \"valores\")\n"
   ]
  },
  {
   "cell_type": "code",
   "execution_count": 11,
   "id": "40e7d16a",
   "metadata": {},
   "outputs": [
    {
     "name": "stdout",
     "output_type": "stream",
     "text": [
      "YEAR --> valores únicos: [2025. 2024. 2023. 2022. 2021. 2020. 2019. 2018. 2017. 2016. 2015. 2014.\n",
      " 2013. 2012. 2011. 2010. 2009. 2008. 2007. 2006. 2005. 2004. 2003. 2002.\n",
      " 2001. 2000.]\n",
      "TYPE --> valores únicos: <StringArray>\n",
      "['unprovoked']\n",
      "Length: 1, dtype: string\n",
      "COUNTRY --> valores únicos: <StringArray>\n",
      "[                            'australia',\n",
      "                                   'usa',\n",
      "                               'bahamas',\n",
      "                           'puerto rico',\n",
      "                      'french polynesia',\n",
      "                                 'spain',\n",
      "                        'canary islands',\n",
      "                          'south africa',\n",
      "                               'vanuatu',\n",
      "                               'jamaica',\n",
      "                                'israel',\n",
      "                              'maldives',\n",
      "                      'turks and caicos',\n",
      "                            'mozambique',\n",
      "                         'new caledonia',\n",
      "                                 'egypt',\n",
      "                              'thailand',\n",
      "                           'new zealand',\n",
      "                                'hawaii',\n",
      "                              'honduras',\n",
      "                               'morocco',\n",
      "                                'belize',\n",
      "                       'maldive islands',\n",
      "                                'tobago',\n",
      "                                 'india',\n",
      "                                'mexico',\n",
      "                           'philippines',\n",
      "                                 'samoa',\n",
      "                              'colombia',\n",
      "                               'ecuador',\n",
      "                                'brazil',\n",
      "                            'seychelles',\n",
      "                               'england',\n",
      "                                 'japan',\n",
      "                             'indonesia',\n",
      "                              'columbia',\n",
      "            'british overseas territory',\n",
      "                                'canada',\n",
      "                                'jordan',\n",
      "                      'st kitts / nevis',\n",
      "                             'st martin',\n",
      "                                  'fiji',\n",
      "                      'papua new guinea',\n",
      "                                  'cuba',\n",
      "                        'reunion island',\n",
      "                                 'italy',\n",
      "                            'costa rica',\n",
      "                                    <NA>,\n",
      "                             'mauritius',\n",
      "                       'solomon islands',\n",
      " 'st helena, british overseas territory',\n",
      "                               'reunion',\n",
      "                        'united kingdom',\n",
      "                  'united arab emirates',\n",
      "                                 'china',\n",
      "                    'dominican republic',\n",
      "                                 'aruba',\n",
      "                                'france',\n",
      "                              'kiribati',\n",
      "                          'diego garcia',\n",
      "                                'taiwan',\n",
      "                                  'guam',\n",
      "                               'nigeria',\n",
      "                                 'tonga',\n",
      "                              'scotland',\n",
      "                                 'kenya',\n",
      "                                'russia',\n",
      "                        'turks & caicos',\n",
      "                              'malaysia',\n",
      "                           'south korea',\n",
      "                                 'malta',\n",
      "                               'vietnam',\n",
      "                            'madagascar',\n",
      "            'united arab emirates (uae)',\n",
      "                                'panama',\n",
      "                               'croatia',\n",
      "                                 'yemen',\n",
      "                          'gulf of aden',\n",
      "                          'sierra leone',\n",
      "                           'st. maartin',\n",
      "                          'grand cayman',\n",
      "                             'venezuela',\n",
      "                               'uruguay',\n",
      "                            'micronesia',\n",
      "                               'okinawa',\n",
      "                              'tanzania']\n",
      "Length: 86, dtype: string\n",
      "STATE --> valores únicos: <StringArray>\n",
      "[                                         'queensland',\n",
      "                                     'south australia',\n",
      "                                      'off california',\n",
      "                                                 'nsw',\n",
      "                                             'florida',\n",
      "                                               'texas',\n",
      "                   'atlantic ocean near big grand cay',\n",
      "                                            'carolina',\n",
      "                                           'nuku hiva',\n",
      "                                             'majorca',\n",
      " ...\n",
      "                               'louisiade archipelago',\n",
      " 'kwazulu-natal between port edward and port st johns',\n",
      "                                  'milne bay province',\n",
      "                'cikobia island (north of vanua levu)',\n",
      "                                     'rayong province',\n",
      "                                 'rio grande de norte',\n",
      "                                       'new brunswick',\n",
      "                                       'miyako island',\n",
      "                                        'minerva reef',\n",
      "                                     'madang province']\n",
      "Length: 294, dtype: string\n",
      "ACTIVITY --> valores únicos: <StringArray>\n",
      "[                                'fishing/swimming',\n",
      "                                          'surfing',\n",
      "                                         'swimming',\n",
      "                                       'snorkeling',\n",
      "                                     'spearfishing',\n",
      "                                           'wading',\n",
      "                                         'kayaking',\n",
      "                           'surfing (hydrofoiling)',\n",
      "                                           'diving',\n",
      "                                          'fishing',\n",
      " ...\n",
      "                     'standing alongside surfboard',\n",
      "                                            'batin',\n",
      "             'swimming back from anchored sailboat',\n",
      "                           'diving for sea urchins',\n",
      "                       'diving (shell maintenance)',\n",
      "                        'swimming out to porpoises',\n",
      "            'windsurfing, but sitting on his board',\n",
      "                                 'surfing / wading',\n",
      " 'spearfishing, holding mesh bag with speared fish',\n",
      "                         'boogie boarding / wading']\n",
      "Length: 233, dtype: string\n",
      "SEX --> valores únicos: <StringArray>\n",
      "['m', 'f', <NA>, 'lli']\n",
      "Length: 4, dtype: string\n",
      "FATAL_Y/N --> valores únicos: <StringArray>\n",
      "['n', 'y', 'f', 'm', <NA>, 'nq', 'unknown']\n",
      "Length: 7, dtype: string\n",
      "SPECIES --> valores únicos: <StringArray>\n",
      "[                                    'tiger or bull shark',\n",
      "                                          'bronze whaler?',\n",
      "                                      'unknown 1.2m shark',\n",
      "                                       'great white shark',\n",
      "                                              'not stated',\n",
      "                                 '5m (16.5ft) great white',\n",
      "                                            'undetermined',\n",
      "                                   'suspected great white',\n",
      "                         'great white shark est 3m (10ft)',\n",
      "                                             'lemon shark',\n",
      " ...\n",
      "                'blacktip shark, 2.4 m to 3 m [8' to 10']',\n",
      "                           '1.8 m [6'] grey-colored shark',\n",
      "                            'grey reef shark, 2 m [6.75']',\n",
      "                 'lemon shark, 2.1  m to 2.4 m [7' to 8']',\n",
      "                'tiger shark, 0.9 m to 1.5 m [3' to 5'] ?',\n",
      "                                 'nurse shark, 1.2 m [4']',\n",
      " '0.9 m [3'] shark,  probably a blacktip or spinner shark',\n",
      "               'blacktip shark, 1.2 m to 1.8 m [4' to 6']',\n",
      "                                'tiger shark, 4 m [13'] ?',\n",
      "          'shortfin mako shark, 3 m to 3.4 m [10' to 11']']\n",
      "Length: 625, dtype: string\n"
     ]
    }
   ],
   "source": [
    "#Check valores por columnas para próximos filtros\n",
    "\n",
    "for col in shark_df.columns:\n",
    "    print(f'{col.upper()} --> valores únicos:', shark_df[col].unique())"
   ]
  },
  {
   "cell_type": "code",
   "execution_count": 12,
   "id": "08ccfc67",
   "metadata": {},
   "outputs": [],
   "source": [
    "#Exportamos a excel post filtro: TYPE + YEAR\n",
    "\n",
    "shark_df.to_excel('SharkAttack_check2.xlsx')"
   ]
  },
  {
   "cell_type": "code",
   "execution_count": 13,
   "id": "14c3181a",
   "metadata": {},
   "outputs": [
    {
     "name": "stdout",
     "output_type": "stream",
     "text": [
      "Después del segundo filtro, los datos tienen: (1977, 8)\n",
      "country\n",
      "australia            434\n",
      "bahamas               69\n",
      "brazil                54\n",
      "egypt                 30\n",
      "french polynesia      26\n",
      "mexico                25\n",
      "new caledonia         35\n",
      "new zealand           38\n",
      "reunion               30\n",
      "south africa         115\n",
      "usa                 1121\n",
      "Name: count, dtype: Int64\n"
     ]
    }
   ],
   "source": [
    "#SEGUNDO FILTRO (Marta):\n",
    "#Decidimos filtrar por 11 países que representan el 90% de los ataques. \n",
    "country_selected = [\n",
    "    \"usa\",\"australia\",\"south africa\",\"bahamas\",\"brazil\",\"new zealand\",\n",
    "    \"new caledonia\",\"egypt\",\"reunion\",\"french polynesia\",\"mexico\",\"reunion island\"]\n",
    "\n",
    "shark_df_filtered = shark_df[\n",
    "    shark_df[\"country\"].str.strip().str.lower().isin(country_selected)\n",
    "].copy()\n",
    "\n",
    "print(\"Después del segundo filtro, los datos tienen:\", shark_df_filtered.shape)\n",
    "# Reunion y Reunion island los llamamos como Reunion Island\n",
    "\n",
    "map_reunion = {\"reunion island\": \"reunion\"}\n",
    "shark_df_filtered[\"country\"] = shark_df_filtered[\"country\"].replace(map_reunion)\n",
    "print(shark_df_filtered[\"country\"].value_counts(dropna=False).sort_index())\n",
    "shark_df = shark_df_filtered #sobrescribe el dataframe con los filtros y demás\n"
   ]
  },
  {
   "cell_type": "code",
   "execution_count": 14,
   "id": "4c18bb9c",
   "metadata": {},
   "outputs": [
    {
     "name": "stdout",
     "output_type": "stream",
     "text": [
      "Antes: (1977, 8)\n",
      "Después: (1934, 8)\n"
     ]
    }
   ],
   "source": [
    "# Borramos state en blanco para esos paises\n",
    "print(\"Antes:\", shark_df_filtered.shape)\n",
    "shark_df_filtered = shark_df_filtered.dropna(subset=[\"state\"]).copy()\n",
    "print(\"Después:\", shark_df_filtered.shape)"
   ]
  },
  {
   "cell_type": "code",
   "execution_count": 15,
   "id": "1fd33491",
   "metadata": {},
   "outputs": [
    {
     "name": "stdout",
     "output_type": "stream",
     "text": [
      "Después de normalizar estados USA: state\n",
      "florida              602\n",
      "hawaii               152\n",
      "california           103\n",
      "south carolina        79\n",
      "north carolina        69\n",
      "texas                 34\n",
      "new york              16\n",
      "oregon                16\n",
      "alabama               10\n",
      "louisiana              6\n",
      "georgia                5\n",
      "new jersey             5\n",
      "massachusetts          4\n",
      "maine                  2\n",
      "guam                   2\n",
      "us virgin islands      2\n",
      "virginia               2\n",
      "galveston              1\n",
      "samoa                  1\n",
      "maryland               1\n",
      "cayman islands         1\n",
      "bahamas                1\n",
      "washington             1\n",
      "rhode island           1\n",
      "delaware               1\n",
      "palmyra atoll          1\n",
      "puerto rico            1\n",
      "johnston atoll         1\n",
      "Name: count, dtype: Int64\n"
     ]
    }
   ],
   "source": [
    "#Normalizando nombres de estados para los países seleccionados\n",
    "#USA:\n",
    "\n",
    "mask_usa = shark_df_filtered[\"country\"].eq(\"usa\")\n",
    "\n",
    "# Diccionario de normalización (todo en minúsculas)\n",
    "usa_state_map = {\n",
    "    \"floria\": \"florida\",\n",
    "    \"franklin county, florida\": \"florida\",\n",
    "    \"noirth carolina\": \"north carolina\",\n",
    "    \"off california\": \"california\",\n",
    "    \"los angeles\": \"california\",\n",
    "    \"long island ny\": \"new york\",\n",
    "    \"maui\": \"hawaii\",\n",
    "    \"virgin islands\": \"us virgin islands\",\n",
    " }\n",
    "\n",
    "print(\"Después de normalizar estados USA:\", shark_df_filtered.loc[mask_usa, \"state\"].replace(usa_state_map).value_counts())"
   ]
  },
  {
   "cell_type": "code",
   "execution_count": 16,
   "id": "f015f506",
   "metadata": {},
   "outputs": [
    {
     "name": "stdout",
     "output_type": "stream",
     "text": [
      "Después de normalizar estados AU: state\n",
      "new south wales                         164\n",
      "western australia                       120\n",
      "queensland                               77\n",
      "south australia                          36\n",
      "victoria                                 23\n",
      "tasmania                                  6\n",
      "northern territory                        5\n",
      "torres strait                             1\n",
      "territory of cocos (keeling) islands      1\n",
      "Name: count, dtype: Int64\n"
     ]
    }
   ],
   "source": [
    "#Australia:\n",
    "\n",
    "mask_aus = shark_df_filtered[\"country\"].eq(\"australia\")\n",
    "\n",
    "aus_state_map = {\n",
    "    \"new  south wales\": \"new south wales\",\n",
    "    \"new south ales\": \"new south wales\",\n",
    "    \"nsw\": \"new south wales\",\n",
    "    \"wa\": \"western australia\",\n",
    "    \"westerm australia\": \"western australia\",\n",
    "    \"western  australia\": \"western australia\",\n",
    "}\n",
    "\n",
    "print(\n",
    "    \"Después de normalizar estados AU:\",\n",
    "    shark_df_filtered.loc[mask_aus, \"state\"]\n",
    "        .replace(aus_state_map)\n",
    "        .value_counts()\n",
    ")"
   ]
  },
  {
   "cell_type": "code",
   "execution_count": 17,
   "id": "9b25a7db",
   "metadata": {},
   "outputs": [
    {
     "name": "stdout",
     "output_type": "stream",
     "text": [
      "Después de normalizar estados South Africa: state\n",
      "western cape     48\n",
      "eastern cape     46\n",
      "kwazulu-natal    19\n",
      "Name: count, dtype: Int64\n"
     ]
    }
   ],
   "source": [
    "#South Africa:\n",
    "mask_sa = shark_df_filtered[\"country\"].eq(\"south africa\")\n",
    "\n",
    "sa_state_map = {\n",
    "    \"easten cape province\": \"eastern cape\",\n",
    "    \"eastern cape  province\": \"eastern cape\",\n",
    "    \"eastern cape province\": \"eastern cape\",\n",
    "    \"eastern province\": \"eastern cape\", \n",
    "    \"kwazulu-natal between port edward and port st johns\": \"kwazulu-natal\",\n",
    "    \"western cape province\": \"western cape\",\n",
    "    \"western province\": \"western cape\",\n",
    "}\n",
    "\n",
    "print(\n",
    "    \"Después de normalizar estados South Africa:\",\n",
    "    shark_df_filtered.loc[mask_sa, \"state\"]\n",
    "        .replace(sa_state_map)\n",
    "        .value_counts()\n",
    ")\n"
   ]
  },
  {
   "cell_type": "code",
   "execution_count": 18,
   "id": "57812515",
   "metadata": {},
   "outputs": [
    {
     "name": "stdout",
     "output_type": "stream",
     "text": [
      "Después de normalizar Bahamas: state\n",
      "abaco                  22\n",
      "grand bahama           10\n",
      "exuma                   7\n",
      "new providence          7\n",
      "eleuthera               2\n",
      "long island             1\n",
      "lucayan archipelago     1\n",
      "bimini                  1\n",
      "northern bahamas        1\n",
      "andros                  1\n",
      "Name: count, dtype: Int64\n"
     ]
    }
   ],
   "source": [
    "#Bahamas:\n",
    "mask_bhs = shark_df_filtered[\"country\"].eq(\"bahamas\")\n",
    "\n",
    "bahamas_state_map = {\n",
    "    # --- Grand Bahama (incluye off-shore y ciudades) ---\n",
    "    \"40 miles off grand bahama island\": \"grand bahama\",\n",
    "    \"grand  bahama island\": \"grand bahama\",\n",
    "    \"grand bahama island\": \"grand bahama\",\n",
    "    \"freeport\": \"grand bahama\",\n",
    "    \"west end\": \"grand bahama\",\n",
    "\n",
    "    # --- Abaco ---\n",
    "    \"abaco islands\": \"abaco\",\n",
    "    \"great abaco islands\": \"abaco\",\n",
    "    \"atlantic ocean near big grand cay\": \"abaco\",\n",
    "\n",
    "    # --- Andros ---\n",
    "    \"andros islands\": \"andros\",\n",
    "\n",
    "    # --- Exuma ---\n",
    "    \"exuma islands\": \"exuma\",\n",
    "    \"exumas\": \"exuma\",\n",
    "    \"the exuma cays\": \"exuma\",\n",
    "\n",
    "    # --- New Providence (+ Paradise Island y variantes tipográficas) ---\n",
    "    \"new providence   isoad\": \"new providence\",\n",
    "    \"new providence district\": \"new providence\",\n",
    "    \"new providence island\": \"new providence\",\n",
    "    \"paradise island\": \"new providence\",\n",
    "\n",
    "    # --- Long Island (typo en el dato) ---\n",
    "    \"clarence town long isand\": \"long island\",\n",
    "}\n",
    "\n",
    "print(\n",
    "    \"Después de normalizar Bahamas:\",\n",
    "    shark_df_filtered.loc[mask_bhs, \"state\"]\n",
    "        .str.strip().str.lower()\n",
    "        .replace(bahamas_state_map)\n",
    "        .value_counts()\n",
    ")"
   ]
  },
  {
   "cell_type": "code",
   "execution_count": 19,
   "id": "0d430eac",
   "metadata": {},
   "outputs": [
    {
     "name": "stdout",
     "output_type": "stream",
     "text": [
      "Después de normalizar Brasil: state\n",
      "pernambuco             42\n",
      "sao paulo               2\n",
      "santa catarina          2\n",
      "bahia                   2\n",
      "rio de janeiro          2\n",
      "rio grande do sul       1\n",
      "rio grande do norte     1\n",
      "Name: count, dtype: Int64\n"
     ]
    }
   ],
   "source": [
    "#Brasil:\n",
    "mask_bra = shark_df_filtered[\"country\"].eq(\"brazil\")\n",
    "\n",
    "brazil_state_map = {\n",
    "    \"balneário camboriú\": \"santa catarina\",\n",
    "    \"santa catarina state\": \"santa catarina\",\n",
    "    \"rio grande de norte\": \"rio grande do norte\",\n",
    "    \"fernando de noronha\": \"pernambuco\",\n",
    "    \"são paulo.\": \"sao paulo\",\n",
    "}\n",
    "\n",
    "print(\n",
    "    \"Después de normalizar Brasil:\",\n",
    "    shark_df_filtered.loc[mask_bra, \"state\"]\n",
    "        .str.strip().str.lower()\n",
    "        .replace(brazil_state_map)\n",
    "        .value_counts())"
   ]
  },
  {
   "cell_type": "code",
   "execution_count": 20,
   "id": "a31f85f8",
   "metadata": {},
   "outputs": [
    {
     "name": "stdout",
     "output_type": "stream",
     "text": [
      "Después de normalizar New Zealand: state\n",
      "south island       18\n",
      "north island       16\n",
      "cook islands        3\n",
      "chatham islands     1\n",
      "Name: count, dtype: Int64\n"
     ]
    }
   ],
   "source": [
    "#New Zealand:\n",
    "mask_nz = shark_df_filtered[\"country\"].eq(\"new zealand\")\n",
    "\n",
    "nz_state_map = {\n",
    "    \"south island, near karitane north of dunedin\": \"south island\",\n",
    "    \"southland\": \"south island\",\n",
    "    \"bay of waitangi\": \"north island\",\n",
    "    \"mercury islands\": \"north island\",\n",
    "  }\n",
    "\n",
    "print(\n",
    "    \"Después de normalizar New Zealand:\",\n",
    "    shark_df_filtered.loc[mask_nz, \"state\"]\n",
    "        .str.strip().str.lower()\n",
    "        .replace(nz_state_map)\n",
    "        .value_counts()\n",
    ")"
   ]
  },
  {
   "cell_type": "code",
   "execution_count": 21,
   "id": "07ea57ac",
   "metadata": {},
   "outputs": [
    {
     "name": "stdout",
     "output_type": "stream",
     "text": [
      "Después de normalizar New Caledonia: state\n",
      "south province          8\n",
      "north province          8\n",
      "loyalty islands         5\n",
      "grand terre             2\n",
      "poum                    1\n",
      "belep islands           1\n",
      "noumea                  1\n",
      "baie de sainte-marie    1\n",
      "Name: count, dtype: Int64\n"
     ]
    }
   ],
   "source": [
    "#New Caledonia:\n",
    "\n",
    "mask_nc = shark_df_filtered[\"country\"].eq(\"new caledonia\")\n",
    "\n",
    "nc_state_map = {\n",
    "    \"bélep islands\": \"belep islands\",\n",
    "    \"grande terre\": \"grand terre\",\n",
    "}\n",
    "\n",
    "print(\n",
    "    \"Después de normalizar New Caledonia:\",\n",
    "    shark_df_filtered.loc[mask_nc, \"state\"]\n",
    "        .str.strip().str.lower()\n",
    "        .replace(nc_state_map)\n",
    "        .value_counts()\n",
    ")\n"
   ]
  },
  {
   "cell_type": "code",
   "execution_count": 22,
   "id": "a6532511",
   "metadata": {},
   "outputs": [
    {
     "name": "stdout",
     "output_type": "stream",
     "text": [
      "Después de normalizar Egipto: state\n",
      "red sea governorate    12\n",
      "south sinai            12\n",
      "suez                    1\n",
      "Name: count, dtype: Int64\n"
     ]
    }
   ],
   "source": [
    "#Egipto:\n",
    "mask_egy = shark_df_filtered[\"country\"].eq(\"egypt\")\n",
    "\n",
    "egypt_state_map = {\n",
    "    \"hurghada, red sea governorate\": \"red sea governorate\",\n",
    "    \"north of marsa alam\": \"red sea governorate\",\n",
    "    \"red sea\": \"red sea governorate\",\n",
    "    \"red sea protectorate\": \"red sea governorate\",\n",
    "    \"st. johns reef\": \"red sea governorate\",\n",
    "    \"sinai peninsula\": \"south sinai\",\n",
    "    \"south sinai peninsula\": \"south sinai\",\n",
    "}\n",
    "\n",
    "print(\n",
    "    \"Después de normalizar Egipto:\",\n",
    "    shark_df_filtered.loc[mask_egy, \"state\"]\n",
    "        .str.strip().str.lower()\n",
    "        .replace(egypt_state_map)\n",
    "        .value_counts()\n",
    ")\n"
   ]
  },
  {
   "cell_type": "code",
   "execution_count": 23,
   "id": "564fb65f",
   "metadata": {},
   "outputs": [
    {
     "name": "stdout",
     "output_type": "stream",
     "text": [
      "Después de normalizar Reunion:\n",
      "state\n",
      "saint areas               17\n",
      "d’étang salé               2\n",
      "le port                    1\n",
      "trois bassins              1\n",
      "bois blanc                 1\n",
      "conservatoria district     1\n",
      "Name: count, dtype: Int64\n"
     ]
    }
   ],
   "source": [
    "#Reunion:\n",
    "\n",
    "mask_reu = shark_df_filtered[\"country\"].eq(\"reunion\")\n",
    "\n",
    "s = (\n",
    "    shark_df_filtered.loc[mask_reu, \"state\"]\n",
    "        .astype(\"string\")\n",
    "        .str.strip().str.lower()\n",
    "        .str.replace(\"-\", \" \", regex=False)         # \"saint-gilles\" -> \"saint gilles\"\n",
    "        .replace({\n",
    "            \"saint guilles\": \"saint gilles\",        # typo\n",
    "            \"saint gilles les bains\": \"saint gilles\",\n",
    "            \"d'etang-sale\": \"etang sale\",\n",
    "            \"d’etang-sale\": \"etang sale\",\n",
    "            \"d'etang-salé\": \"etang sale\",\n",
    "            \"d’etang-salé\": \"etang sale\",\n",
    "            \"conservatória district\": \"conservatoria district\",\n",
    "        })\n",
    ")\n",
    "\n",
    "# Agrupa TODO lo que empiece por \"saint \" en \"saint areas\"\n",
    "s = s.where(~s.str.startswith(\"saint \"), \"saint areas\")\n",
    "\n",
    "print(\"Después de normalizar Reunion:\")\n",
    "print(s.value_counts())"
   ]
  },
  {
   "cell_type": "code",
   "execution_count": 24,
   "id": "9a96d050",
   "metadata": {},
   "outputs": [
    {
     "name": "stdout",
     "output_type": "stream",
     "text": [
      "Después de normalizar French Polynesia: state\n",
      "society islands    14\n",
      "tuamotu islands     6\n",
      "marquesas           4\n",
      "gambier islands     1\n",
      "Name: count, dtype: Int64\n"
     ]
    }
   ],
   "source": [
    "# French Polynesia\n",
    "mask_fp = shark_df_filtered[\"country\"].eq(\"french polynesia\")\n",
    "\n",
    "french_poly_map = {\n",
    "    # Society Islands\n",
    "    \"bora bora\": \"society islands\",\n",
    "    \"moorea\": \"society islands\",\n",
    "    \"tahiti\": \"society islands\",\n",
    "    \"nuku hiva\": \"marquesas\",\n",
    "    \"central tuamotu\": \"tuamotu islands\",\n",
    "    \"tuamotos\": \"tuamotu islands\",\n",
    "    \"tuamotus\": \"tuamotu islands\",\n",
    "    \"rangiroa\": \"tuamotu islands\",\n",
    "}\n",
    "\n",
    "print(\n",
    "    \"Después de normalizar French Polynesia:\",\n",
    "    shark_df_filtered.loc[mask_fp, \"state\"]\n",
    "        .str.strip().str.lower()\n",
    "        .replace(french_poly_map)\n",
    "        .value_counts()\n",
    ")"
   ]
  },
  {
   "cell_type": "code",
   "execution_count": 25,
   "id": "24911fc7",
   "metadata": {},
   "outputs": [
    {
     "name": "stdout",
     "output_type": "stream",
     "text": [
      "Después de normalizar Méxipwdco: state\n",
      "quintana roo          7\n",
      "baja california       6\n",
      "guerrero              6\n",
      "sonora                3\n",
      "jalisco               1\n",
      "gulf of california    1\n",
      "sinaloa               1\n",
      "Name: count, dtype: Int64\n"
     ]
    }
   ],
   "source": [
    "#Mexico:\n",
    "mask_mex = shark_df_filtered[\"country\"].eq(\"mexico\")\n",
    "\n",
    "mexico_state_map = {\n",
    "    \"guerrero\": \"guerrero\",\n",
    "    \"cabo san lucas\": \"baja california\",\n",
    "    \"baja\": \"baja california\",\n",
    "    \"baja california sur\": \"baja california\",\n",
    "    \"guerro\": \"guerrero\",\n",
    "}\n",
    "\n",
    "print(\n",
    "    \"Después de normalizar Méxipwdco:\",\n",
    "    shark_df_filtered.loc[mask_mex, \"state\"]\n",
    "        .str.strip().str.lower()\n",
    "        .replace(mexico_state_map)\n",
    "        .value_counts()\n",
    ")"
   ]
  },
  {
   "cell_type": "code",
   "execution_count": 26,
   "id": "ae2ba89e",
   "metadata": {},
   "outputs": [],
   "source": [
    "#Asignamos los cambios al dataframe principal\n",
    "# Use shark_df_filtered since the masks were created from it\n",
    "shark_df_filtered.loc[mask_usa, \"state\"] = shark_df_filtered.loc[mask_usa, \"state\"].replace(usa_state_map)\n",
    "shark_df_filtered.loc[mask_aus, \"state\"] = shark_df_filtered.loc[mask_aus, \"state\"].replace(aus_state_map)\n",
    "shark_df_filtered.loc[mask_sa, \"state\"] = shark_df_filtered.loc[mask_sa, \"state\"].replace(sa_state_map)\n",
    "shark_df_filtered.loc[mask_bhs, \"state\"] = shark_df_filtered.loc[mask_bhs, \"state\"].replace(bahamas_state_map)\n",
    "shark_df_filtered.loc[mask_bra, \"state\"] = shark_df_filtered.loc[mask_bra, \"state\"].replace(brazil_state_map)\n",
    "shark_df_filtered.loc[mask_nz, \"state\"] = shark_df_filtered.loc[mask_nz, \"state\"].replace(nz_state_map)\n",
    "shark_df_filtered.loc[mask_nc, \"state\"] = shark_df_filtered.loc[mask_nc, \"state\"].replace(nc_state_map)\n",
    "shark_df_filtered.loc[mask_egy, \"state\"] = shark_df_filtered.loc[mask_egy, \"state\"].replace(egypt_state_map)\n",
    "shark_df_filtered.loc[mask_reu, \"state\"] = s\n",
    "shark_df_filtered.loc[mask_fp, \"state\"] = shark_df_filtered.loc[mask_fp, \"state\"].replace(french_poly_map)\n",
    "shark_df_filtered.loc[mask_mex, \"state\"] = shark_df_filtered.loc[mask_mex, \"state\"].replace(mexico_state_map)\n",
    "shark_df\n",
    "\n",
    "# Update shark_df to the cleaned version\n",
    "shark_df = shark_df_filtered\n"
   ]
  },
  {
   "cell_type": "code",
   "execution_count": 27,
   "id": "0954468d",
   "metadata": {},
   "outputs": [],
   "source": [
    "#Exportamos a excel post filtro: TYPE + YEAR + COUNTRY + LOCATION\n",
    "\n",
    "shark_df.to_excel('SharkAttack_check3.xlsx')"
   ]
  },
  {
   "cell_type": "code",
   "execution_count": 28,
   "id": "79dd9cc1",
   "metadata": {},
   "outputs": [
    {
     "data": {
      "text/plain": [
       "activity\n",
       "surfing                                             722\n",
       "swimming                                            318\n",
       "spearfishing                                        113\n",
       "snorkeling                                           87\n",
       "wading                                               86\n",
       "                                                   ... \n",
       "swimming out to porpoises                             1\n",
       "windsurfing, but sitting on his board                 1\n",
       "surfing / wading                                      1\n",
       "spearfishing, holding mesh bag with speared fish      1\n",
       "boogie boarding / wading                              1\n",
       "Name: count, Length: 187, dtype: Int64"
      ]
     },
     "execution_count": 28,
     "metadata": {},
     "output_type": "execute_result"
    }
   ],
   "source": [
    "# TERCER FILTRO (Alejandro):\n",
    "# Valoramos los duplicados de las actividades que estaban realizando los atacados, para agruparlas en categorias iguales.\n",
    "shark_df['activity'].value_counts()"
   ]
  },
  {
   "cell_type": "code",
   "execution_count": 29,
   "id": "780ef3db",
   "metadata": {},
   "outputs": [
    {
     "name": "stdout",
     "output_type": "stream",
     "text": [
      "Después de normalizar 'activity' → 'diving': activity\n",
      "diving    171\n",
      "Name: count, dtype: Int64\n"
     ]
    }
   ],
   "source": [
    "# Agrupamos las actividades en sus categorias\n",
    "# Diving\n",
    "mask_diving = shark_df_filtered[\"activity\"].str.strip().str.lower().isin([\n",
    "    \"abalone diving\",\n",
    "    \"diving\",\n",
    "    \"diving (shell maintenance)\",\n",
    "    \"diving / filming\",\n",
    "    \"diving for abalone\",\n",
    "    \"diving for crayfish\",\n",
    "    \"diving into water\",\n",
    "    \"diving with  surface-supplied air\",\n",
    "    \"diving, but on the surface when bitten by the shark\",\n",
    "    \"free diving\",\n",
    "    \"free diving / modeling\",\n",
    "    \"free diving / photographing pilot whales\",\n",
    "    \"free diving / spearfishing\",\n",
    "    \"freediving\",\n",
    "    \"scuba diving\",\n",
    "    \"snorkeling\",\n",
    "    \"snorkeling (filming the sardine run)\",\n",
    "    \"standing / snorkeling\"\n",
    "])\n",
    "\n",
    "activity_diving_map = {\n",
    "    \"abalone diving\": \"diving\",\n",
    "    \"diving\": \"diving\",\n",
    "    \"diving (shell maintenance)\": \"diving\",\n",
    "    \"diving / filming\": \"diving\",\n",
    "    \"diving for abalone\": \"diving\",\n",
    "    \"diving for crayfish\": \"diving\",\n",
    "    \"diving into water\": \"diving\",\n",
    "    \"diving with  surface-supplied air\": \"diving\",\n",
    "    \"diving, but on the surface when bitten by the shark\": \"diving\",\n",
    "    \"free diving\": \"diving\",\n",
    "    \"free diving / modeling\": \"diving\",\n",
    "    \"free diving / photographing pilot whales\": \"diving\",\n",
    "    \"free diving / spearfishing\": \"diving\",\n",
    "    \"freediving\": \"diving\",\n",
    "    \"scuba diving\": \"diving\",\n",
    "    \"snorkeling\": \"diving\",\n",
    "    \"snorkeling (filming the sardine run)\": \"diving\",\n",
    "    \"standing / snorkeling\": \"diving\",\n",
    "}\n",
    "\n",
    "print(\n",
    "    \"Después de normalizar 'activity' → 'diving':\",\n",
    "    shark_df_filtered.loc[mask_diving, \"activity\"]\n",
    "        .str.strip().str.lower()\n",
    "        .replace(activity_diving_map)\n",
    "        .value_counts()\n",
    ")\n",
    "\n",
    "shark_df_filtered.loc[mask_diving, \"activity\"] = (\n",
    "    shark_df_filtered.loc[mask_diving, \"activity\"]\n",
    "        .str.strip().str.lower()\n",
    "        .replace(activity_diving_map)\n",
    ")"
   ]
  },
  {
   "cell_type": "code",
   "execution_count": 30,
   "id": "fc3855b0",
   "metadata": {},
   "outputs": [
    {
     "name": "stdout",
     "output_type": "stream",
     "text": [
      "Después de normalizar 'activity' → 'swimming': activity\n",
      "swimming    541\n",
      "Name: count, dtype: Int64\n"
     ]
    }
   ],
   "source": [
    "# Swimming\n",
    "mask_swimming = shark_df_filtered[\"activity\"].str.strip().str.lower().isin([\n",
    "    \"bathing\",\n",
    "    \"batin\",\n",
    "    \"crouching in 2' of water\",\n",
    "    \"floating\",\n",
    "    \"floating face-down in knee-deep water\",\n",
    "    \"floating in inflatable pool ring\",\n",
    "    \"floating in tube\",\n",
    "    \"floating near boat & observing bioluminesce\",\n",
    "    \"floating on a raft\",\n",
    "    \"holding onto an inflatable boat\",\n",
    "    \"in water with diving seabirds\",\n",
    "    \"jumped into the water\",\n",
    "    \"jumped into water\",\n",
    "    \"jumpinf from dock to boat acidentally fell into water at marina\",\n",
    "    \"jumping\",\n",
    "    \"jumping in the waves\",\n",
    "    \"kneeling in the water\",\n",
    "    \"lifeguard exercises\",\n",
    "    \"lifeguard training exercise\",\n",
    "    \"lifesaving drill\",\n",
    "    \"playing\",\n",
    "    \"playing football in the water\",\n",
    "    \"playing in the surf\",\n",
    "    \"playing in the surf with his 2 dogs\",\n",
    "    \"playing in the water\",\n",
    "    \"playing on a sandbar\",\n",
    "    \"playing soccer in the water\",\n",
    "    \"squatting in the water\",\n",
    "    \"standing\",\n",
    "    \"swimming\",\n",
    "    \"swimming  or snorkeling\",\n",
    "    \"swimming & snorkeling\",\n",
    "    \"swimming (using a float)\",\n",
    "    \"swimming /  boogie boarding\",\n",
    "    \"swimming / body surfing\",\n",
    "    \"swimming / jumping off a jetty\",\n",
    "    \"swimming / shipwreck\",\n",
    "    \"swimming / snorkeling\",\n",
    "    \"swimming / treading water\",\n",
    "    \"swimming / wading\",\n",
    "    \"swimming ocean training\",\n",
    "    \"swimming or boogie boarding\",\n",
    "    \"swimming out to porpoises\",\n",
    "    \"swimming to shore from capsized kayak\",\n",
    "    \"swimming with boogie board\",\n",
    "    \"swimming with pod of dolphins\",\n",
    "    \"swimming with sharks\",\n",
    "    \"swimming, attempting to rescue a girl  believed to be drowning\",\n",
    "    \"swimming, poaching abalone\",\n",
    "    \"swimming, poaching perlemoen\",\n",
    "    \"swimming, towing surfboard\",\n",
    "    \"swimming, wearing black wetsuit & swim fins\",\n",
    "    \"swimming/ treading water\",\n",
    "    \"swimming/standing\",\n",
    "    \"swimmingq\",\n",
    "    \"treading water\",\n",
    "    \"treading water/ surfing\",\n",
    "    \"unconfirmed possibly swimming near the boat harbour\",\n",
    "    \"undisclosed\",\n",
    "    \"wade fishing\",\n",
    "    \"wade-fishing\",\n",
    "    \"wading\",\n",
    "    \"wading / fishing & carrying a bag of fish\",\n",
    "    \"wading near a fishing net\",\n",
    "    \"wading or swimming\",\n",
    "    \"wading?\"\n",
    "])\n",
    "\n",
    "activity_swimming_map = {\n",
    "    \"bathing\": \"swimming\",\n",
    "    \"batin\": \"swimming\",\n",
    "    \"crouching in 2' of water\": \"swimming\",\n",
    "    \"floating\": \"swimming\",\n",
    "    \"floating face-down in knee-deep water\": \"swimming\",\n",
    "    \"floating in inflatable pool ring\": \"swimming\",\n",
    "    \"floating in tube\": \"swimming\",\n",
    "    \"floating near boat & observing bioluminesce\": \"swimming\",\n",
    "    \"floating on a raft\": \"swimming\",\n",
    "    \"holding onto an inflatable boat\": \"swimming\",\n",
    "    \"in water with diving seabirds\": \"swimming\",\n",
    "    \"jumped into the water\": \"swimming\",\n",
    "    \"jumped into water\": \"swimming\",\n",
    "    \"jumpinf from dock to boat acidentally fell into water at marina\": \"swimming\",\n",
    "    \"jumping\": \"swimming\",\n",
    "    \"jumping in the waves\": \"swimming\",\n",
    "    \"kneeling in the water\": \"swimming\",\n",
    "    \"lifeguard exercises\": \"swimming\",\n",
    "    \"lifeguard training exercise\": \"swimming\",\n",
    "    \"lifesaving drill\": \"swimming\",\n",
    "    \"playing\": \"swimming\",\n",
    "    \"playing football in the water\": \"swimming\",\n",
    "    \"playing in the surf\": \"swimming\",\n",
    "    \"playing in the surf with his 2 dogs\": \"swimming\",\n",
    "    \"playing in the water\": \"swimming\",\n",
    "    \"playing on a sandbar\": \"swimming\",\n",
    "    \"playing soccer in the water\": \"swimming\",\n",
    "    \"squatting in the water\": \"swimming\",\n",
    "    \"standing\": \"swimming\",\n",
    "    \"swimming\": \"swimming\",\n",
    "    \"swimming  or snorkeling\": \"swimming\",\n",
    "    \"swimming & snorkeling\": \"swimming\",\n",
    "    \"swimming (using a float)\": \"swimming\",\n",
    "    \"swimming /  boogie boarding\": \"swimming\",\n",
    "    \"swimming / body surfing\": \"swimming\",\n",
    "    \"swimming / jumping off a jetty\": \"swimming\",\n",
    "    \"swimming / shipwreck\": \"swimming\",\n",
    "    \"swimming / snorkeling\": \"swimming\",\n",
    "    \"swimming / treading water\": \"swimming\",\n",
    "    \"swimming / wading\": \"swimming\",\n",
    "    \"swimming ocean training\": \"swimming\",\n",
    "    \"swimming or boogie boarding\": \"swimming\",\n",
    "    \"swimming out to porpoises\": \"swimming\",\n",
    "    \"swimming to shore from capsized kayak\": \"swimming\",\n",
    "    \"swimming with boogie board\": \"swimming\",\n",
    "    \"swimming with pod of dolphins\": \"swimming\",\n",
    "    \"swimming with sharks\": \"swimming\",\n",
    "    \"swimming, attempting to rescue a girl  believed to be drowning\": \"swimming\",\n",
    "    \"swimming, poaching abalone\": \"swimming\",\n",
    "    \"swimming, poaching perlemoen\": \"swimming\",\n",
    "    \"swimming, towing surfboard\": \"swimming\",\n",
    "    \"swimming, wearing black wetsuit & swim fins\": \"swimming\",\n",
    "    \"swimming/ treading water\": \"swimming\",\n",
    "    \"swimming/standing\": \"swimming\",\n",
    "    \"swimmingq\": \"swimming\",\n",
    "    \"treading water\": \"swimming\",\n",
    "    \"treading water/ surfing\": \"swimming\",\n",
    "    \"unconfirmed possibly swimming near the boat harbour\": \"swimming\",\n",
    "    \"undisclosed\": \"swimming\",\n",
    "    \"wade fishing\": \"swimming\",\n",
    "    \"wade-fishing\": \"swimming\",\n",
    "    \"wading\": \"swimming\",\n",
    "    \"wading / fishing & carrying a bag of fish\": \"swimming\",\n",
    "    \"wading near a fishing net\": \"swimming\",\n",
    "    \"wading or swimming\": \"swimming\",\n",
    "    \"wading?\": \"swimming\",\n",
    "}\n",
    "\n",
    "print(\n",
    "    \"Después de normalizar 'activity' → 'swimming':\",\n",
    "    shark_df_filtered.loc[mask_swimming, \"activity\"]\n",
    "        .str.strip().str.lower()\n",
    "        .replace(activity_swimming_map)\n",
    "        .value_counts()\n",
    ")\n",
    "\n",
    "shark_df_filtered.loc[mask_swimming, \"activity\"] = (\n",
    "    shark_df_filtered.loc[mask_swimming, \"activity\"]\n",
    "        .str.strip().str.lower()\n",
    "        .replace(activity_swimming_map)\n",
    ")"
   ]
  },
  {
   "cell_type": "code",
   "execution_count": 31,
   "id": "2e47f723",
   "metadata": {},
   "outputs": [
    {
     "name": "stdout",
     "output_type": "stream",
     "text": [
      "Después de normalizar 'activity': activity\n",
      "study    5\n",
      "Name: count, dtype: Int64\n"
     ]
    }
   ],
   "source": [
    "# Study\n",
    "mask_study = shark_df_filtered[\"activity\"].str.strip().str.lower().isin([\n",
    "    \"attempting to rescue a shark\",\n",
    "    \"photographing fish\",\n",
    "    \"photographing the shark\",\n",
    "    \"tagging sharks\",\n",
    "    \"wrangling a shark\",\n",
    "])\n",
    "\n",
    "activity_study_map = {\n",
    "    \"attempting to rescue a shark\": \"study\",\n",
    "    \"photographing fish\": \"study\",\n",
    "    \"photographing the shark\": \"study\",\n",
    "    \"tagging sharks\": \"study\",\n",
    "    \"wrangling a shark\": \"study\",\n",
    "}\n",
    "\n",
    "print(\n",
    "    \"Después de normalizar 'activity':\",\n",
    "    shark_df_filtered.loc[mask_study, \"activity\"]\n",
    "        .str.strip().str.lower()\n",
    "        .replace(activity_study_map)\n",
    "        .value_counts()\n",
    ")\n",
    "\n",
    "shark_df_filtered.loc[mask_study, \"activity\"] = (\n",
    "    shark_df_filtered.loc[mask_study, \"activity\"]\n",
    "        .str.strip().str.lower()\n",
    "        .replace(activity_study_map)\n",
    ")"
   ]
  },
  {
   "cell_type": "code",
   "execution_count": 32,
   "id": "ef37ec03",
   "metadata": {},
   "outputs": [
    {
     "name": "stdout",
     "output_type": "stream",
     "text": [
      "Después de normalizar 'activity' → 'paddle': activity\n",
      "paddle    151\n",
      "Name: count, dtype: Int64\n"
     ]
    }
   ],
   "source": [
    "# Paddle\n",
    "\n",
    "mask_paddle = shark_df_filtered[\"activity\"].str.strip().str.lower().isin([\n",
    "    \"body boarding\",\n",
    "    \"body surfing\",\n",
    "    \"body surfing or boogie boarding\",\n",
    "    \"body surfing?\",\n",
    "    \"bodyboarding\",\n",
    "    \"body-boarding\",\n",
    "    \"bodysurfing\",\n",
    "    \"body-surfing\",\n",
    "    \"boggie boarding\",\n",
    "    \"boogie boarding\",\n",
    "    \"boogie boarding / wading\",\n",
    "    \"boogie boarding or surfing\",\n",
    "    \"boogie-boarding / swimming\",\n",
    "    \"paddle boarding\",\n",
    "    \"paddleboarding\",\n",
    "    \"paddle-boarding\",\n",
    "    \"paddle-surfing\",\n",
    "    \"paddling on kneeboard\",\n",
    "    \"standing alongside surfboard\",\n",
    "    \"standing in inner tube\",\n",
    "    \"standing or boogie boardin\",\n",
    "    \"standing, stepped on shark\",\n",
    "    \"stand-up paddle boarding\",\n",
    "    \"stand-up paddleboarding\",\n",
    "    \"sup\",\n",
    "    \"sup foil boarding\"\n",
    "])\n",
    "\n",
    "activity_paddle_map = {\n",
    "    \"body boarding\": \"paddle\",\n",
    "    \"body surfing\": \"paddle\",\n",
    "    \"body surfing or boogie boarding\": \"paddle\",\n",
    "    \"body surfing?\": \"paddle\",\n",
    "    \"bodyboarding\": \"paddle\",\n",
    "    \"body-boarding\": \"paddle\",\n",
    "    \"bodysurfing\": \"paddle\",\n",
    "    \"body-surfing\": \"paddle\",\n",
    "    \"boggie boarding\": \"paddle\",\n",
    "    \"boogie boarding\": \"paddle\",\n",
    "    \"boogie boarding / wading\": \"paddle\",\n",
    "    \"boogie boarding or surfing\": \"paddle\",\n",
    "    \"boogie-boarding / swimming\": \"paddle\",\n",
    "    \"paddle boarding\": \"paddle\",\n",
    "    \"paddleboarding\": \"paddle\",\n",
    "    \"paddle-boarding\": \"paddle\",\n",
    "    \"paddle-surfing\": \"paddle\",\n",
    "    \"paddling on kneeboard\": \"paddle\",\n",
    "    \"standing alongside surfboard\": \"paddle\",\n",
    "    \"standing in inner tube\": \"paddle\",\n",
    "    \"standing or boogie boardin\": \"paddle\",\n",
    "    \"standing, stepped on shark\": \"paddle\",\n",
    "    \"stand-up paddle boarding\": \"paddle\",\n",
    "    \"stand-up paddleboarding\": \"paddle\",\n",
    "    \"sup\": \"paddle\",\n",
    "    \"sup foil boarding\": \"paddle\",\n",
    "}\n",
    "\n",
    "print(\n",
    "    \"Después de normalizar 'activity' → 'paddle':\",\n",
    "    shark_df_filtered.loc[mask_paddle, \"activity\"]\n",
    "        .str.strip().str.lower()\n",
    "        .replace(activity_paddle_map)\n",
    "        .value_counts()\n",
    ")\n",
    "\n",
    "shark_df_filtered.loc[mask_paddle, \"activity\"] = (\n",
    "    shark_df_filtered.loc[mask_paddle, \"activity\"]\n",
    "        .str.strip().str.lower()\n",
    "        .replace(activity_paddle_map)\n",
    ")"
   ]
  },
  {
   "cell_type": "code",
   "execution_count": 33,
   "id": "d7c5e5c2",
   "metadata": {},
   "outputs": [
    {
     "name": "stdout",
     "output_type": "stream",
     "text": [
      "Después de normalizar 'activity' → 'fishing': activity\n",
      "fishing    170\n",
      "Name: count, dtype: Int64\n"
     ]
    }
   ],
   "source": [
    "# Fishing\n",
    "mask_fishing = shark_df_filtered[\"activity\"].str.strip().str.lower().isin([\n",
    "    \"casting a net\",\n",
    "    \"chumming for white sharks\",\n",
    "    \"cleaning fish\",\n",
    "    \"feeding fish\",\n",
    "    \"feeding sharks\",\n",
    "    \"fell into the water\",\n",
    "    \"fihing\",\n",
    "    \"filming\",\n",
    "    \"fishing\",\n",
    "    \"fishing from surfboard\",\n",
    "    \"fishing from surfski\",\n",
    "    \"fishing, fell in water\",\n",
    "    \"fishing, standing in 2' of water\",\n",
    "    \"fishing/swimming\",\n",
    "    \"fly fishing\",\n",
    "    \"hand feeding sharks\",\n",
    "    \"lobstering\",\n",
    "    \"removing fish from a trap\",\n",
    "    \"scallop diving (using surface-supplied air & a pod)\",\n",
    "    \"scallop diving on hookah\",\n",
    "    \"scalloping\",\n",
    "    \"spearfishing\",\n",
    "    \"spearfishing (free diving)\",\n",
    "    \"spearfishing / diving\",\n",
    "    \"spearfishing / free diving\",\n",
    "    \"spearfishing, holding mesh bag with speared fish\",\n",
    "    \"washing hands\",\n",
    "    \"washing sand off a speared fish\",\n",
    "])\n",
    "\n",
    "activity_fishing_map = {\n",
    "    \"casting a net\": \"fishing\",\n",
    "    \"chumming for white sharks\": \"fishing\",\n",
    "    \"cleaning fish\": \"fishing\",\n",
    "    \"feeding fish\": \"fishing\",\n",
    "    \"feeding sharks\": \"fishing\",\n",
    "    \"fell into the water\": \"fishing\",\n",
    "    \"fihing\": \"fishing\",\n",
    "    \"filming\": \"fishing\",\n",
    "    \"fishing\": \"fishing\",\n",
    "    \"fishing from surfboard\": \"fishing\",\n",
    "    \"fishing from surfski\": \"fishing\",\n",
    "    \"fishing, fell in water\": \"fishing\",\n",
    "    \"fishing, standing in 2' of water\": \"fishing\",\n",
    "    \"fishing/swimming\": \"fishing\",\n",
    "    \"fly fishing\": \"fishing\",\n",
    "    \"hand feeding sharks\": \"fishing\",\n",
    "    \"lobstering\": \"fishing\",\n",
    "    \"removing fish from a trap\": \"fishing\",\n",
    "    \"scallop diving (using surface-supplied air & a pod)\": \"fishing\",\n",
    "    \"scallop diving on hookah\": \"fishing\",\n",
    "    \"scalloping\": \"fishing\",\n",
    "    \"spearfishing\": \"fishing\",\n",
    "    \"spearfishing (free diving)\": \"fishing\",\n",
    "    \"spearfishing / diving\": \"fishing\",\n",
    "    \"spearfishing / free diving\": \"fishing\",\n",
    "    \"spearfishing, holding mesh bag with speared fish\": \"fishing\",\n",
    "    \"washing hands\": \"fishing\",\n",
    "    \"washing sand off a speared fish\": \"fishing\",\n",
    "}\n",
    "\n",
    "print(\n",
    "    \"Después de normalizar 'activity' → 'fishing':\",\n",
    "    shark_df_filtered.loc[mask_fishing, \"activity\"]\n",
    "        .str.strip().str.lower()\n",
    "        .replace(activity_fishing_map)\n",
    "        .value_counts()\n",
    ")\n",
    "\n",
    "shark_df_filtered.loc[mask_fishing, \"activity\"] = (\n",
    "    shark_df_filtered.loc[mask_fishing, \"activity\"]\n",
    "        .str.strip().str.lower()\n",
    "        .replace(activity_fishing_map)\n",
    ")"
   ]
  },
  {
   "cell_type": "code",
   "execution_count": 34,
   "id": "75f58a26",
   "metadata": {},
   "outputs": [
    {
     "name": "stdout",
     "output_type": "stream",
     "text": [
      "Después de normalizar 'activity' → 'surfing': activity\n",
      "surfing    814\n",
      "Name: count, dtype: Int64\n"
     ]
    }
   ],
   "source": [
    "# Surfing\n",
    "mask_surfing = shark_df_filtered[\"activity\"].str.strip().str.lower().isin([\n",
    "    \"foil boarding\",\n",
    "    \"foil-boarding\",\n",
    "    \"jet skiing\",\n",
    "    \"kite boarding\",\n",
    "    \"kite foiling\",\n",
    "    \"kite surfing\",\n",
    "    \"kiteboarding\",\n",
    "    \"kite-boarding\",\n",
    "    \"kitesurfing\",\n",
    "    \"kite-surfing\",\n",
    "    \"night surfing\",\n",
    "    \"scurfing (surfboard being  towed behind a boat)\",\n",
    "    \"sitting\",\n",
    "    \"sitting in the water\",\n",
    "    \"sitting on surfboard\",\n",
    "    \"skimboarding\",\n",
    "    \"standing / surfing\",\n",
    "    \"surf fishing\",\n",
    "    \"surf paddling\",\n",
    "    \"surf skiing\",\n",
    "    \"surface supplied  diving\",\n",
    "    \"surfing\",\n",
    "    \"surfing / wading\",\n",
    "    \"surfing amid a shoal of sharks\",\n",
    "    \"surfing, but standing in water alongside board\",\n",
    "    \"surfng\",\n",
    "    \"surf-skiing\",\n",
    "    \"surf-sking\",\n",
    "    \"tandem surfing\",\n",
    "    \"wakeboarding\",\n",
    "    \"walking\",\n",
    "    \"walking in shallows\",\n",
    "    \"walking in surf\",\n",
    "    \"walking out of the water after surfing\",\n",
    "    \"windsurfing\",\n",
    "    \"windsurfing, but sitting on his board\",\n",
    "    \"wing foil surfing\"\n",
    "])\n",
    "\n",
    "activity_surfing_map = {\n",
    "    \"foil boarding\": \"surfing\",\n",
    "    \"foil-boarding\": \"surfing\",\n",
    "    \"jet skiing\": \"surfing\",\n",
    "    \"kite boarding\": \"surfing\",\n",
    "    \"kite foiling\": \"surfing\",\n",
    "    \"kite surfing\": \"surfing\",\n",
    "    \"kiteboarding\": \"surfing\",\n",
    "    \"kite-boarding\": \"surfing\",\n",
    "    \"kitesurfing\": \"surfing\",\n",
    "    \"kite-surfing\": \"surfing\",\n",
    "    \"night surfing\": \"surfing\",\n",
    "    \"scurfing (surfboard being  towed behind a boat)\": \"surfing\",\n",
    "    \"sitting\": \"surfing\",\n",
    "    \"sitting in the water\": \"surfing\",\n",
    "    \"sitting on surfboard\": \"surfing\",\n",
    "    \"skimboarding\": \"surfing\",\n",
    "    \"standing / surfing\": \"surfing\",\n",
    "    \"surf fishing\": \"surfing\",\n",
    "    \"surf paddling\": \"surfing\",\n",
    "    \"surf skiing\": \"surfing\",\n",
    "    \"surface supplied  diving\": \"surfing\",\n",
    "    \"surfing\": \"surfing\",\n",
    "    \"surfing / wading\": \"surfing\",\n",
    "    \"surfing amid a shoal of sharks\": \"surfing\",\n",
    "    \"surfing, but standing in water alongside board\": \"surfing\",\n",
    "    \"surfng\": \"surfing\",\n",
    "    \"surf-skiing\": \"surfing\",\n",
    "    \"surf-sking\": \"surfing\",\n",
    "    \"tandem surfing\": \"surfing\",\n",
    "    \"wakeboarding\": \"surfing\",\n",
    "    \"walking\": \"surfing\",\n",
    "    \"walking in shallows\": \"surfing\",\n",
    "    \"walking in surf\": \"surfing\",\n",
    "    \"walking out of the water after surfing\": \"surfing\",\n",
    "    \"windsurfing\": \"surfing\",\n",
    "    \"windsurfing, but sitting on his board\": \"surfing\",\n",
    "    \"wing foil surfing\": \"surfing\",\n",
    "}\n",
    "\n",
    "print(\n",
    "    \"Después de normalizar 'activity' → 'surfing':\",\n",
    "    shark_df_filtered.loc[mask_surfing, \"activity\"]\n",
    "        .str.strip().str.lower()\n",
    "        .replace(activity_surfing_map)\n",
    "        .value_counts()\n",
    ")\n",
    "\n",
    "shark_df_filtered.loc[mask_surfing, \"activity\"] = (\n",
    "    shark_df_filtered.loc[mask_surfing, \"activity\"]\n",
    "        .str.strip().str.lower()\n",
    "        .replace(activity_surfing_map)\n",
    ")"
   ]
  },
  {
   "cell_type": "code",
   "execution_count": 35,
   "id": "fd1929d4",
   "metadata": {},
   "outputs": [
    {
     "name": "stdout",
     "output_type": "stream",
     "text": [
      "Después de normalizar 'activity' → 'kayaking': activity\n",
      "kayaking    14\n",
      "Name: count, dtype: Int64\n"
     ]
    }
   ],
   "source": [
    "# Kayaking\n",
    "mask_kayaking = shark_df_filtered[\"activity\"].str.strip().str.lower().isin([\n",
    "    \"canoeing\",\n",
    "    \"kakaying\",\n",
    "    \"kayak fishing\",\n",
    "    \"kayaking\",\n",
    "    \"kayaking / fishing\"\n",
    "])\n",
    "\n",
    "activity_kayaking_map = {\n",
    "    \"canoeing\": \"kayaking\",\n",
    "    \"kakaying\": \"kayaking\",\n",
    "    \"kayak fishing\": \"kayaking\",\n",
    "    \"kayaking\": \"kayaking\",\n",
    "    \"kayaking / fishing\": \"kayaking\",\n",
    "}\n",
    "\n",
    "print(\n",
    "    \"Después de normalizar 'activity' → 'kayaking':\",\n",
    "    shark_df_filtered.loc[mask_kayaking, \"activity\"]\n",
    "        .str.strip().str.lower()\n",
    "        .replace(activity_kayaking_map)\n",
    "        .value_counts()\n",
    ")\n",
    "\n",
    "shark_df_filtered.loc[mask_kayaking, \"activity\"] = (\n",
    "    shark_df_filtered.loc[mask_kayaking, \"activity\"]\n",
    "        .str.strip().str.lower()\n",
    "        .replace(activity_kayaking_map)\n",
    ")"
   ]
  },
  {
   "cell_type": "code",
   "execution_count": 36,
   "id": "c2b98222",
   "metadata": {},
   "outputs": [
    {
     "data": {
      "text/plain": [
       "activity\n",
       "surfing                    814\n",
       "swimming                   541\n",
       "diving                     171\n",
       "fishing                    170\n",
       "paddle                     151\n",
       "kayaking                    14\n",
       "study                        5\n",
       "shipwreck                    1\n",
       "attempting to fix motor      1\n",
       "Name: count, dtype: Int64"
      ]
     },
     "execution_count": 36,
     "metadata": {},
     "output_type": "execute_result"
    }
   ],
   "source": [
    "# Hacemos un checkeo, para saber el numero de ataques dependiendo de la actividad.\n",
    "shark_df[\"activity\"].value_counts().head(10)"
   ]
  },
  {
   "cell_type": "code",
   "execution_count": 37,
   "id": "3933b748",
   "metadata": {},
   "outputs": [
    {
     "data": {
      "text/plain": [
       "activity    66\n",
       "sex         30\n",
       "dtype: int64"
      ]
     },
     "execution_count": 37,
     "metadata": {},
     "output_type": "execute_result"
    }
   ],
   "source": [
    "# Valoramos los NaN de las categorias \"activity\" y \"sex\" para agruparlas en unkwnown\n",
    "shark_df[[\"activity\", \"sex\"]].isna().sum()"
   ]
  },
  {
   "cell_type": "code",
   "execution_count": 38,
   "id": "566d4184",
   "metadata": {},
   "outputs": [],
   "source": [
    "import numpy as np"
   ]
  },
  {
   "cell_type": "code",
   "execution_count": 39,
   "id": "f87169d6",
   "metadata": {},
   "outputs": [],
   "source": [
    "shark_df[\"activity\"] = shark_df[\"activity\"].replace(\"\", np.nan)  # convierte strings vacíos en NaN\n",
    "shark_df[\"activity\"] = shark_df[\"activity\"].fillna(\"unknown activity\") #completa los NULL con \"unknown\""
   ]
  },
  {
   "cell_type": "code",
   "execution_count": 40,
   "id": "71041011",
   "metadata": {},
   "outputs": [],
   "source": [
    "shark_df[\"sex\"] = shark_df[\"sex\"].replace(\"\", np.nan)  # convierte strings vacíos en NaN\n",
    "shark_df[\"sex\"] = shark_df[\"sex\"].fillna(\"unknown sex\") #completa los NULL con \"unknown\"\n",
    "\n",
    "#replace de \"lli\" por \"unknown\" en la columna \"sex\"\n",
    "shark_df[\"sex\"] = shark_df[\"sex\"].replace(\"lli\", \"unknown sex\")"
   ]
  },
  {
   "cell_type": "code",
   "execution_count": 41,
   "id": "6b6ab8e4",
   "metadata": {},
   "outputs": [
    {
     "data": {
      "text/plain": [
       "activity    0\n",
       "sex         0\n",
       "dtype: int64"
      ]
     },
     "execution_count": 41,
     "metadata": {},
     "output_type": "execute_result"
    }
   ],
   "source": [
    "# Chekeamos los cambios.\n",
    "shark_df[[\"activity\", \"sex\"]].isna().sum()"
   ]
  },
  {
   "cell_type": "code",
   "execution_count": 42,
   "id": "046e84f0",
   "metadata": {},
   "outputs": [
    {
     "name": "stdout",
     "output_type": "stream",
     "text": [
      "YEAR --> valores únicos: [2025. 2024. 2023. 2022. 2021. 2020. 2019. 2018. 2017. 2016. 2015. 2014.\n",
      " 2013. 2012. 2011. 2010. 2009. 2008. 2007. 2006. 2005. 2004. 2003. 2002.\n",
      " 2001. 2000.]\n",
      "TYPE --> valores únicos: <StringArray>\n",
      "['unprovoked']\n",
      "Length: 1, dtype: string\n",
      "COUNTRY --> valores únicos: <StringArray>\n",
      "[       'australia',              'usa',          'bahamas',\n",
      " 'french polynesia',     'south africa',    'new caledonia',\n",
      "            'egypt',      'new zealand',           'mexico',\n",
      "           'brazil',          'reunion']\n",
      "Length: 11, dtype: string\n",
      "STATE --> valores únicos: <StringArray>\n",
      "[                          'queensland',\n",
      "                      'south australia',\n",
      "                           'california',\n",
      "                      'new south wales',\n",
      "                              'florida',\n",
      "                                'texas',\n",
      "                                'abaco',\n",
      "                            'marquesas',\n",
      "                        'kwazulu-natal',\n",
      "                             'new york',\n",
      "                       'south carolina',\n",
      "                       'north carolina',\n",
      "                    'western australia',\n",
      "                             'victoria',\n",
      "                          'grand terre',\n",
      "                  'red sea governorate',\n",
      "                         'north island',\n",
      "                               'hawaii',\n",
      "                            'galveston',\n",
      "                      'gambier islands',\n",
      "                          'long island',\n",
      "                       'new providence',\n",
      "                               'sonora',\n",
      "                         'south island',\n",
      "                              'jalisco',\n",
      "                         'grand bahama',\n",
      "                          'south sinai',\n",
      "                      'society islands',\n",
      "                                 'poum',\n",
      "                           'new jersey',\n",
      "                         'eastern cape',\n",
      "                           'pernambuco',\n",
      "                       'south province',\n",
      "                   'gulf of california',\n",
      "                                'samoa',\n",
      "                            'louisiana',\n",
      "                         'western cape',\n",
      "                              'alabama',\n",
      "                         'quintana roo',\n",
      "                            'sao paulo',\n",
      "                             'maryland',\n",
      "                              'georgia',\n",
      "                      'loyalty islands',\n",
      "                               'oregon',\n",
      "                    'us virgin islands',\n",
      "                      'tuamotu islands',\n",
      "                                'maine',\n",
      "                              'bahamas',\n",
      "                             'tasmania',\n",
      "                                'exuma',\n",
      "                      'baja california',\n",
      "                                 'guam',\n",
      "                       'cayman islands',\n",
      "                         'rhode island',\n",
      "                      'chatham islands',\n",
      "                  'lucayan archipelago',\n",
      "                        'belep islands',\n",
      "                               'noumea',\n",
      "                             'guerrero',\n",
      "                   'northern territory',\n",
      "                        'massachusetts',\n",
      "                           'washington',\n",
      "                          'saint areas',\n",
      "                               'bimini',\n",
      "                       'north province',\n",
      "                                 'suez',\n",
      "                       'santa catarina',\n",
      "                              'le port',\n",
      "                         'd’étang salé',\n",
      "                             'delaware',\n",
      "                        'palmyra atoll',\n",
      "                 'baie de sainte-marie',\n",
      "                            'eleuthera',\n",
      "                              'sinaloa',\n",
      "                        'trois bassins',\n",
      "                           'bois blanc',\n",
      "                          'puerto rico',\n",
      "                             'virginia',\n",
      "                    'rio grande do sul',\n",
      "                        'torres strait',\n",
      "                                'bahia',\n",
      "                     'northern bahamas',\n",
      " 'territory of cocos (keeling) islands',\n",
      "                               'andros',\n",
      "               'conservatoria district',\n",
      "                         'cook islands',\n",
      "                       'johnston atoll',\n",
      "                       'rio de janeiro',\n",
      "                  'rio grande do norte']\n",
      "Length: 89, dtype: string\n",
      "ACTIVITY --> valores únicos: <StringArray>\n",
      "[                'fishing',                 'surfing',\n",
      "                'swimming',                  'diving',\n",
      "                'kayaking',                  'paddle',\n",
      "               'shipwreck',        'unknown activity',\n",
      "                   'study', 'attempting to fix motor']\n",
      "Length: 10, dtype: string\n",
      "SEX --> valores únicos: <StringArray>\n",
      "['m', 'f', 'unknown sex']\n",
      "Length: 3, dtype: string\n",
      "FATAL_Y/N --> valores únicos: <StringArray>\n",
      "['n', 'y', 'f', <NA>, 'nq', 'unknown']\n",
      "Length: 6, dtype: string\n",
      "SPECIES --> valores únicos: <StringArray>\n",
      "[                                    'tiger or bull shark',\n",
      "                                          'bronze whaler?',\n",
      "                                      'unknown 1.2m shark',\n",
      "                                       'great white shark',\n",
      "                                              'not stated',\n",
      "                                 '5m (16.5ft) great white',\n",
      "                                            'undetermined',\n",
      "                                   'suspected great white',\n",
      "                         'great white shark est 3m (10ft)',\n",
      "                                             'lemon shark',\n",
      " ...\n",
      "                'blacktip shark, 2.4 m to 3 m [8' to 10']',\n",
      "                           '1.8 m [6'] grey-colored shark',\n",
      "                 'lemon shark, 2.1  m to 2.4 m [7' to 8']',\n",
      "                'tiger shark, 0.9 m to 1.5 m [3' to 5'] ?',\n",
      "                                 'nurse shark, 1.2 m [4']',\n",
      " '0.9 m [3'] shark,  probably a blacktip or spinner shark',\n",
      "               'blacktip shark, 1.2 m to 1.8 m [4' to 6']',\n",
      "                                'tiger shark, 4 m [13'] ?',\n",
      "          'shortfin mako shark, 3 m to 3.4 m [10' to 11']',\n",
      "                                         '3 m [10'] shark']\n",
      "Length: 567, dtype: string\n"
     ]
    }
   ],
   "source": [
    "#Check valores por columnas para próximos filtros\n",
    "\n",
    "for col in shark_df.columns:\n",
    "    print(f'{col.upper()} --> valores únicos:', shark_df[col].unique())"
   ]
  },
  {
   "cell_type": "code",
   "execution_count": 43,
   "id": "b7eda420",
   "metadata": {},
   "outputs": [],
   "source": [
    "#Exportamos a excel post filtro: TYPE + YEAR + COUNTRY + LOCATION + ACTIVITY + SEX\n",
    "\n",
    "shark_df.to_excel('SharkAttack_check4.xlsx')"
   ]
  },
  {
   "cell_type": "code",
   "execution_count": 44,
   "id": "4fb38e92",
   "metadata": {},
   "outputs": [
    {
     "data": {
      "text/plain": [
       "fatal_y/n\n",
       "n          1749\n",
       "y           171\n",
       "f             2\n",
       "unknown       2\n",
       "nq            1\n",
       "Name: count, dtype: Int64"
      ]
     },
     "execution_count": 44,
     "metadata": {},
     "output_type": "execute_result"
    }
   ],
   "source": [
    "# CUARTO FILTRO (CLAUDIA):\n",
    "# Valoramos los duplicados de las actividades que estaban realizando los atacados, para agruparlas en categorias iguales.\n",
    "shark_df['fatal_y/n'].value_counts()"
   ]
  },
  {
   "cell_type": "code",
   "execution_count": 45,
   "id": "d6e6b6c7",
   "metadata": {},
   "outputs": [
    {
     "data": {
      "text/plain": [
       "fatal_y/n\n",
       "n          1750\n",
       "y           171\n",
       "unknown      13\n",
       "Name: count, dtype: Int64"
      ]
     },
     "execution_count": 45,
     "metadata": {},
     "output_type": "execute_result"
    }
   ],
   "source": [
    "# Definimos el mapeo de reemplazo\n",
    "fatal_map = {\n",
    "    \"f\": \"unknown\",\n",
    "    \"nq\": \"n\",\n",
    "    \"unknown\": \"unknown\",\n",
    "    \"\": \"unknown\",   # celdas vacías\n",
    "    \"nan\": \"unknown\" # valores nulos\n",
    "}\n",
    "\n",
    "# Aplicamos el reemplazo\n",
    "\n",
    "shark_df[\"fatal_y/n\"] = (\n",
    "    shark_df[\"fatal_y/n\"]\n",
    "        .astype(\"string\")              # usa el tipo string nativo de pandas\n",
    "        .str.strip().str.lower()\n",
    "        .replace(fatal_map)\n",
    "        .replace(r\"^\\s*$\", pd.NA, regex=True)  # convierte blancos o espacios en NA\n",
    "        .fillna(\"unknown\") # completa los NaN con \"unknown\"\n",
    ")  \n",
    "\n",
    "# Checkeamos los cambios\n",
    "shark_df[\"fatal_y/n\"].value_counts(dropna=False)"
   ]
  },
  {
   "cell_type": "code",
   "execution_count": 46,
   "id": "15c68d6a",
   "metadata": {},
   "outputs": [],
   "source": [
    "shark_df.to_excel('SharkAttack_check5.xlsx')"
   ]
  },
  {
   "cell_type": "code",
   "execution_count": 47,
   "id": "8708b9b4",
   "metadata": {},
   "outputs": [
    {
     "data": {
      "text/plain": [
       "Index(['year', 'type', 'country', 'state', 'activity', 'sex', 'fatal_y/n',\n",
       "       'species'],\n",
       "      dtype='object')"
      ]
     },
     "execution_count": 47,
     "metadata": {},
     "output_type": "execute_result"
    }
   ],
   "source": [
    "shark_df.columns"
   ]
  },
  {
   "cell_type": "code",
   "execution_count": 48,
   "id": "3495713d",
   "metadata": {},
   "outputs": [
    {
     "name": "stdout",
     "output_type": "stream",
     "text": [
      "Requirement already satisfied: plotly in c:\\users\\marle\\appdata\\local\\programs\\python\\python312\\lib\\site-packages (6.3.1)\n",
      "Requirement already satisfied: narwhals>=1.15.1 in c:\\users\\marle\\appdata\\local\\programs\\python\\python312\\lib\\site-packages (from plotly) (2.10.0)\n",
      "Requirement already satisfied: packaging in c:\\users\\marle\\appdata\\roaming\\python\\python312\\site-packages (from plotly) (25.0)\n"
     ]
    },
    {
     "name": "stderr",
     "output_type": "stream",
     "text": [
      "\n",
      "[notice] A new release of pip is available: 24.3.1 -> 25.3\n",
      "[notice] To update, run: python.exe -m pip install --upgrade pip\n"
     ]
    }
   ],
   "source": [
    "!pip install plotly"
   ]
  },
  {
   "cell_type": "code",
   "execution_count": 61,
   "id": "e55c4617",
   "metadata": {},
   "outputs": [
    {
     "data": {
      "text/plain": [
       "year    country  fatal_y/n\n",
       "2015.0  usa      n            56\n",
       "2012.0  usa      n            54\n",
       "2007.0  usa      n            54\n",
       "2016.0  usa      n            54\n",
       "2014.0  usa      n            53\n",
       "2017.0  usa      n            52\n",
       "2013.0  usa      n            51\n",
       "2019.0  usa      n            50\n",
       "2001.0  usa      n            50\n",
       "2008.0  usa      n            49\n",
       "dtype: int64"
      ]
     },
     "execution_count": 61,
     "metadata": {},
     "output_type": "execute_result"
    }
   ],
   "source": [
    "# Análisis por YEAR - COUNTRY\n",
    "\n",
    "year_analysis_cols = ['year', 'country', 'fatal_y/n']\n",
    "dupe_mask1 = shark_df.duplicated(subset=year_analysis_cols, keep=False)\n",
    "shark_df[dupe_mask1].sort_values(by=year_analysis_cols)\n",
    "\n",
    "# Cuántas veces se repite cada combinación de las columnas clave\n",
    "shark_df.groupby(year_analysis_cols).size().sort_values(ascending=False).head(10)"
   ]
  },
  {
   "cell_type": "code",
   "execution_count": 50,
   "id": "848a6c10",
   "metadata": {},
   "outputs": [
    {
     "data": {
      "text/html": [
       "<div>\n",
       "<style scoped>\n",
       "    .dataframe tbody tr th:only-of-type {\n",
       "        vertical-align: middle;\n",
       "    }\n",
       "\n",
       "    .dataframe tbody tr th {\n",
       "        vertical-align: top;\n",
       "    }\n",
       "\n",
       "    .dataframe thead th {\n",
       "        text-align: right;\n",
       "    }\n",
       "</style>\n",
       "<table border=\"1\" class=\"dataframe\">\n",
       "  <thead>\n",
       "    <tr style=\"text-align: right;\">\n",
       "      <th></th>\n",
       "      <th>year</th>\n",
       "      <th>country</th>\n",
       "      <th>fatal_y/n</th>\n",
       "      <th>attack_count</th>\n",
       "    </tr>\n",
       "  </thead>\n",
       "  <tbody>\n",
       "    <tr>\n",
       "      <th>0</th>\n",
       "      <td>2000.0</td>\n",
       "      <td>australia</td>\n",
       "      <td>n</td>\n",
       "      <td>8</td>\n",
       "    </tr>\n",
       "    <tr>\n",
       "      <th>1</th>\n",
       "      <td>2000.0</td>\n",
       "      <td>australia</td>\n",
       "      <td>y</td>\n",
       "      <td>3</td>\n",
       "    </tr>\n",
       "    <tr>\n",
       "      <th>2</th>\n",
       "      <td>2000.0</td>\n",
       "      <td>new caledonia</td>\n",
       "      <td>y</td>\n",
       "      <td>1</td>\n",
       "    </tr>\n",
       "    <tr>\n",
       "      <th>3</th>\n",
       "      <td>2000.0</td>\n",
       "      <td>new zealand</td>\n",
       "      <td>n</td>\n",
       "      <td>1</td>\n",
       "    </tr>\n",
       "    <tr>\n",
       "      <th>4</th>\n",
       "      <td>2000.0</td>\n",
       "      <td>new zealand</td>\n",
       "      <td>y</td>\n",
       "      <td>1</td>\n",
       "    </tr>\n",
       "  </tbody>\n",
       "</table>\n",
       "</div>"
      ],
      "text/plain": [
       "     year        country fatal_y/n  attack_count\n",
       "0  2000.0      australia         n             8\n",
       "1  2000.0      australia         y             3\n",
       "2  2000.0  new caledonia         y             1\n",
       "3  2000.0    new zealand         n             1\n",
       "4  2000.0    new zealand         y             1"
      ]
     },
     "execution_count": 50,
     "metadata": {},
     "output_type": "execute_result"
    }
   ],
   "source": [
    "# Agrupamos los datos y contamos los ataques\n",
    "shark_summary = (shark_df.groupby(year_analysis_cols).size().reset_index(name=\"attack_count\"))\n",
    "\n",
    "shark_summary.head()"
   ]
  },
  {
   "cell_type": "code",
   "execution_count": 64,
   "id": "7cc2a1ef",
   "metadata": {},
   "outputs": [
    {
     "data": {
      "application/vnd.plotly.v1+json": {
       "config": {
        "plotlyServerURL": "https://plot.ly"
       },
       "data": [
        {
         "hovertemplate": "Fatalidad=n<br>country=australia<br>Año=%{x}<br>Nº de ataques=%{y}<extra></extra>",
         "legendgroup": "n",
         "marker": {
          "color": "#636efa",
          "pattern": {
           "shape": ""
          }
         },
         "name": "n",
         "orientation": "v",
         "showlegend": true,
         "textposition": "auto",
         "type": "bar",
         "x": {
          "bdata": "AAAAAABAn0AAAAAAAESfQAAAAAAASJ9AAAAAAABMn0AAAAAAAFCfQAAAAAAAVJ9AAAAAAABYn0AAAAAAAFyfQAAAAAAAYJ9AAAAAAABkn0AAAAAAAGifQAAAAAAAbJ9AAAAAAABwn0AAAAAAAHSfQAAAAAAAeJ9AAAAAAAB8n0AAAAAAAICfQAAAAAAAhJ9AAAAAAACIn0AAAAAAAIyfQAAAAAAAkJ9AAAAAAACUn0AAAAAAAJifQAAAAAAAnJ9AAAAAAACgn0AAAAAAAKSfQA==",
          "dtype": "f8"
         },
         "xaxis": "x10",
         "y": {
          "bdata": "CAUHCQoNCQ8HFg4KEg0PFRUTGxAREBMPDA4=",
          "dtype": "i1"
         },
         "yaxis": "y10"
        },
        {
         "hovertemplate": "Fatalidad=n<br>country=new caledonia<br>Año=%{x}<br>Nº de ataques=%{y}<extra></extra>",
         "legendgroup": "n",
         "marker": {
          "color": "#636efa",
          "pattern": {
           "shape": ""
          }
         },
         "name": "n",
         "orientation": "v",
         "showlegend": false,
         "textposition": "auto",
         "type": "bar",
         "x": {
          "bdata": "AAAAAABQn0AAAAAAAFSfQAAAAAAAXJ9AAAAAAABgn0AAAAAAAGyfQAAAAAAAdJ9AAAAAAAB4n0AAAAAAAICfQAAAAAAAjJ9AAAAAAACQn0AAAAAAAJSfQAAAAAAAnJ9A",
          "dtype": "f8"
         },
         "xaxis": "x11",
         "y": {
          "bdata": "AQEDAgEBAQIBAQEB",
          "dtype": "i1"
         },
         "yaxis": "y11"
        },
        {
         "hovertemplate": "Fatalidad=n<br>country=new zealand<br>Año=%{x}<br>Nº de ataques=%{y}<extra></extra>",
         "legendgroup": "n",
         "marker": {
          "color": "#636efa",
          "pattern": {
           "shape": ""
          }
         },
         "name": "n",
         "orientation": "v",
         "showlegend": false,
         "textposition": "auto",
         "type": "bar",
         "x": {
          "bdata": "AAAAAABAn0AAAAAAAEyfQAAAAAAAUJ9AAAAAAABYn0AAAAAAAFyfQAAAAAAAYJ9AAAAAAABkn0AAAAAAAGifQAAAAAAAbJ9AAAAAAABwn0AAAAAAAHSfQAAAAAAAeJ9AAAAAAACEn0AAAAAAAIifQAAAAAAAjJ9AAAAAAACQn0AAAAAAAJSfQAAAAAAAmJ9AAAAAAACcn0A=",
          "dtype": "f8"
         },
         "xaxis": "x12",
         "y": {
          "bdata": "AQICAQEBAgEBAgECAQMCAgMCAg==",
          "dtype": "i1"
         },
         "yaxis": "y12"
        },
        {
         "hovertemplate": "Fatalidad=n<br>country=reunion<br>Año=%{x}<br>Nº de ataques=%{y}<extra></extra>",
         "legendgroup": "n",
         "marker": {
          "color": "#636efa",
          "pattern": {
           "shape": ""
          }
         },
         "name": "n",
         "orientation": "v",
         "showlegend": false,
         "textposition": "auto",
         "type": "bar",
         "x": {
          "bdata": "AAAAAABAn0AAAAAAAFCfQAAAAAAAWJ9AAAAAAABon0AAAAAAAGyfQAAAAAAAcJ9AAAAAAAB0n0AAAAAAAHifQAAAAAAAfJ9A",
          "dtype": "f8"
         },
         "xaxis": "x7",
         "y": {
          "bdata": "AQIBAQMCAQEB",
          "dtype": "i1"
         },
         "yaxis": "y7"
        },
        {
         "hovertemplate": "Fatalidad=n<br>country=south africa<br>Año=%{x}<br>Nº de ataques=%{y}<extra></extra>",
         "legendgroup": "n",
         "marker": {
          "color": "#636efa",
          "pattern": {
           "shape": ""
          }
         },
         "name": "n",
         "orientation": "v",
         "showlegend": false,
         "textposition": "auto",
         "type": "bar",
         "x": {
          "bdata": "AAAAAABAn0AAAAAAAESfQAAAAAAASJ9AAAAAAABMn0AAAAAAAFCfQAAAAAAAVJ9AAAAAAABYn0AAAAAAAFyfQAAAAAAAYJ9AAAAAAABkn0AAAAAAAGifQAAAAAAAbJ9AAAAAAABwn0AAAAAAAHSfQAAAAAAAeJ9AAAAAAAB8n0AAAAAAAICfQAAAAAAAhJ9AAAAAAACIn0AAAAAAAIyfQAAAAAAAkJ9AAAAAAACUn0AAAAAAAJyfQA==",
          "dtype": "f8"
         },
         "xaxis": "x8",
         "y": {
          "bdata": "BQMFAgYFCAIEAwUGAQUCCAMCBQIBAgI=",
          "dtype": "i1"
         },
         "yaxis": "y8"
        },
        {
         "hovertemplate": "Fatalidad=n<br>country=usa<br>Año=%{x}<br>Nº de ataques=%{y}<extra></extra>",
         "legendgroup": "n",
         "marker": {
          "color": "#636efa",
          "pattern": {
           "shape": ""
          }
         },
         "name": "n",
         "orientation": "v",
         "showlegend": false,
         "textposition": "auto",
         "type": "bar",
         "x": {
          "bdata": "AAAAAABAn0AAAAAAAESfQAAAAAAASJ9AAAAAAABMn0AAAAAAAFCfQAAAAAAAVJ9AAAAAAABYn0AAAAAAAFyfQAAAAAAAYJ9AAAAAAABkn0AAAAAAAGifQAAAAAAAbJ9AAAAAAABwn0AAAAAAAHSfQAAAAAAAeJ9AAAAAAAB8n0AAAAAAAICfQAAAAAAAhJ9AAAAAAACIn0AAAAAAAIyfQAAAAAAAkJ9AAAAAAACUn0AAAAAAAJifQAAAAAAAnJ9AAAAAAACgn0AAAAAAAKSfQA==",
          "dtype": "f8"
         },
         "xaxis": "x9",
         "y": {
          "bdata": "LTIsLR4nLDYxIB0oNjM1ODY0HjIlLyglDw4=",
          "dtype": "i1"
         },
         "yaxis": "y9"
        },
        {
         "hovertemplate": "Fatalidad=n<br>country=bahamas<br>Año=%{x}<br>Nº de ataques=%{y}<extra></extra>",
         "legendgroup": "n",
         "marker": {
          "color": "#636efa",
          "pattern": {
           "shape": ""
          }
         },
         "name": "n",
         "orientation": "v",
         "showlegend": false,
         "textposition": "auto",
         "type": "bar",
         "x": {
          "bdata": "AAAAAABEn0AAAAAAAEifQAAAAAAATJ9AAAAAAABUn0AAAAAAAFifQAAAAAAAXJ9AAAAAAABgn0AAAAAAAGSfQAAAAAAAaJ9AAAAAAABsn0AAAAAAAHCfQAAAAAAAdJ9AAAAAAAB4n0AAAAAAAHyfQAAAAAAAgJ9AAAAAAACEn0AAAAAAAIifQAAAAAAAjJ9AAAAAAACQn0AAAAAAAKCfQAAAAAAApJ9A",
          "dtype": "f8"
         },
         "xaxis": "x4",
         "y": {
          "bdata": "AwECAQICAQECAgEEAQICBgYCAwIC",
          "dtype": "i1"
         },
         "yaxis": "y4"
        },
        {
         "hovertemplate": "Fatalidad=n<br>country=brazil<br>Año=%{x}<br>Nº de ataques=%{y}<extra></extra>",
         "legendgroup": "n",
         "marker": {
          "color": "#636efa",
          "pattern": {
           "shape": ""
          }
         },
         "name": "n",
         "orientation": "v",
         "showlegend": false,
         "textposition": "auto",
         "type": "bar",
         "x": {
          "bdata": "AAAAAABEn0AAAAAAAEifQAAAAAAATJ9AAAAAAABQn0AAAAAAAFSfQAAAAAAAWJ9AAAAAAABcn0AAAAAAAGCfQAAAAAAAaJ9AAAAAAABsn0AAAAAAAHyfQAAAAAAAgJ9AAAAAAACEn0AAAAAAAIifQAAAAAAAjJ9AAAAAAACUn0AAAAAAAJyfQA==",
          "dtype": "f8"
         },
         "xaxis": "x5",
         "y": {
          "bdata": "AQMDBAECAQMBAgECAQEBAwM=",
          "dtype": "i1"
         },
         "yaxis": "y5"
        },
        {
         "hovertemplate": "Fatalidad=n<br>country=mexico<br>Año=%{x}<br>Nº de ataques=%{y}<extra></extra>",
         "legendgroup": "n",
         "marker": {
          "color": "#636efa",
          "pattern": {
           "shape": ""
          }
         },
         "name": "n",
         "orientation": "v",
         "showlegend": false,
         "textposition": "auto",
         "type": "bar",
         "x": {
          "bdata": "AAAAAABEn0AAAAAAAFSfQAAAAAAAYJ9AAAAAAABsn0AAAAAAAHCfQAAAAAAAdJ9AAAAAAACMn0AAAAAAAJSfQA==",
          "dtype": "f8"
         },
         "xaxis": "x6",
         "y": {
          "bdata": "AgEDBAECAgE=",
          "dtype": "i1"
         },
         "yaxis": "y6"
        },
        {
         "hovertemplate": "Fatalidad=n<br>country=french polynesia<br>Año=%{x}<br>Nº de ataques=%{y}<extra></extra>",
         "legendgroup": "n",
         "marker": {
          "color": "#636efa",
          "pattern": {
           "shape": ""
          }
         },
         "name": "n",
         "orientation": "v",
         "showlegend": false,
         "textposition": "auto",
         "type": "bar",
         "x": {
          "bdata": "AAAAAABIn0AAAAAAAEyfQAAAAAAAYJ9AAAAAAABsn0AAAAAAAHCfQAAAAAAAdJ9AAAAAAAB4n0AAAAAAAHyfQAAAAAAAgJ9AAAAAAACEn0AAAAAAAJCfQAAAAAAAlJ9AAAAAAACYn0AAAAAAAJyfQAAAAAAAoJ9AAAAAAACkn0A=",
          "dtype": "f8"
         },
         "xaxis": "x",
         "y": {
          "bdata": "AQEBAQECAgMBAQMCAgEBAQ==",
          "dtype": "i1"
         },
         "yaxis": "y"
        },
        {
         "hovertemplate": "Fatalidad=n<br>country=egypt<br>Año=%{x}<br>Nº de ataques=%{y}<extra></extra>",
         "legendgroup": "n",
         "marker": {
          "color": "#636efa",
          "pattern": {
           "shape": ""
          }
         },
         "name": "n",
         "orientation": "v",
         "showlegend": false,
         "textposition": "auto",
         "type": "bar",
         "x": {
          "bdata": "AAAAAABMn0AAAAAAAFCfQAAAAAAAXJ9AAAAAAABgn0AAAAAAAGSfQAAAAAAAaJ9AAAAAAACAn0AAAAAAAISfQAAAAAAAkJ9AAAAAAACcn0AAAAAAAKCfQA==",
          "dtype": "f8"
         },
         "xaxis": "x2",
         "y": {
          "bdata": "AQEBAQIGAQECAQE=",
          "dtype": "i1"
         },
         "yaxis": "y2"
        },
        {
         "hovertemplate": "Fatalidad=y<br>country=australia<br>Año=%{x}<br>Nº de ataques=%{y}<extra></extra>",
         "legendgroup": "y",
         "marker": {
          "color": "#EF553B",
          "pattern": {
           "shape": ""
          }
         },
         "name": "y",
         "orientation": "v",
         "showlegend": true,
         "textposition": "auto",
         "type": "bar",
         "x": {
          "bdata": "AAAAAABAn0AAAAAAAEifQAAAAAAATJ9AAAAAAABQn0AAAAAAAFSfQAAAAAAAWJ9AAAAAAABgn0AAAAAAAGifQAAAAAAAbJ9AAAAAAABwn0AAAAAAAHSfQAAAAAAAeJ9AAAAAAAB8n0AAAAAAAICfQAAAAAAAhJ9AAAAAAACIn0AAAAAAAJCfQAAAAAAAlJ9AAAAAAACYn0AAAAAAAJyfQAAAAAAAoJ9AAAAAAACkn0A=",
          "dtype": "f8"
         },
         "xaxis": "x10",
         "y": {
          "bdata": "AwIBAwIBAgEEAgIFAgIBAQgEAQQBBA==",
          "dtype": "i1"
         },
         "yaxis": "y10"
        },
        {
         "hovertemplate": "Fatalidad=y<br>country=new caledonia<br>Año=%{x}<br>Nº de ataques=%{y}<extra></extra>",
         "legendgroup": "y",
         "marker": {
          "color": "#EF553B",
          "pattern": {
           "shape": ""
          }
         },
         "name": "y",
         "orientation": "v",
         "showlegend": false,
         "textposition": "auto",
         "type": "bar",
         "x": {
          "bdata": "AAAAAABAn0AAAAAAAFyfQAAAAAAAZJ9AAAAAAABsn0AAAAAAAICfQAAAAAAAjJ9AAAAAAACQn0AAAAAAAJyfQAAAAAAApJ9A",
          "dtype": "f8"
         },
         "xaxis": "x11",
         "y": {
          "bdata": "AQEBAQIBAQEB",
          "dtype": "i1"
         },
         "yaxis": "y11"
        },
        {
         "hovertemplate": "Fatalidad=y<br>country=new zealand<br>Año=%{x}<br>Nº de ataques=%{y}<extra></extra>",
         "legendgroup": "y",
         "marker": {
          "color": "#EF553B",
          "pattern": {
           "shape": ""
          }
         },
         "name": "y",
         "orientation": "v",
         "showlegend": false,
         "textposition": "auto",
         "type": "bar",
         "x": {
          "bdata": "AAAAAABAn0AAAAAAAEyfQAAAAAAAZJ9AAAAAAAB0n0AAAAAAAJSfQAAAAAAAoJ9A",
          "dtype": "f8"
         },
         "xaxis": "x12",
         "y": {
          "bdata": "AQEBAQEB",
          "dtype": "i1"
         },
         "yaxis": "y12"
        },
        {
         "hovertemplate": "Fatalidad=y<br>country=reunion<br>Año=%{x}<br>Nº de ataques=%{y}<extra></extra>",
         "legendgroup": "y",
         "marker": {
          "color": "#EF553B",
          "pattern": {
           "shape": ""
          }
         },
         "name": "y",
         "orientation": "v",
         "showlegend": false,
         "textposition": "auto",
         "type": "bar",
         "x": {
          "bdata": "AAAAAABYn0AAAAAAAGyfQAAAAAAAcJ9AAAAAAAB0n0AAAAAAAHyfQAAAAAAAhJ9A",
          "dtype": "f8"
         },
         "xaxis": "x7",
         "y": {
          "bdata": "AQIBAgIC",
          "dtype": "i1"
         },
         "yaxis": "y7"
        },
        {
         "hovertemplate": "Fatalidad=y<br>country=south africa<br>Año=%{x}<br>Nº de ataques=%{y}<extra></extra>",
         "legendgroup": "y",
         "marker": {
          "color": "#EF553B",
          "pattern": {
           "shape": ""
          }
         },
         "name": "y",
         "orientation": "v",
         "showlegend": false,
         "textposition": "auto",
         "type": "bar",
         "x": {
          "bdata": "AAAAAABMn0AAAAAAAFCfQAAAAAAAVJ9AAAAAAABcn0AAAAAAAGSfQAAAAAAAaJ9AAAAAAABsn0AAAAAAAHCfQAAAAAAAdJ9AAAAAAAB4n0AAAAAAAISfQAAAAAAAlJ9AAAAAAACYn0AAAAAAAKSfQA==",
          "dtype": "f8"
         },
         "xaxis": "x8",
         "y": {
          "bdata": "AgIBAQUCAwMBAQEBAgE=",
          "dtype": "i1"
         },
         "yaxis": "y8"
        },
        {
         "hovertemplate": "Fatalidad=y<br>country=usa<br>Año=%{x}<br>Nº de ataques=%{y}<extra></extra>",
         "legendgroup": "y",
         "marker": {
          "color": "#EF553B",
          "pattern": {
           "shape": ""
          }
         },
         "name": "y",
         "orientation": "v",
         "showlegend": false,
         "textposition": "auto",
         "type": "bar",
         "x": {
          "bdata": "AAAAAABAn0AAAAAAAESfQAAAAAAATJ9AAAAAAABQn0AAAAAAAFSfQAAAAAAAYJ9AAAAAAABon0AAAAAAAHCfQAAAAAAAdJ9AAAAAAAB8n0AAAAAAAIifQAAAAAAAjJ9AAAAAAACQn0AAAAAAAJSfQAAAAAAAmJ9AAAAAAACcn0A=",
          "dtype": "f8"
         },
         "xaxis": "x9",
         "y": {
          "bdata": "AQIBAgIBAgECAQEBAwICAg==",
          "dtype": "i1"
         },
         "yaxis": "y9"
        },
        {
         "hovertemplate": "Fatalidad=y<br>country=bahamas<br>Año=%{x}<br>Nº de ataques=%{y}<extra></extra>",
         "legendgroup": "y",
         "marker": {
          "color": "#EF553B",
          "pattern": {
           "shape": ""
          }
         },
         "name": "y",
         "orientation": "v",
         "showlegend": false,
         "textposition": "auto",
         "type": "bar",
         "x": {
          "bdata": "AAAAAABgn0AAAAAAAIyfQAAAAAAAnJ9A",
          "dtype": "f8"
         },
         "xaxis": "x4",
         "y": {
          "bdata": "AQEC",
          "dtype": "i1"
         },
         "yaxis": "y4"
        },
        {
         "hovertemplate": "Fatalidad=y<br>country=brazil<br>Año=%{x}<br>Nº de ataques=%{y}<extra></extra>",
         "legendgroup": "y",
         "marker": {
          "color": "#EF553B",
          "pattern": {
           "shape": ""
          }
         },
         "name": "y",
         "orientation": "v",
         "showlegend": false,
         "textposition": "auto",
         "type": "bar",
         "x": {
          "bdata": "AAAAAABEn0AAAAAAAEifQAAAAAAATJ9AAAAAAABQn0AAAAAAAFifQAAAAAAAZJ9AAAAAAABwn0AAAAAAAHSfQAAAAAAAiJ9AAAAAAACUn0A=",
          "dtype": "f8"
         },
         "xaxis": "x5",
         "y": {
          "bdata": "AQQBAwIBAQIBAQ==",
          "dtype": "i1"
         },
         "yaxis": "y5"
        },
        {
         "hovertemplate": "Fatalidad=y<br>country=mexico<br>Año=%{x}<br>Nº de ataques=%{y}<extra></extra>",
         "legendgroup": "y",
         "marker": {
          "color": "#EF553B",
          "pattern": {
           "shape": ""
          }
         },
         "name": "y",
         "orientation": "v",
         "showlegend": false,
         "textposition": "auto",
         "type": "bar",
         "x": {
          "bdata": "AAAAAABgn0AAAAAAAHCfQAAAAAAAhJ9AAAAAAACIn0AAAAAAAJifQAAAAAAAnJ9A",
          "dtype": "f8"
         },
         "xaxis": "x6",
         "y": {
          "bdata": "AgEBAQED",
          "dtype": "i1"
         },
         "yaxis": "y6"
        },
        {
         "hovertemplate": "Fatalidad=y<br>country=egypt<br>Año=%{x}<br>Nº de ataques=%{y}<extra></extra>",
         "legendgroup": "y",
         "marker": {
          "color": "#EF553B",
          "pattern": {
           "shape": ""
          }
         },
         "name": "y",
         "orientation": "v",
         "showlegend": false,
         "textposition": "auto",
         "type": "bar",
         "x": {
          "bdata": "AAAAAABkn0AAAAAAAGifQAAAAAAAfJ9AAAAAAACYn0AAAAAAAJyfQAAAAAAAoJ9A",
          "dtype": "f8"
         },
         "xaxis": "x2",
         "y": {
          "bdata": "AQEBAgEB",
          "dtype": "i1"
         },
         "yaxis": "y2"
        },
        {
         "hovertemplate": "Fatalidad=unknown<br>country=australia<br>Año=%{x}<br>Nº de ataques=%{y}<extra></extra>",
         "legendgroup": "unknown",
         "marker": {
          "color": "#00cc96",
          "pattern": {
           "shape": ""
          }
         },
         "name": "unknown",
         "orientation": "v",
         "showlegend": true,
         "textposition": "auto",
         "type": "bar",
         "x": {
          "bdata": "AAAAAABgn0AAAAAAAICfQAAAAAAAjJ9AAAAAAACQn0AAAAAAAJyfQA==",
          "dtype": "f8"
         },
         "xaxis": "x10",
         "y": {
          "bdata": "AQEBAQE=",
          "dtype": "i1"
         },
         "yaxis": "y10"
        },
        {
         "hovertemplate": "Fatalidad=unknown<br>country=new caledonia<br>Año=%{x}<br>Nº de ataques=%{y}<extra></extra>",
         "legendgroup": "unknown",
         "marker": {
          "color": "#00cc96",
          "pattern": {
           "shape": ""
          }
         },
         "name": "unknown",
         "orientation": "v",
         "showlegend": false,
         "textposition": "auto",
         "type": "bar",
         "x": {
          "bdata": "AAAAAACcn0A=",
          "dtype": "f8"
         },
         "xaxis": "x11",
         "y": {
          "bdata": "AQ==",
          "dtype": "i1"
         },
         "yaxis": "y11"
        },
        {
         "hovertemplate": "Fatalidad=unknown<br>country=usa<br>Año=%{x}<br>Nº de ataques=%{y}<extra></extra>",
         "legendgroup": "unknown",
         "marker": {
          "color": "#00cc96",
          "pattern": {
           "shape": ""
          }
         },
         "name": "unknown",
         "orientation": "v",
         "showlegend": false,
         "textposition": "auto",
         "type": "bar",
         "x": {
          "bdata": "AAAAAAB0n0AAAAAAAICfQAAAAAAAoJ9A",
          "dtype": "f8"
         },
         "xaxis": "x9",
         "y": {
          "bdata": "AQEB",
          "dtype": "i1"
         },
         "yaxis": "y9"
        },
        {
         "hovertemplate": "Fatalidad=unknown<br>country=bahamas<br>Año=%{x}<br>Nº de ataques=%{y}<extra></extra>",
         "legendgroup": "unknown",
         "marker": {
          "color": "#00cc96",
          "pattern": {
           "shape": ""
          }
         },
         "name": "unknown",
         "orientation": "v",
         "showlegend": false,
         "textposition": "auto",
         "type": "bar",
         "x": {
          "bdata": "AAAAAACcn0A=",
          "dtype": "f8"
         },
         "xaxis": "x4",
         "y": {
          "bdata": "AQ==",
          "dtype": "i1"
         },
         "yaxis": "y4"
        },
        {
         "hovertemplate": "Fatalidad=unknown<br>country=brazil<br>Año=%{x}<br>Nº de ataques=%{y}<extra></extra>",
         "legendgroup": "unknown",
         "marker": {
          "color": "#00cc96",
          "pattern": {
           "shape": ""
          }
         },
         "name": "unknown",
         "orientation": "v",
         "showlegend": false,
         "textposition": "auto",
         "type": "bar",
         "x": {
          "bdata": "AAAAAACIn0AAAAAAAJSfQA==",
          "dtype": "f8"
         },
         "xaxis": "x5",
         "y": {
          "bdata": "AQE=",
          "dtype": "i1"
         },
         "yaxis": "y5"
        },
        {
         "hovertemplate": "Fatalidad=unknown<br>country=french polynesia<br>Año=%{x}<br>Nº de ataques=%{y}<extra></extra>",
         "legendgroup": "unknown",
         "marker": {
          "color": "#00cc96",
          "pattern": {
           "shape": ""
          }
         },
         "name": "unknown",
         "orientation": "v",
         "showlegend": false,
         "textposition": "auto",
         "type": "bar",
         "x": {
          "bdata": "AAAAAACMn0A=",
          "dtype": "f8"
         },
         "xaxis": "x",
         "y": {
          "bdata": "AQ==",
          "dtype": "i1"
         },
         "yaxis": "y"
        }
       ],
       "layout": {
        "annotations": [
         {
          "font": {},
          "showarrow": false,
          "text": "country=french polynesia",
          "x": 0.15999999999999998,
          "xanchor": "center",
          "xref": "paper",
          "y": 0.1975,
          "yanchor": "bottom",
          "yref": "paper"
         },
         {
          "font": {},
          "showarrow": false,
          "text": "country=egypt",
          "x": 0.49999999999999994,
          "xanchor": "center",
          "xref": "paper",
          "y": 0.1975,
          "yanchor": "bottom",
          "yref": "paper"
         },
         {
          "font": {},
          "showarrow": false,
          "text": "country=bahamas",
          "x": 0.15999999999999998,
          "xanchor": "center",
          "xref": "paper",
          "y": 0.465,
          "yanchor": "bottom",
          "yref": "paper"
         },
         {
          "font": {},
          "showarrow": false,
          "text": "country=brazil",
          "x": 0.49999999999999994,
          "xanchor": "center",
          "xref": "paper",
          "y": 0.465,
          "yanchor": "bottom",
          "yref": "paper"
         },
         {
          "font": {},
          "showarrow": false,
          "text": "country=mexico",
          "x": 0.8399999999999999,
          "xanchor": "center",
          "xref": "paper",
          "y": 0.465,
          "yanchor": "bottom",
          "yref": "paper"
         },
         {
          "font": {},
          "showarrow": false,
          "text": "country=reunion",
          "x": 0.15999999999999998,
          "xanchor": "center",
          "xref": "paper",
          "y": 0.7325,
          "yanchor": "bottom",
          "yref": "paper"
         },
         {
          "font": {},
          "showarrow": false,
          "text": "country=south africa",
          "x": 0.49999999999999994,
          "xanchor": "center",
          "xref": "paper",
          "y": 0.7325,
          "yanchor": "bottom",
          "yref": "paper"
         },
         {
          "font": {},
          "showarrow": false,
          "text": "country=usa",
          "x": 0.8399999999999999,
          "xanchor": "center",
          "xref": "paper",
          "y": 0.7325,
          "yanchor": "bottom",
          "yref": "paper"
         },
         {
          "font": {},
          "showarrow": false,
          "text": "country=australia",
          "x": 0.15999999999999998,
          "xanchor": "center",
          "xref": "paper",
          "y": 1,
          "yanchor": "bottom",
          "yref": "paper"
         },
         {
          "font": {},
          "showarrow": false,
          "text": "country=new caledonia",
          "x": 0.49999999999999994,
          "xanchor": "center",
          "xref": "paper",
          "y": 1,
          "yanchor": "bottom",
          "yref": "paper"
         },
         {
          "font": {},
          "showarrow": false,
          "text": "country=new zealand",
          "x": 0.8399999999999999,
          "xanchor": "center",
          "xref": "paper",
          "y": 1,
          "yanchor": "bottom",
          "yref": "paper"
         }
        ],
        "barmode": "relative",
        "height": 600,
        "legend": {
         "title": {
          "text": "Fatalidad"
         },
         "tracegroupgap": 0
        },
        "template": {
         "data": {
          "bar": [
           {
            "error_x": {
             "color": "#2a3f5f"
            },
            "error_y": {
             "color": "#2a3f5f"
            },
            "marker": {
             "line": {
              "color": "#E5ECF6",
              "width": 0.5
             },
             "pattern": {
              "fillmode": "overlay",
              "size": 10,
              "solidity": 0.2
             }
            },
            "type": "bar"
           }
          ],
          "barpolar": [
           {
            "marker": {
             "line": {
              "color": "#E5ECF6",
              "width": 0.5
             },
             "pattern": {
              "fillmode": "overlay",
              "size": 10,
              "solidity": 0.2
             }
            },
            "type": "barpolar"
           }
          ],
          "carpet": [
           {
            "aaxis": {
             "endlinecolor": "#2a3f5f",
             "gridcolor": "white",
             "linecolor": "white",
             "minorgridcolor": "white",
             "startlinecolor": "#2a3f5f"
            },
            "baxis": {
             "endlinecolor": "#2a3f5f",
             "gridcolor": "white",
             "linecolor": "white",
             "minorgridcolor": "white",
             "startlinecolor": "#2a3f5f"
            },
            "type": "carpet"
           }
          ],
          "choropleth": [
           {
            "colorbar": {
             "outlinewidth": 0,
             "ticks": ""
            },
            "type": "choropleth"
           }
          ],
          "contour": [
           {
            "colorbar": {
             "outlinewidth": 0,
             "ticks": ""
            },
            "colorscale": [
             [
              0,
              "#0d0887"
             ],
             [
              0.1111111111111111,
              "#46039f"
             ],
             [
              0.2222222222222222,
              "#7201a8"
             ],
             [
              0.3333333333333333,
              "#9c179e"
             ],
             [
              0.4444444444444444,
              "#bd3786"
             ],
             [
              0.5555555555555556,
              "#d8576b"
             ],
             [
              0.6666666666666666,
              "#ed7953"
             ],
             [
              0.7777777777777778,
              "#fb9f3a"
             ],
             [
              0.8888888888888888,
              "#fdca26"
             ],
             [
              1,
              "#f0f921"
             ]
            ],
            "type": "contour"
           }
          ],
          "contourcarpet": [
           {
            "colorbar": {
             "outlinewidth": 0,
             "ticks": ""
            },
            "type": "contourcarpet"
           }
          ],
          "heatmap": [
           {
            "colorbar": {
             "outlinewidth": 0,
             "ticks": ""
            },
            "colorscale": [
             [
              0,
              "#0d0887"
             ],
             [
              0.1111111111111111,
              "#46039f"
             ],
             [
              0.2222222222222222,
              "#7201a8"
             ],
             [
              0.3333333333333333,
              "#9c179e"
             ],
             [
              0.4444444444444444,
              "#bd3786"
             ],
             [
              0.5555555555555556,
              "#d8576b"
             ],
             [
              0.6666666666666666,
              "#ed7953"
             ],
             [
              0.7777777777777778,
              "#fb9f3a"
             ],
             [
              0.8888888888888888,
              "#fdca26"
             ],
             [
              1,
              "#f0f921"
             ]
            ],
            "type": "heatmap"
           }
          ],
          "histogram": [
           {
            "marker": {
             "pattern": {
              "fillmode": "overlay",
              "size": 10,
              "solidity": 0.2
             }
            },
            "type": "histogram"
           }
          ],
          "histogram2d": [
           {
            "colorbar": {
             "outlinewidth": 0,
             "ticks": ""
            },
            "colorscale": [
             [
              0,
              "#0d0887"
             ],
             [
              0.1111111111111111,
              "#46039f"
             ],
             [
              0.2222222222222222,
              "#7201a8"
             ],
             [
              0.3333333333333333,
              "#9c179e"
             ],
             [
              0.4444444444444444,
              "#bd3786"
             ],
             [
              0.5555555555555556,
              "#d8576b"
             ],
             [
              0.6666666666666666,
              "#ed7953"
             ],
             [
              0.7777777777777778,
              "#fb9f3a"
             ],
             [
              0.8888888888888888,
              "#fdca26"
             ],
             [
              1,
              "#f0f921"
             ]
            ],
            "type": "histogram2d"
           }
          ],
          "histogram2dcontour": [
           {
            "colorbar": {
             "outlinewidth": 0,
             "ticks": ""
            },
            "colorscale": [
             [
              0,
              "#0d0887"
             ],
             [
              0.1111111111111111,
              "#46039f"
             ],
             [
              0.2222222222222222,
              "#7201a8"
             ],
             [
              0.3333333333333333,
              "#9c179e"
             ],
             [
              0.4444444444444444,
              "#bd3786"
             ],
             [
              0.5555555555555556,
              "#d8576b"
             ],
             [
              0.6666666666666666,
              "#ed7953"
             ],
             [
              0.7777777777777778,
              "#fb9f3a"
             ],
             [
              0.8888888888888888,
              "#fdca26"
             ],
             [
              1,
              "#f0f921"
             ]
            ],
            "type": "histogram2dcontour"
           }
          ],
          "mesh3d": [
           {
            "colorbar": {
             "outlinewidth": 0,
             "ticks": ""
            },
            "type": "mesh3d"
           }
          ],
          "parcoords": [
           {
            "line": {
             "colorbar": {
              "outlinewidth": 0,
              "ticks": ""
             }
            },
            "type": "parcoords"
           }
          ],
          "pie": [
           {
            "automargin": true,
            "type": "pie"
           }
          ],
          "scatter": [
           {
            "fillpattern": {
             "fillmode": "overlay",
             "size": 10,
             "solidity": 0.2
            },
            "type": "scatter"
           }
          ],
          "scatter3d": [
           {
            "line": {
             "colorbar": {
              "outlinewidth": 0,
              "ticks": ""
             }
            },
            "marker": {
             "colorbar": {
              "outlinewidth": 0,
              "ticks": ""
             }
            },
            "type": "scatter3d"
           }
          ],
          "scattercarpet": [
           {
            "marker": {
             "colorbar": {
              "outlinewidth": 0,
              "ticks": ""
             }
            },
            "type": "scattercarpet"
           }
          ],
          "scattergeo": [
           {
            "marker": {
             "colorbar": {
              "outlinewidth": 0,
              "ticks": ""
             }
            },
            "type": "scattergeo"
           }
          ],
          "scattergl": [
           {
            "marker": {
             "colorbar": {
              "outlinewidth": 0,
              "ticks": ""
             }
            },
            "type": "scattergl"
           }
          ],
          "scattermap": [
           {
            "marker": {
             "colorbar": {
              "outlinewidth": 0,
              "ticks": ""
             }
            },
            "type": "scattermap"
           }
          ],
          "scattermapbox": [
           {
            "marker": {
             "colorbar": {
              "outlinewidth": 0,
              "ticks": ""
             }
            },
            "type": "scattermapbox"
           }
          ],
          "scatterpolar": [
           {
            "marker": {
             "colorbar": {
              "outlinewidth": 0,
              "ticks": ""
             }
            },
            "type": "scatterpolar"
           }
          ],
          "scatterpolargl": [
           {
            "marker": {
             "colorbar": {
              "outlinewidth": 0,
              "ticks": ""
             }
            },
            "type": "scatterpolargl"
           }
          ],
          "scatterternary": [
           {
            "marker": {
             "colorbar": {
              "outlinewidth": 0,
              "ticks": ""
             }
            },
            "type": "scatterternary"
           }
          ],
          "surface": [
           {
            "colorbar": {
             "outlinewidth": 0,
             "ticks": ""
            },
            "colorscale": [
             [
              0,
              "#0d0887"
             ],
             [
              0.1111111111111111,
              "#46039f"
             ],
             [
              0.2222222222222222,
              "#7201a8"
             ],
             [
              0.3333333333333333,
              "#9c179e"
             ],
             [
              0.4444444444444444,
              "#bd3786"
             ],
             [
              0.5555555555555556,
              "#d8576b"
             ],
             [
              0.6666666666666666,
              "#ed7953"
             ],
             [
              0.7777777777777778,
              "#fb9f3a"
             ],
             [
              0.8888888888888888,
              "#fdca26"
             ],
             [
              1,
              "#f0f921"
             ]
            ],
            "type": "surface"
           }
          ],
          "table": [
           {
            "cells": {
             "fill": {
              "color": "#EBF0F8"
             },
             "line": {
              "color": "white"
             }
            },
            "header": {
             "fill": {
              "color": "#C8D4E3"
             },
             "line": {
              "color": "white"
             }
            },
            "type": "table"
           }
          ]
         },
         "layout": {
          "annotationdefaults": {
           "arrowcolor": "#2a3f5f",
           "arrowhead": 0,
           "arrowwidth": 1
          },
          "autotypenumbers": "strict",
          "coloraxis": {
           "colorbar": {
            "outlinewidth": 0,
            "ticks": ""
           }
          },
          "colorscale": {
           "diverging": [
            [
             0,
             "#8e0152"
            ],
            [
             0.1,
             "#c51b7d"
            ],
            [
             0.2,
             "#de77ae"
            ],
            [
             0.3,
             "#f1b6da"
            ],
            [
             0.4,
             "#fde0ef"
            ],
            [
             0.5,
             "#f7f7f7"
            ],
            [
             0.6,
             "#e6f5d0"
            ],
            [
             0.7,
             "#b8e186"
            ],
            [
             0.8,
             "#7fbc41"
            ],
            [
             0.9,
             "#4d9221"
            ],
            [
             1,
             "#276419"
            ]
           ],
           "sequential": [
            [
             0,
             "#0d0887"
            ],
            [
             0.1111111111111111,
             "#46039f"
            ],
            [
             0.2222222222222222,
             "#7201a8"
            ],
            [
             0.3333333333333333,
             "#9c179e"
            ],
            [
             0.4444444444444444,
             "#bd3786"
            ],
            [
             0.5555555555555556,
             "#d8576b"
            ],
            [
             0.6666666666666666,
             "#ed7953"
            ],
            [
             0.7777777777777778,
             "#fb9f3a"
            ],
            [
             0.8888888888888888,
             "#fdca26"
            ],
            [
             1,
             "#f0f921"
            ]
           ],
           "sequentialminus": [
            [
             0,
             "#0d0887"
            ],
            [
             0.1111111111111111,
             "#46039f"
            ],
            [
             0.2222222222222222,
             "#7201a8"
            ],
            [
             0.3333333333333333,
             "#9c179e"
            ],
            [
             0.4444444444444444,
             "#bd3786"
            ],
            [
             0.5555555555555556,
             "#d8576b"
            ],
            [
             0.6666666666666666,
             "#ed7953"
            ],
            [
             0.7777777777777778,
             "#fb9f3a"
            ],
            [
             0.8888888888888888,
             "#fdca26"
            ],
            [
             1,
             "#f0f921"
            ]
           ]
          },
          "colorway": [
           "#636efa",
           "#EF553B",
           "#00cc96",
           "#ab63fa",
           "#FFA15A",
           "#19d3f3",
           "#FF6692",
           "#B6E880",
           "#FF97FF",
           "#FECB52"
          ],
          "font": {
           "color": "#2a3f5f"
          },
          "geo": {
           "bgcolor": "white",
           "lakecolor": "white",
           "landcolor": "#E5ECF6",
           "showlakes": true,
           "showland": true,
           "subunitcolor": "white"
          },
          "hoverlabel": {
           "align": "left"
          },
          "hovermode": "closest",
          "mapbox": {
           "style": "light"
          },
          "paper_bgcolor": "white",
          "plot_bgcolor": "#E5ECF6",
          "polar": {
           "angularaxis": {
            "gridcolor": "white",
            "linecolor": "white",
            "ticks": ""
           },
           "bgcolor": "#E5ECF6",
           "radialaxis": {
            "gridcolor": "white",
            "linecolor": "white",
            "ticks": ""
           }
          },
          "scene": {
           "xaxis": {
            "backgroundcolor": "#E5ECF6",
            "gridcolor": "white",
            "gridwidth": 2,
            "linecolor": "white",
            "showbackground": true,
            "ticks": "",
            "zerolinecolor": "white"
           },
           "yaxis": {
            "backgroundcolor": "#E5ECF6",
            "gridcolor": "white",
            "gridwidth": 2,
            "linecolor": "white",
            "showbackground": true,
            "ticks": "",
            "zerolinecolor": "white"
           },
           "zaxis": {
            "backgroundcolor": "#E5ECF6",
            "gridcolor": "white",
            "gridwidth": 2,
            "linecolor": "white",
            "showbackground": true,
            "ticks": "",
            "zerolinecolor": "white"
           }
          },
          "shapedefaults": {
           "line": {
            "color": "#2a3f5f"
           }
          },
          "ternary": {
           "aaxis": {
            "gridcolor": "white",
            "linecolor": "white",
            "ticks": ""
           },
           "baxis": {
            "gridcolor": "white",
            "linecolor": "white",
            "ticks": ""
           },
           "bgcolor": "#E5ECF6",
           "caxis": {
            "gridcolor": "white",
            "linecolor": "white",
            "ticks": ""
           }
          },
          "title": {
           "x": 0.05
          },
          "xaxis": {
           "automargin": true,
           "gridcolor": "white",
           "linecolor": "white",
           "ticks": "",
           "title": {
            "standoff": 15
           },
           "zerolinecolor": "white",
           "zerolinewidth": 2
          },
          "yaxis": {
           "automargin": true,
           "gridcolor": "white",
           "linecolor": "white",
           "ticks": "",
           "title": {
            "standoff": 15
           },
           "zerolinecolor": "white",
           "zerolinewidth": 2
          }
         }
        },
        "title": {
         "text": "Ataques de tiburón por año y país (divido por ataque fatal/no fatal)"
        },
        "xaxis": {
         "anchor": "y",
         "domain": [
          0,
          0.31999999999999995
         ],
         "title": {
          "text": "Año"
         }
        },
        "xaxis10": {
         "anchor": "y10",
         "domain": [
          0,
          0.31999999999999995
         ],
         "matches": "x",
         "showticklabels": false
        },
        "xaxis11": {
         "anchor": "y11",
         "domain": [
          0.33999999999999997,
          0.6599999999999999
         ],
         "matches": "x",
         "showticklabels": false
        },
        "xaxis12": {
         "anchor": "y12",
         "domain": [
          0.6799999999999999,
          0.9999999999999999
         ],
         "matches": "x",
         "showticklabels": false
        },
        "xaxis2": {
         "anchor": "y2",
         "domain": [
          0.33999999999999997,
          0.6599999999999999
         ],
         "matches": "x",
         "title": {
          "text": "Año"
         }
        },
        "xaxis3": {
         "anchor": "y3",
         "domain": [
          0.6799999999999999,
          0.9999999999999999
         ],
         "matches": "x",
         "title": {
          "text": "Año"
         }
        },
        "xaxis4": {
         "anchor": "y4",
         "domain": [
          0,
          0.31999999999999995
         ],
         "matches": "x",
         "showticklabels": false
        },
        "xaxis5": {
         "anchor": "y5",
         "domain": [
          0.33999999999999997,
          0.6599999999999999
         ],
         "matches": "x",
         "showticklabels": false
        },
        "xaxis6": {
         "anchor": "y6",
         "domain": [
          0.6799999999999999,
          0.9999999999999999
         ],
         "matches": "x",
         "showticklabels": false
        },
        "xaxis7": {
         "anchor": "y7",
         "domain": [
          0,
          0.31999999999999995
         ],
         "matches": "x",
         "showticklabels": false
        },
        "xaxis8": {
         "anchor": "y8",
         "domain": [
          0.33999999999999997,
          0.6599999999999999
         ],
         "matches": "x",
         "showticklabels": false
        },
        "xaxis9": {
         "anchor": "y9",
         "domain": [
          0.6799999999999999,
          0.9999999999999999
         ],
         "matches": "x",
         "showticklabels": false
        },
        "yaxis": {
         "anchor": "x",
         "domain": [
          0,
          0.1975
         ],
         "title": {
          "text": "Nº de ataques"
         }
        },
        "yaxis10": {
         "anchor": "x10",
         "domain": [
          0.8025,
          1
         ],
         "matches": "y",
         "title": {
          "text": "Nº de ataques"
         }
        },
        "yaxis11": {
         "anchor": "x11",
         "domain": [
          0.8025,
          1
         ],
         "matches": "y",
         "showticklabels": false
        },
        "yaxis12": {
         "anchor": "x12",
         "domain": [
          0.8025,
          1
         ],
         "matches": "y",
         "showticklabels": false
        },
        "yaxis2": {
         "anchor": "x2",
         "domain": [
          0,
          0.1975
         ],
         "matches": "y",
         "showticklabels": false
        },
        "yaxis3": {
         "anchor": "x3",
         "domain": [
          0,
          0.1975
         ],
         "matches": "y",
         "showticklabels": false
        },
        "yaxis4": {
         "anchor": "x4",
         "domain": [
          0.2675,
          0.465
         ],
         "matches": "y",
         "title": {
          "text": "Nº de ataques"
         }
        },
        "yaxis5": {
         "anchor": "x5",
         "domain": [
          0.2675,
          0.465
         ],
         "matches": "y",
         "showticklabels": false
        },
        "yaxis6": {
         "anchor": "x6",
         "domain": [
          0.2675,
          0.465
         ],
         "matches": "y",
         "showticklabels": false
        },
        "yaxis7": {
         "anchor": "x7",
         "domain": [
          0.535,
          0.7325
         ],
         "matches": "y",
         "title": {
          "text": "Nº de ataques"
         }
        },
        "yaxis8": {
         "anchor": "x8",
         "domain": [
          0.535,
          0.7325
         ],
         "matches": "y",
         "showticklabels": false
        },
        "yaxis9": {
         "anchor": "x9",
         "domain": [
          0.535,
          0.7325
         ],
         "matches": "y",
         "showticklabels": false
        }
       }
      }
     },
     "metadata": {},
     "output_type": "display_data"
    }
   ],
   "source": [
    "import plotly.express as px\n",
    "\n",
    "fig = px.bar(\n",
    "    shark_summary,\n",
    "    x=\"year\",\n",
    "    y=\"attack_count\",\n",
    "    color=\"fatal_y/n\",\n",
    "    facet_col=\"country\",       # crea subgráficos por país\n",
    "    facet_col_wrap=3,          # organiza en filas/columnas\n",
    "    title=\"Ataques de tiburón por año y país (divido por ataque fatal/no fatal)\",\n",
    "    labels={\n",
    "        \"year\": \"Año\",\n",
    "        \"attack_count\": \"Nº de ataques\",\n",
    "        \"fatal_y/n\": \"Fatalidad\"\n",
    "    }\n",
    ")\n",
    "\n",
    "fig.update_layout(height=600)\n",
    "fig.show()\n"
   ]
  },
  {
   "cell_type": "code",
   "execution_count": null,
   "id": "87f6132c",
   "metadata": {},
   "outputs": [
    {
     "data": {
      "application/vnd.plotly.v1+json": {
       "config": {
        "plotlyServerURL": "https://plot.ly"
       },
       "data": [
        {
         "hovertemplate": "fatal_y/n=n<br>year=%{x}<br>attack_count=%{y}<extra></extra>",
         "legendgroup": "n",
         "line": {
          "color": "#636efa",
          "dash": "solid"
         },
         "marker": {
          "symbol": "circle"
         },
         "mode": "lines+markers",
         "name": "n",
         "orientation": "v",
         "showlegend": true,
         "type": "scatter",
         "x": {
          "bdata": "AAAAAABAn0AAAAAAAESfQAAAAAAASJ9AAAAAAABMn0AAAAAAAFCfQAAAAAAAVJ9AAAAAAABYn0AAAAAAAFyfQAAAAAAAYJ9AAAAAAABkn0AAAAAAAGifQAAAAAAAbJ9AAAAAAABwn0AAAAAAAHSfQAAAAAAAeJ9AAAAAAAB8n0AAAAAAAICfQAAAAAAAhJ9AAAAAAACIn0AAAAAAAIyfQAAAAAAAkJ9AAAAAAACUn0AAAAAAAJifQAAAAAAAnJ9AAAAAAACgn0AAAAAAAKSfQA==",
          "dtype": "f8"
         },
         "xaxis": "x",
         "y": {
          "bdata": "PEA9QTg9Q09IPjtGUFBNXFZTSExCSz8+Hx8=",
          "dtype": "i1"
         },
         "yaxis": "y"
        },
        {
         "hovertemplate": "fatal_y/n=y<br>year=%{x}<br>attack_count=%{y}<extra></extra>",
         "legendgroup": "y",
         "line": {
          "color": "#EF553B",
          "dash": "solid"
         },
         "marker": {
          "symbol": "circle"
         },
         "mode": "lines+markers",
         "name": "y",
         "orientation": "v",
         "showlegend": true,
         "type": "scatter",
         "x": {
          "bdata": "AAAAAABAn0AAAAAAAESfQAAAAAAASJ9AAAAAAABMn0AAAAAAAFCfQAAAAAAAVJ9AAAAAAABYn0AAAAAAAFyfQAAAAAAAYJ9AAAAAAABkn0AAAAAAAGifQAAAAAAAbJ9AAAAAAABwn0AAAAAAAHSfQAAAAAAAeJ9AAAAAAAB8n0AAAAAAAICfQAAAAAAAhJ9AAAAAAACIn0AAAAAAAIyfQAAAAAAAkJ9AAAAAAACUn0AAAAAAAJifQAAAAAAAnJ9AAAAAAACgn0AAAAAAAKSfQA==",
          "dtype": "f8"
         },
         "xaxis": "x",
         "y": {
          "bdata": "BgMGBgoFBAIGCQYKCQoGBgQFBAMMCQgNAwY=",
          "dtype": "i1"
         },
         "yaxis": "y"
        },
        {
         "hovertemplate": "fatal_y/n=unknown<br>year=%{x}<br>attack_count=%{y}<extra></extra>",
         "legendgroup": "unknown",
         "line": {
          "color": "#00cc96",
          "dash": "solid"
         },
         "marker": {
          "symbol": "circle"
         },
         "mode": "lines+markers",
         "name": "unknown",
         "orientation": "v",
         "showlegend": true,
         "type": "scatter",
         "x": {
          "bdata": "AAAAAABgn0AAAAAAAHSfQAAAAAAAgJ9AAAAAAACIn0AAAAAAAIyfQAAAAAAAkJ9AAAAAAACUn0AAAAAAAJyfQAAAAAAAoJ9A",
          "dtype": "f8"
         },
         "xaxis": "x",
         "y": {
          "bdata": "AQECAQIBAQMB",
          "dtype": "i1"
         },
         "yaxis": "y"
        }
       ],
       "layout": {
        "legend": {
         "title": {
          "text": "fatal_y/n"
         },
         "tracegroupgap": 0
        },
        "template": {
         "data": {
          "bar": [
           {
            "error_x": {
             "color": "#2a3f5f"
            },
            "error_y": {
             "color": "#2a3f5f"
            },
            "marker": {
             "line": {
              "color": "#E5ECF6",
              "width": 0.5
             },
             "pattern": {
              "fillmode": "overlay",
              "size": 10,
              "solidity": 0.2
             }
            },
            "type": "bar"
           }
          ],
          "barpolar": [
           {
            "marker": {
             "line": {
              "color": "#E5ECF6",
              "width": 0.5
             },
             "pattern": {
              "fillmode": "overlay",
              "size": 10,
              "solidity": 0.2
             }
            },
            "type": "barpolar"
           }
          ],
          "carpet": [
           {
            "aaxis": {
             "endlinecolor": "#2a3f5f",
             "gridcolor": "white",
             "linecolor": "white",
             "minorgridcolor": "white",
             "startlinecolor": "#2a3f5f"
            },
            "baxis": {
             "endlinecolor": "#2a3f5f",
             "gridcolor": "white",
             "linecolor": "white",
             "minorgridcolor": "white",
             "startlinecolor": "#2a3f5f"
            },
            "type": "carpet"
           }
          ],
          "choropleth": [
           {
            "colorbar": {
             "outlinewidth": 0,
             "ticks": ""
            },
            "type": "choropleth"
           }
          ],
          "contour": [
           {
            "colorbar": {
             "outlinewidth": 0,
             "ticks": ""
            },
            "colorscale": [
             [
              0,
              "#0d0887"
             ],
             [
              0.1111111111111111,
              "#46039f"
             ],
             [
              0.2222222222222222,
              "#7201a8"
             ],
             [
              0.3333333333333333,
              "#9c179e"
             ],
             [
              0.4444444444444444,
              "#bd3786"
             ],
             [
              0.5555555555555556,
              "#d8576b"
             ],
             [
              0.6666666666666666,
              "#ed7953"
             ],
             [
              0.7777777777777778,
              "#fb9f3a"
             ],
             [
              0.8888888888888888,
              "#fdca26"
             ],
             [
              1,
              "#f0f921"
             ]
            ],
            "type": "contour"
           }
          ],
          "contourcarpet": [
           {
            "colorbar": {
             "outlinewidth": 0,
             "ticks": ""
            },
            "type": "contourcarpet"
           }
          ],
          "heatmap": [
           {
            "colorbar": {
             "outlinewidth": 0,
             "ticks": ""
            },
            "colorscale": [
             [
              0,
              "#0d0887"
             ],
             [
              0.1111111111111111,
              "#46039f"
             ],
             [
              0.2222222222222222,
              "#7201a8"
             ],
             [
              0.3333333333333333,
              "#9c179e"
             ],
             [
              0.4444444444444444,
              "#bd3786"
             ],
             [
              0.5555555555555556,
              "#d8576b"
             ],
             [
              0.6666666666666666,
              "#ed7953"
             ],
             [
              0.7777777777777778,
              "#fb9f3a"
             ],
             [
              0.8888888888888888,
              "#fdca26"
             ],
             [
              1,
              "#f0f921"
             ]
            ],
            "type": "heatmap"
           }
          ],
          "histogram": [
           {
            "marker": {
             "pattern": {
              "fillmode": "overlay",
              "size": 10,
              "solidity": 0.2
             }
            },
            "type": "histogram"
           }
          ],
          "histogram2d": [
           {
            "colorbar": {
             "outlinewidth": 0,
             "ticks": ""
            },
            "colorscale": [
             [
              0,
              "#0d0887"
             ],
             [
              0.1111111111111111,
              "#46039f"
             ],
             [
              0.2222222222222222,
              "#7201a8"
             ],
             [
              0.3333333333333333,
              "#9c179e"
             ],
             [
              0.4444444444444444,
              "#bd3786"
             ],
             [
              0.5555555555555556,
              "#d8576b"
             ],
             [
              0.6666666666666666,
              "#ed7953"
             ],
             [
              0.7777777777777778,
              "#fb9f3a"
             ],
             [
              0.8888888888888888,
              "#fdca26"
             ],
             [
              1,
              "#f0f921"
             ]
            ],
            "type": "histogram2d"
           }
          ],
          "histogram2dcontour": [
           {
            "colorbar": {
             "outlinewidth": 0,
             "ticks": ""
            },
            "colorscale": [
             [
              0,
              "#0d0887"
             ],
             [
              0.1111111111111111,
              "#46039f"
             ],
             [
              0.2222222222222222,
              "#7201a8"
             ],
             [
              0.3333333333333333,
              "#9c179e"
             ],
             [
              0.4444444444444444,
              "#bd3786"
             ],
             [
              0.5555555555555556,
              "#d8576b"
             ],
             [
              0.6666666666666666,
              "#ed7953"
             ],
             [
              0.7777777777777778,
              "#fb9f3a"
             ],
             [
              0.8888888888888888,
              "#fdca26"
             ],
             [
              1,
              "#f0f921"
             ]
            ],
            "type": "histogram2dcontour"
           }
          ],
          "mesh3d": [
           {
            "colorbar": {
             "outlinewidth": 0,
             "ticks": ""
            },
            "type": "mesh3d"
           }
          ],
          "parcoords": [
           {
            "line": {
             "colorbar": {
              "outlinewidth": 0,
              "ticks": ""
             }
            },
            "type": "parcoords"
           }
          ],
          "pie": [
           {
            "automargin": true,
            "type": "pie"
           }
          ],
          "scatter": [
           {
            "fillpattern": {
             "fillmode": "overlay",
             "size": 10,
             "solidity": 0.2
            },
            "type": "scatter"
           }
          ],
          "scatter3d": [
           {
            "line": {
             "colorbar": {
              "outlinewidth": 0,
              "ticks": ""
             }
            },
            "marker": {
             "colorbar": {
              "outlinewidth": 0,
              "ticks": ""
             }
            },
            "type": "scatter3d"
           }
          ],
          "scattercarpet": [
           {
            "marker": {
             "colorbar": {
              "outlinewidth": 0,
              "ticks": ""
             }
            },
            "type": "scattercarpet"
           }
          ],
          "scattergeo": [
           {
            "marker": {
             "colorbar": {
              "outlinewidth": 0,
              "ticks": ""
             }
            },
            "type": "scattergeo"
           }
          ],
          "scattergl": [
           {
            "marker": {
             "colorbar": {
              "outlinewidth": 0,
              "ticks": ""
             }
            },
            "type": "scattergl"
           }
          ],
          "scattermap": [
           {
            "marker": {
             "colorbar": {
              "outlinewidth": 0,
              "ticks": ""
             }
            },
            "type": "scattermap"
           }
          ],
          "scattermapbox": [
           {
            "marker": {
             "colorbar": {
              "outlinewidth": 0,
              "ticks": ""
             }
            },
            "type": "scattermapbox"
           }
          ],
          "scatterpolar": [
           {
            "marker": {
             "colorbar": {
              "outlinewidth": 0,
              "ticks": ""
             }
            },
            "type": "scatterpolar"
           }
          ],
          "scatterpolargl": [
           {
            "marker": {
             "colorbar": {
              "outlinewidth": 0,
              "ticks": ""
             }
            },
            "type": "scatterpolargl"
           }
          ],
          "scatterternary": [
           {
            "marker": {
             "colorbar": {
              "outlinewidth": 0,
              "ticks": ""
             }
            },
            "type": "scatterternary"
           }
          ],
          "surface": [
           {
            "colorbar": {
             "outlinewidth": 0,
             "ticks": ""
            },
            "colorscale": [
             [
              0,
              "#0d0887"
             ],
             [
              0.1111111111111111,
              "#46039f"
             ],
             [
              0.2222222222222222,
              "#7201a8"
             ],
             [
              0.3333333333333333,
              "#9c179e"
             ],
             [
              0.4444444444444444,
              "#bd3786"
             ],
             [
              0.5555555555555556,
              "#d8576b"
             ],
             [
              0.6666666666666666,
              "#ed7953"
             ],
             [
              0.7777777777777778,
              "#fb9f3a"
             ],
             [
              0.8888888888888888,
              "#fdca26"
             ],
             [
              1,
              "#f0f921"
             ]
            ],
            "type": "surface"
           }
          ],
          "table": [
           {
            "cells": {
             "fill": {
              "color": "#EBF0F8"
             },
             "line": {
              "color": "white"
             }
            },
            "header": {
             "fill": {
              "color": "#C8D4E3"
             },
             "line": {
              "color": "white"
             }
            },
            "type": "table"
           }
          ]
         },
         "layout": {
          "annotationdefaults": {
           "arrowcolor": "#2a3f5f",
           "arrowhead": 0,
           "arrowwidth": 1
          },
          "autotypenumbers": "strict",
          "coloraxis": {
           "colorbar": {
            "outlinewidth": 0,
            "ticks": ""
           }
          },
          "colorscale": {
           "diverging": [
            [
             0,
             "#8e0152"
            ],
            [
             0.1,
             "#c51b7d"
            ],
            [
             0.2,
             "#de77ae"
            ],
            [
             0.3,
             "#f1b6da"
            ],
            [
             0.4,
             "#fde0ef"
            ],
            [
             0.5,
             "#f7f7f7"
            ],
            [
             0.6,
             "#e6f5d0"
            ],
            [
             0.7,
             "#b8e186"
            ],
            [
             0.8,
             "#7fbc41"
            ],
            [
             0.9,
             "#4d9221"
            ],
            [
             1,
             "#276419"
            ]
           ],
           "sequential": [
            [
             0,
             "#0d0887"
            ],
            [
             0.1111111111111111,
             "#46039f"
            ],
            [
             0.2222222222222222,
             "#7201a8"
            ],
            [
             0.3333333333333333,
             "#9c179e"
            ],
            [
             0.4444444444444444,
             "#bd3786"
            ],
            [
             0.5555555555555556,
             "#d8576b"
            ],
            [
             0.6666666666666666,
             "#ed7953"
            ],
            [
             0.7777777777777778,
             "#fb9f3a"
            ],
            [
             0.8888888888888888,
             "#fdca26"
            ],
            [
             1,
             "#f0f921"
            ]
           ],
           "sequentialminus": [
            [
             0,
             "#0d0887"
            ],
            [
             0.1111111111111111,
             "#46039f"
            ],
            [
             0.2222222222222222,
             "#7201a8"
            ],
            [
             0.3333333333333333,
             "#9c179e"
            ],
            [
             0.4444444444444444,
             "#bd3786"
            ],
            [
             0.5555555555555556,
             "#d8576b"
            ],
            [
             0.6666666666666666,
             "#ed7953"
            ],
            [
             0.7777777777777778,
             "#fb9f3a"
            ],
            [
             0.8888888888888888,
             "#fdca26"
            ],
            [
             1,
             "#f0f921"
            ]
           ]
          },
          "colorway": [
           "#636efa",
           "#EF553B",
           "#00cc96",
           "#ab63fa",
           "#FFA15A",
           "#19d3f3",
           "#FF6692",
           "#B6E880",
           "#FF97FF",
           "#FECB52"
          ],
          "font": {
           "color": "#2a3f5f"
          },
          "geo": {
           "bgcolor": "white",
           "lakecolor": "white",
           "landcolor": "#E5ECF6",
           "showlakes": true,
           "showland": true,
           "subunitcolor": "white"
          },
          "hoverlabel": {
           "align": "left"
          },
          "hovermode": "closest",
          "mapbox": {
           "style": "light"
          },
          "paper_bgcolor": "white",
          "plot_bgcolor": "#E5ECF6",
          "polar": {
           "angularaxis": {
            "gridcolor": "white",
            "linecolor": "white",
            "ticks": ""
           },
           "bgcolor": "#E5ECF6",
           "radialaxis": {
            "gridcolor": "white",
            "linecolor": "white",
            "ticks": ""
           }
          },
          "scene": {
           "xaxis": {
            "backgroundcolor": "#E5ECF6",
            "gridcolor": "white",
            "gridwidth": 2,
            "linecolor": "white",
            "showbackground": true,
            "ticks": "",
            "zerolinecolor": "white"
           },
           "yaxis": {
            "backgroundcolor": "#E5ECF6",
            "gridcolor": "white",
            "gridwidth": 2,
            "linecolor": "white",
            "showbackground": true,
            "ticks": "",
            "zerolinecolor": "white"
           },
           "zaxis": {
            "backgroundcolor": "#E5ECF6",
            "gridcolor": "white",
            "gridwidth": 2,
            "linecolor": "white",
            "showbackground": true,
            "ticks": "",
            "zerolinecolor": "white"
           }
          },
          "shapedefaults": {
           "line": {
            "color": "#2a3f5f"
           }
          },
          "ternary": {
           "aaxis": {
            "gridcolor": "white",
            "linecolor": "white",
            "ticks": ""
           },
           "baxis": {
            "gridcolor": "white",
            "linecolor": "white",
            "ticks": ""
           },
           "bgcolor": "#E5ECF6",
           "caxis": {
            "gridcolor": "white",
            "linecolor": "white",
            "ticks": ""
           }
          },
          "title": {
           "x": 0.05
          },
          "xaxis": {
           "automargin": true,
           "gridcolor": "white",
           "linecolor": "white",
           "ticks": "",
           "title": {
            "standoff": 15
           },
           "zerolinecolor": "white",
           "zerolinewidth": 2
          },
          "yaxis": {
           "automargin": true,
           "gridcolor": "white",
           "linecolor": "white",
           "ticks": "",
           "title": {
            "standoff": 15
           },
           "zerolinecolor": "white",
           "zerolinewidth": 2
          }
         }
        },
        "title": {
         "text": "Evolución de ataques fatales vs no fatales"
        },
        "xaxis": {
         "anchor": "y",
         "domain": [
          0,
          1
         ],
         "title": {
          "text": "year"
         }
        },
        "yaxis": {
         "anchor": "x",
         "domain": [
          0,
          1
         ],
         "title": {
          "text": "attack_count"
         }
        }
       }
      }
     },
     "metadata": {},
     "output_type": "display_data"
    }
   ],
   "source": [
    "year_fatal_summary = (\n",
    "    shark_summary.groupby([\"year\", \"fatal_y/n\"])[\"attack_count\"]\n",
    "    .sum()\n",
    "    .reset_index()\n",
    ")\n",
    "\n",
    "fig = px.line(\n",
    "    year_fatal_summary,\n",
    "    x=\"year\",\n",
    "    y=\"attack_count\",\n",
    "    color=\"fatal_y/n\",\n",
    "    markers=True,\n",
    "    title=\"Evolución de los ataques fatales vs no fatales\"\n",
    ")\n",
    "\n",
    "fig.show()\n"
   ]
  },
  {
   "cell_type": "code",
   "execution_count": 52,
   "id": "2db61afa",
   "metadata": {},
   "outputs": [
    {
     "data": {
      "text/plain": [
       "country    state              activity  fatal_y/n\n",
       "usa        florida            surfing   n            293\n",
       "                              swimming  n            184\n",
       "australia  new south wales    surfing   n            105\n",
       "usa        california         surfing   n             61\n",
       "           hawaii             surfing   n             60\n",
       "           south carolina     swimming  n             41\n",
       "           north carolina     swimming  n             41\n",
       "           florida            paddle    n             40\n",
       "australia  western australia  surfing   n             38\n",
       "usa        florida            fishing   n             32\n",
       "dtype: int64"
      ]
     },
     "execution_count": 52,
     "metadata": {},
     "output_type": "execute_result"
    }
   ],
   "source": [
    "# Análisis por COUNTRY - STATE\n",
    "geo_analysis_cols = ['country', 'state', 'activity','fatal_y/n']\n",
    "dupe_mask2 = shark_df.duplicated(subset=geo_analysis_cols, keep=False)\n",
    "shark_df[dupe_mask2].sort_values(by=geo_analysis_cols)\n",
    "\n",
    "# Cuántas veces se repite cada combinación de las columnas clave\n",
    "shark_df.groupby(geo_analysis_cols).size().sort_values(ascending=False).head(10)"
   ]
  },
  {
   "cell_type": "code",
   "execution_count": 65,
   "id": "5350d145",
   "metadata": {},
   "outputs": [
    {
     "data": {
      "application/vnd.plotly.v1+json": {
       "config": {
        "plotlyServerURL": "https://plot.ly"
       },
       "data": [
        {
         "coloraxis": "coloraxis",
         "histfunc": "sum",
         "hovertemplate": "year=%{x}<br>country=%{y}<br>sum of attack_count=%{z}<extra></extra>",
         "name": "",
         "type": "histogram2d",
         "x": {
          "bdata": "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",
          "dtype": "f8"
         },
         "xaxis": "x",
         "xbingroup": "x",
         "y": [
          "australia",
          "australia",
          "new caledonia",
          "new zealand",
          "new zealand",
          "reunion",
          "south africa",
          "usa",
          "usa",
          "australia",
          "bahamas",
          "brazil",
          "brazil",
          "mexico",
          "south africa",
          "usa",
          "usa",
          "australia",
          "australia",
          "bahamas",
          "brazil",
          "brazil",
          "french polynesia",
          "south africa",
          "usa",
          "australia",
          "australia",
          "bahamas",
          "brazil",
          "brazil",
          "egypt",
          "french polynesia",
          "new zealand",
          "new zealand",
          "south africa",
          "south africa",
          "usa",
          "usa",
          "australia",
          "australia",
          "brazil",
          "brazil",
          "egypt",
          "new caledonia",
          "new zealand",
          "reunion",
          "south africa",
          "south africa",
          "usa",
          "usa",
          "australia",
          "australia",
          "bahamas",
          "brazil",
          "mexico",
          "new caledonia",
          "south africa",
          "south africa",
          "usa",
          "usa",
          "australia",
          "australia",
          "bahamas",
          "brazil",
          "brazil",
          "new zealand",
          "reunion",
          "reunion",
          "south africa",
          "usa",
          "australia",
          "bahamas",
          "brazil",
          "egypt",
          "new caledonia",
          "new caledonia",
          "new zealand",
          "south africa",
          "south africa",
          "usa",
          "australia",
          "australia",
          "australia",
          "bahamas",
          "bahamas",
          "brazil",
          "egypt",
          "french polynesia",
          "mexico",
          "mexico",
          "new caledonia",
          "new zealand",
          "south africa",
          "usa",
          "usa",
          "australia",
          "bahamas",
          "brazil",
          "egypt",
          "egypt",
          "new caledonia",
          "new zealand",
          "new zealand",
          "south africa",
          "south africa",
          "usa",
          "australia",
          "australia",
          "bahamas",
          "brazil",
          "egypt",
          "egypt",
          "new zealand",
          "reunion",
          "south africa",
          "south africa",
          "usa",
          "usa",
          "australia",
          "australia",
          "bahamas",
          "brazil",
          "french polynesia",
          "mexico",
          "new caledonia",
          "new caledonia",
          "new zealand",
          "reunion",
          "reunion",
          "south africa",
          "south africa",
          "usa",
          "australia",
          "australia",
          "bahamas",
          "brazil",
          "french polynesia",
          "mexico",
          "mexico",
          "new zealand",
          "reunion",
          "reunion",
          "south africa",
          "south africa",
          "usa",
          "usa",
          "australia",
          "australia",
          "bahamas",
          "brazil",
          "french polynesia",
          "mexico",
          "new caledonia",
          "new zealand",
          "new zealand",
          "reunion",
          "reunion",
          "south africa",
          "south africa",
          "usa",
          "usa",
          "usa",
          "australia",
          "australia",
          "bahamas",
          "french polynesia",
          "new caledonia",
          "new zealand",
          "reunion",
          "south africa",
          "south africa",
          "usa",
          "australia",
          "australia",
          "bahamas",
          "brazil",
          "egypt",
          "french polynesia",
          "reunion",
          "reunion",
          "south africa",
          "usa",
          "usa",
          "australia",
          "australia",
          "australia",
          "bahamas",
          "brazil",
          "egypt",
          "french polynesia",
          "new caledonia",
          "new caledonia",
          "south africa",
          "usa",
          "usa",
          "australia",
          "australia",
          "bahamas",
          "brazil",
          "egypt",
          "french polynesia",
          "mexico",
          "new zealand",
          "reunion",
          "south africa",
          "south africa",
          "usa",
          "australia",
          "australia",
          "bahamas",
          "brazil",
          "brazil",
          "brazil",
          "mexico",
          "new zealand",
          "south africa",
          "usa",
          "usa",
          "australia",
          "australia",
          "bahamas",
          "bahamas",
          "brazil",
          "french polynesia",
          "mexico",
          "new caledonia",
          "new caledonia",
          "new zealand",
          "south africa",
          "usa",
          "usa",
          "australia",
          "australia",
          "australia",
          "bahamas",
          "egypt",
          "french polynesia",
          "new caledonia",
          "new caledonia",
          "new zealand",
          "south africa",
          "usa",
          "usa",
          "australia",
          "australia",
          "brazil",
          "brazil",
          "brazil",
          "french polynesia",
          "mexico",
          "new caledonia",
          "new zealand",
          "new zealand",
          "south africa",
          "south africa",
          "usa",
          "usa",
          "australia",
          "australia",
          "egypt",
          "french polynesia",
          "mexico",
          "new zealand",
          "south africa",
          "usa",
          "usa",
          "australia",
          "australia",
          "australia",
          "bahamas",
          "bahamas",
          "brazil",
          "egypt",
          "egypt",
          "french polynesia",
          "mexico",
          "new caledonia",
          "new caledonia",
          "new caledonia",
          "new zealand",
          "south africa",
          "usa",
          "usa",
          "australia",
          "australia",
          "bahamas",
          "egypt",
          "egypt",
          "french polynesia",
          "new zealand",
          "usa",
          "usa",
          "australia",
          "australia",
          "bahamas",
          "french polynesia",
          "new caledonia",
          "south africa",
          "usa"
         ],
         "yaxis": "y",
         "ybingroup": "y",
         "z": {
          "bdata": "CAMBAQEBBS0BBQMBAQIDMgIHAgEDBAEFLAkBAgMBAQECAQICLQEKAwQDAQECAgYCHgINAgEBAQEFAScCCQECAgIBAQEILA8CAQEDAQECATYHAQIBAQMBAQMCAgEEMQEWAQECAQECAQMFIA4BAgEGAQEBBQIdAgoEAgIBBAEBAQMCBgMoEgIBAQEBAQICAQEDNgENAgQCAgIBAQEBAgUBMwECDwUBAgECAQIBNRUCAgEBAwECCDgBFQECAgIBAQICAzYBEwEGAQEBAQECAgE0GwEGAQEBAQMFHgEQAQIBAQECAQECAjIBEQEIAwIDAQECASUDEAQDAQECAQEDAQIBLwITAQICAQICKAIPAQQBAgMBAQEDAQEBAgIlAgwBAgEBAQEPAQ4EAgEBAQ4=",
          "dtype": "i1"
         }
        }
       ],
       "layout": {
        "coloraxis": {
         "colorbar": {
          "title": {
           "text": "sum of attack_count"
          }
         },
         "colorscale": [
          [
           0,
           "#00224e"
          ],
          [
           0.1111111111111111,
           "#123570"
          ],
          [
           0.2222222222222222,
           "#3b496c"
          ],
          [
           0.3333333333333333,
           "#575d6d"
          ],
          [
           0.4444444444444444,
           "#707173"
          ],
          [
           0.5555555555555556,
           "#8a8678"
          ],
          [
           0.6666666666666666,
           "#a59c74"
          ],
          [
           0.7777777777777778,
           "#c3b369"
          ],
          [
           0.8888888888888888,
           "#e1cc55"
          ],
          [
           1,
           "#fee838"
          ]
         ]
        },
        "legend": {
         "tracegroupgap": 0
        },
        "template": {
         "data": {
          "bar": [
           {
            "error_x": {
             "color": "#2a3f5f"
            },
            "error_y": {
             "color": "#2a3f5f"
            },
            "marker": {
             "line": {
              "color": "#E5ECF6",
              "width": 0.5
             },
             "pattern": {
              "fillmode": "overlay",
              "size": 10,
              "solidity": 0.2
             }
            },
            "type": "bar"
           }
          ],
          "barpolar": [
           {
            "marker": {
             "line": {
              "color": "#E5ECF6",
              "width": 0.5
             },
             "pattern": {
              "fillmode": "overlay",
              "size": 10,
              "solidity": 0.2
             }
            },
            "type": "barpolar"
           }
          ],
          "carpet": [
           {
            "aaxis": {
             "endlinecolor": "#2a3f5f",
             "gridcolor": "white",
             "linecolor": "white",
             "minorgridcolor": "white",
             "startlinecolor": "#2a3f5f"
            },
            "baxis": {
             "endlinecolor": "#2a3f5f",
             "gridcolor": "white",
             "linecolor": "white",
             "minorgridcolor": "white",
             "startlinecolor": "#2a3f5f"
            },
            "type": "carpet"
           }
          ],
          "choropleth": [
           {
            "colorbar": {
             "outlinewidth": 0,
             "ticks": ""
            },
            "type": "choropleth"
           }
          ],
          "contour": [
           {
            "colorbar": {
             "outlinewidth": 0,
             "ticks": ""
            },
            "colorscale": [
             [
              0,
              "#0d0887"
             ],
             [
              0.1111111111111111,
              "#46039f"
             ],
             [
              0.2222222222222222,
              "#7201a8"
             ],
             [
              0.3333333333333333,
              "#9c179e"
             ],
             [
              0.4444444444444444,
              "#bd3786"
             ],
             [
              0.5555555555555556,
              "#d8576b"
             ],
             [
              0.6666666666666666,
              "#ed7953"
             ],
             [
              0.7777777777777778,
              "#fb9f3a"
             ],
             [
              0.8888888888888888,
              "#fdca26"
             ],
             [
              1,
              "#f0f921"
             ]
            ],
            "type": "contour"
           }
          ],
          "contourcarpet": [
           {
            "colorbar": {
             "outlinewidth": 0,
             "ticks": ""
            },
            "type": "contourcarpet"
           }
          ],
          "heatmap": [
           {
            "colorbar": {
             "outlinewidth": 0,
             "ticks": ""
            },
            "colorscale": [
             [
              0,
              "#0d0887"
             ],
             [
              0.1111111111111111,
              "#46039f"
             ],
             [
              0.2222222222222222,
              "#7201a8"
             ],
             [
              0.3333333333333333,
              "#9c179e"
             ],
             [
              0.4444444444444444,
              "#bd3786"
             ],
             [
              0.5555555555555556,
              "#d8576b"
             ],
             [
              0.6666666666666666,
              "#ed7953"
             ],
             [
              0.7777777777777778,
              "#fb9f3a"
             ],
             [
              0.8888888888888888,
              "#fdca26"
             ],
             [
              1,
              "#f0f921"
             ]
            ],
            "type": "heatmap"
           }
          ],
          "histogram": [
           {
            "marker": {
             "pattern": {
              "fillmode": "overlay",
              "size": 10,
              "solidity": 0.2
             }
            },
            "type": "histogram"
           }
          ],
          "histogram2d": [
           {
            "colorbar": {
             "outlinewidth": 0,
             "ticks": ""
            },
            "colorscale": [
             [
              0,
              "#0d0887"
             ],
             [
              0.1111111111111111,
              "#46039f"
             ],
             [
              0.2222222222222222,
              "#7201a8"
             ],
             [
              0.3333333333333333,
              "#9c179e"
             ],
             [
              0.4444444444444444,
              "#bd3786"
             ],
             [
              0.5555555555555556,
              "#d8576b"
             ],
             [
              0.6666666666666666,
              "#ed7953"
             ],
             [
              0.7777777777777778,
              "#fb9f3a"
             ],
             [
              0.8888888888888888,
              "#fdca26"
             ],
             [
              1,
              "#f0f921"
             ]
            ],
            "type": "histogram2d"
           }
          ],
          "histogram2dcontour": [
           {
            "colorbar": {
             "outlinewidth": 0,
             "ticks": ""
            },
            "colorscale": [
             [
              0,
              "#0d0887"
             ],
             [
              0.1111111111111111,
              "#46039f"
             ],
             [
              0.2222222222222222,
              "#7201a8"
             ],
             [
              0.3333333333333333,
              "#9c179e"
             ],
             [
              0.4444444444444444,
              "#bd3786"
             ],
             [
              0.5555555555555556,
              "#d8576b"
             ],
             [
              0.6666666666666666,
              "#ed7953"
             ],
             [
              0.7777777777777778,
              "#fb9f3a"
             ],
             [
              0.8888888888888888,
              "#fdca26"
             ],
             [
              1,
              "#f0f921"
             ]
            ],
            "type": "histogram2dcontour"
           }
          ],
          "mesh3d": [
           {
            "colorbar": {
             "outlinewidth": 0,
             "ticks": ""
            },
            "type": "mesh3d"
           }
          ],
          "parcoords": [
           {
            "line": {
             "colorbar": {
              "outlinewidth": 0,
              "ticks": ""
             }
            },
            "type": "parcoords"
           }
          ],
          "pie": [
           {
            "automargin": true,
            "type": "pie"
           }
          ],
          "scatter": [
           {
            "fillpattern": {
             "fillmode": "overlay",
             "size": 10,
             "solidity": 0.2
            },
            "type": "scatter"
           }
          ],
          "scatter3d": [
           {
            "line": {
             "colorbar": {
              "outlinewidth": 0,
              "ticks": ""
             }
            },
            "marker": {
             "colorbar": {
              "outlinewidth": 0,
              "ticks": ""
             }
            },
            "type": "scatter3d"
           }
          ],
          "scattercarpet": [
           {
            "marker": {
             "colorbar": {
              "outlinewidth": 0,
              "ticks": ""
             }
            },
            "type": "scattercarpet"
           }
          ],
          "scattergeo": [
           {
            "marker": {
             "colorbar": {
              "outlinewidth": 0,
              "ticks": ""
             }
            },
            "type": "scattergeo"
           }
          ],
          "scattergl": [
           {
            "marker": {
             "colorbar": {
              "outlinewidth": 0,
              "ticks": ""
             }
            },
            "type": "scattergl"
           }
          ],
          "scattermap": [
           {
            "marker": {
             "colorbar": {
              "outlinewidth": 0,
              "ticks": ""
             }
            },
            "type": "scattermap"
           }
          ],
          "scattermapbox": [
           {
            "marker": {
             "colorbar": {
              "outlinewidth": 0,
              "ticks": ""
             }
            },
            "type": "scattermapbox"
           }
          ],
          "scatterpolar": [
           {
            "marker": {
             "colorbar": {
              "outlinewidth": 0,
              "ticks": ""
             }
            },
            "type": "scatterpolar"
           }
          ],
          "scatterpolargl": [
           {
            "marker": {
             "colorbar": {
              "outlinewidth": 0,
              "ticks": ""
             }
            },
            "type": "scatterpolargl"
           }
          ],
          "scatterternary": [
           {
            "marker": {
             "colorbar": {
              "outlinewidth": 0,
              "ticks": ""
             }
            },
            "type": "scatterternary"
           }
          ],
          "surface": [
           {
            "colorbar": {
             "outlinewidth": 0,
             "ticks": ""
            },
            "colorscale": [
             [
              0,
              "#0d0887"
             ],
             [
              0.1111111111111111,
              "#46039f"
             ],
             [
              0.2222222222222222,
              "#7201a8"
             ],
             [
              0.3333333333333333,
              "#9c179e"
             ],
             [
              0.4444444444444444,
              "#bd3786"
             ],
             [
              0.5555555555555556,
              "#d8576b"
             ],
             [
              0.6666666666666666,
              "#ed7953"
             ],
             [
              0.7777777777777778,
              "#fb9f3a"
             ],
             [
              0.8888888888888888,
              "#fdca26"
             ],
             [
              1,
              "#f0f921"
             ]
            ],
            "type": "surface"
           }
          ],
          "table": [
           {
            "cells": {
             "fill": {
              "color": "#EBF0F8"
             },
             "line": {
              "color": "white"
             }
            },
            "header": {
             "fill": {
              "color": "#C8D4E3"
             },
             "line": {
              "color": "white"
             }
            },
            "type": "table"
           }
          ]
         },
         "layout": {
          "annotationdefaults": {
           "arrowcolor": "#2a3f5f",
           "arrowhead": 0,
           "arrowwidth": 1
          },
          "autotypenumbers": "strict",
          "coloraxis": {
           "colorbar": {
            "outlinewidth": 0,
            "ticks": ""
           }
          },
          "colorscale": {
           "diverging": [
            [
             0,
             "#8e0152"
            ],
            [
             0.1,
             "#c51b7d"
            ],
            [
             0.2,
             "#de77ae"
            ],
            [
             0.3,
             "#f1b6da"
            ],
            [
             0.4,
             "#fde0ef"
            ],
            [
             0.5,
             "#f7f7f7"
            ],
            [
             0.6,
             "#e6f5d0"
            ],
            [
             0.7,
             "#b8e186"
            ],
            [
             0.8,
             "#7fbc41"
            ],
            [
             0.9,
             "#4d9221"
            ],
            [
             1,
             "#276419"
            ]
           ],
           "sequential": [
            [
             0,
             "#0d0887"
            ],
            [
             0.1111111111111111,
             "#46039f"
            ],
            [
             0.2222222222222222,
             "#7201a8"
            ],
            [
             0.3333333333333333,
             "#9c179e"
            ],
            [
             0.4444444444444444,
             "#bd3786"
            ],
            [
             0.5555555555555556,
             "#d8576b"
            ],
            [
             0.6666666666666666,
             "#ed7953"
            ],
            [
             0.7777777777777778,
             "#fb9f3a"
            ],
            [
             0.8888888888888888,
             "#fdca26"
            ],
            [
             1,
             "#f0f921"
            ]
           ],
           "sequentialminus": [
            [
             0,
             "#0d0887"
            ],
            [
             0.1111111111111111,
             "#46039f"
            ],
            [
             0.2222222222222222,
             "#7201a8"
            ],
            [
             0.3333333333333333,
             "#9c179e"
            ],
            [
             0.4444444444444444,
             "#bd3786"
            ],
            [
             0.5555555555555556,
             "#d8576b"
            ],
            [
             0.6666666666666666,
             "#ed7953"
            ],
            [
             0.7777777777777778,
             "#fb9f3a"
            ],
            [
             0.8888888888888888,
             "#fdca26"
            ],
            [
             1,
             "#f0f921"
            ]
           ]
          },
          "colorway": [
           "#636efa",
           "#EF553B",
           "#00cc96",
           "#ab63fa",
           "#FFA15A",
           "#19d3f3",
           "#FF6692",
           "#B6E880",
           "#FF97FF",
           "#FECB52"
          ],
          "font": {
           "color": "#2a3f5f"
          },
          "geo": {
           "bgcolor": "white",
           "lakecolor": "white",
           "landcolor": "#E5ECF6",
           "showlakes": true,
           "showland": true,
           "subunitcolor": "white"
          },
          "hoverlabel": {
           "align": "left"
          },
          "hovermode": "closest",
          "mapbox": {
           "style": "light"
          },
          "paper_bgcolor": "white",
          "plot_bgcolor": "#E5ECF6",
          "polar": {
           "angularaxis": {
            "gridcolor": "white",
            "linecolor": "white",
            "ticks": ""
           },
           "bgcolor": "#E5ECF6",
           "radialaxis": {
            "gridcolor": "white",
            "linecolor": "white",
            "ticks": ""
           }
          },
          "scene": {
           "xaxis": {
            "backgroundcolor": "#E5ECF6",
            "gridcolor": "white",
            "gridwidth": 2,
            "linecolor": "white",
            "showbackground": true,
            "ticks": "",
            "zerolinecolor": "white"
           },
           "yaxis": {
            "backgroundcolor": "#E5ECF6",
            "gridcolor": "white",
            "gridwidth": 2,
            "linecolor": "white",
            "showbackground": true,
            "ticks": "",
            "zerolinecolor": "white"
           },
           "zaxis": {
            "backgroundcolor": "#E5ECF6",
            "gridcolor": "white",
            "gridwidth": 2,
            "linecolor": "white",
            "showbackground": true,
            "ticks": "",
            "zerolinecolor": "white"
           }
          },
          "shapedefaults": {
           "line": {
            "color": "#2a3f5f"
           }
          },
          "ternary": {
           "aaxis": {
            "gridcolor": "white",
            "linecolor": "white",
            "ticks": ""
           },
           "baxis": {
            "gridcolor": "white",
            "linecolor": "white",
            "ticks": ""
           },
           "bgcolor": "#E5ECF6",
           "caxis": {
            "gridcolor": "white",
            "linecolor": "white",
            "ticks": ""
           }
          },
          "title": {
           "x": 0.05
          },
          "xaxis": {
           "automargin": true,
           "gridcolor": "white",
           "linecolor": "white",
           "ticks": "",
           "title": {
            "standoff": 15
           },
           "zerolinecolor": "white",
           "zerolinewidth": 2
          },
          "yaxis": {
           "automargin": true,
           "gridcolor": "white",
           "linecolor": "white",
           "ticks": "",
           "title": {
            "standoff": 15
           },
           "zerolinecolor": "white",
           "zerolinewidth": 2
          }
         }
        },
        "title": {
         "text": "Mapa de calor: dispersión de ataques por año y país"
        },
        "xaxis": {
         "anchor": "y",
         "domain": [
          0,
          1
         ],
         "title": {
          "text": "year"
         }
        },
        "yaxis": {
         "anchor": "x",
         "domain": [
          0,
          1
         ],
         "title": {
          "text": "country"
         }
        }
       }
      }
     },
     "metadata": {},
     "output_type": "display_data"
    }
   ],
   "source": [
    "fig = px.density_heatmap(\n",
    "    shark_summary,\n",
    "    x=\"year\",\n",
    "    y=\"country\",\n",
    "    z=\"attack_count\",\n",
    "    color_continuous_scale=\"Cividis\",\n",
    "    title=\"Mapa de calor: dispersión de ataques por año y país\"\n",
    ")\n",
    "\n",
    "fig.show()\n"
   ]
  },
  {
   "cell_type": "code",
   "execution_count": 66,
   "id": "95002997",
   "metadata": {},
   "outputs": [
    {
     "name": "stderr",
     "output_type": "stream",
     "text": [
      "C:\\Users\\marle\\AppData\\Local\\Temp\\ipykernel_8108\\281653722.py:3: DeprecationWarning:\n",
      "\n",
      "The library used by the *country names* `locationmode` option is changing in an upcoming version. Country names in existing plots may not work in the new version. To ensure consistent behavior, consider setting `locationmode` to *ISO-3*.\n",
      "\n"
     ]
    },
    {
     "data": {
      "application/vnd.plotly.v1+json": {
       "config": {
        "plotlyServerURL": "https://plot.ly"
       },
       "data": [
        {
         "geo": "geo",
         "hovertemplate": "fatal_y/n=n<br>attack_count=%{marker.size}<br>country=%{location}<extra></extra>",
         "legendgroup": "n",
         "locationmode": "country names",
         "locations": [
          "australia",
          "australia",
          "australia",
          "australia",
          "australia",
          "australia",
          "australia",
          "australia",
          "australia",
          "bahamas",
          "bahamas",
          "bahamas",
          "bahamas",
          "bahamas",
          "bahamas",
          "bahamas",
          "bahamas",
          "brazil",
          "brazil",
          "brazil",
          "brazil",
          "brazil",
          "brazil",
          "brazil",
          "egypt",
          "egypt",
          "egypt",
          "french polynesia",
          "french polynesia",
          "french polynesia",
          "french polynesia",
          "mexico",
          "mexico",
          "mexico",
          "new caledonia",
          "new caledonia",
          "new caledonia",
          "new caledonia",
          "new caledonia",
          "new zealand",
          "new zealand",
          "new zealand",
          "new zealand",
          "reunion",
          "reunion",
          "reunion",
          "reunion",
          "reunion",
          "south africa",
          "south africa",
          "south africa",
          "usa",
          "usa",
          "usa",
          "usa",
          "usa",
          "usa",
          "usa",
          "usa",
          "usa",
          "usa",
          "usa",
          "usa",
          "usa",
          "usa",
          "usa",
          "usa",
          "usa",
          "usa",
          "usa",
          "usa",
          "usa",
          "usa",
          "usa",
          "usa",
          "usa",
          "usa",
          "usa",
          "usa"
         ],
         "marker": {
          "color": "#636efa",
          "size": {
           "bdata": "lgAFAEEAGAAFAAEAAQAXAGIAFgABAAEAAgAHAAgAAQAGAAIAGAACAAEAAQACAAEABgALAAEAAQAEAA0ABgAFAAQABwABAAQABQABAAUAAQABAA0AEQABAAEAAQABAAkAJAAQACMACgABAF4AAQABAFUCAQAFAAIAjwABAAYAAQABAAMABQAQAEQAEAABAAEAAQABAE0AIgACAAEAAQA=",
           "dtype": "i2"
          },
          "sizemode": "area",
          "sizeref": 1.4925,
          "symbol": "circle"
         },
         "mode": "markers",
         "name": "n",
         "showlegend": true,
         "type": "scattergeo"
        },
        {
         "geo": "geo",
         "hovertemplate": "fatal_y/n=unknown<br>attack_count=%{marker.size}<br>country=%{location}<extra></extra>",
         "legendgroup": "unknown",
         "locationmode": "country names",
         "locations": [
          "australia",
          "australia",
          "australia",
          "bahamas",
          "brazil",
          "brazil",
          "french polynesia",
          "new caledonia",
          "usa",
          "usa",
          "usa"
         ],
         "marker": {
          "color": "#EF553B",
          "size": {
           "bdata": "AwEBAQEBAQEBAQE=",
           "dtype": "i1"
          },
          "sizemode": "area",
          "sizeref": 1.4925,
          "symbol": "circle"
         },
         "mode": "markers",
         "name": "unknown",
         "showlegend": true,
         "type": "scattergeo"
        },
        {
         "geo": "geo",
         "hovertemplate": "fatal_y/n=y<br>attack_count=%{marker.size}<br>country=%{location}<extra></extra>",
         "legendgroup": "y",
         "locationmode": "country names",
         "locations": [
          "australia",
          "australia",
          "australia",
          "australia",
          "australia",
          "bahamas",
          "bahamas",
          "bahamas",
          "bahamas",
          "brazil",
          "egypt",
          "egypt",
          "mexico",
          "mexico",
          "mexico",
          "mexico",
          "mexico",
          "mexico",
          "new caledonia",
          "new caledonia",
          "new caledonia",
          "new caledonia",
          "new caledonia",
          "new caledonia",
          "new zealand",
          "new zealand",
          "new zealand",
          "reunion",
          "reunion",
          "reunion",
          "south africa",
          "south africa",
          "south africa",
          "usa",
          "usa",
          "usa",
          "usa",
          "usa",
          "usa",
          "usa",
          "usa"
         ],
         "marker": {
          "color": "#00cc96",
          "size": {
           "bdata": "CwsMARUBAQEBEQYBAQIBAQEDAQIBAwECAgMBAQgBCgMNCQQIAQEBAQE=",
           "dtype": "i1"
          },
          "sizemode": "area",
          "sizeref": 1.4925,
          "symbol": "circle"
         },
         "mode": "markers",
         "name": "y",
         "showlegend": true,
         "type": "scattergeo"
        }
       ],
       "layout": {
        "geo": {
         "center": {},
         "domain": {
          "x": [
           0,
           1
          ],
          "y": [
           0,
           1
          ]
         },
         "projection": {
          "type": "natural earth"
         }
        },
        "legend": {
         "itemsizing": "constant",
         "title": {
          "text": "fatal_y/n"
         },
         "tracegroupgap": 0
        },
        "template": {
         "data": {
          "bar": [
           {
            "error_x": {
             "color": "#2a3f5f"
            },
            "error_y": {
             "color": "#2a3f5f"
            },
            "marker": {
             "line": {
              "color": "#E5ECF6",
              "width": 0.5
             },
             "pattern": {
              "fillmode": "overlay",
              "size": 10,
              "solidity": 0.2
             }
            },
            "type": "bar"
           }
          ],
          "barpolar": [
           {
            "marker": {
             "line": {
              "color": "#E5ECF6",
              "width": 0.5
             },
             "pattern": {
              "fillmode": "overlay",
              "size": 10,
              "solidity": 0.2
             }
            },
            "type": "barpolar"
           }
          ],
          "carpet": [
           {
            "aaxis": {
             "endlinecolor": "#2a3f5f",
             "gridcolor": "white",
             "linecolor": "white",
             "minorgridcolor": "white",
             "startlinecolor": "#2a3f5f"
            },
            "baxis": {
             "endlinecolor": "#2a3f5f",
             "gridcolor": "white",
             "linecolor": "white",
             "minorgridcolor": "white",
             "startlinecolor": "#2a3f5f"
            },
            "type": "carpet"
           }
          ],
          "choropleth": [
           {
            "colorbar": {
             "outlinewidth": 0,
             "ticks": ""
            },
            "type": "choropleth"
           }
          ],
          "contour": [
           {
            "colorbar": {
             "outlinewidth": 0,
             "ticks": ""
            },
            "colorscale": [
             [
              0,
              "#0d0887"
             ],
             [
              0.1111111111111111,
              "#46039f"
             ],
             [
              0.2222222222222222,
              "#7201a8"
             ],
             [
              0.3333333333333333,
              "#9c179e"
             ],
             [
              0.4444444444444444,
              "#bd3786"
             ],
             [
              0.5555555555555556,
              "#d8576b"
             ],
             [
              0.6666666666666666,
              "#ed7953"
             ],
             [
              0.7777777777777778,
              "#fb9f3a"
             ],
             [
              0.8888888888888888,
              "#fdca26"
             ],
             [
              1,
              "#f0f921"
             ]
            ],
            "type": "contour"
           }
          ],
          "contourcarpet": [
           {
            "colorbar": {
             "outlinewidth": 0,
             "ticks": ""
            },
            "type": "contourcarpet"
           }
          ],
          "heatmap": [
           {
            "colorbar": {
             "outlinewidth": 0,
             "ticks": ""
            },
            "colorscale": [
             [
              0,
              "#0d0887"
             ],
             [
              0.1111111111111111,
              "#46039f"
             ],
             [
              0.2222222222222222,
              "#7201a8"
             ],
             [
              0.3333333333333333,
              "#9c179e"
             ],
             [
              0.4444444444444444,
              "#bd3786"
             ],
             [
              0.5555555555555556,
              "#d8576b"
             ],
             [
              0.6666666666666666,
              "#ed7953"
             ],
             [
              0.7777777777777778,
              "#fb9f3a"
             ],
             [
              0.8888888888888888,
              "#fdca26"
             ],
             [
              1,
              "#f0f921"
             ]
            ],
            "type": "heatmap"
           }
          ],
          "histogram": [
           {
            "marker": {
             "pattern": {
              "fillmode": "overlay",
              "size": 10,
              "solidity": 0.2
             }
            },
            "type": "histogram"
           }
          ],
          "histogram2d": [
           {
            "colorbar": {
             "outlinewidth": 0,
             "ticks": ""
            },
            "colorscale": [
             [
              0,
              "#0d0887"
             ],
             [
              0.1111111111111111,
              "#46039f"
             ],
             [
              0.2222222222222222,
              "#7201a8"
             ],
             [
              0.3333333333333333,
              "#9c179e"
             ],
             [
              0.4444444444444444,
              "#bd3786"
             ],
             [
              0.5555555555555556,
              "#d8576b"
             ],
             [
              0.6666666666666666,
              "#ed7953"
             ],
             [
              0.7777777777777778,
              "#fb9f3a"
             ],
             [
              0.8888888888888888,
              "#fdca26"
             ],
             [
              1,
              "#f0f921"
             ]
            ],
            "type": "histogram2d"
           }
          ],
          "histogram2dcontour": [
           {
            "colorbar": {
             "outlinewidth": 0,
             "ticks": ""
            },
            "colorscale": [
             [
              0,
              "#0d0887"
             ],
             [
              0.1111111111111111,
              "#46039f"
             ],
             [
              0.2222222222222222,
              "#7201a8"
             ],
             [
              0.3333333333333333,
              "#9c179e"
             ],
             [
              0.4444444444444444,
              "#bd3786"
             ],
             [
              0.5555555555555556,
              "#d8576b"
             ],
             [
              0.6666666666666666,
              "#ed7953"
             ],
             [
              0.7777777777777778,
              "#fb9f3a"
             ],
             [
              0.8888888888888888,
              "#fdca26"
             ],
             [
              1,
              "#f0f921"
             ]
            ],
            "type": "histogram2dcontour"
           }
          ],
          "mesh3d": [
           {
            "colorbar": {
             "outlinewidth": 0,
             "ticks": ""
            },
            "type": "mesh3d"
           }
          ],
          "parcoords": [
           {
            "line": {
             "colorbar": {
              "outlinewidth": 0,
              "ticks": ""
             }
            },
            "type": "parcoords"
           }
          ],
          "pie": [
           {
            "automargin": true,
            "type": "pie"
           }
          ],
          "scatter": [
           {
            "fillpattern": {
             "fillmode": "overlay",
             "size": 10,
             "solidity": 0.2
            },
            "type": "scatter"
           }
          ],
          "scatter3d": [
           {
            "line": {
             "colorbar": {
              "outlinewidth": 0,
              "ticks": ""
             }
            },
            "marker": {
             "colorbar": {
              "outlinewidth": 0,
              "ticks": ""
             }
            },
            "type": "scatter3d"
           }
          ],
          "scattercarpet": [
           {
            "marker": {
             "colorbar": {
              "outlinewidth": 0,
              "ticks": ""
             }
            },
            "type": "scattercarpet"
           }
          ],
          "scattergeo": [
           {
            "marker": {
             "colorbar": {
              "outlinewidth": 0,
              "ticks": ""
             }
            },
            "type": "scattergeo"
           }
          ],
          "scattergl": [
           {
            "marker": {
             "colorbar": {
              "outlinewidth": 0,
              "ticks": ""
             }
            },
            "type": "scattergl"
           }
          ],
          "scattermap": [
           {
            "marker": {
             "colorbar": {
              "outlinewidth": 0,
              "ticks": ""
             }
            },
            "type": "scattermap"
           }
          ],
          "scattermapbox": [
           {
            "marker": {
             "colorbar": {
              "outlinewidth": 0,
              "ticks": ""
             }
            },
            "type": "scattermapbox"
           }
          ],
          "scatterpolar": [
           {
            "marker": {
             "colorbar": {
              "outlinewidth": 0,
              "ticks": ""
             }
            },
            "type": "scatterpolar"
           }
          ],
          "scatterpolargl": [
           {
            "marker": {
             "colorbar": {
              "outlinewidth": 0,
              "ticks": ""
             }
            },
            "type": "scatterpolargl"
           }
          ],
          "scatterternary": [
           {
            "marker": {
             "colorbar": {
              "outlinewidth": 0,
              "ticks": ""
             }
            },
            "type": "scatterternary"
           }
          ],
          "surface": [
           {
            "colorbar": {
             "outlinewidth": 0,
             "ticks": ""
            },
            "colorscale": [
             [
              0,
              "#0d0887"
             ],
             [
              0.1111111111111111,
              "#46039f"
             ],
             [
              0.2222222222222222,
              "#7201a8"
             ],
             [
              0.3333333333333333,
              "#9c179e"
             ],
             [
              0.4444444444444444,
              "#bd3786"
             ],
             [
              0.5555555555555556,
              "#d8576b"
             ],
             [
              0.6666666666666666,
              "#ed7953"
             ],
             [
              0.7777777777777778,
              "#fb9f3a"
             ],
             [
              0.8888888888888888,
              "#fdca26"
             ],
             [
              1,
              "#f0f921"
             ]
            ],
            "type": "surface"
           }
          ],
          "table": [
           {
            "cells": {
             "fill": {
              "color": "#EBF0F8"
             },
             "line": {
              "color": "white"
             }
            },
            "header": {
             "fill": {
              "color": "#C8D4E3"
             },
             "line": {
              "color": "white"
             }
            },
            "type": "table"
           }
          ]
         },
         "layout": {
          "annotationdefaults": {
           "arrowcolor": "#2a3f5f",
           "arrowhead": 0,
           "arrowwidth": 1
          },
          "autotypenumbers": "strict",
          "coloraxis": {
           "colorbar": {
            "outlinewidth": 0,
            "ticks": ""
           }
          },
          "colorscale": {
           "diverging": [
            [
             0,
             "#8e0152"
            ],
            [
             0.1,
             "#c51b7d"
            ],
            [
             0.2,
             "#de77ae"
            ],
            [
             0.3,
             "#f1b6da"
            ],
            [
             0.4,
             "#fde0ef"
            ],
            [
             0.5,
             "#f7f7f7"
            ],
            [
             0.6,
             "#e6f5d0"
            ],
            [
             0.7,
             "#b8e186"
            ],
            [
             0.8,
             "#7fbc41"
            ],
            [
             0.9,
             "#4d9221"
            ],
            [
             1,
             "#276419"
            ]
           ],
           "sequential": [
            [
             0,
             "#0d0887"
            ],
            [
             0.1111111111111111,
             "#46039f"
            ],
            [
             0.2222222222222222,
             "#7201a8"
            ],
            [
             0.3333333333333333,
             "#9c179e"
            ],
            [
             0.4444444444444444,
             "#bd3786"
            ],
            [
             0.5555555555555556,
             "#d8576b"
            ],
            [
             0.6666666666666666,
             "#ed7953"
            ],
            [
             0.7777777777777778,
             "#fb9f3a"
            ],
            [
             0.8888888888888888,
             "#fdca26"
            ],
            [
             1,
             "#f0f921"
            ]
           ],
           "sequentialminus": [
            [
             0,
             "#0d0887"
            ],
            [
             0.1111111111111111,
             "#46039f"
            ],
            [
             0.2222222222222222,
             "#7201a8"
            ],
            [
             0.3333333333333333,
             "#9c179e"
            ],
            [
             0.4444444444444444,
             "#bd3786"
            ],
            [
             0.5555555555555556,
             "#d8576b"
            ],
            [
             0.6666666666666666,
             "#ed7953"
            ],
            [
             0.7777777777777778,
             "#fb9f3a"
            ],
            [
             0.8888888888888888,
             "#fdca26"
            ],
            [
             1,
             "#f0f921"
            ]
           ]
          },
          "colorway": [
           "#636efa",
           "#EF553B",
           "#00cc96",
           "#ab63fa",
           "#FFA15A",
           "#19d3f3",
           "#FF6692",
           "#B6E880",
           "#FF97FF",
           "#FECB52"
          ],
          "font": {
           "color": "#2a3f5f"
          },
          "geo": {
           "bgcolor": "white",
           "lakecolor": "white",
           "landcolor": "#E5ECF6",
           "showlakes": true,
           "showland": true,
           "subunitcolor": "white"
          },
          "hoverlabel": {
           "align": "left"
          },
          "hovermode": "closest",
          "mapbox": {
           "style": "light"
          },
          "paper_bgcolor": "white",
          "plot_bgcolor": "#E5ECF6",
          "polar": {
           "angularaxis": {
            "gridcolor": "white",
            "linecolor": "white",
            "ticks": ""
           },
           "bgcolor": "#E5ECF6",
           "radialaxis": {
            "gridcolor": "white",
            "linecolor": "white",
            "ticks": ""
           }
          },
          "scene": {
           "xaxis": {
            "backgroundcolor": "#E5ECF6",
            "gridcolor": "white",
            "gridwidth": 2,
            "linecolor": "white",
            "showbackground": true,
            "ticks": "",
            "zerolinecolor": "white"
           },
           "yaxis": {
            "backgroundcolor": "#E5ECF6",
            "gridcolor": "white",
            "gridwidth": 2,
            "linecolor": "white",
            "showbackground": true,
            "ticks": "",
            "zerolinecolor": "white"
           },
           "zaxis": {
            "backgroundcolor": "#E5ECF6",
            "gridcolor": "white",
            "gridwidth": 2,
            "linecolor": "white",
            "showbackground": true,
            "ticks": "",
            "zerolinecolor": "white"
           }
          },
          "shapedefaults": {
           "line": {
            "color": "#2a3f5f"
           }
          },
          "ternary": {
           "aaxis": {
            "gridcolor": "white",
            "linecolor": "white",
            "ticks": ""
           },
           "baxis": {
            "gridcolor": "white",
            "linecolor": "white",
            "ticks": ""
           },
           "bgcolor": "#E5ECF6",
           "caxis": {
            "gridcolor": "white",
            "linecolor": "white",
            "ticks": ""
           }
          },
          "title": {
           "x": 0.05
          },
          "xaxis": {
           "automargin": true,
           "gridcolor": "white",
           "linecolor": "white",
           "ticks": "",
           "title": {
            "standoff": 15
           },
           "zerolinecolor": "white",
           "zerolinewidth": 2
          },
          "yaxis": {
           "automargin": true,
           "gridcolor": "white",
           "linecolor": "white",
           "ticks": "",
           "title": {
            "standoff": 15
           },
           "zerolinecolor": "white",
           "zerolinewidth": 2
          }
         }
        },
        "title": {
         "text": "Mapa interactivo de ataques de tiburón por país y estado"
        }
       }
      }
     },
     "metadata": {},
     "output_type": "display_data"
    }
   ],
   "source": [
    "geo_summary = (shark_df.groupby(['country', 'state', 'fatal_y/n']).size().reset_index(name=\"attack_count\"))\n",
    "\n",
    "fig = px.scatter_geo(\n",
    "    geo_summary,\n",
    "    locations=\"country\",           # reconoce nombres de países automáticamente\n",
    "    locationmode=\"country names\",\n",
    "    size=\"attack_count\",\n",
    "    color=\"fatal_y/n\",\n",
    "    title=\"Mapa interactivo de ataques de tiburón por país y estado\",\n",
    "    projection=\"natural earth\"\n",
    ")\n",
    "fig.show()\n"
   ]
  },
  {
   "cell_type": "code",
   "execution_count": 53,
   "id": "a66578b4",
   "metadata": {},
   "outputs": [
    {
     "data": {
      "text/plain": [
       "fatal_y/n  sex  activity\n",
       "n          m    surfing     676\n",
       "                swimming    307\n",
       "           f    swimming    171\n",
       "           m    fishing     140\n",
       "                paddle       98\n",
       "                diving       97\n",
       "           f    surfing      77\n",
       "y          m    surfing      43\n",
       "                swimming     41\n",
       "n          f    diving       40\n",
       "dtype: int64"
      ]
     },
     "execution_count": 53,
     "metadata": {},
     "output_type": "execute_result"
    }
   ],
   "source": [
    "# Análisis por FATAL-SEX-ACTIVITY\n",
    "sex_analysis_cols = ['fatal_y/n','sex', 'activity']\n",
    "dupe_mask3 = shark_df.duplicated(subset=sex_analysis_cols, keep=False)\n",
    "shark_df[dupe_mask3].sort_values(by=sex_analysis_cols)\n",
    "\n",
    "# Cuántas veces se repite cada combinación de las columnas clave\n",
    "shark_df.groupby(sex_analysis_cols).size().sort_values(ascending=False).head(10)"
   ]
  },
  {
   "cell_type": "code",
   "execution_count": 67,
   "id": "aa2c2fdf",
   "metadata": {},
   "outputs": [
    {
     "data": {
      "application/vnd.plotly.v1+json": {
       "config": {
        "plotlyServerURL": "https://plot.ly"
       },
       "data": [
        {
         "coloraxis": "coloraxis",
         "histfunc": "sum",
         "hovertemplate": "activity=%{x}<br>country=%{y}<br>sum of attack_count=%{z}<extra></extra>",
         "name": "",
         "type": "histogram2d",
         "x": [
          "diving",
          "fishing",
          "kayaking",
          "paddle",
          "study",
          "surfing",
          "swimming",
          "unknown activity",
          "diving",
          "fishing",
          "paddle",
          "surfing",
          "swimming",
          "unknown activity",
          "diving",
          "fishing",
          "paddle",
          "surfing",
          "swimming",
          "unknown activity",
          "diving",
          "swimming",
          "diving",
          "fishing",
          "kayaking",
          "surfing",
          "swimming",
          "unknown activity",
          "attempting to fix motor",
          "diving",
          "paddle",
          "surfing",
          "swimming",
          "diving",
          "fishing",
          "surfing",
          "swimming",
          "diving",
          "fishing",
          "paddle",
          "surfing",
          "swimming",
          "diving",
          "paddle",
          "surfing",
          "swimming",
          "diving",
          "fishing",
          "paddle",
          "surfing",
          "swimming",
          "unknown activity",
          "diving",
          "fishing",
          "kayaking",
          "paddle",
          "shipwreck",
          "study",
          "surfing",
          "swimming",
          "unknown activity"
         ],
         "xaxis": "x",
         "xbingroup": "x",
         "y": [
          "australia",
          "australia",
          "australia",
          "australia",
          "australia",
          "australia",
          "australia",
          "australia",
          "bahamas",
          "bahamas",
          "bahamas",
          "bahamas",
          "bahamas",
          "bahamas",
          "brazil",
          "brazil",
          "brazil",
          "brazil",
          "brazil",
          "brazil",
          "egypt",
          "egypt",
          "french polynesia",
          "french polynesia",
          "french polynesia",
          "french polynesia",
          "french polynesia",
          "french polynesia",
          "mexico",
          "mexico",
          "mexico",
          "mexico",
          "mexico",
          "new caledonia",
          "new caledonia",
          "new caledonia",
          "new caledonia",
          "new zealand",
          "new zealand",
          "new zealand",
          "new zealand",
          "new zealand",
          "reunion",
          "reunion",
          "reunion",
          "reunion",
          "south africa",
          "south africa",
          "south africa",
          "south africa",
          "south africa",
          "south africa",
          "usa",
          "usa",
          "usa",
          "usa",
          "usa",
          "usa",
          "usa",
          "usa",
          "usa"
         ],
         "yaxis": "y",
         "ybingroup": "y",
         "z": {
          "bdata": "NwA1AAYAGQABANEATAAIABAAGQABAAIACAABAAEAAQACAA8AHgADABIABwAEAAgAAgAGAAMAAgABAAcAAQAHAAkAAwALAAgABQAGAAYAAgAOAAoAAQAJAAsAAgALAA0ACAA8ABQAAQAxADUABgBnAAEABADiAXMBMwA=",
          "dtype": "i2"
         }
        }
       ],
       "layout": {
        "coloraxis": {
         "colorbar": {
          "title": {
           "text": "sum of attack_count"
          }
         },
         "colorscale": [
          [
           0,
           "#000004"
          ],
          [
           0.1111111111111111,
           "#1b0c41"
          ],
          [
           0.2222222222222222,
           "#4a0c6b"
          ],
          [
           0.3333333333333333,
           "#781c6d"
          ],
          [
           0.4444444444444444,
           "#a52c60"
          ],
          [
           0.5555555555555556,
           "#cf4446"
          ],
          [
           0.6666666666666666,
           "#ed6925"
          ],
          [
           0.7777777777777778,
           "#fb9b06"
          ],
          [
           0.8888888888888888,
           "#f7d13d"
          ],
          [
           1,
           "#fcffa4"
          ]
         ]
        },
        "legend": {
         "tracegroupgap": 0
        },
        "template": {
         "data": {
          "bar": [
           {
            "error_x": {
             "color": "#2a3f5f"
            },
            "error_y": {
             "color": "#2a3f5f"
            },
            "marker": {
             "line": {
              "color": "#E5ECF6",
              "width": 0.5
             },
             "pattern": {
              "fillmode": "overlay",
              "size": 10,
              "solidity": 0.2
             }
            },
            "type": "bar"
           }
          ],
          "barpolar": [
           {
            "marker": {
             "line": {
              "color": "#E5ECF6",
              "width": 0.5
             },
             "pattern": {
              "fillmode": "overlay",
              "size": 10,
              "solidity": 0.2
             }
            },
            "type": "barpolar"
           }
          ],
          "carpet": [
           {
            "aaxis": {
             "endlinecolor": "#2a3f5f",
             "gridcolor": "white",
             "linecolor": "white",
             "minorgridcolor": "white",
             "startlinecolor": "#2a3f5f"
            },
            "baxis": {
             "endlinecolor": "#2a3f5f",
             "gridcolor": "white",
             "linecolor": "white",
             "minorgridcolor": "white",
             "startlinecolor": "#2a3f5f"
            },
            "type": "carpet"
           }
          ],
          "choropleth": [
           {
            "colorbar": {
             "outlinewidth": 0,
             "ticks": ""
            },
            "type": "choropleth"
           }
          ],
          "contour": [
           {
            "colorbar": {
             "outlinewidth": 0,
             "ticks": ""
            },
            "colorscale": [
             [
              0,
              "#0d0887"
             ],
             [
              0.1111111111111111,
              "#46039f"
             ],
             [
              0.2222222222222222,
              "#7201a8"
             ],
             [
              0.3333333333333333,
              "#9c179e"
             ],
             [
              0.4444444444444444,
              "#bd3786"
             ],
             [
              0.5555555555555556,
              "#d8576b"
             ],
             [
              0.6666666666666666,
              "#ed7953"
             ],
             [
              0.7777777777777778,
              "#fb9f3a"
             ],
             [
              0.8888888888888888,
              "#fdca26"
             ],
             [
              1,
              "#f0f921"
             ]
            ],
            "type": "contour"
           }
          ],
          "contourcarpet": [
           {
            "colorbar": {
             "outlinewidth": 0,
             "ticks": ""
            },
            "type": "contourcarpet"
           }
          ],
          "heatmap": [
           {
            "colorbar": {
             "outlinewidth": 0,
             "ticks": ""
            },
            "colorscale": [
             [
              0,
              "#0d0887"
             ],
             [
              0.1111111111111111,
              "#46039f"
             ],
             [
              0.2222222222222222,
              "#7201a8"
             ],
             [
              0.3333333333333333,
              "#9c179e"
             ],
             [
              0.4444444444444444,
              "#bd3786"
             ],
             [
              0.5555555555555556,
              "#d8576b"
             ],
             [
              0.6666666666666666,
              "#ed7953"
             ],
             [
              0.7777777777777778,
              "#fb9f3a"
             ],
             [
              0.8888888888888888,
              "#fdca26"
             ],
             [
              1,
              "#f0f921"
             ]
            ],
            "type": "heatmap"
           }
          ],
          "histogram": [
           {
            "marker": {
             "pattern": {
              "fillmode": "overlay",
              "size": 10,
              "solidity": 0.2
             }
            },
            "type": "histogram"
           }
          ],
          "histogram2d": [
           {
            "colorbar": {
             "outlinewidth": 0,
             "ticks": ""
            },
            "colorscale": [
             [
              0,
              "#0d0887"
             ],
             [
              0.1111111111111111,
              "#46039f"
             ],
             [
              0.2222222222222222,
              "#7201a8"
             ],
             [
              0.3333333333333333,
              "#9c179e"
             ],
             [
              0.4444444444444444,
              "#bd3786"
             ],
             [
              0.5555555555555556,
              "#d8576b"
             ],
             [
              0.6666666666666666,
              "#ed7953"
             ],
             [
              0.7777777777777778,
              "#fb9f3a"
             ],
             [
              0.8888888888888888,
              "#fdca26"
             ],
             [
              1,
              "#f0f921"
             ]
            ],
            "type": "histogram2d"
           }
          ],
          "histogram2dcontour": [
           {
            "colorbar": {
             "outlinewidth": 0,
             "ticks": ""
            },
            "colorscale": [
             [
              0,
              "#0d0887"
             ],
             [
              0.1111111111111111,
              "#46039f"
             ],
             [
              0.2222222222222222,
              "#7201a8"
             ],
             [
              0.3333333333333333,
              "#9c179e"
             ],
             [
              0.4444444444444444,
              "#bd3786"
             ],
             [
              0.5555555555555556,
              "#d8576b"
             ],
             [
              0.6666666666666666,
              "#ed7953"
             ],
             [
              0.7777777777777778,
              "#fb9f3a"
             ],
             [
              0.8888888888888888,
              "#fdca26"
             ],
             [
              1,
              "#f0f921"
             ]
            ],
            "type": "histogram2dcontour"
           }
          ],
          "mesh3d": [
           {
            "colorbar": {
             "outlinewidth": 0,
             "ticks": ""
            },
            "type": "mesh3d"
           }
          ],
          "parcoords": [
           {
            "line": {
             "colorbar": {
              "outlinewidth": 0,
              "ticks": ""
             }
            },
            "type": "parcoords"
           }
          ],
          "pie": [
           {
            "automargin": true,
            "type": "pie"
           }
          ],
          "scatter": [
           {
            "fillpattern": {
             "fillmode": "overlay",
             "size": 10,
             "solidity": 0.2
            },
            "type": "scatter"
           }
          ],
          "scatter3d": [
           {
            "line": {
             "colorbar": {
              "outlinewidth": 0,
              "ticks": ""
             }
            },
            "marker": {
             "colorbar": {
              "outlinewidth": 0,
              "ticks": ""
             }
            },
            "type": "scatter3d"
           }
          ],
          "scattercarpet": [
           {
            "marker": {
             "colorbar": {
              "outlinewidth": 0,
              "ticks": ""
             }
            },
            "type": "scattercarpet"
           }
          ],
          "scattergeo": [
           {
            "marker": {
             "colorbar": {
              "outlinewidth": 0,
              "ticks": ""
             }
            },
            "type": "scattergeo"
           }
          ],
          "scattergl": [
           {
            "marker": {
             "colorbar": {
              "outlinewidth": 0,
              "ticks": ""
             }
            },
            "type": "scattergl"
           }
          ],
          "scattermap": [
           {
            "marker": {
             "colorbar": {
              "outlinewidth": 0,
              "ticks": ""
             }
            },
            "type": "scattermap"
           }
          ],
          "scattermapbox": [
           {
            "marker": {
             "colorbar": {
              "outlinewidth": 0,
              "ticks": ""
             }
            },
            "type": "scattermapbox"
           }
          ],
          "scatterpolar": [
           {
            "marker": {
             "colorbar": {
              "outlinewidth": 0,
              "ticks": ""
             }
            },
            "type": "scatterpolar"
           }
          ],
          "scatterpolargl": [
           {
            "marker": {
             "colorbar": {
              "outlinewidth": 0,
              "ticks": ""
             }
            },
            "type": "scatterpolargl"
           }
          ],
          "scatterternary": [
           {
            "marker": {
             "colorbar": {
              "outlinewidth": 0,
              "ticks": ""
             }
            },
            "type": "scatterternary"
           }
          ],
          "surface": [
           {
            "colorbar": {
             "outlinewidth": 0,
             "ticks": ""
            },
            "colorscale": [
             [
              0,
              "#0d0887"
             ],
             [
              0.1111111111111111,
              "#46039f"
             ],
             [
              0.2222222222222222,
              "#7201a8"
             ],
             [
              0.3333333333333333,
              "#9c179e"
             ],
             [
              0.4444444444444444,
              "#bd3786"
             ],
             [
              0.5555555555555556,
              "#d8576b"
             ],
             [
              0.6666666666666666,
              "#ed7953"
             ],
             [
              0.7777777777777778,
              "#fb9f3a"
             ],
             [
              0.8888888888888888,
              "#fdca26"
             ],
             [
              1,
              "#f0f921"
             ]
            ],
            "type": "surface"
           }
          ],
          "table": [
           {
            "cells": {
             "fill": {
              "color": "#EBF0F8"
             },
             "line": {
              "color": "white"
             }
            },
            "header": {
             "fill": {
              "color": "#C8D4E3"
             },
             "line": {
              "color": "white"
             }
            },
            "type": "table"
           }
          ]
         },
         "layout": {
          "annotationdefaults": {
           "arrowcolor": "#2a3f5f",
           "arrowhead": 0,
           "arrowwidth": 1
          },
          "autotypenumbers": "strict",
          "coloraxis": {
           "colorbar": {
            "outlinewidth": 0,
            "ticks": ""
           }
          },
          "colorscale": {
           "diverging": [
            [
             0,
             "#8e0152"
            ],
            [
             0.1,
             "#c51b7d"
            ],
            [
             0.2,
             "#de77ae"
            ],
            [
             0.3,
             "#f1b6da"
            ],
            [
             0.4,
             "#fde0ef"
            ],
            [
             0.5,
             "#f7f7f7"
            ],
            [
             0.6,
             "#e6f5d0"
            ],
            [
             0.7,
             "#b8e186"
            ],
            [
             0.8,
             "#7fbc41"
            ],
            [
             0.9,
             "#4d9221"
            ],
            [
             1,
             "#276419"
            ]
           ],
           "sequential": [
            [
             0,
             "#0d0887"
            ],
            [
             0.1111111111111111,
             "#46039f"
            ],
            [
             0.2222222222222222,
             "#7201a8"
            ],
            [
             0.3333333333333333,
             "#9c179e"
            ],
            [
             0.4444444444444444,
             "#bd3786"
            ],
            [
             0.5555555555555556,
             "#d8576b"
            ],
            [
             0.6666666666666666,
             "#ed7953"
            ],
            [
             0.7777777777777778,
             "#fb9f3a"
            ],
            [
             0.8888888888888888,
             "#fdca26"
            ],
            [
             1,
             "#f0f921"
            ]
           ],
           "sequentialminus": [
            [
             0,
             "#0d0887"
            ],
            [
             0.1111111111111111,
             "#46039f"
            ],
            [
             0.2222222222222222,
             "#7201a8"
            ],
            [
             0.3333333333333333,
             "#9c179e"
            ],
            [
             0.4444444444444444,
             "#bd3786"
            ],
            [
             0.5555555555555556,
             "#d8576b"
            ],
            [
             0.6666666666666666,
             "#ed7953"
            ],
            [
             0.7777777777777778,
             "#fb9f3a"
            ],
            [
             0.8888888888888888,
             "#fdca26"
            ],
            [
             1,
             "#f0f921"
            ]
           ]
          },
          "colorway": [
           "#636efa",
           "#EF553B",
           "#00cc96",
           "#ab63fa",
           "#FFA15A",
           "#19d3f3",
           "#FF6692",
           "#B6E880",
           "#FF97FF",
           "#FECB52"
          ],
          "font": {
           "color": "#2a3f5f"
          },
          "geo": {
           "bgcolor": "white",
           "lakecolor": "white",
           "landcolor": "#E5ECF6",
           "showlakes": true,
           "showland": true,
           "subunitcolor": "white"
          },
          "hoverlabel": {
           "align": "left"
          },
          "hovermode": "closest",
          "mapbox": {
           "style": "light"
          },
          "paper_bgcolor": "white",
          "plot_bgcolor": "#E5ECF6",
          "polar": {
           "angularaxis": {
            "gridcolor": "white",
            "linecolor": "white",
            "ticks": ""
           },
           "bgcolor": "#E5ECF6",
           "radialaxis": {
            "gridcolor": "white",
            "linecolor": "white",
            "ticks": ""
           }
          },
          "scene": {
           "xaxis": {
            "backgroundcolor": "#E5ECF6",
            "gridcolor": "white",
            "gridwidth": 2,
            "linecolor": "white",
            "showbackground": true,
            "ticks": "",
            "zerolinecolor": "white"
           },
           "yaxis": {
            "backgroundcolor": "#E5ECF6",
            "gridcolor": "white",
            "gridwidth": 2,
            "linecolor": "white",
            "showbackground": true,
            "ticks": "",
            "zerolinecolor": "white"
           },
           "zaxis": {
            "backgroundcolor": "#E5ECF6",
            "gridcolor": "white",
            "gridwidth": 2,
            "linecolor": "white",
            "showbackground": true,
            "ticks": "",
            "zerolinecolor": "white"
           }
          },
          "shapedefaults": {
           "line": {
            "color": "#2a3f5f"
           }
          },
          "ternary": {
           "aaxis": {
            "gridcolor": "white",
            "linecolor": "white",
            "ticks": ""
           },
           "baxis": {
            "gridcolor": "white",
            "linecolor": "white",
            "ticks": ""
           },
           "bgcolor": "#E5ECF6",
           "caxis": {
            "gridcolor": "white",
            "linecolor": "white",
            "ticks": ""
           }
          },
          "title": {
           "x": 0.05
          },
          "xaxis": {
           "automargin": true,
           "gridcolor": "white",
           "linecolor": "white",
           "ticks": "",
           "title": {
            "standoff": 15
           },
           "zerolinecolor": "white",
           "zerolinewidth": 2
          },
          "yaxis": {
           "automargin": true,
           "gridcolor": "white",
           "linecolor": "white",
           "ticks": "",
           "title": {
            "standoff": 15
           },
           "zerolinecolor": "white",
           "zerolinewidth": 2
          }
         }
        },
        "title": {
         "text": "Mapa de calor: dispersión de los ataques por actividad en cada país"
        },
        "xaxis": {
         "anchor": "y",
         "domain": [
          0,
          1
         ],
         "title": {
          "text": "activity"
         }
        },
        "yaxis": {
         "anchor": "x",
         "domain": [
          0,
          1
         ],
         "title": {
          "text": "country"
         }
        }
       }
      }
     },
     "metadata": {},
     "output_type": "display_data"
    }
   ],
   "source": [
    "geo_summary = (shark_df.groupby(['country', 'activity']).size().reset_index(name=\"attack_count\"))\n",
    "\n",
    "fig = px.density_heatmap(\n",
    "    geo_summary,\n",
    "    x=\"activity\",\n",
    "    y=\"country\",\n",
    "    z=\"attack_count\",\n",
    "    color_continuous_scale=\"Inferno\",\n",
    "    title=\"Mapa de calor: dispersión de los ataques por actividad en cada país\"\n",
    ")\n",
    "fig.show()\n"
   ]
  },
  {
   "cell_type": "code",
   "execution_count": 54,
   "id": "73c68f23",
   "metadata": {},
   "outputs": [
    {
     "data": {
      "text/plain": [
       "species         fatal_y/n\n",
       "white shark     n            43\n",
       "bull shark      n            35\n",
       "4' shark        n            29\n",
       "tiger shark     n            27\n",
       "white shark     y            22\n",
       "4' to 5' shark  n            20\n",
       "6' shark        n            18\n",
       "3' shark        n            17\n",
       "3' to 4' shark  n            16\n",
       "blacktip shark  n            15\n",
       "dtype: int64"
      ]
     },
     "execution_count": 54,
     "metadata": {},
     "output_type": "execute_result"
    }
   ],
   "source": [
    "# Análisis por SPECIES-FATAL\n",
    "species_analysis_cols = ['species','fatal_y/n']\n",
    "dupe_mask4 = shark_df.duplicated(subset=species_analysis_cols, keep=False)\n",
    "shark_df[dupe_mask4].sort_values(by=species_analysis_cols)\n",
    "\n",
    "# Cuántas veces se repite cada combinación de las columnas clave\n",
    "shark_df.groupby(species_analysis_cols).size().sort_values(ascending=False).head(10)"
   ]
  }
 ],
 "metadata": {
  "kernelspec": {
   "display_name": "Python 3",
   "language": "python",
   "name": "python3"
  },
  "language_info": {
   "codemirror_mode": {
    "name": "ipython",
    "version": 3
   },
   "file_extension": ".py",
   "mimetype": "text/x-python",
   "name": "python",
   "nbconvert_exporter": "python",
   "pygments_lexer": "ipython3",
   "version": "3.12.9"
  }
 },
 "nbformat": 4,
 "nbformat_minor": 5
}
